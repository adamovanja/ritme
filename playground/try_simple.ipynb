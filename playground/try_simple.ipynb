{
 "cells": [
  {
   "attachments": {},
   "cell_type": "markdown",
   "metadata": {},
   "source": [
    "# Testing simple model setup"
   ]
  },
  {
   "attachments": {},
   "cell_type": "markdown",
   "metadata": {},
   "source": [
    "![alt text](overview.png)"
   ]
  },
  {
   "attachments": {},
   "cell_type": "markdown",
   "metadata": {},
   "source": [
    "## Import"
   ]
  },
  {
   "cell_type": "code",
   "execution_count": null,
   "metadata": {},
   "outputs": [],
   "source": [
    "import os\n",
    "import warnings\n",
    "\n",
    "import pandas as pd\n",
    "\n",
    "from q2_time.compare_models import eval_simulations\n",
    "from q2_time.engineer_features import transform_features\n",
    "from q2_time.model import fit_n_predict_model, run_models\n",
    "\n",
    "# from q2_time.simulate_data import simulate_data\n",
    "\n",
    "# todo: remove warning suppression after demo\n",
    "warnings.filterwarnings(\"ignore\")\n",
    "\n",
    "%matplotlib inline\n",
    "%load_ext autoreload\n",
    "%autoreload 2"
   ]
  },
  {
   "attachments": {},
   "cell_type": "markdown",
   "metadata": {},
   "source": [
    "## Real dataset (1 out of 8)"
   ]
  },
  {
   "cell_type": "code",
   "execution_count": null,
   "metadata": {},
   "outputs": [],
   "source": [
    "# # simulated data\n",
    "# ft, md = simulate_data(100)"
   ]
  },
  {
   "cell_type": "code",
   "execution_count": null,
   "metadata": {},
   "outputs": [],
   "source": [
    "path2data = \"x_data_semproj\""
   ]
  },
  {
   "cell_type": "code",
   "execution_count": null,
   "metadata": {},
   "outputs": [],
   "source": [
    "path2md = os.path.join(path2data, \"metadata_planer16_semproj.tsv\")\n",
    "md = pd.read_csv(path2md, sep=\"\\t\", index_col=0)\n",
    "md = md[[\"host_id\", \"age_days\"]].copy()\n",
    "print(md.shape)\n",
    "md.head()"
   ]
  },
  {
   "cell_type": "code",
   "execution_count": null,
   "metadata": {},
   "outputs": [],
   "source": [
    "path2ft = os.path.join(path2data, \"feature_table_planer16_semproj.tsv\")\n",
    "# path2ft = os.path.join(path2data, \"all_otu_table.qza\")\n",
    "# ft = q2.Artifact.load(path2ft).view(pd.DataFrame)\n",
    "ft = pd.read_csv(path2ft, sep=\"\\t\", index_col=0)\n",
    "print(ft.shape)\n",
    "ft.head()"
   ]
  },
  {
   "attachments": {},
   "cell_type": "markdown",
   "metadata": {},
   "source": [
    "## Transform features"
   ]
  },
  {
   "cell_type": "code",
   "execution_count": null,
   "metadata": {},
   "outputs": [],
   "source": [
    "ft_t_c = transform_features(ft, \"clr\")\n",
    "ft_t_i = transform_features(ft, \"ilr\")\n",
    "ft_t_a = transform_features(ft, \"alr\", 5)"
   ]
  },
  {
   "attachments": {},
   "cell_type": "markdown",
   "metadata": {},
   "source": [
    "## Train & compare models"
   ]
  },
  {
   "attachments": {},
   "cell_type": "markdown",
   "metadata": {},
   "source": [
    "### Compare settings: different regressor on raw data"
   ]
  },
  {
   "cell_type": "code",
   "execution_count": null,
   "metadata": {},
   "outputs": [],
   "source": [
    "## Static model\n",
    "lin_reg, _, _ = fit_n_predict_model(md, ft, \"age_days\", \"host_id\", \"LinRegressor\")\n",
    "\n",
    "rf_reg, _, _ = fit_n_predict_model(md, ft, \"age_days\", \"host_id\", \"RFRegressor\")"
   ]
  },
  {
   "cell_type": "code",
   "execution_count": null,
   "metadata": {},
   "outputs": [],
   "source": [
    "# compare_config({\"linreg\": lin_reg, \"rf\": rf_reg})"
   ]
  },
  {
   "attachments": {},
   "cell_type": "markdown",
   "metadata": {},
   "source": [
    "### Compare performance: different transforms & regressors"
   ]
  },
  {
   "cell_type": "code",
   "execution_count": null,
   "metadata": {},
   "outputs": [],
   "source": [
    "# define simulations to run:\n",
    "simulations = {\n",
    "    \"raw\": [md, ft],\n",
    "    \"clr\": [md, ft_t_c],\n",
    "    \"alr\": [md, ft_t_a],\n",
    "    \"ilr\": [md, ft_t_i],\n",
    "}\n",
    "simulations_all = {}\n",
    "for key, item in simulations.items():\n",
    "    simulations_all[key + \"_LinReg\"] = item + [\"LinRegressor\"]\n",
    "    simulations_all[key + \"_RFReg\"] = item + [\"RFRegressor\"]\n",
    "\n",
    "print(simulations_all.keys())"
   ]
  },
  {
   "cell_type": "code",
   "execution_count": null,
   "metadata": {},
   "outputs": [],
   "source": [
    "sim_results = run_models(simulations_all, 2)"
   ]
  },
  {
   "cell_type": "code",
   "execution_count": null,
   "metadata": {},
   "outputs": [],
   "source": [
    "eval_simulations(sim_results, set=\"test\")"
   ]
  },
  {
   "cell_type": "code",
   "execution_count": null,
   "metadata": {},
   "outputs": [],
   "source": [
    "eval_simulations(sim_results, set=\"train\")"
   ]
  },
  {
   "cell_type": "code",
   "execution_count": null,
   "metadata": {},
   "outputs": [],
   "source": []
  }
 ],
 "metadata": {
  "kernelspec": {
   "display_name": "time",
   "language": "python",
   "name": "python3"
  },
  "language_info": {
   "codemirror_mode": {
    "name": "ipython",
    "version": 3
   },
   "file_extension": ".py",
   "mimetype": "text/x-python",
   "name": "python",
   "nbconvert_exporter": "python",
   "pygments_lexer": "ipython3",
   "version": "3.8.0"
  },
  "orig_nbformat": 4,
  "vscode": {
   "interpreter": {
    "hash": "153d19ca1551a8545d375031ec673321f964732846945048781b0ae8d2c1e34a"
   }
  }
 },
 "nbformat": 4,
 "nbformat_minor": 2
}
