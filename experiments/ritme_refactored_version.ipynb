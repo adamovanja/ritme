{
  "cells": [
    {
      "cell_type": "markdown",
      "metadata": {},
      "source": [
        "# Test CLI"
      ]
    },
    {
      "cell_type": "markdown",
      "metadata": {
        "vscode": {
          "languageId": "shellscript"
        }
      },
      "source": [
        "````\n",
        "python ../q2_ritme/split_train_test.py data_splits data/metadata_proc_v20240323_r0_r3_le_2yrs.tsv data/all_otu_table_filt.qza host_id --seed 12\n",
        "````"
      ]
    },
    {
      "cell_type": "markdown",
      "metadata": {
        "vscode": {
          "languageId": "shellscript"
        }
      },
      "source": [
        "````\n",
        "python ../q2_ritme/find_best_model_config.py ../config/r_local_linreg.json data_splits/train_val.pkl --path-to-tax data/otu_taxonomy_all.qza --path-to-tree-phylo data/silva-138-99-rooted-tree.qza --path-store-model-logs ritme_refact_logs\n",
        "````"
      ]
    },
    {
      "cell_type": "markdown",
      "metadata": {},
      "source": [
        "# Test Python API"
      ]
    },
    {
      "cell_type": "code",
      "execution_count": 3,
      "metadata": {},
      "outputs": [],
      "source": [
        "from q2_ritme.find_best_model_config import (\n",
        "    _load_experiment_config,\n",
        "    _load_phylogeny,\n",
        "    _load_taxonomy,\n",
        "    find_best_model_config,\n",
        ")\n",
        "from q2_ritme.split_train_test import _load_data, split_train_test\n",
        "\n",
        "%load_ext autoreload"
      ]
    },
    {
      "cell_type": "code",
      "execution_count": 4,
      "metadata": {},
      "outputs": [],
      "source": [
        "model_config_path = \"../config/r_local_linreg.json\"\n",
        "config = _load_experiment_config(model_config_path)"
      ]
    },
    {
      "cell_type": "markdown",
      "metadata": {},
      "source": [
        "## Read data"
      ]
    },
    {
      "cell_type": "code",
      "execution_count": 5,
      "metadata": {},
      "outputs": [
        {
          "name": "stdout",
          "output_type": "stream",
          "text": [
            "(4151, 74) (9478, 5580)\n"
          ]
        }
      ],
      "source": [
        "md, ft = _load_data(config[\"path_to_md\"], config[\"path_to_ft\"])\n",
        "print(md.shape, ft.shape)"
      ]
    },
    {
      "cell_type": "markdown",
      "metadata": {},
      "source": [
        "## Split"
      ]
    },
    {
      "cell_type": "code",
      "execution_count": 6,
      "metadata": {},
      "outputs": [
        {
          "name": "stderr",
          "output_type": "stream",
          "text": [
            "/Users/adamova/Documents/projects/14_LM1/q2-ritme/q2_ritme/split_train_test.py:135: UserWarning: Provided feature table contains absolute instead of relative abundances. Hence, converting it to relative abundances...\n",
            "  warnings.warn(\n"
          ]
        },
        {
          "name": "stdout",
          "output_type": "stream",
          "text": [
            "Train: (3170, 5654), Test: (779, 5654)\n"
          ]
        }
      ],
      "source": [
        "train_val, test = split_train_test(\n",
        "    md,\n",
        "    ft,\n",
        "    stratify_by_column=config[\"stratify_by_column\"],\n",
        "    feature_prefix=config[\"feature_prefix\"],\n",
        "    train_size=config[\"train_size\"],\n",
        "    seed=config[\"seed_data\"],\n",
        ")"
      ]
    },
    {
      "cell_type": "markdown",
      "metadata": {},
      "source": [
        "## Find best model config"
      ]
    },
    {
      "cell_type": "code",
      "execution_count": 7,
      "metadata": {},
      "outputs": [
        {
          "data": {
            "text/html": [
              "<div class=\"tuneStatus\">\n",
              "  <div style=\"display: flex;flex-direction: row\">\n",
              "    <div style=\"display: flex;flex-direction: column;\">\n",
              "      <h3>Tune Status</h3>\n",
              "      <table>\n",
              "<tbody>\n",
              "<tr><td>Current time:</td><td>2024-10-18 18:29:07</td></tr>\n",
              "<tr><td>Running for: </td><td>00:00:29.26        </td></tr>\n",
              "<tr><td>Memory:      </td><td>10.1/16.0 GiB      </td></tr>\n",
              "</tbody>\n",
              "</table>\n",
              "    </div>\n",
              "    <div class=\"vDivider\"></div>\n",
              "    <div class=\"systemInfo\">\n",
              "      <h3>System Info</h3>\n",
              "      Using AsyncHyperBand: num_stopped=0<br>Bracket: Iter 40.000: None | Iter 10.000: None<br>Logical resource usage: 1.0/8 CPUs, 0/0 GPUs\n",
              "    </div>\n",
              "    \n",
              "  </div>\n",
              "  <div class=\"hDivider\"></div>\n",
              "  <div class=\"trialStatus\">\n",
              "    <h3>Trial Status</h3>\n",
              "    <table>\n",
              "<thead>\n",
              "<tr><th>Trial name           </th><th>status    </th><th>loc            </th><th style=\"text-align: right;\">   alpha</th><th>data_aggregation  </th><th>data_selection   </th><th style=\"text-align: right;\">  data_selection_i</th><th style=\"text-align: right;\">  data_selection_q</th><th>data_transform  </th><th style=\"text-align: right;\">  l1_ratio</th><th>model  </th><th style=\"text-align: right;\">  iter</th><th style=\"text-align: right;\">  total time (s)</th><th style=\"text-align: right;\">  rmse_val</th><th style=\"text-align: right;\">  rmse_train</th><th style=\"text-align: right;\">    r2_val</th></tr>\n",
              "</thead>\n",
              "<tbody>\n",
              "<tr><td>train_linreg_7b87c98c</td><td>TERMINATED</td><td>127.0.0.1:40081</td><td style=\"text-align: right;\">0.76456 </td><td>tax_class         </td><td>abundance_topi   </td><td style=\"text-align: right;\">                 1</td><td style=\"text-align: right;\">                  </td><td>alr             </td><td style=\"text-align: right;\"> 0.0208098</td><td>linreg </td><td style=\"text-align: right;\">     1</td><td style=\"text-align: right;\">         1.5236 </td><td style=\"text-align: right;\">   6.76086</td><td style=\"text-align: right;\">     6.65627</td><td style=\"text-align: right;\">0.00818303</td></tr>\n",
              "<tr><td>train_linreg_31620821</td><td>TERMINATED</td><td>127.0.0.1:40100</td><td style=\"text-align: right;\">0.177564</td><td>tax_family        </td><td>variance_quantile</td><td style=\"text-align: right;\">                  </td><td style=\"text-align: right;\">               0.8</td><td>pa              </td><td style=\"text-align: right;\"> 0.962597 </td><td>linreg </td><td style=\"text-align: right;\">     1</td><td style=\"text-align: right;\">         1.24018</td><td style=\"text-align: right;\">   4.62164</td><td style=\"text-align: right;\">     4.6533 </td><td style=\"text-align: right;\">0.536532  </td></tr>\n",
              "</tbody>\n",
              "</table>\n",
              "  </div>\n",
              "</div>\n",
              "<style>\n",
              ".tuneStatus {\n",
              "  color: var(--jp-ui-font-color1);\n",
              "}\n",
              ".tuneStatus .systemInfo {\n",
              "  display: flex;\n",
              "  flex-direction: column;\n",
              "}\n",
              ".tuneStatus td {\n",
              "  white-space: nowrap;\n",
              "}\n",
              ".tuneStatus .trialStatus {\n",
              "  display: flex;\n",
              "  flex-direction: column;\n",
              "}\n",
              ".tuneStatus h3 {\n",
              "  font-weight: bold;\n",
              "}\n",
              ".tuneStatus .hDivider {\n",
              "  border-bottom-width: var(--jp-border-width);\n",
              "  border-bottom-color: var(--jp-border-color0);\n",
              "  border-bottom-style: solid;\n",
              "}\n",
              ".tuneStatus .vDivider {\n",
              "  border-left-width: var(--jp-border-width);\n",
              "  border-left-color: var(--jp-border-color0);\n",
              "  border-left-style: solid;\n",
              "  margin: 0.5em 1em 0.5em 1em;\n",
              "}\n",
              "</style>\n"
            ],
            "text/plain": [
              "<IPython.core.display.HTML object>"
            ]
          },
          "metadata": {},
          "output_type": "display_data"
        },
        {
          "name": "stdout",
          "output_type": "stream",
          "text": [
            "\u001b[36m(train_linreg pid=40081)\u001b[0m (3170, 75)\n",
            "\u001b[36m(train_linreg pid=40081)\u001b[0m Train: (2566, 75), Test: (604, 75)\n"
          ]
        },
        {
          "name": "stderr",
          "output_type": "stream",
          "text": [
            "2024-10-18 18:29:07,308\tINFO tune.py:1009 -- Wrote the latest version of all result files and experiment state to '/Users/adamova/Documents/projects/14_LM1/q2-ritme/experiments/ritme_refact_logs/r_local_linreg_mlruns/linreg' in 0.0157s.\n"
          ]
        },
        {
          "name": "stdout",
          "output_type": "stream",
          "text": [
            "\u001b[36m(train_linreg pid=40100)\u001b[0m (3170, 129)\n",
            "\u001b[36m(train_linreg pid=40100)\u001b[0m Train: (2566, 129), Test: (604, 129)\n"
          ]
        },
        {
          "name": "stderr",
          "output_type": "stream",
          "text": [
            "2024-10-18 18:29:07,315\tINFO tune.py:1041 -- Total run time: 29.34 seconds (29.24 seconds for the tuning loop).\n"
          ]
        }
      ],
      "source": [
        "tax = _load_taxonomy(config[\"path_to_tax\"])\n",
        "phylo = _load_phylogeny(config[\"path_to_phylo\"])\n",
        "\n",
        "best_model_dict, path_to_exp = find_best_model_config(\n",
        "    config, train_val, tax, phylo, path_store_model_logs=\"ritme_refact_logs\"\n",
        ")"
      ]
    },
    {
      "cell_type": "code",
      "execution_count": 8,
      "metadata": {},
      "outputs": [
        {
          "data": {
            "text/plain": [
              "'ritme_refact_logs/r_local_linreg_mlruns'"
            ]
          },
          "execution_count": 8,
          "metadata": {},
          "output_type": "execute_result"
        }
      ],
      "source": [
        "path_to_exp"
      ]
    },
    {
      "cell_type": "code",
      "execution_count": 9,
      "metadata": {},
      "outputs": [
        {
          "data": {
            "text/plain": [
              "{'linreg': <q2_ritme.evaluate_models.TunedModel at 0x19de710a0>}"
            ]
          },
          "execution_count": 9,
          "metadata": {},
          "output_type": "execute_result"
        }
      ],
      "source": [
        "best_model_dict"
      ]
    }
  ],
  "metadata": {
    "kernelspec": {
      "display_name": "ritme",
      "language": "python",
      "name": "python3"
    },
    "language_info": {
      "codemirror_mode": {
        "name": "ipython",
        "version": 3
      },
      "file_extension": ".py",
      "mimetype": "text/x-python",
      "name": "python",
      "nbconvert_exporter": "python",
      "pygments_lexer": "ipython3",
      "version": "3.9.19"
    }
  },
  "nbformat": 4,
  "nbformat_minor": 2
}
