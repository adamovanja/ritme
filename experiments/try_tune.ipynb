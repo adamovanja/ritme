{
 "cells": [
  {
   "attachments": {},
   "cell_type": "markdown",
   "metadata": {},
   "source": [
    "# Try out framework with simulated data"
   ]
  },
  {
   "cell_type": "code",
   "execution_count": 5,
   "metadata": {},
   "outputs": [
    {
     "name": "stdout",
     "output_type": "stream",
     "text": [
      "The autoreload extension is already loaded. To reload it, use:\n",
      "  %reload_ext autoreload\n"
     ]
    }
   ],
   "source": [
    "import matplotlib.pyplot as plt\n",
    "import pandas as pd\n",
    "from IPython.display import display\n",
    "\n",
    "from q2_ritme.process_data import load_n_split_data\n",
    "from q2_ritme.tune_models import run_all_trials\n",
    "from q2_ritme.evaluate_models import get_best_model, get_best_data_processing\n",
    "from q2_ritme.feature_space.transform_features import transform_features\n",
    "from q2_ritme.config import (\n",
    "    HOST_ID,\n",
    "    TARGET,\n",
    "    SEED_DATA,\n",
    "    SEED_MODEL,\n",
    "    MLFLOW_TRACKING_URI,\n",
    ")\n",
    "import xgboost as xgb\n",
    "from sklearn.metrics import mean_squared_error\n",
    "import numpy as np\n",
    "\n",
    "# 30.437 is avg. number of days per month\n",
    "DAYS_PER_MONTH = 30.437\n",
    "%matplotlib inline\n",
    "%load_ext autoreload\n",
    "%autoreload 2"
   ]
  },
  {
   "attachments": {},
   "cell_type": "markdown",
   "metadata": {},
   "source": [
    "## Load and split data"
   ]
  },
  {
   "cell_type": "code",
   "execution_count": 2,
   "metadata": {},
   "outputs": [
    {
     "name": "stdout",
     "output_type": "stream",
     "text": [
      "Train: (75, 22), Test: (25, 22)\n"
     ]
    }
   ],
   "source": [
    "train_val, test = load_n_split_data()"
   ]
  },
  {
   "attachments": {},
   "cell_type": "markdown",
   "metadata": {},
   "source": [
    "## Run all experiments"
   ]
  },
  {
   "cell_type": "code",
   "execution_count": 6,
   "metadata": {},
   "outputs": [
    {
     "name": "stdout",
     "output_type": "stream",
     "text": [
      "Ray tune training of: xgb...\n"
     ]
    },
    {
     "name": "stderr",
     "output_type": "stream",
     "text": [
      "2023-12-15 09:46:11,657\tINFO worker.py:1625 -- Started a local Ray instance.\n",
      "2023-12-15 09:46:13,086\tINFO tune.py:218 -- Initializing Ray automatically. For cluster usage or custom Ray initialization, call `ray.init(...)` before `Tuner(...)`.\n",
      "/Users/anjaadamov/opt/anaconda3/envs/time/lib/python3.8/site-packages/ray/tune/experiment/experiment.py:170: UserWarning: The `local_dir` argument of `Experiment is deprecated. Use `storage_path` or set the `TUNE_RESULT_DIR` environment variable instead.\n",
      "  warnings.warn(\n"
     ]
    },
    {
     "data": {
      "text/html": [
       "<div class=\"tuneStatus\">\n",
       "  <div style=\"display: flex;flex-direction: row\">\n",
       "    <div style=\"display: flex;flex-direction: column;\">\n",
       "      <h3>Tune Status</h3>\n",
       "      <table>\n",
       "<tbody>\n",
       "<tr><td>Current time:</td><td>2023-12-15 09:47:18</td></tr>\n",
       "<tr><td>Running for: </td><td>00:01:05.56        </td></tr>\n",
       "<tr><td>Memory:      </td><td>9.3/16.0 GiB       </td></tr>\n",
       "</tbody>\n",
       "</table>\n",
       "    </div>\n",
       "    <div class=\"vDivider\"></div>\n",
       "    <div class=\"systemInfo\">\n",
       "      <h3>System Info</h3>\n",
       "      Using AsyncHyperBand: num_stopped=6<br>Bracket: Iter 80.000: None | Iter 20.000: None | Iter 5.000: -355.8714519828931<br>Logical resource usage: 0/8 CPUs, 0/0 GPUs\n",
       "    </div>\n",
       "    \n",
       "  </div>\n",
       "  <div class=\"hDivider\"></div>\n",
       "  <div class=\"trialStatus\">\n",
       "    <h3>Trial Status</h3>\n",
       "    <table>\n",
       "<thead>\n",
       "<tr><th>Trial name           </th><th>status    </th><th>loc            </th><th style=\"text-align: right;\">  data_alr_denom_idx</th><th>data_transform  </th><th style=\"text-align: right;\">  eta</th><th style=\"text-align: right;\">  max_depth</th><th style=\"text-align: right;\">  min_child_weight</th><th style=\"text-align: right;\">  subsample</th><th style=\"text-align: right;\">  iter</th><th style=\"text-align: right;\">  total time (s)</th><th style=\"text-align: right;\">  rmse_train</th><th style=\"text-align: right;\">  rmse_val</th></tr>\n",
       "</thead>\n",
       "<tbody>\n",
       "<tr><td>train_xgb_646e0_00000</td><td>TERMINATED</td><td>127.0.0.1:39799</td><td style=\"text-align: right;\">                  11</td><td>                </td><td style=\"text-align: right;\"> 0.05</td><td style=\"text-align: right;\">          6</td><td style=\"text-align: right;\">                 2</td><td style=\"text-align: right;\">        0.8</td><td style=\"text-align: right;\">     5</td><td style=\"text-align: right;\">        56.2265 </td><td style=\"text-align: right;\">    357.701 </td><td style=\"text-align: right;\">   360.587</td></tr>\n",
       "<tr><td>train_xgb_646e0_00001</td><td>TERMINATED</td><td>127.0.0.1:39827</td><td style=\"text-align: right;\">                   2</td><td>clr             </td><td style=\"text-align: right;\"> 0.01</td><td style=\"text-align: right;\">          6</td><td style=\"text-align: right;\">                 3</td><td style=\"text-align: right;\">        0.7</td><td style=\"text-align: right;\">     5</td><td style=\"text-align: right;\">        47.5826 </td><td style=\"text-align: right;\">    420.152 </td><td style=\"text-align: right;\">   406.335</td></tr>\n",
       "<tr><td>train_xgb_646e0_00002</td><td>TERMINATED</td><td>127.0.0.1:39839</td><td style=\"text-align: right;\">                  17</td><td>ilr             </td><td style=\"text-align: right;\"> 0.05</td><td style=\"text-align: right;\">          7</td><td style=\"text-align: right;\">                 1</td><td style=\"text-align: right;\">        0.8</td><td style=\"text-align: right;\">    10</td><td style=\"text-align: right;\">        40.896  </td><td style=\"text-align: right;\">    289.465 </td><td style=\"text-align: right;\">   300.591</td></tr>\n",
       "<tr><td>train_xgb_646e0_00003</td><td>TERMINATED</td><td>127.0.0.1:39850</td><td style=\"text-align: right;\">                   2</td><td>alr             </td><td style=\"text-align: right;\"> 0.01</td><td style=\"text-align: right;\">          6</td><td style=\"text-align: right;\">                 2</td><td style=\"text-align: right;\">        0.9</td><td style=\"text-align: right;\">     5</td><td style=\"text-align: right;\">        32.2994 </td><td style=\"text-align: right;\">    419.228 </td><td style=\"text-align: right;\">   405.335</td></tr>\n",
       "<tr><td>train_xgb_646e0_00004</td><td>TERMINATED</td><td>127.0.0.1:39860</td><td style=\"text-align: right;\">                   4</td><td>                </td><td style=\"text-align: right;\"> 0.01</td><td style=\"text-align: right;\">          6</td><td style=\"text-align: right;\">                 1</td><td style=\"text-align: right;\">        0.9</td><td style=\"text-align: right;\">     5</td><td style=\"text-align: right;\">        24.9139 </td><td style=\"text-align: right;\">    418.774 </td><td style=\"text-align: right;\">   405.589</td></tr>\n",
       "<tr><td>train_xgb_646e0_00005</td><td>TERMINATED</td><td>127.0.0.1:39871</td><td style=\"text-align: right;\">                  18</td><td>clr             </td><td style=\"text-align: right;\"> 0.3 </td><td style=\"text-align: right;\">          9</td><td style=\"text-align: right;\">                 2</td><td style=\"text-align: right;\">        0.7</td><td style=\"text-align: right;\">    10</td><td style=\"text-align: right;\">        17.784  </td><td style=\"text-align: right;\">     64.7141</td><td style=\"text-align: right;\">   293.185</td></tr>\n",
       "<tr><td>train_xgb_646e0_00006</td><td>TERMINATED</td><td>127.0.0.1:39882</td><td style=\"text-align: right;\">                   6</td><td>ilr             </td><td style=\"text-align: right;\"> 0.01</td><td style=\"text-align: right;\">          6</td><td style=\"text-align: right;\">                 1</td><td style=\"text-align: right;\">        0.8</td><td style=\"text-align: right;\">     5</td><td style=\"text-align: right;\">         9.42081</td><td style=\"text-align: right;\">    419.776 </td><td style=\"text-align: right;\">   403.067</td></tr>\n",
       "<tr><td>train_xgb_646e0_00007</td><td>TERMINATED</td><td>127.0.0.1:39893</td><td style=\"text-align: right;\">                   0</td><td>alr             </td><td style=\"text-align: right;\"> 0.05</td><td style=\"text-align: right;\">          9</td><td style=\"text-align: right;\">                 3</td><td style=\"text-align: right;\">        1  </td><td style=\"text-align: right;\">     5</td><td style=\"text-align: right;\">         1.72058</td><td style=\"text-align: right;\">    355.141 </td><td style=\"text-align: right;\">   357.811</td></tr>\n",
       "</tbody>\n",
       "</table>\n",
       "  </div>\n",
       "</div>\n",
       "<style>\n",
       ".tuneStatus {\n",
       "  color: var(--jp-ui-font-color1);\n",
       "}\n",
       ".tuneStatus .systemInfo {\n",
       "  display: flex;\n",
       "  flex-direction: column;\n",
       "}\n",
       ".tuneStatus td {\n",
       "  white-space: nowrap;\n",
       "}\n",
       ".tuneStatus .trialStatus {\n",
       "  display: flex;\n",
       "  flex-direction: column;\n",
       "}\n",
       ".tuneStatus h3 {\n",
       "  font-weight: bold;\n",
       "}\n",
       ".tuneStatus .hDivider {\n",
       "  border-bottom-width: var(--jp-border-width);\n",
       "  border-bottom-color: var(--jp-border-color0);\n",
       "  border-bottom-style: solid;\n",
       "}\n",
       ".tuneStatus .vDivider {\n",
       "  border-left-width: var(--jp-border-width);\n",
       "  border-left-color: var(--jp-border-color0);\n",
       "  border-left-style: solid;\n",
       "  margin: 0.5em 1em 0.5em 1em;\n",
       "}\n",
       "</style>\n"
      ],
      "text/plain": [
       "<IPython.core.display.HTML object>"
      ]
     },
     "metadata": {},
     "output_type": "display_data"
    },
    {
     "name": "stderr",
     "output_type": "stream",
     "text": [
      "\u001b[2m\u001b[36m(train_xgb pid=39799)\u001b[0m [09:46:21] WARNING: /Users/runner/work/xgboost/xgboost/python-package/build/temp.macosx-10.9-x86_64-cpython-38/xgboost/src/learner.cc:767: \n",
      "\u001b[2m\u001b[36m(train_xgb pid=39799)\u001b[0m Parameters: { \"data_alr_denom_idx\" } are not used.\n",
      "\u001b[2m\u001b[36m(train_xgb pid=39799)\u001b[0m \n"
     ]
    },
    {
     "name": "stdout",
     "output_type": "stream",
     "text": [
      "\u001b[2m\u001b[36m(train_xgb pid=39799)\u001b[0m Train: (48, 22), Test: (27, 22)\n"
     ]
    },
    {
     "name": "stderr",
     "output_type": "stream",
     "text": [
      "\u001b[2m\u001b[36m(train_xgb pid=39827)\u001b[0m Parameters: { \"data_alr_denom_idx\", \"data_transform\" } are not used.\n",
      "\u001b[2m\u001b[36m(train_xgb pid=39827)\u001b[0m \n",
      "\u001b[2m\u001b[36m(train_xgb pid=39827)\u001b[0m \n"
     ]
    },
    {
     "name": "stdout",
     "output_type": "stream",
     "text": [
      "\u001b[2m\u001b[36m(train_xgb pid=39827)\u001b[0m Train: (48, 22), Test: (27, 22)\n",
      "\u001b[2m\u001b[36m(train_xgb pid=39839)\u001b[0m Train: (48, 21), Test: (27, 21)\n",
      "\u001b[2m\u001b[36m(train_xgb pid=39839)\u001b[0m [0]\ttrain-rmse:418.65298\tval-rmse:404.98142\n"
     ]
    },
    {
     "name": "stderr",
     "output_type": "stream",
     "text": [
      "\u001b[2m\u001b[36m(train_xgb pid=39839)\u001b[0m [09:46:37] WARNING: /Users/runner/work/xgboost/xgboost/python-package/build/temp.macosx-10.9-x86_64-cpython-38/xgboost/src/learner.cc:767: \n",
      "\u001b[2m\u001b[36m(train_xgb pid=39839)\u001b[0m \n",
      "\u001b[2m\u001b[36m(train_xgb pid=39839)\u001b[0m \n",
      "\u001b[2m\u001b[36m(train_xgb pid=39850)\u001b[0m Parameters: { \"data_alr_denom_idx\", \"data_transform\" } are not used.\n",
      "\u001b[2m\u001b[36m(train_xgb pid=39850)\u001b[0m \n",
      "\u001b[2m\u001b[36m(train_xgb pid=39850)\u001b[0m \n"
     ]
    },
    {
     "name": "stdout",
     "output_type": "stream",
     "text": [
      "\u001b[2m\u001b[36m(train_xgb pid=39850)\u001b[0m Train: (48, 21), Test: (27, 21)\n"
     ]
    },
    {
     "name": "stderr",
     "output_type": "stream",
     "text": [
      "\u001b[2m\u001b[36m(train_xgb pid=39860)\u001b[0m [09:46:52] WARNING: /Users/runner/work/xgboost/xgboost/python-package/build/temp.macosx-10.9-x86_64-cpython-38/xgboost/src/learner.cc:767: \n",
      "\u001b[2m\u001b[36m(train_xgb pid=39860)\u001b[0m Parameters: { \"data_alr_denom_idx\" } are not used.\n",
      "\u001b[2m\u001b[36m(train_xgb pid=39860)\u001b[0m \n"
     ]
    },
    {
     "name": "stdout",
     "output_type": "stream",
     "text": [
      "\u001b[2m\u001b[36m(train_xgb pid=39860)\u001b[0m Train: (48, 22), Test: (27, 22)\n",
      "\u001b[2m\u001b[36m(train_xgb pid=39860)\u001b[0m [0]\ttrain-rmse:433.45978\tval-rmse:416.79723\n"
     ]
    },
    {
     "name": "stderr",
     "output_type": "stream",
     "text": [
      "\u001b[2m\u001b[36m(train_xgb pid=39871)\u001b[0m Parameters: { \"data_alr_denom_idx\", \"data_transform\" } are not used.\n",
      "\u001b[2m\u001b[36m(train_xgb pid=39871)\u001b[0m \n",
      "\u001b[2m\u001b[36m(train_xgb pid=39871)\u001b[0m \n"
     ]
    },
    {
     "name": "stdout",
     "output_type": "stream",
     "text": [
      "\u001b[2m\u001b[36m(train_xgb pid=39871)\u001b[0m [0]\ttrain-rmse:335.30600\tval-rmse:336.73732\n",
      "\u001b[2m\u001b[36m(train_xgb pid=39871)\u001b[0m [0]\ttrain-rmse:335.30600\tval-rmse:336.73732\n",
      "\u001b[2m\u001b[36m(train_xgb pid=39882)\u001b[0m Train: (48, 21), Test: (27, 21)\n"
     ]
    },
    {
     "name": "stderr",
     "output_type": "stream",
     "text": [
      "\u001b[2m\u001b[36m(train_xgb pid=39882)\u001b[0m [09:47:08] WARNING: /Users/runner/work/xgboost/xgboost/python-package/build/temp.macosx-10.9-x86_64-cpython-38/xgboost/src/learner.cc:767: \n",
      "\u001b[2m\u001b[36m(train_xgb pid=39882)\u001b[0m \n",
      "\u001b[2m\u001b[36m(train_xgb pid=39882)\u001b[0m \n"
     ]
    },
    {
     "data": {
      "text/html": [
       "<div class=\"trialProgress\">\n",
       "  <h3>Trial Progress</h3>\n",
       "  <table>\n",
       "<thead>\n",
       "<tr><th>Trial name           </th><th>date               </th><th>done  </th><th>experiment_tag                                                                                       </th><th>hostname   </th><th style=\"text-align: right;\">  iterations_since_restore</th><th>node_ip  </th><th style=\"text-align: right;\">  pid</th><th style=\"text-align: right;\">  rmse_train</th><th style=\"text-align: right;\">  rmse_val</th><th style=\"text-align: right;\">  time_since_restore</th><th style=\"text-align: right;\">  time_this_iter_s</th><th style=\"text-align: right;\">  time_total_s</th><th style=\"text-align: right;\">  timestamp</th><th style=\"text-align: right;\">  training_iteration</th><th style=\"text-align: right;\">     trial_id</th></tr>\n",
       "</thead>\n",
       "<tbody>\n",
       "<tr><td>train_xgb_646e0_00000</td><td>2023-12-15_09-47-18</td><td>True  </td><td>                                                                                                     </td><td>fsbt142-114</td><td style=\"text-align: right;\">                         5</td><td>127.0.0.1</td><td style=\"text-align: right;\">39799</td><td style=\"text-align: right;\">    357.701 </td><td style=\"text-align: right;\">   360.587</td><td style=\"text-align: right;\">            56.2265 </td><td style=\"text-align: right;\">         0.406703 </td><td style=\"text-align: right;\">      56.2265 </td><td style=\"text-align: right;\"> 1702630038</td><td style=\"text-align: right;\">                   5</td><td style=\"text-align: right;\">   646       </td></tr>\n",
       "<tr><td>train_xgb_646e0_00001</td><td>2023-12-15_09-47-17</td><td>True  </td><td>                                                                                                     </td><td>fsbt142-114</td><td style=\"text-align: right;\">                         5</td><td>127.0.0.1</td><td style=\"text-align: right;\">39827</td><td style=\"text-align: right;\">    420.152 </td><td style=\"text-align: right;\">   406.335</td><td style=\"text-align: right;\">            47.5826 </td><td style=\"text-align: right;\">         0.169705 </td><td style=\"text-align: right;\">      47.5826 </td><td style=\"text-align: right;\"> 1702630037</td><td style=\"text-align: right;\">                   5</td><td style=\"text-align: right;\">  6460       </td></tr>\n",
       "<tr><td>train_xgb_646e0_00002</td><td>2023-12-15_09-47-18</td><td>True  </td><td>2_data_alr_denom_idx=17,data_transform=ilr,eta=0.0500,max_depth=7,min_child_weight=1,subsample=0.8000</td><td>fsbt142-114</td><td style=\"text-align: right;\">                        10</td><td>127.0.0.1</td><td style=\"text-align: right;\">39839</td><td style=\"text-align: right;\">    289.465 </td><td style=\"text-align: right;\">   300.591</td><td style=\"text-align: right;\">            40.896  </td><td style=\"text-align: right;\">         0.0583408</td><td style=\"text-align: right;\">      40.896  </td><td style=\"text-align: right;\"> 1702630038</td><td style=\"text-align: right;\">                  10</td><td style=\"text-align: right;\"> 64600       </td></tr>\n",
       "<tr><td>train_xgb_646e0_00003</td><td>2023-12-15_09-47-17</td><td>True  </td><td>                                                                                                     </td><td>fsbt142-114</td><td style=\"text-align: right;\">                         5</td><td>127.0.0.1</td><td style=\"text-align: right;\">39850</td><td style=\"text-align: right;\">    419.228 </td><td style=\"text-align: right;\">   405.335</td><td style=\"text-align: right;\">            32.2994 </td><td style=\"text-align: right;\">         0.085037 </td><td style=\"text-align: right;\">      32.2994 </td><td style=\"text-align: right;\"> 1702630037</td><td style=\"text-align: right;\">                   5</td><td style=\"text-align: right;\">646000       </td></tr>\n",
       "<tr><td>train_xgb_646e0_00004</td><td>2023-12-15_09-47-17</td><td>True  </td><td>                                                                                                     </td><td>fsbt142-114</td><td style=\"text-align: right;\">                         5</td><td>127.0.0.1</td><td style=\"text-align: right;\">39860</td><td style=\"text-align: right;\">    418.774 </td><td style=\"text-align: right;\">   405.589</td><td style=\"text-align: right;\">            24.9139 </td><td style=\"text-align: right;\">         0.294793 </td><td style=\"text-align: right;\">      24.9139 </td><td style=\"text-align: right;\"> 1702630037</td><td style=\"text-align: right;\">                   5</td><td style=\"text-align: right;\">     6.46e+06</td></tr>\n",
       "<tr><td>train_xgb_646e0_00005</td><td>2023-12-15_09-47-18</td><td>True  </td><td>5_data_alr_denom_idx=18,data_transform=clr,eta=0.3000,max_depth=9,min_child_weight=2,subsample=0.7000</td><td>fsbt142-114</td><td style=\"text-align: right;\">                        10</td><td>127.0.0.1</td><td style=\"text-align: right;\">39871</td><td style=\"text-align: right;\">     64.7141</td><td style=\"text-align: right;\">   293.185</td><td style=\"text-align: right;\">            17.784  </td><td style=\"text-align: right;\">         0.0568709</td><td style=\"text-align: right;\">      17.784  </td><td style=\"text-align: right;\"> 1702630038</td><td style=\"text-align: right;\">                  10</td><td style=\"text-align: right;\">     6.46e+07</td></tr>\n",
       "<tr><td>train_xgb_646e0_00006</td><td>2023-12-15_09-47-17</td><td>True  </td><td>                                                                                                     </td><td>fsbt142-114</td><td style=\"text-align: right;\">                         5</td><td>127.0.0.1</td><td style=\"text-align: right;\">39882</td><td style=\"text-align: right;\">    419.776 </td><td style=\"text-align: right;\">   403.067</td><td style=\"text-align: right;\">             9.42081</td><td style=\"text-align: right;\">         0.0840619</td><td style=\"text-align: right;\">       9.42081</td><td style=\"text-align: right;\"> 1702630037</td><td style=\"text-align: right;\">                   5</td><td style=\"text-align: right;\">     6.46e+08</td></tr>\n",
       "<tr><td>train_xgb_646e0_00007</td><td>2023-12-15_09-47-18</td><td>True  </td><td>                                                                                                     </td><td>fsbt142-114</td><td style=\"text-align: right;\">                         5</td><td>127.0.0.1</td><td style=\"text-align: right;\">39893</td><td style=\"text-align: right;\">    355.141 </td><td style=\"text-align: right;\">   357.811</td><td style=\"text-align: right;\">             1.72058</td><td style=\"text-align: right;\">         0.257749 </td><td style=\"text-align: right;\">       1.72058</td><td style=\"text-align: right;\"> 1702630038</td><td style=\"text-align: right;\">                   5</td><td style=\"text-align: right;\">     6.46e+09</td></tr>\n",
       "</tbody>\n",
       "</table>\n",
       "</div>\n",
       "<style>\n",
       ".trialProgress {\n",
       "  display: flex;\n",
       "  flex-direction: column;\n",
       "  color: var(--jp-ui-font-color1);\n",
       "}\n",
       ".trialProgress h3 {\n",
       "  font-weight: bold;\n",
       "}\n",
       ".trialProgress td {\n",
       "  white-space: nowrap;\n",
       "}\n",
       "</style>\n"
      ],
      "text/plain": [
       "<IPython.core.display.HTML object>"
      ]
     },
     "metadata": {},
     "output_type": "display_data"
    },
    {
     "name": "stdout",
     "output_type": "stream",
     "text": [
      "\u001b[2m\u001b[36m(train_xgb pid=39860)\u001b[0m [1]\ttrain-rmse:429.75407\tval-rmse:414.18934\n",
      "\u001b[2m\u001b[36m(train_xgb pid=39893)\u001b[0m Train: (48, 21), Test: (27, 21)\n"
     ]
    },
    {
     "name": "stderr",
     "output_type": "stream",
     "text": [
      "\u001b[2m\u001b[36m(train_xgb pid=39893)\u001b[0m Parameters: { \"data_alr_denom_idx\", \"data_transform\" } are not used.\n",
      "\u001b[2m\u001b[36m(train_xgb pid=39893)\u001b[0m \n",
      "\u001b[2m\u001b[36m(train_xgb pid=39893)\u001b[0m \n",
      "2023-12-15 09:47:18,727\tINFO tune.py:945 -- Total run time: 65.64 seconds (65.52 seconds for the tuning loop).\n"
     ]
    },
    {
     "name": "stdout",
     "output_type": "stream",
     "text": [
      "Ray tune training of: nn...\n"
     ]
    },
    {
     "data": {
      "text/html": [
       "<div class=\"tuneStatus\">\n",
       "  <div style=\"display: flex;flex-direction: row\">\n",
       "    <div style=\"display: flex;flex-direction: column;\">\n",
       "      <h3>Tune Status</h3>\n",
       "      <table>\n",
       "<tbody>\n",
       "<tr><td>Current time:</td><td>2023-12-15 09:51:12</td></tr>\n",
       "<tr><td>Running for: </td><td>00:03:53.18        </td></tr>\n",
       "<tr><td>Memory:      </td><td>10.1/16.0 GiB      </td></tr>\n",
       "</tbody>\n",
       "</table>\n",
       "    </div>\n",
       "    <div class=\"vDivider\"></div>\n",
       "    <div class=\"systemInfo\">\n",
       "      <h3>System Info</h3>\n",
       "      Using AsyncHyperBand: num_stopped=8<br>Bracket: Iter 80.000: -299.6542053222656 | Iter 20.000: -285.05765533447266 | Iter 5.000: -342.13584899902344<br>Logical resource usage: 0/8 CPUs, 0/0 GPUs\n",
       "    </div>\n",
       "    \n",
       "  </div>\n",
       "  <div class=\"hDivider\"></div>\n",
       "  <div class=\"trialStatus\">\n",
       "    <h3>Trial Status</h3>\n",
       "    <table>\n",
       "<thead>\n",
       "<tr><th>Trial name          </th><th>status    </th><th>loc            </th><th style=\"text-align: right;\">  batch_size</th><th style=\"text-align: right;\">  data_alr_denom_idx</th><th>data_transform  </th><th style=\"text-align: right;\">  learning_rate</th><th style=\"text-align: right;\">  n_layers</th><th style=\"text-align: right;\">  n_units_l0</th><th style=\"text-align: right;\">  n_units_l1</th><th style=\"text-align: right;\">  n_units_l2</th><th style=\"text-align: right;\">  n_units_l3</th><th style=\"text-align: right;\">  n_units_l4</th><th style=\"text-align: right;\">  n_units_l5</th><th style=\"text-align: right;\">  n_units_l6</th><th style=\"text-align: right;\">  n_units_l7</th><th style=\"text-align: right;\">  n_units_l8</th><th style=\"text-align: right;\">  iter</th><th style=\"text-align: right;\">  total time (s)</th><th style=\"text-align: right;\">  rmse_val</th><th style=\"text-align: right;\">  rmse_train</th></tr>\n",
       "</thead>\n",
       "<tbody>\n",
       "<tr><td>train_nn_8df6b_00000</td><td>TERMINATED</td><td>127.0.0.1:39946</td><td style=\"text-align: right;\">          64</td><td style=\"text-align: right;\">                  11</td><td>                </td><td style=\"text-align: right;\">    0.00912428 </td><td style=\"text-align: right;\">         6</td><td style=\"text-align: right;\">           5</td><td style=\"text-align: right;\">           6</td><td style=\"text-align: right;\">           6</td><td style=\"text-align: right;\">          15</td><td style=\"text-align: right;\">          51</td><td style=\"text-align: right;\">          25</td><td style=\"text-align: right;\">          52</td><td style=\"text-align: right;\">          55</td><td style=\"text-align: right;\">           8</td><td style=\"text-align: right;\">     5</td><td style=\"text-align: right;\">         72.8361</td><td style=\"text-align: right;\">   410.716</td><td style=\"text-align: right;\">   431.01   </td></tr>\n",
       "<tr><td>train_nn_8df6b_00001</td><td>TERMINATED</td><td>127.0.0.1:39960</td><td style=\"text-align: right;\">         128</td><td style=\"text-align: right;\">                  13</td><td>clr             </td><td style=\"text-align: right;\">    0.0672663  </td><td style=\"text-align: right;\">         3</td><td style=\"text-align: right;\">          13</td><td style=\"text-align: right;\">           3</td><td style=\"text-align: right;\">          56</td><td style=\"text-align: right;\">          43</td><td style=\"text-align: right;\">          15</td><td style=\"text-align: right;\">          16</td><td style=\"text-align: right;\">          21</td><td style=\"text-align: right;\">          28</td><td style=\"text-align: right;\">          38</td><td style=\"text-align: right;\">   100</td><td style=\"text-align: right;\">        141.527 </td><td style=\"text-align: right;\">   326.396</td><td style=\"text-align: right;\">     2.50721</td></tr>\n",
       "<tr><td>train_nn_8df6b_00002</td><td>TERMINATED</td><td>127.0.0.1:39980</td><td style=\"text-align: right;\">          32</td><td style=\"text-align: right;\">                   4</td><td>ilr             </td><td style=\"text-align: right;\">    3.90747e-05</td><td style=\"text-align: right;\">         6</td><td style=\"text-align: right;\">          21</td><td style=\"text-align: right;\">          25</td><td style=\"text-align: right;\">          53</td><td style=\"text-align: right;\">          19</td><td style=\"text-align: right;\">          23</td><td style=\"text-align: right;\">           9</td><td style=\"text-align: right;\">          62</td><td style=\"text-align: right;\">          48</td><td style=\"text-align: right;\">          12</td><td style=\"text-align: right;\">     5</td><td style=\"text-align: right;\">         56.6024</td><td style=\"text-align: right;\">   419.479</td><td style=\"text-align: right;\">   437.257  </td></tr>\n",
       "<tr><td>train_nn_8df6b_00003</td><td>TERMINATED</td><td>127.0.0.1:39997</td><td style=\"text-align: right;\">          64</td><td style=\"text-align: right;\">                  13</td><td>alr             </td><td style=\"text-align: right;\">    0.000173616</td><td style=\"text-align: right;\">         3</td><td style=\"text-align: right;\">          62</td><td style=\"text-align: right;\">          27</td><td style=\"text-align: right;\">          18</td><td style=\"text-align: right;\">          28</td><td style=\"text-align: right;\">          57</td><td style=\"text-align: right;\">          36</td><td style=\"text-align: right;\">          59</td><td style=\"text-align: right;\">           7</td><td style=\"text-align: right;\">          35</td><td style=\"text-align: right;\">     5</td><td style=\"text-align: right;\">         45.2389</td><td style=\"text-align: right;\"> 43265    </td><td style=\"text-align: right;\"> 32470.2    </td></tr>\n",
       "<tr><td>train_nn_8df6b_00004</td><td>TERMINATED</td><td>127.0.0.1:40020</td><td style=\"text-align: right;\">          32</td><td style=\"text-align: right;\">                   4</td><td>                </td><td style=\"text-align: right;\">    0.0117463  </td><td style=\"text-align: right;\">         9</td><td style=\"text-align: right;\">          35</td><td style=\"text-align: right;\">          45</td><td style=\"text-align: right;\">           9</td><td style=\"text-align: right;\">           9</td><td style=\"text-align: right;\">          48</td><td style=\"text-align: right;\">           6</td><td style=\"text-align: right;\">           5</td><td style=\"text-align: right;\">          31</td><td style=\"text-align: right;\">          13</td><td style=\"text-align: right;\">   100</td><td style=\"text-align: right;\">        189.271 </td><td style=\"text-align: right;\">   290.001</td><td style=\"text-align: right;\">     4.61332</td></tr>\n",
       "<tr><td>train_nn_8df6b_00005</td><td>TERMINATED</td><td>127.0.0.1:40037</td><td style=\"text-align: right;\">          32</td><td style=\"text-align: right;\">                   3</td><td>clr             </td><td style=\"text-align: right;\">    0.0519596  </td><td style=\"text-align: right;\">         3</td><td style=\"text-align: right;\">          46</td><td style=\"text-align: right;\">          48</td><td style=\"text-align: right;\">          36</td><td style=\"text-align: right;\">          23</td><td style=\"text-align: right;\">          32</td><td style=\"text-align: right;\">          44</td><td style=\"text-align: right;\">           8</td><td style=\"text-align: right;\">          54</td><td style=\"text-align: right;\">          56</td><td style=\"text-align: right;\">     5</td><td style=\"text-align: right;\">         27.5328</td><td style=\"text-align: right;\">   348.379</td><td style=\"text-align: right;\">   178.687  </td></tr>\n",
       "<tr><td>train_nn_8df6b_00006</td><td>TERMINATED</td><td>127.0.0.1:40054</td><td style=\"text-align: right;\">          64</td><td style=\"text-align: right;\">                  11</td><td>ilr             </td><td style=\"text-align: right;\">    0.00800656 </td><td style=\"text-align: right;\">         3</td><td style=\"text-align: right;\">          48</td><td style=\"text-align: right;\">          57</td><td style=\"text-align: right;\">          55</td><td style=\"text-align: right;\">          58</td><td style=\"text-align: right;\">           9</td><td style=\"text-align: right;\">          53</td><td style=\"text-align: right;\">          30</td><td style=\"text-align: right;\">          54</td><td style=\"text-align: right;\">          37</td><td style=\"text-align: right;\">     5</td><td style=\"text-align: right;\">         18.584 </td><td style=\"text-align: right;\">   388.798</td><td style=\"text-align: right;\">   411.336  </td></tr>\n",
       "<tr><td>train_nn_8df6b_00007</td><td>TERMINATED</td><td>127.0.0.1:40088</td><td style=\"text-align: right;\">          32</td><td style=\"text-align: right;\">                   6</td><td>alr             </td><td style=\"text-align: right;\">    1.56442e-05</td><td style=\"text-align: right;\">         6</td><td style=\"text-align: right;\">          51</td><td style=\"text-align: right;\">          40</td><td style=\"text-align: right;\">          23</td><td style=\"text-align: right;\">          19</td><td style=\"text-align: right;\">           6</td><td style=\"text-align: right;\">          48</td><td style=\"text-align: right;\">          26</td><td style=\"text-align: right;\">          60</td><td style=\"text-align: right;\">          57</td><td style=\"text-align: right;\">     5</td><td style=\"text-align: right;\">         16.5056</td><td style=\"text-align: right;\"> 11169.5  </td><td style=\"text-align: right;\">  9739.83   </td></tr>\n",
       "</tbody>\n",
       "</table>\n",
       "  </div>\n",
       "</div>\n",
       "<style>\n",
       ".tuneStatus {\n",
       "  color: var(--jp-ui-font-color1);\n",
       "}\n",
       ".tuneStatus .systemInfo {\n",
       "  display: flex;\n",
       "  flex-direction: column;\n",
       "}\n",
       ".tuneStatus td {\n",
       "  white-space: nowrap;\n",
       "}\n",
       ".tuneStatus .trialStatus {\n",
       "  display: flex;\n",
       "  flex-direction: column;\n",
       "}\n",
       ".tuneStatus h3 {\n",
       "  font-weight: bold;\n",
       "}\n",
       ".tuneStatus .hDivider {\n",
       "  border-bottom-width: var(--jp-border-width);\n",
       "  border-bottom-color: var(--jp-border-color0);\n",
       "  border-bottom-style: solid;\n",
       "}\n",
       ".tuneStatus .vDivider {\n",
       "  border-left-width: var(--jp-border-width);\n",
       "  border-left-color: var(--jp-border-color0);\n",
       "  border-left-style: solid;\n",
       "  margin: 0.5em 1em 0.5em 1em;\n",
       "}\n",
       "</style>\n"
      ],
      "text/plain": [
       "<IPython.core.display.HTML object>"
      ]
     },
     "metadata": {},
     "output_type": "display_data"
    },
    {
     "name": "stdout",
     "output_type": "stream",
     "text": [
      "\u001b[2m\u001b[36m(train_xgb pid=39871)\u001b[0m [9]\ttrain-rmse:64.71412\tval-rmse:293.18540\u001b[32m [repeated 41x across cluster] (Ray deduplicates logs by default. Set RAY_DEDUP_LOGS=0 to disable log deduplication, or see https://docs.ray.io/en/master/ray-observability/ray-logging.html#log-deduplication for more options.)\u001b[0m\n",
      "\u001b[2m\u001b[36m(train_nn pid=39946)\u001b[0m Train: (48, 22), Test: (27, 22)\n"
     ]
    },
    {
     "name": "stderr",
     "output_type": "stream",
     "text": [
      "\u001b[2m\u001b[36m(train_nn pid=39946)\u001b[0m 2023/12/15 09:47:29 INFO mlflow.utils.autologging_utils: Created MLflow autologging run with ID 'c1a53a014ec145ca85ce1d93832c299f', which will track hyperparameters, performance metrics, model artifacts, and lineage information for the current tensorflow workflow\n",
      "\u001b[2m\u001b[36m(train_nn pid=39946)\u001b[0m WARNING:absl:Found untraced functions such as _update_step_xla while saving (showing 1 of 1). These functions will not be directly callable after loading.\n"
     ]
    },
    {
     "name": "stdout",
     "output_type": "stream",
     "text": [
      "\u001b[2m\u001b[36m(train_nn pid=39960)\u001b[0m Train: (48, 22), Test: (27, 22)\n"
     ]
    },
    {
     "name": "stderr",
     "output_type": "stream",
     "text": [
      "\u001b[2m\u001b[36m(train_nn pid=39960)\u001b[0m 2023/12/15 09:47:37 INFO mlflow.utils.autologging_utils: Created MLflow autologging run with ID 'fddc1d7e5a4c48db96e47f778d7b8fdc', which will track hyperparameters, performance metrics, model artifacts, and lineage information for the current tensorflow workflow\n",
      "\u001b[2m\u001b[36m(train_nn pid=39960)\u001b[0m WARNING:absl:Found untraced functions such as _update_step_xla while saving (showing 1 of 1). These functions will not be directly callable after loading.\n"
     ]
    },
    {
     "name": "stdout",
     "output_type": "stream",
     "text": [
      "\u001b[2m\u001b[36m(train_nn pid=39980)\u001b[0m Train: (48, 21), Test: (27, 21)\n"
     ]
    },
    {
     "name": "stderr",
     "output_type": "stream",
     "text": [
      "\u001b[2m\u001b[36m(train_nn pid=39980)\u001b[0m 2023/12/15 09:47:45 INFO mlflow.utils.autologging_utils: Created MLflow autologging run with ID '5c809e8ae0094007b4214242a49d39cf', which will track hyperparameters, performance metrics, model artifacts, and lineage information for the current tensorflow workflow\n",
      "\u001b[2m\u001b[36m(train_nn pid=39980)\u001b[0m WARNING:absl:Found untraced functions such as _update_step_xla while saving (showing 1 of 1). These functions will not be directly callable after loading.\n"
     ]
    },
    {
     "name": "stdout",
     "output_type": "stream",
     "text": [
      "\u001b[2m\u001b[36m(train_nn pid=39997)\u001b[0m Train: (48, 21), Test: (27, 21)\n"
     ]
    },
    {
     "name": "stderr",
     "output_type": "stream",
     "text": [
      "\u001b[2m\u001b[36m(train_nn pid=39997)\u001b[0m 2023/12/15 09:47:54 INFO mlflow.utils.autologging_utils: Created MLflow autologging run with ID '9ae69b6c239d407bb330275843a1f583', which will track hyperparameters, performance metrics, model artifacts, and lineage information for the current tensorflow workflow\n",
      "\u001b[2m\u001b[36m(train_nn pid=39997)\u001b[0m WARNING:absl:Found untraced functions such as _update_step_xla while saving (showing 1 of 1). These functions will not be directly callable after loading.\n"
     ]
    },
    {
     "name": "stdout",
     "output_type": "stream",
     "text": [
      "\u001b[2m\u001b[36m(train_nn pid=40020)\u001b[0m Train: (48, 22), Test: (27, 22)\n"
     ]
    },
    {
     "name": "stderr",
     "output_type": "stream",
     "text": [
      "\u001b[2m\u001b[36m(train_nn pid=40020)\u001b[0m 2023/12/15 09:48:03 INFO mlflow.utils.autologging_utils: Created MLflow autologging run with ID 'da6d35b2580b48409d906bda4ad990e7', which will track hyperparameters, performance metrics, model artifacts, and lineage information for the current tensorflow workflow\n",
      "\u001b[2m\u001b[36m(train_nn pid=40020)\u001b[0m WARNING:absl:Found untraced functions such as _update_step_xla while saving (showing 1 of 1). These functions will not be directly callable after loading.\n"
     ]
    },
    {
     "name": "stdout",
     "output_type": "stream",
     "text": [
      "\u001b[2m\u001b[36m(train_nn pid=40037)\u001b[0m Train: (48, 22), Test: (27, 22)\n"
     ]
    },
    {
     "name": "stderr",
     "output_type": "stream",
     "text": [
      "\u001b[2m\u001b[36m(train_nn pid=40037)\u001b[0m 2023/12/15 09:48:12 INFO mlflow.utils.autologging_utils: Created MLflow autologging run with ID '60c450dda3994eaaa013b62068cd37ae', which will track hyperparameters, performance metrics, model artifacts, and lineage information for the current tensorflow workflow\n",
      "\u001b[2m\u001b[36m(train_nn pid=40037)\u001b[0m WARNING:absl:Found untraced functions such as _update_step_xla while saving (showing 1 of 1). These functions will not be directly callable after loading.\n"
     ]
    },
    {
     "name": "stdout",
     "output_type": "stream",
     "text": [
      "\u001b[2m\u001b[36m(train_nn pid=40054)\u001b[0m Train: (48, 21), Test: (27, 21)\n"
     ]
    },
    {
     "name": "stderr",
     "output_type": "stream",
     "text": [
      "\u001b[2m\u001b[36m(train_nn pid=40054)\u001b[0m 2023/12/15 09:48:20 INFO mlflow.utils.autologging_utils: Created MLflow autologging run with ID 'd95f45ce131b413bac6f8aeca2991583', which will track hyperparameters, performance metrics, model artifacts, and lineage information for the current tensorflow workflow\n",
      "\u001b[2m\u001b[36m(train_nn pid=40054)\u001b[0m WARNING:absl:Found untraced functions such as _update_step_xla while saving (showing 1 of 1). These functions will not be directly callable after loading.\n"
     ]
    },
    {
     "data": {
      "text/html": [
       "<div class=\"trialProgress\">\n",
       "  <h3>Trial Progress</h3>\n",
       "  <table>\n",
       "<thead>\n",
       "<tr><th>Trial name          </th><th>date               </th><th>done  </th><th>hostname   </th><th style=\"text-align: right;\">  iterations_since_restore</th><th>node_ip  </th><th style=\"text-align: right;\">  pid</th><th style=\"text-align: right;\">  rmse_train</th><th style=\"text-align: right;\">  rmse_val</th><th>should_checkpoint  </th><th style=\"text-align: right;\">  time_since_restore</th><th style=\"text-align: right;\">  time_this_iter_s</th><th style=\"text-align: right;\">  time_total_s</th><th style=\"text-align: right;\">  timestamp</th><th style=\"text-align: right;\">  training_iteration</th><th>trial_id   </th></tr>\n",
       "</thead>\n",
       "<tbody>\n",
       "<tr><td>train_nn_8df6b_00000</td><td>2023-12-15_09-48-41</td><td>True  </td><td>fsbt142-114</td><td style=\"text-align: right;\">                         5</td><td>127.0.0.1</td><td style=\"text-align: right;\">39946</td><td style=\"text-align: right;\">   431.01   </td><td style=\"text-align: right;\">   410.716</td><td>True               </td><td style=\"text-align: right;\">             72.8361</td><td style=\"text-align: right;\">          2.01606 </td><td style=\"text-align: right;\">       72.8361</td><td style=\"text-align: right;\"> 1702630121</td><td style=\"text-align: right;\">                   5</td><td>8df6b_00000</td></tr>\n",
       "<tr><td>train_nn_8df6b_00001</td><td>2023-12-15_09-49-58</td><td>True  </td><td>fsbt142-114</td><td style=\"text-align: right;\">                       100</td><td>127.0.0.1</td><td style=\"text-align: right;\">39960</td><td style=\"text-align: right;\">     2.50721</td><td style=\"text-align: right;\">   326.396</td><td>True               </td><td style=\"text-align: right;\">            141.527 </td><td style=\"text-align: right;\">          0.771112</td><td style=\"text-align: right;\">      141.527 </td><td style=\"text-align: right;\"> 1702630198</td><td style=\"text-align: right;\">                 100</td><td>8df6b_00001</td></tr>\n",
       "<tr><td>train_nn_8df6b_00002</td><td>2023-12-15_09-48-41</td><td>True  </td><td>fsbt142-114</td><td style=\"text-align: right;\">                         5</td><td>127.0.0.1</td><td style=\"text-align: right;\">39980</td><td style=\"text-align: right;\">   437.257  </td><td style=\"text-align: right;\">   419.479</td><td>True               </td><td style=\"text-align: right;\">             56.6024</td><td style=\"text-align: right;\">          2.00261 </td><td style=\"text-align: right;\">       56.6024</td><td style=\"text-align: right;\"> 1702630121</td><td style=\"text-align: right;\">                   5</td><td>8df6b_00002</td></tr>\n",
       "<tr><td>train_nn_8df6b_00003</td><td>2023-12-15_09-48-39</td><td>True  </td><td>fsbt142-114</td><td style=\"text-align: right;\">                         5</td><td>127.0.0.1</td><td style=\"text-align: right;\">39997</td><td style=\"text-align: right;\"> 32470.2    </td><td style=\"text-align: right;\"> 43265    </td><td>True               </td><td style=\"text-align: right;\">             45.2389</td><td style=\"text-align: right;\">          2.60559 </td><td style=\"text-align: right;\">       45.2389</td><td style=\"text-align: right;\"> 1702630119</td><td style=\"text-align: right;\">                   5</td><td>8df6b_00003</td></tr>\n",
       "<tr><td>train_nn_8df6b_00004</td><td>2023-12-15_09-51-11</td><td>True  </td><td>fsbt142-114</td><td style=\"text-align: right;\">                       100</td><td>127.0.0.1</td><td style=\"text-align: right;\">40020</td><td style=\"text-align: right;\">     4.61332</td><td style=\"text-align: right;\">   290.001</td><td>True               </td><td style=\"text-align: right;\">            189.271 </td><td style=\"text-align: right;\">          1.62231 </td><td style=\"text-align: right;\">      189.271 </td><td style=\"text-align: right;\"> 1702630271</td><td style=\"text-align: right;\">                 100</td><td>8df6b_00004</td></tr>\n",
       "<tr><td>train_nn_8df6b_00005</td><td>2023-12-15_09-48-39</td><td>True  </td><td>fsbt142-114</td><td style=\"text-align: right;\">                         5</td><td>127.0.0.1</td><td style=\"text-align: right;\">40037</td><td style=\"text-align: right;\">   178.687  </td><td style=\"text-align: right;\">   348.379</td><td>True               </td><td style=\"text-align: right;\">             27.5328</td><td style=\"text-align: right;\">          2.58791 </td><td style=\"text-align: right;\">       27.5328</td><td style=\"text-align: right;\"> 1702630119</td><td style=\"text-align: right;\">                   5</td><td>8df6b_00005</td></tr>\n",
       "<tr><td>train_nn_8df6b_00006</td><td>2023-12-15_09-48-38</td><td>True  </td><td>fsbt142-114</td><td style=\"text-align: right;\">                         5</td><td>127.0.0.1</td><td style=\"text-align: right;\">40054</td><td style=\"text-align: right;\">   411.336  </td><td style=\"text-align: right;\">   388.798</td><td>True               </td><td style=\"text-align: right;\">             18.584 </td><td style=\"text-align: right;\">          2.55186 </td><td style=\"text-align: right;\">       18.584 </td><td style=\"text-align: right;\"> 1702630118</td><td style=\"text-align: right;\">                   5</td><td>8df6b_00006</td></tr>\n",
       "<tr><td>train_nn_8df6b_00007</td><td>2023-12-15_09-48-45</td><td>True  </td><td>fsbt142-114</td><td style=\"text-align: right;\">                         5</td><td>127.0.0.1</td><td style=\"text-align: right;\">40088</td><td style=\"text-align: right;\">  9739.83   </td><td style=\"text-align: right;\"> 11169.5  </td><td>True               </td><td style=\"text-align: right;\">             16.5056</td><td style=\"text-align: right;\">          1.49754 </td><td style=\"text-align: right;\">       16.5056</td><td style=\"text-align: right;\"> 1702630125</td><td style=\"text-align: right;\">                   5</td><td>8df6b_00007</td></tr>\n",
       "</tbody>\n",
       "</table>\n",
       "</div>\n",
       "<style>\n",
       ".trialProgress {\n",
       "  display: flex;\n",
       "  flex-direction: column;\n",
       "  color: var(--jp-ui-font-color1);\n",
       "}\n",
       ".trialProgress h3 {\n",
       "  font-weight: bold;\n",
       "}\n",
       ".trialProgress td {\n",
       "  white-space: nowrap;\n",
       "}\n",
       "</style>\n"
      ],
      "text/plain": [
       "<IPython.core.display.HTML object>"
      ]
     },
     "metadata": {},
     "output_type": "display_data"
    },
    {
     "name": "stdout",
     "output_type": "stream",
     "text": [
      "\u001b[2m\u001b[36m(train_nn pid=40088)\u001b[0m Train: (48, 21), Test: (27, 21)\n"
     ]
    },
    {
     "name": "stderr",
     "output_type": "stream",
     "text": [
      "\u001b[2m\u001b[36m(train_nn pid=40088)\u001b[0m 2023/12/15 09:48:29 INFO mlflow.utils.autologging_utils: Created MLflow autologging run with ID '1013769cc7254117936ff37e25e024cd', which will track hyperparameters, performance metrics, model artifacts, and lineage information for the current tensorflow workflow\n",
      "\u001b[2m\u001b[36m(train_nn pid=40054)\u001b[0m WARNING:absl:Found untraced functions such as _update_step_xla while saving (showing 1 of 1). These functions will not be directly callable after loading.\n",
      "\u001b[2m\u001b[36m(train_nn pid=40088)\u001b[0m WARNING:absl:Found untraced functions such as _update_step_xla while saving (showing 1 of 1). These functions will not be directly callable after loading.\u001b[32m [repeated 17x across cluster]\u001b[0m\n",
      "\u001b[2m\u001b[36m(train_nn pid=39980)\u001b[0m WARNING:tensorflow:Callback method `on_train_batch_end` is slow compared to the batch time (batch time: 0.0024s vs `on_train_batch_end` time: 0.0043s). Check your callbacks.\n",
      "\u001b[2m\u001b[36m(train_nn pid=39980)\u001b[0m WARNING:tensorflow:Callback method `on_train_batch_end` is slow compared to the batch time (batch time: 0.0024s vs `on_train_batch_end` time: 0.0043s). Check your callbacks.\n",
      "\u001b[2m\u001b[36m(train_nn pid=40088)\u001b[0m WARNING:absl:Found untraced functions such as _update_step_xla while saving (showing 1 of 1). These functions will not be directly callable after loading.\u001b[32m [repeated 14x across cluster]\u001b[0m\n",
      "\u001b[2m\u001b[36m(train_nn pid=40088)\u001b[0m WARNING:tensorflow:Callback method `on_train_batch_end` is slow compared to the batch time (batch time: 0.0020s vs `on_train_batch_end` time: 0.0067s). Check your callbacks.\u001b[32m [repeated 4x across cluster]\u001b[0m\n",
      "\u001b[2m\u001b[36m(train_nn pid=40020)\u001b[0m WARNING:absl:Found untraced functions such as _update_step_xla while saving (showing 1 of 1). These functions will not be directly callable after loading.\u001b[32m [repeated 10x across cluster]\u001b[0m\n",
      "\u001b[2m\u001b[36m(train_nn pid=40020)\u001b[0m WARNING:absl:Found untraced functions such as _update_step_xla while saving (showing 1 of 1). These functions will not be directly callable after loading.\u001b[32m [repeated 9x across cluster]\u001b[0m\n",
      "\u001b[2m\u001b[36m(train_nn pid=40020)\u001b[0m WARNING:absl:Found untraced functions such as _update_step_xla while saving (showing 1 of 1). These functions will not be directly callable after loading.\u001b[32m [repeated 9x across cluster]\u001b[0m\n",
      "\u001b[2m\u001b[36m(train_nn pid=39960)\u001b[0m WARNING:absl:Found untraced functions such as _update_step_xla while saving (showing 1 of 1). These functions will not be directly callable after loading.\u001b[32m [repeated 10x across cluster]\u001b[0m\n",
      "\u001b[2m\u001b[36m(train_nn pid=39960)\u001b[0m WARNING:absl:Found untraced functions such as _update_step_xla while saving (showing 1 of 1). These functions will not be directly callable after loading.\u001b[32m [repeated 10x across cluster]\u001b[0m\n",
      "\u001b[2m\u001b[36m(train_nn pid=40020)\u001b[0m WARNING:absl:Found untraced functions such as _update_step_xla while saving (showing 1 of 1). These functions will not be directly callable after loading.\u001b[32m [repeated 10x across cluster]\u001b[0m\n",
      "\u001b[2m\u001b[36m(train_nn pid=40020)\u001b[0m WARNING:absl:Found untraced functions such as _update_step_xla while saving (showing 1 of 1). These functions will not be directly callable after loading.\u001b[32m [repeated 9x across cluster]\u001b[0m\n",
      "\u001b[2m\u001b[36m(train_nn pid=39960)\u001b[0m WARNING:absl:Found untraced functions such as _update_step_xla while saving (showing 1 of 1). These functions will not be directly callable after loading.\u001b[32m [repeated 10x across cluster]\u001b[0m\n",
      "\u001b[2m\u001b[36m(train_nn pid=39960)\u001b[0m WARNING:absl:Found untraced functions such as _update_step_xla while saving (showing 1 of 1). These functions will not be directly callable after loading.\u001b[32m [repeated 10x across cluster]\u001b[0m\n",
      "\u001b[2m\u001b[36m(train_nn pid=40020)\u001b[0m WARNING:absl:Found untraced functions such as _update_step_xla while saving (showing 1 of 1). These functions will not be directly callable after loading.\u001b[32m [repeated 10x across cluster]\u001b[0m\n",
      "\u001b[2m\u001b[36m(train_nn pid=39960)\u001b[0m WARNING:absl:Found untraced functions such as _update_step_xla while saving (showing 1 of 1). These functions will not be directly callable after loading.\u001b[32m [repeated 10x across cluster]\u001b[0m\n",
      "\u001b[2m\u001b[36m(train_nn pid=39960)\u001b[0m WARNING:absl:Found untraced functions such as _update_step_xla while saving (showing 1 of 1). These functions will not be directly callable after loading.\u001b[32m [repeated 10x across cluster]\u001b[0m\n",
      "\u001b[2m\u001b[36m(train_nn pid=39960)\u001b[0m WARNING:absl:Found untraced functions such as _update_step_xla while saving (showing 1 of 1). These functions will not be directly callable after loading.\u001b[32m [repeated 11x across cluster]\u001b[0m\n",
      "\u001b[2m\u001b[36m(train_nn pid=39960)\u001b[0m WARNING:absl:Found untraced functions such as _update_step_xla while saving (showing 1 of 1). These functions will not be directly callable after loading.\u001b[32m [repeated 10x across cluster]\u001b[0m\n",
      "\u001b[2m\u001b[36m(train_nn pid=40020)\u001b[0m WARNING:absl:Found untraced functions such as _update_step_xla while saving (showing 1 of 1). These functions will not be directly callable after loading.\u001b[32m [repeated 7x across cluster]\u001b[0m\n",
      "\u001b[2m\u001b[36m(train_nn pid=40020)\u001b[0m WARNING:absl:Found untraced functions such as _update_step_xla while saving (showing 1 of 1). These functions will not be directly callable after loading.\u001b[32m [repeated 4x across cluster]\u001b[0m\n",
      "\u001b[2m\u001b[36m(train_nn pid=40020)\u001b[0m WARNING:absl:Found untraced functions such as _update_step_xla while saving (showing 1 of 1). These functions will not be directly callable after loading.\u001b[32m [repeated 4x across cluster]\u001b[0m\n",
      "\u001b[2m\u001b[36m(train_nn pid=40020)\u001b[0m WARNING:absl:Found untraced functions such as _update_step_xla while saving (showing 1 of 1). These functions will not be directly callable after loading.\u001b[32m [repeated 4x across cluster]\u001b[0m\n",
      "\u001b[2m\u001b[36m(train_nn pid=40020)\u001b[0m WARNING:absl:Found untraced functions such as _update_step_xla while saving (showing 1 of 1). These functions will not be directly callable after loading.\u001b[32m [repeated 4x across cluster]\u001b[0m\n",
      "\u001b[2m\u001b[36m(train_nn pid=40020)\u001b[0m WARNING:absl:Found untraced functions such as _update_step_xla while saving (showing 1 of 1). These functions will not be directly callable after loading.\u001b[32m [repeated 4x across cluster]\u001b[0m\n",
      "\u001b[2m\u001b[36m(train_nn pid=40020)\u001b[0m WARNING:absl:Found untraced functions such as _update_step_xla while saving (showing 1 of 1). These functions will not be directly callable after loading.\u001b[32m [repeated 4x across cluster]\u001b[0m\n",
      "\u001b[2m\u001b[36m(train_nn pid=40020)\u001b[0m WARNING:absl:Found untraced functions such as _update_step_xla while saving (showing 1 of 1). These functions will not be directly callable after loading.\u001b[32m [repeated 4x across cluster]\u001b[0m\n",
      "\u001b[2m\u001b[36m(train_nn pid=40020)\u001b[0m WARNING:absl:Found untraced functions such as _update_step_xla while saving (showing 1 of 1). These functions will not be directly callable after loading.\u001b[32m [repeated 4x across cluster]\u001b[0m\n",
      "\u001b[2m\u001b[36m(train_nn pid=40020)\u001b[0m WARNING:absl:Found untraced functions such as _update_step_xla while saving (showing 1 of 1). These functions will not be directly callable after loading.\u001b[32m [repeated 4x across cluster]\u001b[0m\n",
      "\u001b[2m\u001b[36m(train_nn pid=40020)\u001b[0m WARNING:absl:Found untraced functions such as _update_step_xla while saving (showing 1 of 1). These functions will not be directly callable after loading.\u001b[32m [repeated 4x across cluster]\u001b[0m\n",
      "\u001b[2m\u001b[36m(train_nn pid=40020)\u001b[0m WARNING:absl:Found untraced functions such as _update_step_xla while saving (showing 1 of 1). These functions will not be directly callable after loading.\u001b[32m [repeated 4x across cluster]\u001b[0m\n",
      "2023-12-15 09:51:12,014\tINFO tune.py:945 -- Total run time: 233.22 seconds (233.18 seconds for the tuning loop).\n"
     ]
    },
    {
     "name": "stdout",
     "output_type": "stream",
     "text": [
      "Ray tune training of: linreg...\n"
     ]
    },
    {
     "data": {
      "text/html": [
       "<div class=\"tuneStatus\">\n",
       "  <div style=\"display: flex;flex-direction: row\">\n",
       "    <div style=\"display: flex;flex-direction: column;\">\n",
       "      <h3>Tune Status</h3>\n",
       "      <table>\n",
       "<tbody>\n",
       "<tr><td>Current time:</td><td>2023-12-15 09:52:31</td></tr>\n",
       "<tr><td>Running for: </td><td>00:01:18.94        </td></tr>\n",
       "<tr><td>Memory:      </td><td>9.4/16.0 GiB       </td></tr>\n",
       "</tbody>\n",
       "</table>\n",
       "    </div>\n",
       "    <div class=\"vDivider\"></div>\n",
       "    <div class=\"systemInfo\">\n",
       "      <h3>System Info</h3>\n",
       "      Using AsyncHyperBand: num_stopped=0<br>Bracket: Iter 80.000: None | Iter 20.000: None | Iter 5.000: None<br>Logical resource usage: 0/8 CPUs, 0/0 GPUs\n",
       "    </div>\n",
       "    \n",
       "  </div>\n",
       "  <div class=\"hDivider\"></div>\n",
       "  <div class=\"trialStatus\">\n",
       "    <h3>Trial Status</h3>\n",
       "    <table>\n",
       "<thead>\n",
       "<tr><th>Trial name              </th><th>status    </th><th>loc            </th><th style=\"text-align: right;\">  data_alr_denom_idx</th><th>data_transform  </th><th>fit_intercept  </th><th style=\"text-align: right;\">  iter</th><th style=\"text-align: right;\">  total time (s)</th><th style=\"text-align: right;\">  rmse_val</th><th style=\"text-align: right;\">  rmse_train</th></tr>\n",
       "</thead>\n",
       "<tbody>\n",
       "<tr><td>train_linreg_19005_00000</td><td>TERMINATED</td><td>127.0.0.1:40164</td><td style=\"text-align: right;\">                  11</td><td>                </td><td>True           </td><td style=\"text-align: right;\">     1</td><td style=\"text-align: right;\">       0.0224981</td><td style=\"text-align: right;\">   293.061</td><td style=\"text-align: right;\">     157.232</td></tr>\n",
       "<tr><td>train_linreg_19005_00001</td><td>TERMINATED</td><td>127.0.0.1:40183</td><td style=\"text-align: right;\">                   6</td><td>clr             </td><td>True           </td><td style=\"text-align: right;\">     1</td><td style=\"text-align: right;\">       0.0149512</td><td style=\"text-align: right;\">   313.087</td><td style=\"text-align: right;\">     168.608</td></tr>\n",
       "<tr><td>train_linreg_19005_00002</td><td>TERMINATED</td><td>127.0.0.1:40193</td><td style=\"text-align: right;\">                  17</td><td>ilr             </td><td>True           </td><td style=\"text-align: right;\">     1</td><td style=\"text-align: right;\">       0.015094 </td><td style=\"text-align: right;\">   312.898</td><td style=\"text-align: right;\">     168.64 </td></tr>\n",
       "<tr><td>train_linreg_19005_00003</td><td>TERMINATED</td><td>127.0.0.1:40204</td><td style=\"text-align: right;\">                   2</td><td>alr             </td><td>True           </td><td style=\"text-align: right;\">     1</td><td style=\"text-align: right;\">       0.0169828</td><td style=\"text-align: right;\">   400.747</td><td style=\"text-align: right;\">     144.595</td></tr>\n",
       "<tr><td>train_linreg_19005_00004</td><td>TERMINATED</td><td>127.0.0.1:40213</td><td style=\"text-align: right;\">                  13</td><td>                </td><td>True           </td><td style=\"text-align: right;\">     1</td><td style=\"text-align: right;\">       0.0143459</td><td style=\"text-align: right;\">   293.061</td><td style=\"text-align: right;\">     157.232</td></tr>\n",
       "<tr><td>train_linreg_19005_00005</td><td>TERMINATED</td><td>127.0.0.1:40224</td><td style=\"text-align: right;\">                   2</td><td>clr             </td><td>True           </td><td style=\"text-align: right;\">     1</td><td style=\"text-align: right;\">       0.0161088</td><td style=\"text-align: right;\">   313.087</td><td style=\"text-align: right;\">     168.608</td></tr>\n",
       "<tr><td>train_linreg_19005_00006</td><td>TERMINATED</td><td>127.0.0.1:40239</td><td style=\"text-align: right;\">                  11</td><td>ilr             </td><td>True           </td><td style=\"text-align: right;\">     1</td><td style=\"text-align: right;\">       0.0167303</td><td style=\"text-align: right;\">   312.898</td><td style=\"text-align: right;\">     168.64 </td></tr>\n",
       "<tr><td>train_linreg_19005_00007</td><td>TERMINATED</td><td>127.0.0.1:40258</td><td style=\"text-align: right;\">                  10</td><td>alr             </td><td>True           </td><td style=\"text-align: right;\">     1</td><td style=\"text-align: right;\">       0.0143082</td><td style=\"text-align: right;\">   319.554</td><td style=\"text-align: right;\">     163.228</td></tr>\n",
       "</tbody>\n",
       "</table>\n",
       "  </div>\n",
       "</div>\n",
       "<style>\n",
       ".tuneStatus {\n",
       "  color: var(--jp-ui-font-color1);\n",
       "}\n",
       ".tuneStatus .systemInfo {\n",
       "  display: flex;\n",
       "  flex-direction: column;\n",
       "}\n",
       ".tuneStatus td {\n",
       "  white-space: nowrap;\n",
       "}\n",
       ".tuneStatus .trialStatus {\n",
       "  display: flex;\n",
       "  flex-direction: column;\n",
       "}\n",
       ".tuneStatus h3 {\n",
       "  font-weight: bold;\n",
       "}\n",
       ".tuneStatus .hDivider {\n",
       "  border-bottom-width: var(--jp-border-width);\n",
       "  border-bottom-color: var(--jp-border-color0);\n",
       "  border-bottom-style: solid;\n",
       "}\n",
       ".tuneStatus .vDivider {\n",
       "  border-left-width: var(--jp-border-width);\n",
       "  border-left-color: var(--jp-border-color0);\n",
       "  border-left-style: solid;\n",
       "  margin: 0.5em 1em 0.5em 1em;\n",
       "}\n",
       "</style>\n"
      ],
      "text/plain": [
       "<IPython.core.display.HTML object>"
      ]
     },
     "metadata": {},
     "output_type": "display_data"
    },
    {
     "name": "stdout",
     "output_type": "stream",
     "text": [
      "\u001b[2m\u001b[36m(train_linreg pid=40164)\u001b[0m Train: (48, 22), Test: (27, 22)\n",
      "\u001b[2m\u001b[36m(train_linreg pid=40183)\u001b[0m Train: (48, 22), Test: (27, 22)\n",
      "\u001b[2m\u001b[36m(train_linreg pid=40193)\u001b[0m Train: (48, 21), Test: (27, 21)\n",
      "\u001b[2m\u001b[36m(train_linreg pid=40204)\u001b[0m Train: (48, 21), Test: (27, 21)\n",
      "\u001b[2m\u001b[36m(train_linreg pid=40213)\u001b[0m Train: (48, 22), Test: (27, 22)\n",
      "\u001b[2m\u001b[36m(train_linreg pid=40224)\u001b[0m Train: (48, 22), Test: (27, 22)\n",
      "\u001b[2m\u001b[36m(train_linreg pid=40239)\u001b[0m Train: (48, 21), Test: (27, 21)\n",
      "\u001b[2m\u001b[36m(train_linreg pid=40258)\u001b[0m Train: (48, 21), Test: (27, 21)\n"
     ]
    },
    {
     "data": {
      "text/html": [
       "<div class=\"trialProgress\">\n",
       "  <h3>Trial Progress</h3>\n",
       "  <table>\n",
       "<thead>\n",
       "<tr><th>Trial name              </th><th>date               </th><th>done  </th><th>experiment_tag                                                </th><th>hostname   </th><th style=\"text-align: right;\">  iterations_since_restore</th><th>model_path                                                                                                                                                                                              </th><th>node_ip  </th><th style=\"text-align: right;\">  pid</th><th style=\"text-align: right;\">  rmse_train</th><th style=\"text-align: right;\">  rmse_val</th><th style=\"text-align: right;\">  time_since_restore</th><th style=\"text-align: right;\">  time_this_iter_s</th><th style=\"text-align: right;\">  time_total_s</th><th style=\"text-align: right;\">  timestamp</th><th style=\"text-align: right;\">  training_iteration</th><th style=\"text-align: right;\">   trial_id</th></tr>\n",
       "</thead>\n",
       "<tbody>\n",
       "<tr><td>train_linreg_19005_00000</td><td>2023-12-15_09-51-23</td><td>True  </td><td>0_data_alr_denom_idx=11,data_transform=None,fit_intercept=True</td><td>fsbt142-114</td><td style=\"text-align: right;\">                         1</td><td>/Users/anjaadamov/Documents/projects/14_LM1/q2-time/experiments/ray_results/linreg/train_linreg_19005_00000_0_data_alr_denom_idx=11,data_transform=None,fit_intercept=True_2023-12-15_09-51-13/model.pkl</td><td>127.0.0.1</td><td style=\"text-align: right;\">40164</td><td style=\"text-align: right;\">     157.232</td><td style=\"text-align: right;\">   293.061</td><td style=\"text-align: right;\">           0.0224981</td><td style=\"text-align: right;\">         0.0224981</td><td style=\"text-align: right;\">     0.0224981</td><td style=\"text-align: right;\"> 1702630283</td><td style=\"text-align: right;\">                   1</td><td style=\"text-align: right;\">19005_00000</td></tr>\n",
       "<tr><td>train_linreg_19005_00001</td><td>2023-12-15_09-51-32</td><td>True  </td><td>1_data_alr_denom_idx=6,data_transform=clr,fit_intercept=True  </td><td>fsbt142-114</td><td style=\"text-align: right;\">                         1</td><td>/Users/anjaadamov/Documents/projects/14_LM1/q2-time/experiments/ray_results/linreg/train_linreg_19005_00001_1_data_alr_denom_idx=6,data_transform=clr,fit_intercept=True_2023-12-15_09-51-23/model.pkl  </td><td>127.0.0.1</td><td style=\"text-align: right;\">40183</td><td style=\"text-align: right;\">     168.608</td><td style=\"text-align: right;\">   313.087</td><td style=\"text-align: right;\">           0.0149512</td><td style=\"text-align: right;\">         0.0149512</td><td style=\"text-align: right;\">     0.0149512</td><td style=\"text-align: right;\"> 1702630292</td><td style=\"text-align: right;\">                   1</td><td style=\"text-align: right;\">19005_00001</td></tr>\n",
       "<tr><td>train_linreg_19005_00002</td><td>2023-12-15_09-51-43</td><td>True  </td><td>2_data_alr_denom_idx=17,data_transform=ilr,fit_intercept=True </td><td>fsbt142-114</td><td style=\"text-align: right;\">                         1</td><td>/Users/anjaadamov/Documents/projects/14_LM1/q2-time/experiments/ray_results/linreg/train_linreg_19005_00002_2_data_alr_denom_idx=17,data_transform=ilr,fit_intercept=True_2023-12-15_09-51-32/model.pkl </td><td>127.0.0.1</td><td style=\"text-align: right;\">40193</td><td style=\"text-align: right;\">     168.64 </td><td style=\"text-align: right;\">   312.898</td><td style=\"text-align: right;\">           0.015094 </td><td style=\"text-align: right;\">         0.015094 </td><td style=\"text-align: right;\">     0.015094 </td><td style=\"text-align: right;\"> 1702630303</td><td style=\"text-align: right;\">                   1</td><td style=\"text-align: right;\">19005_00002</td></tr>\n",
       "<tr><td>train_linreg_19005_00003</td><td>2023-12-15_09-51-53</td><td>True  </td><td>3_data_alr_denom_idx=2,data_transform=alr,fit_intercept=True  </td><td>fsbt142-114</td><td style=\"text-align: right;\">                         1</td><td>/Users/anjaadamov/Documents/projects/14_LM1/q2-time/experiments/ray_results/linreg/train_linreg_19005_00003_3_data_alr_denom_idx=2,data_transform=alr,fit_intercept=True_2023-12-15_09-51-43/model.pkl  </td><td>127.0.0.1</td><td style=\"text-align: right;\">40204</td><td style=\"text-align: right;\">     144.595</td><td style=\"text-align: right;\">   400.747</td><td style=\"text-align: right;\">           0.0169828</td><td style=\"text-align: right;\">         0.0169828</td><td style=\"text-align: right;\">     0.0169828</td><td style=\"text-align: right;\"> 1702630313</td><td style=\"text-align: right;\">                   1</td><td style=\"text-align: right;\">19005_00003</td></tr>\n",
       "<tr><td>train_linreg_19005_00004</td><td>2023-12-15_09-52-02</td><td>True  </td><td>4_data_alr_denom_idx=13,data_transform=None,fit_intercept=True</td><td>fsbt142-114</td><td style=\"text-align: right;\">                         1</td><td>/Users/anjaadamov/Documents/projects/14_LM1/q2-time/experiments/ray_results/linreg/train_linreg_19005_00004_4_data_alr_denom_idx=13,data_transform=None,fit_intercept=True_2023-12-15_09-51-53/model.pkl</td><td>127.0.0.1</td><td style=\"text-align: right;\">40213</td><td style=\"text-align: right;\">     157.232</td><td style=\"text-align: right;\">   293.061</td><td style=\"text-align: right;\">           0.0143459</td><td style=\"text-align: right;\">         0.0143459</td><td style=\"text-align: right;\">     0.0143459</td><td style=\"text-align: right;\"> 1702630322</td><td style=\"text-align: right;\">                   1</td><td style=\"text-align: right;\">19005_00004</td></tr>\n",
       "<tr><td>train_linreg_19005_00005</td><td>2023-12-15_09-52-11</td><td>True  </td><td>5_data_alr_denom_idx=2,data_transform=clr,fit_intercept=True  </td><td>fsbt142-114</td><td style=\"text-align: right;\">                         1</td><td>/Users/anjaadamov/Documents/projects/14_LM1/q2-time/experiments/ray_results/linreg/train_linreg_19005_00005_5_data_alr_denom_idx=2,data_transform=clr,fit_intercept=True_2023-12-15_09-52-02/model.pkl  </td><td>127.0.0.1</td><td style=\"text-align: right;\">40224</td><td style=\"text-align: right;\">     168.608</td><td style=\"text-align: right;\">   313.087</td><td style=\"text-align: right;\">           0.0161088</td><td style=\"text-align: right;\">         0.0161088</td><td style=\"text-align: right;\">     0.0161088</td><td style=\"text-align: right;\"> 1702630331</td><td style=\"text-align: right;\">                   1</td><td style=\"text-align: right;\">19005_00005</td></tr>\n",
       "<tr><td>train_linreg_19005_00006</td><td>2023-12-15_09-52-21</td><td>True  </td><td>6_data_alr_denom_idx=11,data_transform=ilr,fit_intercept=True </td><td>fsbt142-114</td><td style=\"text-align: right;\">                         1</td><td>/Users/anjaadamov/Documents/projects/14_LM1/q2-time/experiments/ray_results/linreg/train_linreg_19005_00006_6_data_alr_denom_idx=11,data_transform=ilr,fit_intercept=True_2023-12-15_09-52-11/model.pkl </td><td>127.0.0.1</td><td style=\"text-align: right;\">40239</td><td style=\"text-align: right;\">     168.64 </td><td style=\"text-align: right;\">   312.898</td><td style=\"text-align: right;\">           0.0167303</td><td style=\"text-align: right;\">         0.0167303</td><td style=\"text-align: right;\">     0.0167303</td><td style=\"text-align: right;\"> 1702630341</td><td style=\"text-align: right;\">                   1</td><td style=\"text-align: right;\">19005_00006</td></tr>\n",
       "<tr><td>train_linreg_19005_00007</td><td>2023-12-15_09-52-30</td><td>True  </td><td>7_data_alr_denom_idx=10,data_transform=alr,fit_intercept=True </td><td>fsbt142-114</td><td style=\"text-align: right;\">                         1</td><td>/Users/anjaadamov/Documents/projects/14_LM1/q2-time/experiments/ray_results/linreg/train_linreg_19005_00007_7_data_alr_denom_idx=10,data_transform=alr,fit_intercept=True_2023-12-15_09-52-21/model.pkl </td><td>127.0.0.1</td><td style=\"text-align: right;\">40258</td><td style=\"text-align: right;\">     163.228</td><td style=\"text-align: right;\">   319.554</td><td style=\"text-align: right;\">           0.0143082</td><td style=\"text-align: right;\">         0.0143082</td><td style=\"text-align: right;\">     0.0143082</td><td style=\"text-align: right;\"> 1702630350</td><td style=\"text-align: right;\">                   1</td><td style=\"text-align: right;\">19005_00007</td></tr>\n",
       "</tbody>\n",
       "</table>\n",
       "</div>\n",
       "<style>\n",
       ".trialProgress {\n",
       "  display: flex;\n",
       "  flex-direction: column;\n",
       "  color: var(--jp-ui-font-color1);\n",
       "}\n",
       ".trialProgress h3 {\n",
       "  font-weight: bold;\n",
       "}\n",
       ".trialProgress td {\n",
       "  white-space: nowrap;\n",
       "}\n",
       "</style>\n"
      ],
      "text/plain": [
       "<IPython.core.display.HTML object>"
      ]
     },
     "metadata": {},
     "output_type": "display_data"
    },
    {
     "name": "stderr",
     "output_type": "stream",
     "text": [
      "2023-12-15 09:52:31,017\tINFO tune.py:945 -- Total run time: 78.96 seconds (78.88 seconds for the tuning loop).\n"
     ]
    },
    {
     "name": "stdout",
     "output_type": "stream",
     "text": [
      "Ray tune training of: rf...\n"
     ]
    },
    {
     "data": {
      "text/html": [
       "<div class=\"tuneStatus\">\n",
       "  <div style=\"display: flex;flex-direction: row\">\n",
       "    <div style=\"display: flex;flex-direction: column;\">\n",
       "      <h3>Tune Status</h3>\n",
       "      <table>\n",
       "<tbody>\n",
       "<tr><td>Current time:</td><td>2023-12-15 09:53:32</td></tr>\n",
       "<tr><td>Running for: </td><td>00:01:01.14        </td></tr>\n",
       "<tr><td>Memory:      </td><td>9.4/16.0 GiB       </td></tr>\n",
       "</tbody>\n",
       "</table>\n",
       "    </div>\n",
       "    <div class=\"vDivider\"></div>\n",
       "    <div class=\"systemInfo\">\n",
       "      <h3>System Info</h3>\n",
       "      Using AsyncHyperBand: num_stopped=0<br>Bracket: Iter 80.000: None | Iter 20.000: None | Iter 5.000: None<br>Logical resource usage: 0/8 CPUs, 0/0 GPUs\n",
       "    </div>\n",
       "    \n",
       "  </div>\n",
       "  <div class=\"hDivider\"></div>\n",
       "  <div class=\"trialStatus\">\n",
       "    <h3>Trial Status</h3>\n",
       "    <table>\n",
       "<thead>\n",
       "<tr><th>Trial name          </th><th>status    </th><th>loc            </th><th>bootstrap  </th><th style=\"text-align: right;\">  data_alr_denom_idx</th><th>data_transform  </th><th style=\"text-align: right;\">  max_depth</th><th>max_features  </th><th style=\"text-align: right;\">       min_impurity_decreas\n",
       "e</th><th style=\"text-align: right;\">  min_samples_leaf</th><th style=\"text-align: right;\">  min_samples_split</th><th style=\"text-align: right;\">  n_estimators</th><th style=\"text-align: right;\">  iter</th><th style=\"text-align: right;\">  total time (s)</th><th style=\"text-align: right;\">  rmse_val</th><th style=\"text-align: right;\">  rmse_train</th></tr>\n",
       "</thead>\n",
       "<tbody>\n",
       "<tr><td>train_rf_4817a_00000</td><td>TERMINATED</td><td>127.0.0.1:40295</td><td>True       </td><td style=\"text-align: right;\">                  11</td><td>                </td><td style=\"text-align: right;\">          8</td><td>log2          </td><td style=\"text-align: right;\">0.0001</td><td style=\"text-align: right;\">            0.0001</td><td style=\"text-align: right;\">             0.001 </td><td style=\"text-align: right;\">           767</td><td style=\"text-align: right;\">     1</td><td style=\"text-align: right;\">        1.46819 </td><td style=\"text-align: right;\">   261.983</td><td style=\"text-align: right;\">     82.0075</td></tr>\n",
       "<tr><td>train_rf_4817a_00001</td><td>TERMINATED</td><td>127.0.0.1:40305</td><td>False      </td><td style=\"text-align: right;\">                  17</td><td>clr             </td><td style=\"text-align: right;\">         27</td><td>log2          </td><td style=\"text-align: right;\">0.0001</td><td style=\"text-align: right;\">            0.001 </td><td style=\"text-align: right;\">             0.01  </td><td style=\"text-align: right;\">           753</td><td style=\"text-align: right;\">     1</td><td style=\"text-align: right;\">        1.3568  </td><td style=\"text-align: right;\">   277.273</td><td style=\"text-align: right;\">     76.2636</td></tr>\n",
       "<tr><td>train_rf_4817a_00002</td><td>TERMINATED</td><td>127.0.0.1:40315</td><td>True       </td><td style=\"text-align: right;\">                   8</td><td>ilr             </td><td style=\"text-align: right;\">         15</td><td>0.1           </td><td style=\"text-align: right;\">0.01  </td><td style=\"text-align: right;\">            0.0001</td><td style=\"text-align: right;\">             0.01  </td><td style=\"text-align: right;\">           304</td><td style=\"text-align: right;\">     1</td><td style=\"text-align: right;\">        0.513516</td><td style=\"text-align: right;\">   266.677</td><td style=\"text-align: right;\">     81.9594</td></tr>\n",
       "<tr><td>train_rf_4817a_00003</td><td>TERMINATED</td><td>127.0.0.1:40327</td><td>True       </td><td style=\"text-align: right;\">                   3</td><td>alr             </td><td style=\"text-align: right;\">         25</td><td>log2          </td><td style=\"text-align: right;\">0.01  </td><td style=\"text-align: right;\">            1e-05 </td><td style=\"text-align: right;\">             0.1   </td><td style=\"text-align: right;\">           517</td><td style=\"text-align: right;\">     1</td><td style=\"text-align: right;\">        0.947438</td><td style=\"text-align: right;\">   249.476</td><td style=\"text-align: right;\">     81.3416</td></tr>\n",
       "<tr><td>train_rf_4817a_00004</td><td>TERMINATED</td><td>127.0.0.1:40336</td><td>False      </td><td style=\"text-align: right;\">                  16</td><td>                </td><td style=\"text-align: right;\">         16</td><td>0.1           </td><td style=\"text-align: right;\">0.0001</td><td style=\"text-align: right;\">            0.0001</td><td style=\"text-align: right;\">             0.1   </td><td style=\"text-align: right;\">           772</td><td style=\"text-align: right;\">     1</td><td style=\"text-align: right;\">        1.26063 </td><td style=\"text-align: right;\">   262.248</td><td style=\"text-align: right;\">     79.716 </td></tr>\n",
       "<tr><td>train_rf_4817a_00005</td><td>TERMINATED</td><td>127.0.0.1:40347</td><td>False      </td><td style=\"text-align: right;\">                   1</td><td>clr             </td><td style=\"text-align: right;\">          6</td><td>sqrt          </td><td style=\"text-align: right;\">0.0001</td><td style=\"text-align: right;\">            1e-05 </td><td style=\"text-align: right;\">             0.0001</td><td style=\"text-align: right;\">           924</td><td style=\"text-align: right;\">     1</td><td style=\"text-align: right;\">        1.63312 </td><td style=\"text-align: right;\">   276.643</td><td style=\"text-align: right;\">     76.6754</td></tr>\n",
       "<tr><td>train_rf_4817a_00006</td><td>TERMINATED</td><td>127.0.0.1:40356</td><td>False      </td><td style=\"text-align: right;\">                  11</td><td>ilr             </td><td style=\"text-align: right;\">         21</td><td>0.1           </td><td style=\"text-align: right;\">0.001 </td><td style=\"text-align: right;\">            0.0001</td><td style=\"text-align: right;\">             0.0001</td><td style=\"text-align: right;\">           345</td><td style=\"text-align: right;\">     1</td><td style=\"text-align: right;\">        0.5757  </td><td style=\"text-align: right;\">   267.06 </td><td style=\"text-align: right;\">     82.9119</td></tr>\n",
       "<tr><td>train_rf_4817a_00007</td><td>TERMINATED</td><td>127.0.0.1:40375</td><td>False      </td><td style=\"text-align: right;\">                  15</td><td>alr             </td><td style=\"text-align: right;\">          2</td><td>0.8           </td><td style=\"text-align: right;\">0.001 </td><td style=\"text-align: right;\">            0.001 </td><td style=\"text-align: right;\">             0.01  </td><td style=\"text-align: right;\">           160</td><td style=\"text-align: right;\">     1</td><td style=\"text-align: right;\">        0.578608</td><td style=\"text-align: right;\">   266.989</td><td style=\"text-align: right;\">    160.441 </td></tr>\n",
       "</tbody>\n",
       "</table>\n",
       "  </div>\n",
       "</div>\n",
       "<style>\n",
       ".tuneStatus {\n",
       "  color: var(--jp-ui-font-color1);\n",
       "}\n",
       ".tuneStatus .systemInfo {\n",
       "  display: flex;\n",
       "  flex-direction: column;\n",
       "}\n",
       ".tuneStatus td {\n",
       "  white-space: nowrap;\n",
       "}\n",
       ".tuneStatus .trialStatus {\n",
       "  display: flex;\n",
       "  flex-direction: column;\n",
       "}\n",
       ".tuneStatus h3 {\n",
       "  font-weight: bold;\n",
       "}\n",
       ".tuneStatus .hDivider {\n",
       "  border-bottom-width: var(--jp-border-width);\n",
       "  border-bottom-color: var(--jp-border-color0);\n",
       "  border-bottom-style: solid;\n",
       "}\n",
       ".tuneStatus .vDivider {\n",
       "  border-left-width: var(--jp-border-width);\n",
       "  border-left-color: var(--jp-border-color0);\n",
       "  border-left-style: solid;\n",
       "  margin: 0.5em 1em 0.5em 1em;\n",
       "}\n",
       "</style>\n"
      ],
      "text/plain": [
       "<IPython.core.display.HTML object>"
      ]
     },
     "metadata": {},
     "output_type": "display_data"
    },
    {
     "name": "stdout",
     "output_type": "stream",
     "text": [
      "\u001b[2m\u001b[36m(train_rf pid=40295)\u001b[0m Train: (48, 22), Test: (27, 22)\n",
      "\u001b[2m\u001b[36m(train_rf pid=40305)\u001b[0m Train: (48, 22), Test: (27, 22)\n",
      "\u001b[2m\u001b[36m(train_rf pid=40315)\u001b[0m Train: (48, 21), Test: (27, 21)\n",
      "\u001b[2m\u001b[36m(train_rf pid=40327)\u001b[0m Train: (48, 21), Test: (27, 21)\n",
      "\u001b[2m\u001b[36m(train_rf pid=40336)\u001b[0m Train: (48, 22), Test: (27, 22)\n",
      "\u001b[2m\u001b[36m(train_rf pid=40347)\u001b[0m Train: (48, 22), Test: (27, 22)\n",
      "\u001b[2m\u001b[36m(train_rf pid=40356)\u001b[0m Train: (48, 21), Test: (27, 21)\n"
     ]
    },
    {
     "data": {
      "text/html": [
       "<div class=\"trialProgress\">\n",
       "  <h3>Trial Progress</h3>\n",
       "  <table>\n",
       "<thead>\n",
       "<tr><th>Trial name          </th><th>date               </th><th>done  </th><th>experiment_tag                                                                                                                                                                             </th><th>hostname   </th><th style=\"text-align: right;\">  iterations_since_restore</th><th>model_path                                                                                                                                                                                                                                     </th><th>node_ip  </th><th style=\"text-align: right;\">  pid</th><th style=\"text-align: right;\">  rmse_train</th><th style=\"text-align: right;\">  rmse_val</th><th style=\"text-align: right;\">  time_since_restore</th><th style=\"text-align: right;\">  time_this_iter_s</th><th style=\"text-align: right;\">  time_total_s</th><th style=\"text-align: right;\">  timestamp</th><th style=\"text-align: right;\">  training_iteration</th><th>trial_id   </th></tr>\n",
       "</thead>\n",
       "<tbody>\n",
       "<tr><td>train_rf_4817a_00000</td><td>2023-12-15_09-52-42</td><td>True  </td><td>0_bootstrap=True,data_alr_denom_idx=11,data_transform=None,max_depth=8,max_features=log2,min_impurity_decrease=0.0001,min_samples_leaf=0.0001,min_samples_split=0.0010,n_estimators=767    </td><td>fsbt142-114</td><td style=\"text-align: right;\">                         1</td><td>/Users/anjaadamov/Documents/projects/14_LM1/q2-time/experiments/ray_results/rf/train_rf_4817a_00000_0_bootstrap=True,data_alr_denom_idx=11,data_transform=None,max_depth=8,max_features=log2,min_impurity_decreas_2023-12-15_09-52-32/model.pkl</td><td>127.0.0.1</td><td style=\"text-align: right;\">40295</td><td style=\"text-align: right;\">     82.0075</td><td style=\"text-align: right;\">   261.983</td><td style=\"text-align: right;\">            1.46819 </td><td style=\"text-align: right;\">          1.46819 </td><td style=\"text-align: right;\">      1.46819 </td><td style=\"text-align: right;\"> 1702630362</td><td style=\"text-align: right;\">                   1</td><td>4817a_00000</td></tr>\n",
       "<tr><td>train_rf_4817a_00001</td><td>2023-12-15_09-52-49</td><td>True  </td><td>1_bootstrap=False,data_alr_denom_idx=17,data_transform=clr,max_depth=27,max_features=log2,min_impurity_decrease=0.0001,min_samples_leaf=0.0010,min_samples_split=0.0100,n_estimators=753   </td><td>fsbt142-114</td><td style=\"text-align: right;\">                         1</td><td>/Users/anjaadamov/Documents/projects/14_LM1/q2-time/experiments/ray_results/rf/train_rf_4817a_00001_1_bootstrap=False,data_alr_denom_idx=17,data_transform=clr,max_depth=27,max_features=log2,min_impurity_decrea_2023-12-15_09-52-40/model.pkl</td><td>127.0.0.1</td><td style=\"text-align: right;\">40305</td><td style=\"text-align: right;\">     76.2636</td><td style=\"text-align: right;\">   277.273</td><td style=\"text-align: right;\">            1.3568  </td><td style=\"text-align: right;\">          1.3568  </td><td style=\"text-align: right;\">      1.3568  </td><td style=\"text-align: right;\"> 1702630369</td><td style=\"text-align: right;\">                   1</td><td>4817a_00001</td></tr>\n",
       "<tr><td>train_rf_4817a_00002</td><td>2023-12-15_09-52-55</td><td>True  </td><td>2_bootstrap=True,data_alr_denom_idx=8,data_transform=ilr,max_depth=15,max_features=0.1000,min_impurity_decrease=0.0100,min_samples_leaf=0.0001,min_samples_split=0.0100,n_estimators=304   </td><td>fsbt142-114</td><td style=\"text-align: right;\">                         1</td><td>/Users/anjaadamov/Documents/projects/14_LM1/q2-time/experiments/ray_results/rf/train_rf_4817a_00002_2_bootstrap=True,data_alr_denom_idx=8,data_transform=ilr,max_depth=15,max_features=0.1000,min_impurity_decrea_2023-12-15_09-52-48/model.pkl</td><td>127.0.0.1</td><td style=\"text-align: right;\">40315</td><td style=\"text-align: right;\">     81.9594</td><td style=\"text-align: right;\">   266.677</td><td style=\"text-align: right;\">            0.513516</td><td style=\"text-align: right;\">          0.513516</td><td style=\"text-align: right;\">      0.513516</td><td style=\"text-align: right;\"> 1702630375</td><td style=\"text-align: right;\">                   1</td><td>4817a_00002</td></tr>\n",
       "<tr><td>train_rf_4817a_00003</td><td>2023-12-15_09-53-03</td><td>True  </td><td>3_bootstrap=True,data_alr_denom_idx=3,data_transform=alr,max_depth=25,max_features=log2,min_impurity_decrease=0.0100,min_samples_leaf=0.0000,min_samples_split=0.1000,n_estimators=517     </td><td>fsbt142-114</td><td style=\"text-align: right;\">                         1</td><td>/Users/anjaadamov/Documents/projects/14_LM1/q2-time/experiments/ray_results/rf/train_rf_4817a_00003_3_bootstrap=True,data_alr_denom_idx=3,data_transform=alr,max_depth=25,max_features=log2,min_impurity_decrease_2023-12-15_09-52-55/model.pkl</td><td>127.0.0.1</td><td style=\"text-align: right;\">40327</td><td style=\"text-align: right;\">     81.3416</td><td style=\"text-align: right;\">   249.476</td><td style=\"text-align: right;\">            0.947438</td><td style=\"text-align: right;\">          0.947438</td><td style=\"text-align: right;\">      0.947438</td><td style=\"text-align: right;\"> 1702630383</td><td style=\"text-align: right;\">                   1</td><td>4817a_00003</td></tr>\n",
       "<tr><td>train_rf_4817a_00004</td><td>2023-12-15_09-53-11</td><td>True  </td><td>4_bootstrap=False,data_alr_denom_idx=16,data_transform=None,max_depth=16,max_features=0.1000,min_impurity_decrease=0.0001,min_samples_leaf=0.0001,min_samples_split=0.1000,n_estimators=772</td><td>fsbt142-114</td><td style=\"text-align: right;\">                         1</td><td>/Users/anjaadamov/Documents/projects/14_LM1/q2-time/experiments/ray_results/rf/train_rf_4817a_00004_4_bootstrap=False,data_alr_denom_idx=16,data_transform=None,max_depth=16,max_features=0.1000,min_impurity_dec_2023-12-15_09-53-02/model.pkl</td><td>127.0.0.1</td><td style=\"text-align: right;\">40336</td><td style=\"text-align: right;\">     79.716 </td><td style=\"text-align: right;\">   262.248</td><td style=\"text-align: right;\">            1.26063 </td><td style=\"text-align: right;\">          1.26063 </td><td style=\"text-align: right;\">      1.26063 </td><td style=\"text-align: right;\"> 1702630391</td><td style=\"text-align: right;\">                   1</td><td>4817a_00004</td></tr>\n",
       "<tr><td>train_rf_4817a_00005</td><td>2023-12-15_09-53-18</td><td>True  </td><td>5_bootstrap=False,data_alr_denom_idx=1,data_transform=clr,max_depth=6,max_features=sqrt,min_impurity_decrease=0.0001,min_samples_leaf=0.0000,min_samples_split=0.0001,n_estimators=924     </td><td>fsbt142-114</td><td style=\"text-align: right;\">                         1</td><td>/Users/anjaadamov/Documents/projects/14_LM1/q2-time/experiments/ray_results/rf/train_rf_4817a_00005_5_bootstrap=False,data_alr_denom_idx=1,data_transform=clr,max_depth=6,max_features=sqrt,min_impurity_decrease_2023-12-15_09-53-09/model.pkl</td><td>127.0.0.1</td><td style=\"text-align: right;\">40347</td><td style=\"text-align: right;\">     76.6754</td><td style=\"text-align: right;\">   276.643</td><td style=\"text-align: right;\">            1.63312 </td><td style=\"text-align: right;\">          1.63312 </td><td style=\"text-align: right;\">      1.63312 </td><td style=\"text-align: right;\"> 1702630398</td><td style=\"text-align: right;\">                   1</td><td>4817a_00005</td></tr>\n",
       "<tr><td>train_rf_4817a_00006</td><td>2023-12-15_09-53-24</td><td>True  </td><td>6_bootstrap=False,data_alr_denom_idx=11,data_transform=ilr,max_depth=21,max_features=0.1000,min_impurity_decrease=0.0010,min_samples_leaf=0.0001,min_samples_split=0.0001,n_estimators=345 </td><td>fsbt142-114</td><td style=\"text-align: right;\">                         1</td><td>/Users/anjaadamov/Documents/projects/14_LM1/q2-time/experiments/ray_results/rf/train_rf_4817a_00006_6_bootstrap=False,data_alr_denom_idx=11,data_transform=ilr,max_depth=21,max_features=0.1000,min_impurity_decr_2023-12-15_09-53-17/model.pkl</td><td>127.0.0.1</td><td style=\"text-align: right;\">40356</td><td style=\"text-align: right;\">     82.9119</td><td style=\"text-align: right;\">   267.06 </td><td style=\"text-align: right;\">            0.5757  </td><td style=\"text-align: right;\">          0.5757  </td><td style=\"text-align: right;\">      0.5757  </td><td style=\"text-align: right;\"> 1702630404</td><td style=\"text-align: right;\">                   1</td><td>4817a_00006</td></tr>\n",
       "<tr><td>train_rf_4817a_00007</td><td>2023-12-15_09-53-32</td><td>True  </td><td>7_bootstrap=False,data_alr_denom_idx=15,data_transform=alr,max_depth=2,max_features=0.8000,min_impurity_decrease=0.0010,min_samples_leaf=0.0010,min_samples_split=0.0100,n_estimators=160  </td><td>fsbt142-114</td><td style=\"text-align: right;\">                         1</td><td>/Users/anjaadamov/Documents/projects/14_LM1/q2-time/experiments/ray_results/rf/train_rf_4817a_00007_7_bootstrap=False,data_alr_denom_idx=15,data_transform=alr,max_depth=2,max_features=0.8000,min_impurity_decre_2023-12-15_09-53-24/model.pkl</td><td>127.0.0.1</td><td style=\"text-align: right;\">40375</td><td style=\"text-align: right;\">    160.441 </td><td style=\"text-align: right;\">   266.989</td><td style=\"text-align: right;\">            0.578608</td><td style=\"text-align: right;\">          0.578608</td><td style=\"text-align: right;\">      0.578608</td><td style=\"text-align: right;\"> 1702630412</td><td style=\"text-align: right;\">                   1</td><td>4817a_00007</td></tr>\n",
       "</tbody>\n",
       "</table>\n",
       "</div>\n",
       "<style>\n",
       ".trialProgress {\n",
       "  display: flex;\n",
       "  flex-direction: column;\n",
       "  color: var(--jp-ui-font-color1);\n",
       "}\n",
       ".trialProgress h3 {\n",
       "  font-weight: bold;\n",
       "}\n",
       ".trialProgress td {\n",
       "  white-space: nowrap;\n",
       "}\n",
       "</style>\n"
      ],
      "text/plain": [
       "<IPython.core.display.HTML object>"
      ]
     },
     "metadata": {},
     "output_type": "display_data"
    },
    {
     "name": "stdout",
     "output_type": "stream",
     "text": [
      "\u001b[2m\u001b[36m(train_rf pid=40375)\u001b[0m Train: (48, 21), Test: (27, 21)\n"
     ]
    },
    {
     "name": "stderr",
     "output_type": "stream",
     "text": [
      "2023-12-15 09:53:32,247\tINFO tune.py:945 -- Total run time: 61.18 seconds (61.13 seconds for the tuning loop).\n"
     ]
    },
    {
     "data": {
      "text/plain": [
       "{'xgb': ResultGrid<[\n",
       "   Result(\n",
       "     metrics={'rmse_train': 357.7010169196166, 'rmse_val': 360.5866496963596, 'done': True, 'trial_id': '646e0_00000', 'experiment_tag': '0_data_alr_denom_idx=11,data_transform=None,eta=0.0500,max_depth=6,min_child_weight=2,subsample=0.8000'},\n",
       "     path='/Users/anjaadamov/Documents/projects/14_LM1/q2-time/experiments/ray_results/xgb/train_xgb_646e0_00000_0_data_alr_denom_idx=11,data_transform=None,eta=0.0500,max_depth=6,min_child_weight=2,subsample=0.8000_2023-12-15_09-46-13',\n",
       "     checkpoint=None\n",
       "   ),\n",
       "   Result(\n",
       "     metrics={'rmse_train': 420.1518683701937, 'rmse_val': 406.3351855442469, 'done': True, 'trial_id': '646e0_00001', 'experiment_tag': '1_data_alr_denom_idx=2,data_transform=clr,eta=0.0100,max_depth=6,min_child_weight=3,subsample=0.7000'},\n",
       "     path='/Users/anjaadamov/Documents/projects/14_LM1/q2-time/experiments/ray_results/xgb/train_xgb_646e0_00001_1_data_alr_denom_idx=2,data_transform=clr,eta=0.0100,max_depth=6,min_child_weight=3,subsample=0.7000_2023-12-15_09-46-21',\n",
       "     checkpoint=None\n",
       "   ),\n",
       "   Result(\n",
       "     metrics={'rmse_train': 289.46541250740376, 'rmse_val': 300.5913869480815, 'done': True, 'trial_id': '646e0_00002', 'experiment_tag': '2_data_alr_denom_idx=17,data_transform=ilr,eta=0.0500,max_depth=7,min_child_weight=1,subsample=0.8000'},\n",
       "     path='/Users/anjaadamov/Documents/projects/14_LM1/q2-time/experiments/ray_results/xgb/train_xgb_646e0_00002_2_data_alr_denom_idx=17,data_transform=ilr,eta=0.0500,max_depth=7,min_child_weight=1,subsample=0.8000_2023-12-15_09-46-29',\n",
       "     checkpoint=Checkpoint(local_path=/Users/anjaadamov/Documents/projects/14_LM1/q2-time/experiments/ray_results/xgb/train_xgb_646e0_00002_2_data_alr_denom_idx=17,data_transform=ilr,eta=0.0500,max_depth=7,min_child_weight=1,subsample=0.8000_2023-12-15_09-46-29/checkpoint_000005)\n",
       "   ),\n",
       "   Result(\n",
       "     metrics={'rmse_train': 419.2281402855636, 'rmse_val': 405.33480450601274, 'done': True, 'trial_id': '646e0_00003', 'experiment_tag': '3_data_alr_denom_idx=2,data_transform=alr,eta=0.0100,max_depth=6,min_child_weight=2,subsample=0.9000'},\n",
       "     path='/Users/anjaadamov/Documents/projects/14_LM1/q2-time/experiments/ray_results/xgb/train_xgb_646e0_00003_3_data_alr_denom_idx=2,data_transform=alr,eta=0.0100,max_depth=6,min_child_weight=2,subsample=0.9000_2023-12-15_09-46-37',\n",
       "     checkpoint=None\n",
       "   ),\n",
       "   Result(\n",
       "     metrics={'rmse_train': 418.7742960426308, 'rmse_val': 405.58942914441695, 'done': True, 'trial_id': '646e0_00004', 'experiment_tag': '4_data_alr_denom_idx=4,data_transform=None,eta=0.0100,max_depth=6,min_child_weight=1,subsample=0.9000'},\n",
       "     path='/Users/anjaadamov/Documents/projects/14_LM1/q2-time/experiments/ray_results/xgb/train_xgb_646e0_00004_4_data_alr_denom_idx=4,data_transform=None,eta=0.0100,max_depth=6,min_child_weight=1,subsample=0.9000_2023-12-15_09-46-45',\n",
       "     checkpoint=None\n",
       "   ),\n",
       "   Result(\n",
       "     metrics={'rmse_train': 64.71412079136852, 'rmse_val': 293.185401692324, 'done': True, 'trial_id': '646e0_00005', 'experiment_tag': '5_data_alr_denom_idx=18,data_transform=clr,eta=0.3000,max_depth=9,min_child_weight=2,subsample=0.7000'},\n",
       "     path='/Users/anjaadamov/Documents/projects/14_LM1/q2-time/experiments/ray_results/xgb/train_xgb_646e0_00005_5_data_alr_denom_idx=18,data_transform=clr,eta=0.3000,max_depth=9,min_child_weight=2,subsample=0.7000_2023-12-15_09-46-52',\n",
       "     checkpoint=Checkpoint(local_path=/Users/anjaadamov/Documents/projects/14_LM1/q2-time/experiments/ray_results/xgb/train_xgb_646e0_00005_5_data_alr_denom_idx=18,data_transform=clr,eta=0.3000,max_depth=9,min_child_weight=2,subsample=0.7000_2023-12-15_09-46-52/checkpoint_000005)\n",
       "   ),\n",
       "   Result(\n",
       "     metrics={'rmse_train': 419.77611308297577, 'rmse_val': 403.06671042597725, 'done': True, 'trial_id': '646e0_00006', 'experiment_tag': '6_data_alr_denom_idx=6,data_transform=ilr,eta=0.0100,max_depth=6,min_child_weight=1,subsample=0.8000'},\n",
       "     path='/Users/anjaadamov/Documents/projects/14_LM1/q2-time/experiments/ray_results/xgb/train_xgb_646e0_00006_6_data_alr_denom_idx=6,data_transform=ilr,eta=0.0100,max_depth=6,min_child_weight=1,subsample=0.8000_2023-12-15_09-47-00',\n",
       "     checkpoint=None\n",
       "   ),\n",
       "   Result(\n",
       "     metrics={'rmse_train': 355.14070256768446, 'rmse_val': 357.81101322226107, 'done': True, 'trial_id': '646e0_00007', 'experiment_tag': '7_data_alr_denom_idx=0,data_transform=alr,eta=0.0500,max_depth=9,min_child_weight=3,subsample=1.0000'},\n",
       "     path='/Users/anjaadamov/Documents/projects/14_LM1/q2-time/experiments/ray_results/xgb/train_xgb_646e0_00007_7_data_alr_denom_idx=0,data_transform=alr,eta=0.0500,max_depth=9,min_child_weight=3,subsample=1.0000_2023-12-15_09-47-08',\n",
       "     checkpoint=None\n",
       "   )\n",
       " ]>,\n",
       " 'nn': ResultGrid<[\n",
       "   Result(\n",
       "     metrics={'rmse_val': 410.7161865234375, 'rmse_train': 431.0098571777344, 'should_checkpoint': True, 'done': True, 'trial_id': '8df6b_00000', 'experiment_tag': '0_batch_size=64,data_alr_denom_idx=11,data_transform=None,learning_rate=0.0091,n_layers=6,n_units_l0=5,n_units_l1=6,n_units_l2=6,n_units_l3=15,n_units_l4=51,n_units_l5=25,n_units_l6=52,n_units_l7=55,n_units_l8=8'},\n",
       "     path='/Users/anjaadamov/Documents/projects/14_LM1/q2-time/experiments/ray_results/nn/train_nn_8df6b_00000_0_batch_size=64,data_alr_denom_idx=11,data_transform=None,learning_rate=0.0091,n_layers=6,n_units_l0=5,n_unit_2023-12-15_09-47-20',\n",
       "     checkpoint=Checkpoint(local_path=/Users/anjaadamov/Documents/projects/14_LM1/q2-time/experiments/ray_results/nn/train_nn_8df6b_00000_0_batch_size=64,data_alr_denom_idx=11,data_transform=None,learning_rate=0.0091,n_layers=6,n_units_l0=5,n_unit_2023-12-15_09-47-20/checkpoint_000004)\n",
       "   ),\n",
       "   Result(\n",
       "     metrics={'rmse_val': 326.3958435058594, 'rmse_train': 2.5072121620178223, 'should_checkpoint': True, 'done': True, 'trial_id': '8df6b_00001', 'experiment_tag': '1_batch_size=128,data_alr_denom_idx=13,data_transform=clr,learning_rate=0.0673,n_layers=3,n_units_l0=13,n_units_l1=3,n_units_l2=56,n_units_l3=43,n_units_l4=15,n_units_l5=16,n_units_l6=21,n_units_l7=28,n_units_l8=38'},\n",
       "     path='/Users/anjaadamov/Documents/projects/14_LM1/q2-time/experiments/ray_results/nn/train_nn_8df6b_00001_1_batch_size=128,data_alr_denom_idx=13,data_transform=clr,learning_rate=0.0673,n_layers=3,n_units_l0=13,n_uni_2023-12-15_09-47-28',\n",
       "     checkpoint=Checkpoint(local_path=/Users/anjaadamov/Documents/projects/14_LM1/q2-time/experiments/ray_results/nn/train_nn_8df6b_00001_1_batch_size=128,data_alr_denom_idx=13,data_transform=clr,learning_rate=0.0673,n_layers=3,n_units_l0=13,n_uni_2023-12-15_09-47-28/checkpoint_000099)\n",
       "   ),\n",
       "   Result(\n",
       "     metrics={'rmse_val': 419.47900390625, 'rmse_train': 437.2573547363281, 'should_checkpoint': True, 'done': True, 'trial_id': '8df6b_00002', 'experiment_tag': '2_batch_size=32,data_alr_denom_idx=4,data_transform=ilr,learning_rate=0.0000,n_layers=6,n_units_l0=21,n_units_l1=25,n_units_l2=53,n_units_l3=19,n_units_l4=23,n_units_l5=9,n_units_l6=62,n_units_l7=48,n_units_l8=12'},\n",
       "     path='/Users/anjaadamov/Documents/projects/14_LM1/q2-time/experiments/ray_results/nn/train_nn_8df6b_00002_2_batch_size=32,data_alr_denom_idx=4,data_transform=ilr,learning_rate=0.0000,n_layers=6,n_units_l0=21,n_units_2023-12-15_09-47-37',\n",
       "     checkpoint=Checkpoint(local_path=/Users/anjaadamov/Documents/projects/14_LM1/q2-time/experiments/ray_results/nn/train_nn_8df6b_00002_2_batch_size=32,data_alr_denom_idx=4,data_transform=ilr,learning_rate=0.0000,n_layers=6,n_units_l0=21,n_units_2023-12-15_09-47-37/checkpoint_000004)\n",
       "   ),\n",
       "   Result(\n",
       "     metrics={'rmse_val': 43265.03125, 'rmse_train': 32470.240234375, 'should_checkpoint': True, 'done': True, 'trial_id': '8df6b_00003', 'experiment_tag': '3_batch_size=64,data_alr_denom_idx=13,data_transform=alr,learning_rate=0.0002,n_layers=3,n_units_l0=62,n_units_l1=27,n_units_l2=18,n_units_l3=28,n_units_l4=57,n_units_l5=36,n_units_l6=59,n_units_l7=7,n_units_l8=35'},\n",
       "     path='/Users/anjaadamov/Documents/projects/14_LM1/q2-time/experiments/ray_results/nn/train_nn_8df6b_00003_3_batch_size=64,data_alr_denom_idx=13,data_transform=alr,learning_rate=0.0002,n_layers=3,n_units_l0=62,n_unit_2023-12-15_09-47-45',\n",
       "     checkpoint=Checkpoint(local_path=/Users/anjaadamov/Documents/projects/14_LM1/q2-time/experiments/ray_results/nn/train_nn_8df6b_00003_3_batch_size=64,data_alr_denom_idx=13,data_transform=alr,learning_rate=0.0002,n_layers=3,n_units_l0=62,n_unit_2023-12-15_09-47-45/checkpoint_000004)\n",
       "   ),\n",
       "   Result(\n",
       "     metrics={'rmse_val': 290.00128173828125, 'rmse_train': 4.61331844329834, 'should_checkpoint': True, 'done': True, 'trial_id': '8df6b_00004', 'experiment_tag': '4_batch_size=32,data_alr_denom_idx=4,data_transform=None,learning_rate=0.0117,n_layers=9,n_units_l0=35,n_units_l1=45,n_units_l2=9,n_units_l3=9,n_units_l4=48,n_units_l5=6,n_units_l6=5,n_units_l7=31,n_units_l8=13'},\n",
       "     path='/Users/anjaadamov/Documents/projects/14_LM1/q2-time/experiments/ray_results/nn/train_nn_8df6b_00004_4_batch_size=32,data_alr_denom_idx=4,data_transform=None,learning_rate=0.0117,n_layers=9,n_units_l0=35,n_unit_2023-12-15_09-47-53',\n",
       "     checkpoint=Checkpoint(local_path=/Users/anjaadamov/Documents/projects/14_LM1/q2-time/experiments/ray_results/nn/train_nn_8df6b_00004_4_batch_size=32,data_alr_denom_idx=4,data_transform=None,learning_rate=0.0117,n_layers=9,n_units_l0=35,n_unit_2023-12-15_09-47-53/checkpoint_000099)\n",
       "   ),\n",
       "   Result(\n",
       "     metrics={'rmse_val': 348.3788757324219, 'rmse_train': 178.6865692138672, 'should_checkpoint': True, 'done': True, 'trial_id': '8df6b_00005', 'experiment_tag': '5_batch_size=32,data_alr_denom_idx=3,data_transform=clr,learning_rate=0.0520,n_layers=3,n_units_l0=46,n_units_l1=48,n_units_l2=36,n_units_l3=23,n_units_l4=32,n_units_l5=44,n_units_l6=8,n_units_l7=54,n_units_l8=56'},\n",
       "     path='/Users/anjaadamov/Documents/projects/14_LM1/q2-time/experiments/ray_results/nn/train_nn_8df6b_00005_5_batch_size=32,data_alr_denom_idx=3,data_transform=clr,learning_rate=0.0520,n_layers=3,n_units_l0=46,n_units_2023-12-15_09-48-02',\n",
       "     checkpoint=Checkpoint(local_path=/Users/anjaadamov/Documents/projects/14_LM1/q2-time/experiments/ray_results/nn/train_nn_8df6b_00005_5_batch_size=32,data_alr_denom_idx=3,data_transform=clr,learning_rate=0.0520,n_layers=3,n_units_l0=46,n_units_2023-12-15_09-48-02/checkpoint_000004)\n",
       "   ),\n",
       "   Result(\n",
       "     metrics={'rmse_val': 388.7984924316406, 'rmse_train': 411.3362731933594, 'should_checkpoint': True, 'done': True, 'trial_id': '8df6b_00006', 'experiment_tag': '6_batch_size=64,data_alr_denom_idx=11,data_transform=ilr,learning_rate=0.0080,n_layers=3,n_units_l0=48,n_units_l1=57,n_units_l2=55,n_units_l3=58,n_units_l4=9,n_units_l5=53,n_units_l6=30,n_units_l7=54,n_units_l8=37'},\n",
       "     path='/Users/anjaadamov/Documents/projects/14_LM1/q2-time/experiments/ray_results/nn/train_nn_8df6b_00006_6_batch_size=64,data_alr_denom_idx=11,data_transform=ilr,learning_rate=0.0080,n_layers=3,n_units_l0=48,n_unit_2023-12-15_09-48-11',\n",
       "     checkpoint=Checkpoint(local_path=/Users/anjaadamov/Documents/projects/14_LM1/q2-time/experiments/ray_results/nn/train_nn_8df6b_00006_6_batch_size=64,data_alr_denom_idx=11,data_transform=ilr,learning_rate=0.0080,n_layers=3,n_units_l0=48,n_unit_2023-12-15_09-48-11/checkpoint_000004)\n",
       "   ),\n",
       "   Result(\n",
       "     metrics={'rmse_val': 11169.521484375, 'rmse_train': 9739.8271484375, 'should_checkpoint': True, 'done': True, 'trial_id': '8df6b_00007', 'experiment_tag': '7_batch_size=32,data_alr_denom_idx=6,data_transform=alr,learning_rate=0.0000,n_layers=6,n_units_l0=51,n_units_l1=40,n_units_l2=23,n_units_l3=19,n_units_l4=6,n_units_l5=48,n_units_l6=26,n_units_l7=60,n_units_l8=57'},\n",
       "     path='/Users/anjaadamov/Documents/projects/14_LM1/q2-time/experiments/ray_results/nn/train_nn_8df6b_00007_7_batch_size=32,data_alr_denom_idx=6,data_transform=alr,learning_rate=0.0000,n_layers=6,n_units_l0=51,n_units_2023-12-15_09-48-20',\n",
       "     checkpoint=Checkpoint(local_path=/Users/anjaadamov/Documents/projects/14_LM1/q2-time/experiments/ray_results/nn/train_nn_8df6b_00007_7_batch_size=32,data_alr_denom_idx=6,data_transform=alr,learning_rate=0.0000,n_layers=6,n_units_l0=51,n_units_2023-12-15_09-48-20/checkpoint_000004)\n",
       "   )\n",
       " ]>,\n",
       " 'linreg': ResultGrid<[\n",
       "   Result(\n",
       "     metrics={'rmse_val': 293.06110068985186, 'rmse_train': 157.23196402633226, 'model_path': '/Users/anjaadamov/Documents/projects/14_LM1/q2-time/experiments/ray_results/linreg/train_linreg_19005_00000_0_data_alr_denom_idx=11,data_transform=None,fit_intercept=True_2023-12-15_09-51-13/model.pkl', 'done': True, 'trial_id': '19005_00000', 'experiment_tag': '0_data_alr_denom_idx=11,data_transform=None,fit_intercept=True'},\n",
       "     path='/Users/anjaadamov/Documents/projects/14_LM1/q2-time/experiments/ray_results/linreg/train_linreg_19005_00000_0_data_alr_denom_idx=11,data_transform=None,fit_intercept=True_2023-12-15_09-51-13',\n",
       "     checkpoint=None\n",
       "   ),\n",
       "   Result(\n",
       "     metrics={'rmse_val': 313.0870977548528, 'rmse_train': 168.60772335553204, 'model_path': '/Users/anjaadamov/Documents/projects/14_LM1/q2-time/experiments/ray_results/linreg/train_linreg_19005_00001_1_data_alr_denom_idx=6,data_transform=clr,fit_intercept=True_2023-12-15_09-51-23/model.pkl', 'done': True, 'trial_id': '19005_00001', 'experiment_tag': '1_data_alr_denom_idx=6,data_transform=clr,fit_intercept=True'},\n",
       "     path='/Users/anjaadamov/Documents/projects/14_LM1/q2-time/experiments/ray_results/linreg/train_linreg_19005_00001_1_data_alr_denom_idx=6,data_transform=clr,fit_intercept=True_2023-12-15_09-51-23',\n",
       "     checkpoint=None\n",
       "   ),\n",
       "   Result(\n",
       "     metrics={'rmse_val': 312.8978682214166, 'rmse_train': 168.6398744613939, 'model_path': '/Users/anjaadamov/Documents/projects/14_LM1/q2-time/experiments/ray_results/linreg/train_linreg_19005_00002_2_data_alr_denom_idx=17,data_transform=ilr,fit_intercept=True_2023-12-15_09-51-32/model.pkl', 'done': True, 'trial_id': '19005_00002', 'experiment_tag': '2_data_alr_denom_idx=17,data_transform=ilr,fit_intercept=True'},\n",
       "     path='/Users/anjaadamov/Documents/projects/14_LM1/q2-time/experiments/ray_results/linreg/train_linreg_19005_00002_2_data_alr_denom_idx=17,data_transform=ilr,fit_intercept=True_2023-12-15_09-51-32',\n",
       "     checkpoint=None\n",
       "   ),\n",
       "   Result(\n",
       "     metrics={'rmse_val': 400.7473769025666, 'rmse_train': 144.59507678541374, 'model_path': '/Users/anjaadamov/Documents/projects/14_LM1/q2-time/experiments/ray_results/linreg/train_linreg_19005_00003_3_data_alr_denom_idx=2,data_transform=alr,fit_intercept=True_2023-12-15_09-51-43/model.pkl', 'done': True, 'trial_id': '19005_00003', 'experiment_tag': '3_data_alr_denom_idx=2,data_transform=alr,fit_intercept=True'},\n",
       "     path='/Users/anjaadamov/Documents/projects/14_LM1/q2-time/experiments/ray_results/linreg/train_linreg_19005_00003_3_data_alr_denom_idx=2,data_transform=alr,fit_intercept=True_2023-12-15_09-51-43',\n",
       "     checkpoint=None\n",
       "   ),\n",
       "   Result(\n",
       "     metrics={'rmse_val': 293.06110068985186, 'rmse_train': 157.23196402633226, 'model_path': '/Users/anjaadamov/Documents/projects/14_LM1/q2-time/experiments/ray_results/linreg/train_linreg_19005_00004_4_data_alr_denom_idx=13,data_transform=None,fit_intercept=True_2023-12-15_09-51-53/model.pkl', 'done': True, 'trial_id': '19005_00004', 'experiment_tag': '4_data_alr_denom_idx=13,data_transform=None,fit_intercept=True'},\n",
       "     path='/Users/anjaadamov/Documents/projects/14_LM1/q2-time/experiments/ray_results/linreg/train_linreg_19005_00004_4_data_alr_denom_idx=13,data_transform=None,fit_intercept=True_2023-12-15_09-51-53',\n",
       "     checkpoint=None\n",
       "   ),\n",
       "   Result(\n",
       "     metrics={'rmse_val': 313.0870977548528, 'rmse_train': 168.60772335553204, 'model_path': '/Users/anjaadamov/Documents/projects/14_LM1/q2-time/experiments/ray_results/linreg/train_linreg_19005_00005_5_data_alr_denom_idx=2,data_transform=clr,fit_intercept=True_2023-12-15_09-52-02/model.pkl', 'done': True, 'trial_id': '19005_00005', 'experiment_tag': '5_data_alr_denom_idx=2,data_transform=clr,fit_intercept=True'},\n",
       "     path='/Users/anjaadamov/Documents/projects/14_LM1/q2-time/experiments/ray_results/linreg/train_linreg_19005_00005_5_data_alr_denom_idx=2,data_transform=clr,fit_intercept=True_2023-12-15_09-52-02',\n",
       "     checkpoint=None\n",
       "   ),\n",
       "   Result(\n",
       "     metrics={'rmse_val': 312.8978682214166, 'rmse_train': 168.6398744613939, 'model_path': '/Users/anjaadamov/Documents/projects/14_LM1/q2-time/experiments/ray_results/linreg/train_linreg_19005_00006_6_data_alr_denom_idx=11,data_transform=ilr,fit_intercept=True_2023-12-15_09-52-11/model.pkl', 'done': True, 'trial_id': '19005_00006', 'experiment_tag': '6_data_alr_denom_idx=11,data_transform=ilr,fit_intercept=True'},\n",
       "     path='/Users/anjaadamov/Documents/projects/14_LM1/q2-time/experiments/ray_results/linreg/train_linreg_19005_00006_6_data_alr_denom_idx=11,data_transform=ilr,fit_intercept=True_2023-12-15_09-52-11',\n",
       "     checkpoint=None\n",
       "   ),\n",
       "   Result(\n",
       "     metrics={'rmse_val': 319.5537715894568, 'rmse_train': 163.2276449362591, 'model_path': '/Users/anjaadamov/Documents/projects/14_LM1/q2-time/experiments/ray_results/linreg/train_linreg_19005_00007_7_data_alr_denom_idx=10,data_transform=alr,fit_intercept=True_2023-12-15_09-52-21/model.pkl', 'done': True, 'trial_id': '19005_00007', 'experiment_tag': '7_data_alr_denom_idx=10,data_transform=alr,fit_intercept=True'},\n",
       "     path='/Users/anjaadamov/Documents/projects/14_LM1/q2-time/experiments/ray_results/linreg/train_linreg_19005_00007_7_data_alr_denom_idx=10,data_transform=alr,fit_intercept=True_2023-12-15_09-52-21',\n",
       "     checkpoint=None\n",
       "   )\n",
       " ]>,\n",
       " 'rf': ResultGrid<[\n",
       "   Result(\n",
       "     metrics={'rmse_val': 261.9828273240388, 'rmse_train': 82.00749436272237, 'model_path': '/Users/anjaadamov/Documents/projects/14_LM1/q2-time/experiments/ray_results/rf/train_rf_4817a_00000_0_bootstrap=True,data_alr_denom_idx=11,data_transform=None,max_depth=8,max_features=log2,min_impurity_decreas_2023-12-15_09-52-32/model.pkl', 'done': True, 'trial_id': '4817a_00000', 'experiment_tag': '0_bootstrap=True,data_alr_denom_idx=11,data_transform=None,max_depth=8,max_features=log2,min_impurity_decrease=0.0001,min_samples_leaf=0.0001,min_samples_split=0.0010,n_estimators=767'},\n",
       "     path='/Users/anjaadamov/Documents/projects/14_LM1/q2-time/experiments/ray_results/rf/train_rf_4817a_00000_0_bootstrap=True,data_alr_denom_idx=11,data_transform=None,max_depth=8,max_features=log2,min_impurity_decreas_2023-12-15_09-52-32',\n",
       "     checkpoint=None\n",
       "   ),\n",
       "   Result(\n",
       "     metrics={'rmse_val': 277.27283844916855, 'rmse_train': 76.26359609179532, 'model_path': '/Users/anjaadamov/Documents/projects/14_LM1/q2-time/experiments/ray_results/rf/train_rf_4817a_00001_1_bootstrap=False,data_alr_denom_idx=17,data_transform=clr,max_depth=27,max_features=log2,min_impurity_decrea_2023-12-15_09-52-40/model.pkl', 'done': True, 'trial_id': '4817a_00001', 'experiment_tag': '1_bootstrap=False,data_alr_denom_idx=17,data_transform=clr,max_depth=27,max_features=log2,min_impurity_decrease=0.0001,min_samples_leaf=0.0010,min_samples_split=0.0100,n_estimators=753'},\n",
       "     path='/Users/anjaadamov/Documents/projects/14_LM1/q2-time/experiments/ray_results/rf/train_rf_4817a_00001_1_bootstrap=False,data_alr_denom_idx=17,data_transform=clr,max_depth=27,max_features=log2,min_impurity_decrea_2023-12-15_09-52-40',\n",
       "     checkpoint=None\n",
       "   ),\n",
       "   Result(\n",
       "     metrics={'rmse_val': 266.67714381701035, 'rmse_train': 81.95940977015803, 'model_path': '/Users/anjaadamov/Documents/projects/14_LM1/q2-time/experiments/ray_results/rf/train_rf_4817a_00002_2_bootstrap=True,data_alr_denom_idx=8,data_transform=ilr,max_depth=15,max_features=0.1000,min_impurity_decrea_2023-12-15_09-52-48/model.pkl', 'done': True, 'trial_id': '4817a_00002', 'experiment_tag': '2_bootstrap=True,data_alr_denom_idx=8,data_transform=ilr,max_depth=15,max_features=0.1000,min_impurity_decrease=0.0100,min_samples_leaf=0.0001,min_samples_split=0.0100,n_estimators=304'},\n",
       "     path='/Users/anjaadamov/Documents/projects/14_LM1/q2-time/experiments/ray_results/rf/train_rf_4817a_00002_2_bootstrap=True,data_alr_denom_idx=8,data_transform=ilr,max_depth=15,max_features=0.1000,min_impurity_decrea_2023-12-15_09-52-48',\n",
       "     checkpoint=None\n",
       "   ),\n",
       "   Result(\n",
       "     metrics={'rmse_val': 249.47585327665024, 'rmse_train': 81.34158869754691, 'model_path': '/Users/anjaadamov/Documents/projects/14_LM1/q2-time/experiments/ray_results/rf/train_rf_4817a_00003_3_bootstrap=True,data_alr_denom_idx=3,data_transform=alr,max_depth=25,max_features=log2,min_impurity_decrease_2023-12-15_09-52-55/model.pkl', 'done': True, 'trial_id': '4817a_00003', 'experiment_tag': '3_bootstrap=True,data_alr_denom_idx=3,data_transform=alr,max_depth=25,max_features=log2,min_impurity_decrease=0.0100,min_samples_leaf=0.0000,min_samples_split=0.1000,n_estimators=517'},\n",
       "     path='/Users/anjaadamov/Documents/projects/14_LM1/q2-time/experiments/ray_results/rf/train_rf_4817a_00003_3_bootstrap=True,data_alr_denom_idx=3,data_transform=alr,max_depth=25,max_features=log2,min_impurity_decrease_2023-12-15_09-52-55',\n",
       "     checkpoint=None\n",
       "   ),\n",
       "   Result(\n",
       "     metrics={'rmse_val': 262.24822655597814, 'rmse_train': 79.71602940419133, 'model_path': '/Users/anjaadamov/Documents/projects/14_LM1/q2-time/experiments/ray_results/rf/train_rf_4817a_00004_4_bootstrap=False,data_alr_denom_idx=16,data_transform=None,max_depth=16,max_features=0.1000,min_impurity_dec_2023-12-15_09-53-02/model.pkl', 'done': True, 'trial_id': '4817a_00004', 'experiment_tag': '4_bootstrap=False,data_alr_denom_idx=16,data_transform=None,max_depth=16,max_features=0.1000,min_impurity_decrease=0.0001,min_samples_leaf=0.0001,min_samples_split=0.1000,n_estimators=772'},\n",
       "     path='/Users/anjaadamov/Documents/projects/14_LM1/q2-time/experiments/ray_results/rf/train_rf_4817a_00004_4_bootstrap=False,data_alr_denom_idx=16,data_transform=None,max_depth=16,max_features=0.1000,min_impurity_dec_2023-12-15_09-53-02',\n",
       "     checkpoint=None\n",
       "   ),\n",
       "   Result(\n",
       "     metrics={'rmse_val': 276.64330254971753, 'rmse_train': 76.67536425593023, 'model_path': '/Users/anjaadamov/Documents/projects/14_LM1/q2-time/experiments/ray_results/rf/train_rf_4817a_00005_5_bootstrap=False,data_alr_denom_idx=1,data_transform=clr,max_depth=6,max_features=sqrt,min_impurity_decrease_2023-12-15_09-53-09/model.pkl', 'done': True, 'trial_id': '4817a_00005', 'experiment_tag': '5_bootstrap=False,data_alr_denom_idx=1,data_transform=clr,max_depth=6,max_features=sqrt,min_impurity_decrease=0.0001,min_samples_leaf=0.0000,min_samples_split=0.0001,n_estimators=924'},\n",
       "     path='/Users/anjaadamov/Documents/projects/14_LM1/q2-time/experiments/ray_results/rf/train_rf_4817a_00005_5_bootstrap=False,data_alr_denom_idx=1,data_transform=clr,max_depth=6,max_features=sqrt,min_impurity_decrease_2023-12-15_09-53-09',\n",
       "     checkpoint=None\n",
       "   ),\n",
       "   Result(\n",
       "     metrics={'rmse_val': 267.0602986128981, 'rmse_train': 82.91186136740947, 'model_path': '/Users/anjaadamov/Documents/projects/14_LM1/q2-time/experiments/ray_results/rf/train_rf_4817a_00006_6_bootstrap=False,data_alr_denom_idx=11,data_transform=ilr,max_depth=21,max_features=0.1000,min_impurity_decr_2023-12-15_09-53-17/model.pkl', 'done': True, 'trial_id': '4817a_00006', 'experiment_tag': '6_bootstrap=False,data_alr_denom_idx=11,data_transform=ilr,max_depth=21,max_features=0.1000,min_impurity_decrease=0.0010,min_samples_leaf=0.0001,min_samples_split=0.0001,n_estimators=345'},\n",
       "     path='/Users/anjaadamov/Documents/projects/14_LM1/q2-time/experiments/ray_results/rf/train_rf_4817a_00006_6_bootstrap=False,data_alr_denom_idx=11,data_transform=ilr,max_depth=21,max_features=0.1000,min_impurity_decr_2023-12-15_09-53-17',\n",
       "     checkpoint=None\n",
       "   ),\n",
       "   Result(\n",
       "     metrics={'rmse_val': 266.9885015199277, 'rmse_train': 160.44058837731012, 'model_path': '/Users/anjaadamov/Documents/projects/14_LM1/q2-time/experiments/ray_results/rf/train_rf_4817a_00007_7_bootstrap=False,data_alr_denom_idx=15,data_transform=alr,max_depth=2,max_features=0.8000,min_impurity_decre_2023-12-15_09-53-24/model.pkl', 'done': True, 'trial_id': '4817a_00007', 'experiment_tag': '7_bootstrap=False,data_alr_denom_idx=15,data_transform=alr,max_depth=2,max_features=0.8000,min_impurity_decrease=0.0010,min_samples_leaf=0.0010,min_samples_split=0.0100,n_estimators=160'},\n",
       "     path='/Users/anjaadamov/Documents/projects/14_LM1/q2-time/experiments/ray_results/rf/train_rf_4817a_00007_7_bootstrap=False,data_alr_denom_idx=15,data_transform=alr,max_depth=2,max_features=0.8000,min_impurity_decre_2023-12-15_09-53-24',\n",
       "     checkpoint=None\n",
       "   )\n",
       " ]>}"
      ]
     },
     "execution_count": 6,
     "metadata": {},
     "output_type": "execute_result"
    }
   ],
   "source": [
    "result_dic = run_all_trials(\n",
    "    train_val, TARGET, HOST_ID, SEED_DATA, SEED_MODEL, MLFLOW_TRACKING_URI\n",
    ")\n",
    "result_dic"
   ]
  },
  {
   "attachments": {},
   "cell_type": "markdown",
   "metadata": {},
   "source": [
    "## Evaluate best models"
   ]
  },
  {
   "cell_type": "code",
   "execution_count": null,
   "metadata": {},
   "outputs": [],
   "source": [
    "class TunedModel:\n",
    "    def __init__(self, model, data_config):\n",
    "        self.model = model\n",
    "        self.data_config = data_config\n",
    "\n",
    "    def transform(self, data):\n",
    "        transformed = transform_features(\n",
    "            data,\n",
    "            self.data_config[\"data_transform\"],\n",
    "            self.data_config[\"data_alr_denom_idx\"],\n",
    "        )\n",
    "        if isinstance(self.model, xgb.core.Booster):\n",
    "            return xgb.DMatrix(transformed)\n",
    "        else:\n",
    "            return transformed.values\n",
    "\n",
    "    def predict(self, data):\n",
    "        transformed = self.transform(data)\n",
    "        predicted = self.model.predict(transformed)\n",
    "        return predicted.flatten()"
   ]
  },
  {
   "cell_type": "code",
   "execution_count": null,
   "metadata": {},
   "outputs": [],
   "source": [
    "best_model_dic = {}\n",
    "for model_type, result_grid in result_dic.items():\n",
    "    best_model = get_best_model(model_type, result_grid)\n",
    "    best_data_proc = get_best_data_processing(result_grid)\n",
    "\n",
    "    best_model_dic[model_type] = TunedModel(best_model, best_data_proc)\n",
    "\n",
    "best_model_dic"
   ]
  },
  {
   "cell_type": "code",
   "execution_count": null,
   "metadata": {},
   "outputs": [],
   "source": [
    "# ! Perform predictions with best model\n",
    "def save_predictions(data, tmodel, target, features, split=None):\n",
    "    # id, true\n",
    "    saved_pred = data[[target]].copy()\n",
    "    saved_pred.rename(columns={target: \"true\"}, inplace=True)\n",
    "    # pred, split\n",
    "    saved_pred[\"pred\"] = tmodel.predict(data[features])\n",
    "    saved_pred[\"split\"] = split\n",
    "    return saved_pred\n",
    "\n",
    "\n",
    "non_features = [TARGET, HOST_ID]\n",
    "features = [x for x in train_val if x not in non_features]\n",
    "\n",
    "# dic with model_type: df with all predictions within\n",
    "preds_dic = {}\n",
    "for model_type, tmodel in best_model_dic.items():\n",
    "    train_df = save_predictions(train_val, tmodel, TARGET, features, \"train\")\n",
    "    test_pred = save_predictions(test, tmodel, TARGET, features, \"test\")\n",
    "\n",
    "    preds_dic[model_type] = pd.concat([train_df, test_pred])"
   ]
  },
  {
   "cell_type": "code",
   "execution_count": null,
   "metadata": {},
   "outputs": [],
   "source": [
    "# plot rmse over all experiments # !(OVERALL case)\n",
    "def _calculate_rmse(pred_df):\n",
    "    rmse_scores = {}\n",
    "    for split in pred_df[\"split\"].unique():\n",
    "        pred_split = pred_df[pred_df[\"split\"] == split].copy()\n",
    "        rmse = mean_squared_error(\n",
    "            pred_split[\"true\"].values, pred_split[\"pred\"].values, squared=False\n",
    "        )\n",
    "        rmse_scores[split] = rmse\n",
    "    return rmse_scores\n",
    "\n",
    "\n",
    "rmse_dic = {}\n",
    "for model_type, pred_df in preds_dic.items():\n",
    "    # todo: add a bin_by variable (for \"over time\" and \"over study\")\n",
    "    rmse_dic[model_type] = _calculate_rmse(pred_df)\n",
    "\n",
    "rmse_df = pd.DataFrame(rmse_dic).T\n",
    "rmse_df.plot(kind=\"bar\", title=\"Overall\", ylabel=\"RMSE\")"
   ]
  },
  {
   "cell_type": "code",
   "execution_count": null,
   "metadata": {},
   "outputs": [],
   "source": [
    "# plot rmse over true time bin\n",
    "# ! (TIME case)\n",
    "model_type = \"rf\"\n",
    "pred_df = preds_dic[model_type]\n",
    "split = None\n",
    "\n",
    "# bin true columns by months\n",
    "pred_df[\"group\"] = np.round(pred_df[\"true\"] / DAYS_PER_MONTH, 0).astype(int)\n",
    "\n",
    "grouped_ser = pred_df.groupby([\"group\"]).apply(_calculate_rmse)\n",
    "grouped_df = grouped_ser.apply(pd.Series)\n",
    "if split is not None:\n",
    "    grouped_df = grouped_df[[split]].copy()\n",
    "\n",
    "grouped_df.plot(\n",
    "    kind=\"bar\", title=f\"Model: {model_type}\", ylabel=\"RMSE\", figsize=(10, 5)\n",
    ")"
   ]
  },
  {
   "attachments": {},
   "cell_type": "markdown",
   "metadata": {},
   "source": [
    "## Compare experiments"
   ]
  },
  {
   "cell_type": "code",
   "execution_count": null,
   "metadata": {},
   "outputs": [],
   "source": [
    "def get_best_model(exp_name, trial_result, metric_ls=[\"rmse_train\", \"rmse_val\"]):\n",
    "    # Get the result with the metric and mode defined in tune_config before\n",
    "    best_result = trial_result.get_best_result()\n",
    "    config = best_result.config\n",
    "\n",
    "    # # get config of best model\n",
    "    # best_result.config\n",
    "\n",
    "    metrics_ser = best_result.metrics_dataframe[metric_ls].iloc[-1]\n",
    "    metrics_df = pd.DataFrame({exp_name: metrics_ser})\n",
    "    return metrics_df, config\n",
    "\n",
    "\n",
    "def calc_best_metrics(dic_trials):\n",
    "    df_metrics = pd.DataFrame(index=[\"rmse_train\", \"rmse_val\"])\n",
    "    dic_config = {}\n",
    "    for key, value in dic_trials.items():\n",
    "        df_best, config = get_best_model(key, value)\n",
    "        df_metrics = df_metrics.join(df_best)\n",
    "        dic_config[key] = config\n",
    "\n",
    "    return df_metrics, pd.DataFrame(dic_config)\n",
    "\n",
    "\n",
    "def plot_best_metrics(df_metrics):\n",
    "    df2plot = df_metrics.T.sort_values(\"rmse_val\", ascending=True)\n",
    "    df2plot.columns = [\"train\", \"validation\"]\n",
    "    # plot settings\n",
    "    # todo: set default plot settings across package\n",
    "    plt.style.use(\"seaborn-v0_8-colorblind\")  # (\"tableau-colorblind10\")\n",
    "    titlesize = 14\n",
    "    labelsize = 13\n",
    "    ticklabel = 12\n",
    "    plt.rcParams.update({\"font.size\": labelsize})\n",
    "\n",
    "    df2plot.plot(kind=\"bar\", figsize=(12, 6))\n",
    "\n",
    "    plt.xticks(fontsize=ticklabel)\n",
    "    plt.yticks(fontsize=ticklabel)\n",
    "    plt.ylabel(\"RMSE\", fontsize=labelsize)\n",
    "    plt.xlabel(\"Model type (order: increasing val score)\", fontsize=labelsize)\n",
    "    plt.title(\"Metrics comparison\", fontsize=titlesize)\n",
    "    plt.show()"
   ]
  },
  {
   "cell_type": "code",
   "execution_count": null,
   "metadata": {},
   "outputs": [],
   "source": [
    "metrics_all, best_configs = calc_best_metrics(\n",
    "    {\n",
    "        \"xgb\": result_dic[\"xgb\"],\n",
    "        \"linreg\": result_dic[\"linreg\"],\n",
    "        \"nn\": result_dic[\"nn\"],\n",
    "        \"rf\": result_dic[\"rf\"],\n",
    "    }\n",
    ")\n",
    "plot_best_metrics(metrics_all)\n",
    "display(best_configs)"
   ]
  },
  {
   "cell_type": "code",
   "execution_count": null,
   "metadata": {},
   "outputs": [],
   "source": [
    "def _highlight_differing_cols(x):\n",
    "    \"\"\"\n",
    "    Function returning color map of differing columns in x\n",
    "    Original code used as base:\n",
    "    https://stackoverflow.com/questions/41654949/pandas-style-function-to-highlight-specific-columns\n",
    "    \"\"\"\n",
    "    # copy df to new - original data is not changed\n",
    "    df = x.copy()\n",
    "\n",
    "    # extract list of columns that differ between all models\n",
    "    ls_col = df.columns[df.nunique(dropna=False) > 1].tolist()\n",
    "\n",
    "    # select default neutral background\n",
    "    df.loc[:, :] = \"background-color: None\"\n",
    "\n",
    "    # mark columns that differ\n",
    "    df[ls_col] = \"color: red\"\n",
    "\n",
    "    # return colored df\n",
    "    return df\n",
    "\n",
    "\n",
    "best_configs.style.apply(_highlight_differing_cols, axis=None)"
   ]
  },
  {
   "attachments": {},
   "cell_type": "markdown",
   "metadata": {},
   "source": [
    "## Evaluate over training time (example for xgb model here)"
   ]
  },
  {
   "cell_type": "code",
   "execution_count": null,
   "metadata": {},
   "outputs": [],
   "source": [
    "# Get the result with the maximum test set `mean_accuracy`\n",
    "best_xgb = result_dic[\"xgb\"].get_best_result()\n",
    "best_xgb.metrics_dataframe.plot(\"training_iteration\", [\"rmse_train\", \"rmse_val\"])"
   ]
  },
  {
   "cell_type": "code",
   "execution_count": null,
   "metadata": {},
   "outputs": [],
   "source": [
    "ax = None\n",
    "for result in result_dic[\"xgb\"]:\n",
    "    label = f\"data_transform={result.config['data_transform']}, \\\n",
    "        max_depth={result.config['max_depth']}\"\n",
    "    if ax is None:\n",
    "        ax = result.metrics_dataframe.plot(\n",
    "            \"training_iteration\", \"rmse_val\", label=label\n",
    "        )\n",
    "    else:\n",
    "        result.metrics_dataframe.plot(\n",
    "            \"training_iteration\", \"rmse_val\", ax=ax, label=label\n",
    "        )\n",
    "ax.legend(bbox_to_anchor=(1.1, 1.05))\n",
    "\n",
    "ax.set_title(\"rsme_val vs. training iteration for all trials\")\n",
    "ax.set_ylabel(\"RMSE_val\")"
   ]
  },
  {
   "cell_type": "code",
   "execution_count": null,
   "metadata": {},
   "outputs": [],
   "source": []
  }
 ],
 "metadata": {
  "kernelspec": {
   "display_name": "raytune",
   "language": "python",
   "name": "python3"
  },
  "language_info": {
   "codemirror_mode": {
    "name": "ipython",
    "version": 3
   },
   "file_extension": ".py",
   "mimetype": "text/x-python",
   "name": "python",
   "nbconvert_exporter": "python",
   "pygments_lexer": "ipython3",
   "version": "3.8.0"
  },
  "orig_nbformat": 4
 },
 "nbformat": 4,
 "nbformat_minor": 2
}
