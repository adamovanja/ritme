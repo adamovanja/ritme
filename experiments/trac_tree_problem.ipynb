{
  "cells": [
    {
      "cell_type": "markdown",
      "metadata": {},
      "source": [
        "# Notebook to illustrate problem of weird tree matching to taxonomy"
      ]
    },
    {
      "cell_type": "code",
      "execution_count": 1,
      "metadata": {},
      "outputs": [],
      "source": [
        "import os\n",
        "\n",
        "import numpy as np\n",
        "import pandas as pd\n",
        "import qiime2 as q2\n",
        "import skbio\n",
        "from qiime2.plugins import phylogeny\n",
        "\n",
        "%matplotlib inline\n",
        "%load_ext autoreload\n",
        "%autoreload 2"
      ]
    },
    {
      "cell_type": "markdown",
      "metadata": {},
      "source": [
        "# Read data"
      ]
    },
    {
      "cell_type": "code",
      "execution_count": 2,
      "metadata": {},
      "outputs": [
        {
          "data": {
            "text/plain": [
              "(9478, 5580)"
            ]
          },
          "execution_count": 2,
          "metadata": {},
          "output_type": "execute_result"
        }
      ],
      "source": [
        "# read feature table\n",
        "art_feature_table = q2.Artifact.load(\"data/220728_monthly/all_otu_table_filt.qza\")\n",
        "df_ft = art_feature_table.view(pd.DataFrame)\n",
        "df_ft.shape"
      ]
    },
    {
      "cell_type": "code",
      "execution_count": 3,
      "metadata": {},
      "outputs": [
        {
          "name": "stdout",
          "output_type": "stream",
          "text": [
            "(5608, 2)\n",
            "(5580, 2)\n"
          ]
        }
      ],
      "source": [
        "# read taxonomy\n",
        "path_to_taxonomy = \"data/220728_monthly/otu_taxonomy_all.qza\"\n",
        "art_taxonomy = q2.Artifact.load(path_to_taxonomy)\n",
        "df_taxonomy = art_taxonomy.view(pd.DataFrame)\n",
        "print(df_taxonomy.shape)\n",
        "\n",
        "# Filter the taxonomy based on the feature table\n",
        "df_taxonomy_f = df_taxonomy[df_taxonomy.index.isin(df_ft.columns.tolist())]\n",
        "print(df_taxonomy_f.shape)"
      ]
    },
    {
      "cell_type": "code",
      "execution_count": 4,
      "metadata": {},
      "outputs": [
        {
          "name": "stdout",
          "output_type": "stream",
          "text": [
            "870198\n"
          ]
        },
        {
          "data": {
            "text/plain": [
              "11159"
            ]
          },
          "execution_count": 4,
          "metadata": {},
          "output_type": "execute_result"
        }
      ],
      "source": [
        "# read silva phylo tree\n",
        "path_to_phylo = \"data/220728_monthly/silva-138-99-rooted-tree.qza\"\n",
        "art_phylo = q2.Artifact.load(path_to_phylo)\n",
        "tree_phylo = art_phylo.view(skbio.TreeNode)\n",
        "# total nodes\n",
        "print(tree_phylo.count())\n",
        "\n",
        "# filter tree by feature table: this prunes a phylogenetic tree to match the\n",
        "# input ids\n",
        "(art_phylo_f,) = phylogeny.actions.filter_tree(tree=art_phylo, table=art_feature_table)\n",
        "tree_phylo_f = art_phylo_f.view(skbio.TreeNode)\n",
        "\n",
        "# total nodes\n",
        "tree_phylo_f.count()"
      ]
    },
    {
      "cell_type": "code",
      "execution_count": 5,
      "metadata": {},
      "outputs": [],
      "source": [
        "# ensure that # leaves in tree == feature table dimension\n",
        "num_leaves = tree_phylo_f.count(tips=True)\n",
        "assert num_leaves == df_ft.shape[1]"
      ]
    },
    {
      "cell_type": "markdown",
      "metadata": {},
      "source": [
        "# Get matrix A"
      ]
    },
    {
      "cell_type": "code",
      "execution_count": 6,
      "metadata": {},
      "outputs": [],
      "source": [
        "def _create_matrix_from_tree(tree, tax):\n",
        "    # ! function copied from _process_train.py after git commit \"b51c22f\" in PR\n",
        "    # ! #16 to have dic_node2leaf output conserved Get all leaves and create a\n",
        "    # ! mapping from leaf names to indices\n",
        "    leaves = list(tree.tips())\n",
        "    leaf_names = [leaf.name for leaf in leaves]\n",
        "    # map each leaf name to unique index\n",
        "    leaf_index_map = {name: idx for idx, name in enumerate(leaf_names)}\n",
        "\n",
        "    # Get the number of leaves and internal nodes\n",
        "    num_leaves = len(leaf_names)\n",
        "    # root is not included\n",
        "    internal_nodes = list(tree.non_tips())\n",
        "\n",
        "    # Create the identity matrix for the leaves: A1 (num_leaves x num_leaves)\n",
        "    A1 = np.eye(num_leaves)\n",
        "    # taxonomic name should include OTU name\n",
        "    tax_e = tax.copy()\n",
        "    tax_e[\"tax_ft\"] = tax_e[\"Taxon\"] + \"; otu__\" + tax_e.index\n",
        "    a2_node_names = tax_e.loc[leaf_names, \"tax_ft\"].tolist()\n",
        "    # Create the matrix for the internal nodes: A2 (num_leaves x\n",
        "    # num_internal_nodes)\n",
        "    # initialise it with zeros\n",
        "    A2 = np.zeros((num_leaves, len(internal_nodes)))\n",
        "\n",
        "    # Populate A2 with 1s for the leaves linked by each internal node\n",
        "    # iterate over all internal nodes to find descendents of this node and mark\n",
        "    # them accordingly\n",
        "    dict_node2leaf = {}\n",
        "    for j, node in enumerate(internal_nodes):\n",
        "        # per node keep track of leaf names - for consensus naming\n",
        "        node_leaf_names = []\n",
        "        # todo: adjust names to consensus taxonomy from descendents\n",
        "        # for now node names are just increasing integers - since node.name is float\n",
        "        descendant_leaves = {leaf.name for leaf in node.tips()}\n",
        "        for leaf_name in leaf_names:\n",
        "            if leaf_name in descendant_leaves:\n",
        "                node_leaf_names.append(leaf_name)\n",
        "                A2[leaf_index_map[leaf_name], j] = 1\n",
        "\n",
        "        # create consensus taxonomy from all leaf_names\n",
        "        node_mapped_taxon = tax_e.loc[node_leaf_names, \"tax_ft\"].tolist()\n",
        "        dict_node2leaf[j] = node_mapped_taxon\n",
        "        str_consensus_taxon = os.path.commonprefix(node_mapped_taxon)\n",
        "        # get name before last \";\"\n",
        "        node_consensus_taxon = str_consensus_taxon.rpartition(\";\")[0]\n",
        "\n",
        "        if node_consensus_taxon in a2_node_names:\n",
        "            # if consensus name already exists, add index to make it unique\n",
        "            node_consensus_taxon = node_consensus_taxon + \"; n__\" + str(j)\n",
        "        a2_node_names.append(node_consensus_taxon)\n",
        "\n",
        "    # Concatenate A1 and A2 to create the final matrix A\n",
        "    A = np.hstack((A1, A2))\n",
        "\n",
        "    return A, a2_node_names, dict_node2leaf"
      ]
    },
    {
      "cell_type": "code",
      "execution_count": 7,
      "metadata": {},
      "outputs": [
        {
          "data": {
            "text/plain": [
              "(5580, 11158)"
            ]
          },
          "execution_count": 7,
          "metadata": {},
          "output_type": "execute_result"
        }
      ],
      "source": [
        "A, a2_names, dic_node2leaf = _create_matrix_from_tree(tree_phylo_f, df_taxonomy_f)\n",
        "\n",
        "df_A = pd.DataFrame(A, columns=a2_names)\n",
        "df_A.shape"
      ]
    },
    {
      "cell_type": "code",
      "execution_count": 8,
      "metadata": {},
      "outputs": [
        {
          "data": {
            "text/html": [
              "<div>\n",
              "<style scoped>\n",
              "    .dataframe tbody tr th:only-of-type {\n",
              "        vertical-align: middle;\n",
              "    }\n",
              "\n",
              "    .dataframe tbody tr th {\n",
              "        vertical-align: top;\n",
              "    }\n",
              "\n",
              "    .dataframe thead th {\n",
              "        text-align: right;\n",
              "    }\n",
              "</style>\n",
              "<table border=\"1\" class=\"dataframe\">\n",
              "  <thead>\n",
              "    <tr style=\"text-align: right;\">\n",
              "      <th></th>\n",
              "      <th>d__Archaea; p__Nanoarchaeota; c__Nanoarchaeia; o__Woesearchaeales; f__SCGC_AAA011-D5; g__SCGC_AAA011-D5; s__Nanoarchaeota_archaeon; otu__ASMP01000002.125551.126982</th>\n",
              "      <th>d__Archaea; p__Euryarchaeota; c__Methanobacteria; o__Methanobacteriales; f__Methanobacteriaceae; g__Methanobrevibacter; otu__JX833581.1.1262</th>\n",
              "      <th>d__Archaea; p__Euryarchaeota; c__Methanobacteria; o__Methanobacteriales; f__Methanobacteriaceae; g__Methanobrevibacter; s__uncultured_Methanobacteriales; otu__AB535261.1.1262</th>\n",
              "      <th>d__Archaea; p__Euryarchaeota; c__Methanobacteria; o__Methanobacteriales; f__Methanobacteriaceae; g__Methanosphaera; otu__CP000102.408655.410144</th>\n",
              "      <th>d__Archaea; p__Euryarchaeota; c__Methanobacteria; o__Methanobacteriales; f__Methanobacteriaceae; g__Methanosphaera; s__uncultured_methanogenic; otu__AB905959.1.1268</th>\n",
              "      <th>d__Archaea; p__Euryarchaeota; c__Methanobacteria; o__Methanobacteriales; f__Methanobacteriaceae; g__Methanobrevibacter; otu__AY196669.1.1262</th>\n",
              "      <th>d__Archaea; p__Euryarchaeota; c__Methanobacteria; o__Methanobacteriales; f__Methanobacteriaceae; g__Methanobrevibacter; otu__AB905821.1.1267</th>\n",
              "      <th>d__Archaea; p__Thermoplasmatota; c__Thermoplasmata; o__Methanomassiliicoccales; f__Methanomethylophilaceae; otu__DQ445723.1.1210</th>\n",
              "      <th>d__Archaea; p__Thermoplasmatota; c__Thermoplasmata; o__Methanomassiliicoccales; f__Methanomethylophilaceae; otu__JF980498.1.1419</th>\n",
              "      <th>d__Bacteria; p__Patescibacteria; c__Gracilibacteria; o__Absconditabacteriales_(SR1); f__Absconditabacteriales_(SR1); g__Absconditabacteriales_(SR1); s__SR1_bacterium; otu__AOTF01000010.101107.102585</th>\n",
              "      <th>...</th>\n",
              "      <th>d__Bacteria; n__5568</th>\n",
              "      <th>d__Bacteria; p__Chloroflexi; c__Chloroflexia; o__Thermomicrobiales; f__JG30-KF-CM45; g__JG30-KF-CM45</th>\n",
              "      <th>d__Bacteria; p__Chloroflexi; c__Chloroflexia; o__Thermomicrobiales; f__JG30-KF-CM45; g__JG30-KF-CM45; n__5570</th>\n",
              "      <th>d__Bacteria; p__Chloroflexi; c__Chloroflexia; o__Thermomicrobiales; f__JG30-KF-CM45; g__JG30-KF-CM45; n__5571</th>\n",
              "      <th>d__Bacteria; p__Chloroflexi; c__Chloroflexia; o__Thermomicrobiales; f__JG30-KF-CM45; g__JG30-KF-CM45; n__5572</th>\n",
              "      <th>d__Bacteria; p__Chloroflexi</th>\n",
              "      <th>d__Bacteria; p__Chloroflexi; n__5574</th>\n",
              "      <th>d__Bacteria; p__Chloroflexi; n__5575</th>\n",
              "      <th>d__Bacteria; p__Chloroflexi; n__5576</th>\n",
              "      <th>d__Bacteria; n__5577</th>\n",
              "    </tr>\n",
              "  </thead>\n",
              "  <tbody>\n",
              "    <tr>\n",
              "      <th>0</th>\n",
              "      <td>1.0</td>\n",
              "      <td>0.0</td>\n",
              "      <td>0.0</td>\n",
              "      <td>0.0</td>\n",
              "      <td>0.0</td>\n",
              "      <td>0.0</td>\n",
              "      <td>0.0</td>\n",
              "      <td>0.0</td>\n",
              "      <td>0.0</td>\n",
              "      <td>0.0</td>\n",
              "      <td>...</td>\n",
              "      <td>0.0</td>\n",
              "      <td>0.0</td>\n",
              "      <td>0.0</td>\n",
              "      <td>0.0</td>\n",
              "      <td>0.0</td>\n",
              "      <td>0.0</td>\n",
              "      <td>0.0</td>\n",
              "      <td>0.0</td>\n",
              "      <td>0.0</td>\n",
              "      <td>0.0</td>\n",
              "    </tr>\n",
              "    <tr>\n",
              "      <th>1</th>\n",
              "      <td>0.0</td>\n",
              "      <td>1.0</td>\n",
              "      <td>0.0</td>\n",
              "      <td>0.0</td>\n",
              "      <td>0.0</td>\n",
              "      <td>0.0</td>\n",
              "      <td>0.0</td>\n",
              "      <td>0.0</td>\n",
              "      <td>0.0</td>\n",
              "      <td>0.0</td>\n",
              "      <td>...</td>\n",
              "      <td>0.0</td>\n",
              "      <td>0.0</td>\n",
              "      <td>0.0</td>\n",
              "      <td>0.0</td>\n",
              "      <td>0.0</td>\n",
              "      <td>0.0</td>\n",
              "      <td>0.0</td>\n",
              "      <td>0.0</td>\n",
              "      <td>0.0</td>\n",
              "      <td>0.0</td>\n",
              "    </tr>\n",
              "    <tr>\n",
              "      <th>2</th>\n",
              "      <td>0.0</td>\n",
              "      <td>0.0</td>\n",
              "      <td>1.0</td>\n",
              "      <td>0.0</td>\n",
              "      <td>0.0</td>\n",
              "      <td>0.0</td>\n",
              "      <td>0.0</td>\n",
              "      <td>0.0</td>\n",
              "      <td>0.0</td>\n",
              "      <td>0.0</td>\n",
              "      <td>...</td>\n",
              "      <td>0.0</td>\n",
              "      <td>0.0</td>\n",
              "      <td>0.0</td>\n",
              "      <td>0.0</td>\n",
              "      <td>0.0</td>\n",
              "      <td>0.0</td>\n",
              "      <td>0.0</td>\n",
              "      <td>0.0</td>\n",
              "      <td>0.0</td>\n",
              "      <td>0.0</td>\n",
              "    </tr>\n",
              "    <tr>\n",
              "      <th>3</th>\n",
              "      <td>0.0</td>\n",
              "      <td>0.0</td>\n",
              "      <td>0.0</td>\n",
              "      <td>1.0</td>\n",
              "      <td>0.0</td>\n",
              "      <td>0.0</td>\n",
              "      <td>0.0</td>\n",
              "      <td>0.0</td>\n",
              "      <td>0.0</td>\n",
              "      <td>0.0</td>\n",
              "      <td>...</td>\n",
              "      <td>0.0</td>\n",
              "      <td>0.0</td>\n",
              "      <td>0.0</td>\n",
              "      <td>0.0</td>\n",
              "      <td>0.0</td>\n",
              "      <td>0.0</td>\n",
              "      <td>0.0</td>\n",
              "      <td>0.0</td>\n",
              "      <td>0.0</td>\n",
              "      <td>0.0</td>\n",
              "    </tr>\n",
              "    <tr>\n",
              "      <th>4</th>\n",
              "      <td>0.0</td>\n",
              "      <td>0.0</td>\n",
              "      <td>0.0</td>\n",
              "      <td>0.0</td>\n",
              "      <td>1.0</td>\n",
              "      <td>0.0</td>\n",
              "      <td>0.0</td>\n",
              "      <td>0.0</td>\n",
              "      <td>0.0</td>\n",
              "      <td>0.0</td>\n",
              "      <td>...</td>\n",
              "      <td>0.0</td>\n",
              "      <td>0.0</td>\n",
              "      <td>0.0</td>\n",
              "      <td>0.0</td>\n",
              "      <td>0.0</td>\n",
              "      <td>0.0</td>\n",
              "      <td>0.0</td>\n",
              "      <td>0.0</td>\n",
              "      <td>0.0</td>\n",
              "      <td>0.0</td>\n",
              "    </tr>\n",
              "  </tbody>\n",
              "</table>\n",
              "<p>5 rows \u00d7 11158 columns</p>\n",
              "</div>"
            ],
            "text/plain": [
              "   d__Archaea; p__Nanoarchaeota; c__Nanoarchaeia; o__Woesearchaeales; f__SCGC_AAA011-D5; g__SCGC_AAA011-D5; s__Nanoarchaeota_archaeon; otu__ASMP01000002.125551.126982  \\\n",
              "0                                                1.0                                                                                                                     \n",
              "1                                                0.0                                                                                                                     \n",
              "2                                                0.0                                                                                                                     \n",
              "3                                                0.0                                                                                                                     \n",
              "4                                                0.0                                                                                                                     \n",
              "\n",
              "   d__Archaea; p__Euryarchaeota; c__Methanobacteria; o__Methanobacteriales; f__Methanobacteriaceae; g__Methanobrevibacter; otu__JX833581.1.1262  \\\n",
              "0                                                0.0                                                                                              \n",
              "1                                                1.0                                                                                              \n",
              "2                                                0.0                                                                                              \n",
              "3                                                0.0                                                                                              \n",
              "4                                                0.0                                                                                              \n",
              "\n",
              "   d__Archaea; p__Euryarchaeota; c__Methanobacteria; o__Methanobacteriales; f__Methanobacteriaceae; g__Methanobrevibacter; s__uncultured_Methanobacteriales; otu__AB535261.1.1262  \\\n",
              "0                                                0.0                                                                                                                                \n",
              "1                                                0.0                                                                                                                                \n",
              "2                                                1.0                                                                                                                                \n",
              "3                                                0.0                                                                                                                                \n",
              "4                                                0.0                                                                                                                                \n",
              "\n",
              "   d__Archaea; p__Euryarchaeota; c__Methanobacteria; o__Methanobacteriales; f__Methanobacteriaceae; g__Methanosphaera; otu__CP000102.408655.410144  \\\n",
              "0                                                0.0                                                                                                 \n",
              "1                                                0.0                                                                                                 \n",
              "2                                                0.0                                                                                                 \n",
              "3                                                1.0                                                                                                 \n",
              "4                                                0.0                                                                                                 \n",
              "\n",
              "   d__Archaea; p__Euryarchaeota; c__Methanobacteria; o__Methanobacteriales; f__Methanobacteriaceae; g__Methanosphaera; s__uncultured_methanogenic; otu__AB905959.1.1268  \\\n",
              "0                                                0.0                                                                                                                      \n",
              "1                                                0.0                                                                                                                      \n",
              "2                                                0.0                                                                                                                      \n",
              "3                                                0.0                                                                                                                      \n",
              "4                                                1.0                                                                                                                      \n",
              "\n",
              "   d__Archaea; p__Euryarchaeota; c__Methanobacteria; o__Methanobacteriales; f__Methanobacteriaceae; g__Methanobrevibacter; otu__AY196669.1.1262  \\\n",
              "0                                                0.0                                                                                              \n",
              "1                                                0.0                                                                                              \n",
              "2                                                0.0                                                                                              \n",
              "3                                                0.0                                                                                              \n",
              "4                                                0.0                                                                                              \n",
              "\n",
              "   d__Archaea; p__Euryarchaeota; c__Methanobacteria; o__Methanobacteriales; f__Methanobacteriaceae; g__Methanobrevibacter; otu__AB905821.1.1267  \\\n",
              "0                                                0.0                                                                                              \n",
              "1                                                0.0                                                                                              \n",
              "2                                                0.0                                                                                              \n",
              "3                                                0.0                                                                                              \n",
              "4                                                0.0                                                                                              \n",
              "\n",
              "   d__Archaea; p__Thermoplasmatota; c__Thermoplasmata; o__Methanomassiliicoccales; f__Methanomethylophilaceae; otu__DQ445723.1.1210  \\\n",
              "0                                                0.0                                                                                  \n",
              "1                                                0.0                                                                                  \n",
              "2                                                0.0                                                                                  \n",
              "3                                                0.0                                                                                  \n",
              "4                                                0.0                                                                                  \n",
              "\n",
              "   d__Archaea; p__Thermoplasmatota; c__Thermoplasmata; o__Methanomassiliicoccales; f__Methanomethylophilaceae; otu__JF980498.1.1419  \\\n",
              "0                                                0.0                                                                                  \n",
              "1                                                0.0                                                                                  \n",
              "2                                                0.0                                                                                  \n",
              "3                                                0.0                                                                                  \n",
              "4                                                0.0                                                                                  \n",
              "\n",
              "   d__Bacteria; p__Patescibacteria; c__Gracilibacteria; o__Absconditabacteriales_(SR1); f__Absconditabacteriales_(SR1); g__Absconditabacteriales_(SR1); s__SR1_bacterium; otu__AOTF01000010.101107.102585  \\\n",
              "0                                                0.0                                                                                                                                                        \n",
              "1                                                0.0                                                                                                                                                        \n",
              "2                                                0.0                                                                                                                                                        \n",
              "3                                                0.0                                                                                                                                                        \n",
              "4                                                0.0                                                                                                                                                        \n",
              "\n",
              "   ...  d__Bacteria; n__5568  \\\n",
              "0  ...                   0.0   \n",
              "1  ...                   0.0   \n",
              "2  ...                   0.0   \n",
              "3  ...                   0.0   \n",
              "4  ...                   0.0   \n",
              "\n",
              "   d__Bacteria; p__Chloroflexi; c__Chloroflexia; o__Thermomicrobiales; f__JG30-KF-CM45; g__JG30-KF-CM45  \\\n",
              "0                                                0.0                                                      \n",
              "1                                                0.0                                                      \n",
              "2                                                0.0                                                      \n",
              "3                                                0.0                                                      \n",
              "4                                                0.0                                                      \n",
              "\n",
              "   d__Bacteria; p__Chloroflexi; c__Chloroflexia; o__Thermomicrobiales; f__JG30-KF-CM45; g__JG30-KF-CM45; n__5570  \\\n",
              "0                                                0.0                                                               \n",
              "1                                                0.0                                                               \n",
              "2                                                0.0                                                               \n",
              "3                                                0.0                                                               \n",
              "4                                                0.0                                                               \n",
              "\n",
              "   d__Bacteria; p__Chloroflexi; c__Chloroflexia; o__Thermomicrobiales; f__JG30-KF-CM45; g__JG30-KF-CM45; n__5571  \\\n",
              "0                                                0.0                                                               \n",
              "1                                                0.0                                                               \n",
              "2                                                0.0                                                               \n",
              "3                                                0.0                                                               \n",
              "4                                                0.0                                                               \n",
              "\n",
              "   d__Bacteria; p__Chloroflexi; c__Chloroflexia; o__Thermomicrobiales; f__JG30-KF-CM45; g__JG30-KF-CM45; n__5572  \\\n",
              "0                                                0.0                                                               \n",
              "1                                                0.0                                                               \n",
              "2                                                0.0                                                               \n",
              "3                                                0.0                                                               \n",
              "4                                                0.0                                                               \n",
              "\n",
              "   d__Bacteria; p__Chloroflexi  d__Bacteria; p__Chloroflexi; n__5574  \\\n",
              "0                          0.0                                   0.0   \n",
              "1                          0.0                                   0.0   \n",
              "2                          0.0                                   0.0   \n",
              "3                          0.0                                   0.0   \n",
              "4                          0.0                                   0.0   \n",
              "\n",
              "   d__Bacteria; p__Chloroflexi; n__5575  d__Bacteria; p__Chloroflexi; n__5576  \\\n",
              "0                                   0.0                                   0.0   \n",
              "1                                   0.0                                   0.0   \n",
              "2                                   0.0                                   0.0   \n",
              "3                                   0.0                                   0.0   \n",
              "4                                   0.0                                   0.0   \n",
              "\n",
              "   d__Bacteria; n__5577  \n",
              "0                   0.0  \n",
              "1                   0.0  \n",
              "2                   0.0  \n",
              "3                   0.0  \n",
              "4                   0.0  \n",
              "\n",
              "[5 rows x 11158 columns]"
            ]
          },
          "execution_count": 8,
          "metadata": {},
          "output_type": "execute_result"
        }
      ],
      "source": [
        "df_A.head()"
      ]
    },
    {
      "cell_type": "markdown",
      "metadata": {},
      "source": [
        "## Show problem with identical \"taxonomic nodes\""
      ]
    },
    {
      "cell_type": "code",
      "execution_count": 9,
      "metadata": {},
      "outputs": [
        {
          "data": {
            "text/html": [
              "<div>\n",
              "<style scoped>\n",
              "    .dataframe tbody tr th:only-of-type {\n",
              "        vertical-align: middle;\n",
              "    }\n",
              "\n",
              "    .dataframe tbody tr th {\n",
              "        vertical-align: top;\n",
              "    }\n",
              "\n",
              "    .dataframe thead th {\n",
              "        text-align: right;\n",
              "    }\n",
              "</style>\n",
              "<table border=\"1\" class=\"dataframe\">\n",
              "  <thead>\n",
              "    <tr style=\"text-align: right;\">\n",
              "      <th></th>\n",
              "      <th>d__Bacteria; p__Chloroflexi</th>\n",
              "      <th>d__Bacteria; p__Chloroflexi; n__5574</th>\n",
              "      <th>d__Bacteria; p__Chloroflexi; n__5575</th>\n",
              "      <th>d__Bacteria; p__Chloroflexi; n__5576</th>\n",
              "    </tr>\n",
              "  </thead>\n",
              "  <tbody>\n",
              "    <tr>\n",
              "      <th>0</th>\n",
              "      <td>0.0</td>\n",
              "      <td>0.0</td>\n",
              "      <td>0.0</td>\n",
              "      <td>0.0</td>\n",
              "    </tr>\n",
              "    <tr>\n",
              "      <th>1</th>\n",
              "      <td>0.0</td>\n",
              "      <td>0.0</td>\n",
              "      <td>0.0</td>\n",
              "      <td>0.0</td>\n",
              "    </tr>\n",
              "    <tr>\n",
              "      <th>2</th>\n",
              "      <td>0.0</td>\n",
              "      <td>0.0</td>\n",
              "      <td>0.0</td>\n",
              "      <td>0.0</td>\n",
              "    </tr>\n",
              "    <tr>\n",
              "      <th>3</th>\n",
              "      <td>0.0</td>\n",
              "      <td>0.0</td>\n",
              "      <td>0.0</td>\n",
              "      <td>0.0</td>\n",
              "    </tr>\n",
              "    <tr>\n",
              "      <th>4</th>\n",
              "      <td>0.0</td>\n",
              "      <td>0.0</td>\n",
              "      <td>0.0</td>\n",
              "      <td>0.0</td>\n",
              "    </tr>\n",
              "    <tr>\n",
              "      <th>...</th>\n",
              "      <td>...</td>\n",
              "      <td>...</td>\n",
              "      <td>...</td>\n",
              "      <td>...</td>\n",
              "    </tr>\n",
              "    <tr>\n",
              "      <th>5575</th>\n",
              "      <td>1.0</td>\n",
              "      <td>1.0</td>\n",
              "      <td>0.0</td>\n",
              "      <td>1.0</td>\n",
              "    </tr>\n",
              "    <tr>\n",
              "      <th>5576</th>\n",
              "      <td>1.0</td>\n",
              "      <td>1.0</td>\n",
              "      <td>0.0</td>\n",
              "      <td>1.0</td>\n",
              "    </tr>\n",
              "    <tr>\n",
              "      <th>5577</th>\n",
              "      <td>1.0</td>\n",
              "      <td>1.0</td>\n",
              "      <td>0.0</td>\n",
              "      <td>1.0</td>\n",
              "    </tr>\n",
              "    <tr>\n",
              "      <th>5578</th>\n",
              "      <td>0.0</td>\n",
              "      <td>0.0</td>\n",
              "      <td>1.0</td>\n",
              "      <td>1.0</td>\n",
              "    </tr>\n",
              "    <tr>\n",
              "      <th>5579</th>\n",
              "      <td>0.0</td>\n",
              "      <td>0.0</td>\n",
              "      <td>1.0</td>\n",
              "      <td>1.0</td>\n",
              "    </tr>\n",
              "  </tbody>\n",
              "</table>\n",
              "<p>5580 rows \u00d7 4 columns</p>\n",
              "</div>"
            ],
            "text/plain": [
              "      d__Bacteria; p__Chloroflexi  d__Bacteria; p__Chloroflexi; n__5574  \\\n",
              "0                             0.0                                   0.0   \n",
              "1                             0.0                                   0.0   \n",
              "2                             0.0                                   0.0   \n",
              "3                             0.0                                   0.0   \n",
              "4                             0.0                                   0.0   \n",
              "...                           ...                                   ...   \n",
              "5575                          1.0                                   1.0   \n",
              "5576                          1.0                                   1.0   \n",
              "5577                          1.0                                   1.0   \n",
              "5578                          0.0                                   0.0   \n",
              "5579                          0.0                                   0.0   \n",
              "\n",
              "      d__Bacteria; p__Chloroflexi; n__5575  \\\n",
              "0                                      0.0   \n",
              "1                                      0.0   \n",
              "2                                      0.0   \n",
              "3                                      0.0   \n",
              "4                                      0.0   \n",
              "...                                    ...   \n",
              "5575                                   0.0   \n",
              "5576                                   0.0   \n",
              "5577                                   0.0   \n",
              "5578                                   1.0   \n",
              "5579                                   1.0   \n",
              "\n",
              "      d__Bacteria; p__Chloroflexi; n__5576  \n",
              "0                                      0.0  \n",
              "1                                      0.0  \n",
              "2                                      0.0  \n",
              "3                                      0.0  \n",
              "4                                      0.0  \n",
              "...                                    ...  \n",
              "5575                                   1.0  \n",
              "5576                                   1.0  \n",
              "5577                                   1.0  \n",
              "5578                                   1.0  \n",
              "5579                                   1.0  \n",
              "\n",
              "[5580 rows x 4 columns]"
            ]
          },
          "execution_count": 9,
          "metadata": {},
          "output_type": "execute_result"
        }
      ],
      "source": [
        "nb_otus = 5580\n",
        "\n",
        "df_A.iloc[:, nb_otus + 5573 : nb_otus + 5577]"
      ]
    },
    {
      "cell_type": "code",
      "execution_count": 10,
      "metadata": {},
      "outputs": [
        {
          "data": {
            "text/plain": [
              "d__Bacteria; p__Chloroflexi             6.0\n",
              "d__Bacteria; p__Chloroflexi; n__5574    7.0\n",
              "d__Bacteria; p__Chloroflexi; n__5575    2.0\n",
              "d__Bacteria; p__Chloroflexi; n__5576    9.0\n",
              "dtype: float64"
            ]
          },
          "execution_count": 10,
          "metadata": {},
          "output_type": "execute_result"
        }
      ],
      "source": [
        "df_A.iloc[:, nb_otus + 5573 : nb_otus + 5577].sum()"
      ]
    },
    {
      "cell_type": "code",
      "execution_count": 11,
      "metadata": {},
      "outputs": [
        {
          "data": {
            "text/plain": [
              "['d__Bacteria; p__Chloroflexi; c__OLB14; o__OLB14; f__OLB14; g__OLB14; s__uncultured_bacterium; otu__KT835595.1.1453',\n",
              " 'd__Bacteria; p__Chloroflexi; c__Chloroflexia; o__Thermomicrobiales; f__JG30-KF-CM45; g__JG30-KF-CM45; s__bacterium_QTYC46b; otu__JQ624352.1.1469',\n",
              " 'd__Bacteria; p__Chloroflexi; c__Chloroflexia; o__Thermomicrobiales; f__JG30-KF-CM45; g__JG30-KF-CM45; s__uncultured_bacterium; otu__JQ978845.1.1460',\n",
              " 'd__Bacteria; p__Chloroflexi; c__Chloroflexia; o__Thermomicrobiales; f__JG30-KF-CM45; g__JG30-KF-CM45; s__uncultured_Chloroflexi; otu__AM935498.1.1337',\n",
              " 'd__Bacteria; p__Chloroflexi; c__Chloroflexia; o__Thermomicrobiales; f__JG30-KF-CM45; g__JG30-KF-CM45; s__uncultured_soil; otu__FQ659571.1.1334',\n",
              " 'd__Bacteria; p__Chloroflexi; c__Chloroflexia; o__Thermomicrobiales; f__JG30-KF-CM45; g__JG30-KF-CM45; s__metagenome; otu__FPLS01036268.22.1504']"
            ]
          },
          "execution_count": 11,
          "metadata": {},
          "output_type": "execute_result"
        }
      ],
      "source": [
        "# get matching leave taxonomic names\n",
        "dic_node2leaf[5573]"
      ]
    },
    {
      "cell_type": "code",
      "execution_count": 12,
      "metadata": {},
      "outputs": [
        {
          "data": {
            "text/plain": [
              "['d__Bacteria; p__Chloroflexi; c__Anaerolineae; o__SBR1031; f__SBR1031; g__SBR1031; s__anaerobic_digester; otu__CZCB01001507.135.1626',\n",
              " 'd__Bacteria; p__Chloroflexi; c__OLB14; o__OLB14; f__OLB14; g__OLB14; s__uncultured_bacterium; otu__KT835595.1.1453',\n",
              " 'd__Bacteria; p__Chloroflexi; c__Chloroflexia; o__Thermomicrobiales; f__JG30-KF-CM45; g__JG30-KF-CM45; s__bacterium_QTYC46b; otu__JQ624352.1.1469',\n",
              " 'd__Bacteria; p__Chloroflexi; c__Chloroflexia; o__Thermomicrobiales; f__JG30-KF-CM45; g__JG30-KF-CM45; s__uncultured_bacterium; otu__JQ978845.1.1460',\n",
              " 'd__Bacteria; p__Chloroflexi; c__Chloroflexia; o__Thermomicrobiales; f__JG30-KF-CM45; g__JG30-KF-CM45; s__uncultured_Chloroflexi; otu__AM935498.1.1337',\n",
              " 'd__Bacteria; p__Chloroflexi; c__Chloroflexia; o__Thermomicrobiales; f__JG30-KF-CM45; g__JG30-KF-CM45; s__uncultured_soil; otu__FQ659571.1.1334',\n",
              " 'd__Bacteria; p__Chloroflexi; c__Chloroflexia; o__Thermomicrobiales; f__JG30-KF-CM45; g__JG30-KF-CM45; s__metagenome; otu__FPLS01036268.22.1504']"
            ]
          },
          "execution_count": 12,
          "metadata": {},
          "output_type": "execute_result"
        }
      ],
      "source": [
        "dic_node2leaf[5574]"
      ]
    },
    {
      "cell_type": "code",
      "execution_count": 13,
      "metadata": {},
      "outputs": [
        {
          "data": {
            "text/plain": [
              "['d__Bacteria; p__Chloroflexi; c__Gitt-GS-136; o__Gitt-GS-136; f__Gitt-GS-136; g__Gitt-GS-136; otu__HM299006.1.1326',\n",
              " 'd__Bacteria; p__Chloroflexi; c__KD4-96; o__KD4-96; f__KD4-96; g__KD4-96; s__uncultured_bacterium; otu__KY190653.1.1395']"
            ]
          },
          "execution_count": 13,
          "metadata": {},
          "output_type": "execute_result"
        }
      ],
      "source": [
        "dic_node2leaf[5575]"
      ]
    },
    {
      "cell_type": "code",
      "execution_count": 14,
      "metadata": {},
      "outputs": [
        {
          "data": {
            "text/plain": [
              "['d__Bacteria; p__Chloroflexi; c__Anaerolineae; o__SBR1031; f__SBR1031; g__SBR1031; s__anaerobic_digester; otu__CZCB01001507.135.1626',\n",
              " 'd__Bacteria; p__Chloroflexi; c__OLB14; o__OLB14; f__OLB14; g__OLB14; s__uncultured_bacterium; otu__KT835595.1.1453',\n",
              " 'd__Bacteria; p__Chloroflexi; c__Chloroflexia; o__Thermomicrobiales; f__JG30-KF-CM45; g__JG30-KF-CM45; s__bacterium_QTYC46b; otu__JQ624352.1.1469',\n",
              " 'd__Bacteria; p__Chloroflexi; c__Chloroflexia; o__Thermomicrobiales; f__JG30-KF-CM45; g__JG30-KF-CM45; s__uncultured_bacterium; otu__JQ978845.1.1460',\n",
              " 'd__Bacteria; p__Chloroflexi; c__Chloroflexia; o__Thermomicrobiales; f__JG30-KF-CM45; g__JG30-KF-CM45; s__uncultured_Chloroflexi; otu__AM935498.1.1337',\n",
              " 'd__Bacteria; p__Chloroflexi; c__Chloroflexia; o__Thermomicrobiales; f__JG30-KF-CM45; g__JG30-KF-CM45; s__uncultured_soil; otu__FQ659571.1.1334',\n",
              " 'd__Bacteria; p__Chloroflexi; c__Chloroflexia; o__Thermomicrobiales; f__JG30-KF-CM45; g__JG30-KF-CM45; s__metagenome; otu__FPLS01036268.22.1504',\n",
              " 'd__Bacteria; p__Chloroflexi; c__Gitt-GS-136; o__Gitt-GS-136; f__Gitt-GS-136; g__Gitt-GS-136; otu__HM299006.1.1326',\n",
              " 'd__Bacteria; p__Chloroflexi; c__KD4-96; o__KD4-96; f__KD4-96; g__KD4-96; s__uncultured_bacterium; otu__KY190653.1.1395']"
            ]
          },
          "execution_count": 14,
          "metadata": {},
          "output_type": "execute_result"
        }
      ],
      "source": [
        "dic_node2leaf[5576]"
      ]
    },
    {
      "cell_type": "markdown",
      "metadata": {},
      "source": [
        "Is this a problem?"
      ]
    }
  ],
  "metadata": {
    "kernelspec": {
      "display_name": "ritme",
      "language": "python",
      "name": "python3"
    },
    "language_info": {
      "codemirror_mode": {
        "name": "ipython",
        "version": 3
      },
      "file_extension": ".py",
      "mimetype": "text/x-python",
      "name": "python",
      "nbconvert_exporter": "python",
      "pygments_lexer": "ipython3",
      "version": "3.8.0"
    }
  },
  "nbformat": 4,
  "nbformat_minor": 2
}
