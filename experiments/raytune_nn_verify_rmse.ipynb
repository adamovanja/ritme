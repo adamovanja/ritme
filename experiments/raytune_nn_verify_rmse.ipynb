{
  "cells": [
    {
      "cell_type": "markdown",
      "metadata": {},
      "source": [
        "# Compare rmse calculated from all predictions vs. during ray tune logging\n",
        "\n",
        "Linked with raytune_nn_rmse_mismatch"
      ]
    },
    {
      "cell_type": "code",
      "execution_count": 1,
      "metadata": {},
      "outputs": [],
      "source": [
        "import os\n",
        "import pandas as pd\n",
        "import torch\n",
        "from torch import nn\n",
        "from sklearn.metrics import root_mean_squared_error"
      ]
    },
    {
      "cell_type": "code",
      "execution_count": 5,
      "metadata": {},
      "outputs": [],
      "source": [
        "path_to_pred = \"/Users/adamova/Documents/projects/14_LM1/q2-ritme/experiments/models/r_nn_all_test_local_one_epoch_1/nn_class/train_nn_class_2385d79f_1_batch_size=64,data_aggregation=None,data_selection=variance_threshold,data_selection_t=0.0001,data_trans_2024-08-22_19-49-05/\"\n",
        "filename = \"predictions_new.csv\""
      ]
    },
    {
      "cell_type": "code",
      "execution_count": 6,
      "metadata": {},
      "outputs": [
        {
          "data": {
            "text/html": [
              "<div>\n",
              "<style scoped>\n",
              "    .dataframe tbody tr th:only-of-type {\n",
              "        vertical-align: middle;\n",
              "    }\n",
              "\n",
              "    .dataframe tbody tr th {\n",
              "        vertical-align: top;\n",
              "    }\n",
              "\n",
              "    .dataframe thead th {\n",
              "        text-align: right;\n",
              "    }\n",
              "</style>\n",
              "<table border=\"1\" class=\"dataframe\">\n",
              "  <thead>\n",
              "    <tr style=\"text-align: right;\">\n",
              "      <th></th>\n",
              "      <th>true</th>\n",
              "      <th>pred</th>\n",
              "      <th>split</th>\n",
              "    </tr>\n",
              "  </thead>\n",
              "  <tbody>\n",
              "    <tr>\n",
              "      <th>ERR1467156</th>\n",
              "      <td>0.000000</td>\n",
              "      <td>2.0</td>\n",
              "      <td>train</td>\n",
              "    </tr>\n",
              "    <tr>\n",
              "      <th>ERR1464419</th>\n",
              "      <td>1.182771</td>\n",
              "      <td>2.0</td>\n",
              "      <td>train</td>\n",
              "    </tr>\n",
              "    <tr>\n",
              "      <th>ERR1464420</th>\n",
              "      <td>1.379899</td>\n",
              "      <td>2.0</td>\n",
              "      <td>train</td>\n",
              "    </tr>\n",
              "    <tr>\n",
              "      <th>ERR1464522</th>\n",
              "      <td>0.065709</td>\n",
              "      <td>2.0</td>\n",
              "      <td>train</td>\n",
              "    </tr>\n",
              "    <tr>\n",
              "      <th>ERR1467188</th>\n",
              "      <td>0.065709</td>\n",
              "      <td>2.0</td>\n",
              "      <td>train</td>\n",
              "    </tr>\n",
              "  </tbody>\n",
              "</table>\n",
              "</div>"
            ],
            "text/plain": [
              "                true  pred  split\n",
              "ERR1467156  0.000000   2.0  train\n",
              "ERR1464419  1.182771   2.0  train\n",
              "ERR1464420  1.379899   2.0  train\n",
              "ERR1464522  0.065709   2.0  train\n",
              "ERR1467188  0.065709   2.0  train"
            ]
          },
          "execution_count": 6,
          "metadata": {},
          "output_type": "execute_result"
        }
      ],
      "source": [
        "pred_df = pd.read_csv(os.path.join(path_to_pred, filename), index_col=0)\n",
        "pred_df_train = pred_df[pred_df[\"split\"] == \"train\"]\n",
        "pred_df_val = pred_df[pred_df[\"split\"] == \"val\"]\n",
        "pred_df[\"pred\"] = pred_df[\"pred\"].astype(float)\n",
        "pred_df.head()"
      ]
    },
    {
      "cell_type": "code",
      "execution_count": 7,
      "metadata": {},
      "outputs": [
        {
          "name": "stdout",
          "output_type": "stream",
          "text": [
            "train:\n",
            "4.036544309722703\n",
            "val:\n",
            "4.941856639040195\n"
          ]
        }
      ],
      "source": [
        "print(\"train:\")\n",
        "print(root_mean_squared_error(pred_df_train[\"true\"], pred_df_train[\"pred\"]))\n",
        "print(\"val:\")\n",
        "print(root_mean_squared_error(pred_df_val[\"true\"], pred_df_val[\"pred\"]))"
      ]
    },
    {
      "cell_type": "code",
      "execution_count": 8,
      "metadata": {},
      "outputs": [
        {
          "name": "stdout",
          "output_type": "stream",
          "text": [
            "train:\n",
            "tensor(4.0365, dtype=torch.float64)\n",
            "val:\n"
          ]
        },
        {
          "data": {
            "text/plain": [
              "tensor(4.9419, dtype=torch.float64)"
            ]
          },
          "execution_count": 8,
          "metadata": {},
          "output_type": "execute_result"
        }
      ],
      "source": [
        "print(\"train:\")\n",
        "rmse_tensor_train = torch.sqrt(\n",
        "    nn.functional.mse_loss(\n",
        "        torch.from_numpy(pred_df_train[\"pred\"].values),\n",
        "        torch.from_numpy(pred_df_train[\"true\"].values),\n",
        "    )\n",
        ")\n",
        "print(rmse_tensor_train)\n",
        "\n",
        "print(\"val:\")\n",
        "rmse_tensor_val = torch.sqrt(\n",
        "    nn.functional.mse_loss(\n",
        "        torch.from_numpy(pred_df_val[\"pred\"].values),\n",
        "        torch.from_numpy(pred_df_val[\"true\"].values),\n",
        "    )\n",
        ")\n",
        "rmse_tensor_val"
      ]
    }
  ],
  "metadata": {
    "kernelspec": {
      "display_name": "ritme",
      "language": "python",
      "name": "python3"
    },
    "language_info": {
      "codemirror_mode": {
        "name": "ipython",
        "version": 3
      },
      "file_extension": ".py",
      "mimetype": "text/x-python",
      "name": "python",
      "nbconvert_exporter": "python",
      "pygments_lexer": "ipython3",
      "version": "3.9.19"
    }
  },
  "nbformat": 4,
  "nbformat_minor": 2
}
