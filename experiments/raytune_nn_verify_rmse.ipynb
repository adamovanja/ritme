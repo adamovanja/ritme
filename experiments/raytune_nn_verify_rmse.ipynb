{
  "cells": [
    {
      "cell_type": "markdown",
      "metadata": {},
      "source": [
        "# Compare rmse calculated from all predictions vs. during ray tune logging\n",
        "\n",
        "Linked with raytune_nn_rmse_mismatch"
      ]
    },
    {
      "cell_type": "code",
      "execution_count": null,
      "metadata": {},
      "outputs": [],
      "source": [
        "import os\n",
        "import pandas as pd\n",
        "import torch\n",
        "from torch import nn\n",
        "from sklearn.metrics import root_mean_squared_error"
      ]
    },
    {
      "cell_type": "code",
      "execution_count": null,
      "metadata": {},
      "outputs": [],
      "source": [
        "path_to_pred = \"/Users/adamova/Documents/projects/14_LM1/q2-ritme/experiments/models/r_nn_all_test_local_one_epoch_1/nn_class/train_nn_class_2385d79f_1_batch_size=64,data_aggregation=None,data_selection=variance_threshold,data_selection_t=0.0001,data_trans_2024-08-22_19-49-05/\"\n",
        "filename = \"debug_last_log_vs_preds.csv\""
      ]
    },
    {
      "cell_type": "code",
      "execution_count": null,
      "metadata": {},
      "outputs": [],
      "source": [
        "pred_df = pd.read_csv(os.path.join(path_to_pred, filename), index_col=0)\n",
        "pred_df_train = pred_df[pred_df[\"split\"] == \"train\"]\n",
        "pred_df_val = pred_df[pred_df[\"split\"] == \"val\"]\n",
        "pred_df[\"pred\"] = pred_df[\"pred\"].astype(float)\n",
        "pred_df.head()"
      ]
    },
    {
      "cell_type": "code",
      "execution_count": null,
      "metadata": {},
      "outputs": [],
      "source": [
        "print(\"train:\")\n",
        "print(root_mean_squared_error(pred_df_train[\"true\"], pred_df_train[\"pred\"]))\n",
        "print(\"val:\")\n",
        "print(root_mean_squared_error(pred_df_val[\"true\"], pred_df_val[\"pred\"]))"
      ]
    },
    {
      "cell_type": "code",
      "execution_count": null,
      "metadata": {},
      "outputs": [],
      "source": [
        "print(\"train:\")\n",
        "rmse_tensor_train = torch.sqrt(\n",
        "    nn.functional.mse_loss(\n",
        "        torch.from_numpy(pred_df_train[\"pred\"].values),\n",
        "        torch.from_numpy(pred_df_train[\"true\"].values),\n",
        "    )\n",
        ")\n",
        "print(rmse_tensor_train)\n",
        "\n",
        "print(\"val:\")\n",
        "rmse_tensor_val = torch.sqrt(\n",
        "    nn.functional.mse_loss(\n",
        "        torch.from_numpy(pred_df_val[\"pred\"].values),\n",
        "        torch.from_numpy(pred_df_val[\"true\"].values),\n",
        "    )\n",
        ")\n",
        "rmse_tensor_val"
      ]
    }
  ],
  "metadata": {
    "kernelspec": {
      "display_name": "ritme",
      "language": "python",
      "name": "python3"
    },
    "language_info": {
      "codemirror_mode": {
        "name": "ipython",
        "version": 3
      },
      "file_extension": ".py",
      "mimetype": "text/x-python",
      "name": "python",
      "nbconvert_exporter": "python",
      "pygments_lexer": "ipython3",
      "version": "3.9.19"
    }
  },
  "nbformat": 4,
  "nbformat_minor": 2
}
