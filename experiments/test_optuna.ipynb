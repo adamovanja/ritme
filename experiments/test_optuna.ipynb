{
  "cells": [
    {
      "cell_type": "code",
      "execution_count": 1,
      "metadata": {},
      "outputs": [],
      "source": [
        "import time\n",
        "from typing import Dict, Optional, Any\n",
        "\n",
        "from ray import train, tune\n",
        "from ray.tune.search import ConcurrencyLimiter\n",
        "from ray.tune.search.optuna import OptunaSearch\n",
        "\n",
        "from functools import partial"
      ]
    },
    {
      "cell_type": "code",
      "execution_count": 2,
      "metadata": {},
      "outputs": [],
      "source": [
        "def evaluate(step, width, height, activation):\n",
        "    time.sleep(0.1)\n",
        "    activation_boost = 10 if activation == \"relu\" else 0\n",
        "    return (0.1 + width * step / 100) ** (-1) + height * 0.1 + activation_boost\n",
        "\n",
        "\n",
        "def objective(config):\n",
        "    for step in range(config[\"steps\"]):\n",
        "        score = evaluate(step, config[\"width\"], config[\"height\"], config[\"activation\"])\n",
        "        train.report({\"iterations\": step, \"mean_loss\": score})"
      ]
    },
    {
      "cell_type": "code",
      "execution_count": null,
      "metadata": {},
      "outputs": [],
      "source": [
        "# search_space = {\n",
        "#     \"steps\": 100,\n",
        "#     \"width\": tune.uniform(0, 20),\n",
        "#     \"height\": tune.uniform(-100, 100),\n",
        "#     \"activation\": tune.choice([\"relu\", \"tanh\"]),\n",
        "# }\n",
        "\n",
        "\n",
        "def define_by_run_func(trial) -> Optional[Dict[str, Any]]:\n",
        "    \"\"\"creates the search space.\n",
        "    This function should either return None or a dict with constant values.\n",
        "    \"\"\"\n",
        "    activation = trial.suggest_categorical(\"activation\", [\"relu\", \"tanh\"])\n",
        "\n",
        "    # Define-by-run allows for conditional search spaces.\n",
        "    if activation == \"relu\":\n",
        "        trial.suggest_float(\"width\", 0, 1)\n",
        "        trial.suggest_float(\"height\", 0, 1)\n",
        "    else:\n",
        "        trial.suggest_float(\"width\", 100, 200)\n",
        "        trial.suggest_float(\"height\", 100, 200)\n",
        "\n",
        "    # Return all constants in a dictionary.\n",
        "    return {\"steps\": 100}\n",
        "\n",
        "\n",
        "searcher = OptunaSearch(space=define_by_run_func, metric=\"mean_loss\", mode=\"min\")\n",
        "algo = ConcurrencyLimiter(searcher, max_concurrent=4)\n",
        "num_samples = 2\n",
        "\n",
        "tuner = tune.Tuner(\n",
        "    objective,\n",
        "    tune_config=tune.TuneConfig(\n",
        "        search_alg=algo,\n",
        "        num_samples=num_samples,\n",
        "    ),\n",
        ")\n",
        "results = tuner.fit()"
      ]
    },
    {
      "cell_type": "code",
      "execution_count": 3,
      "metadata": {},
      "outputs": [
        {
          "data": {
            "text/html": [
              "<div class=\"tuneStatus\">\n",
              "  <div style=\"display: flex;flex-direction: row\">\n",
              "    <div style=\"display: flex;flex-direction: column;\">\n",
              "      <h3>Tune Status</h3>\n",
              "      <table>\n",
              "<tbody>\n",
              "<tr><td>Current time:</td><td>2024-06-20 17:15:32</td></tr>\n",
              "<tr><td>Running for: </td><td>00:00:19.40        </td></tr>\n",
              "<tr><td>Memory:      </td><td>10.9/16.0 GiB      </td></tr>\n",
              "</tbody>\n",
              "</table>\n",
              "    </div>\n",
              "    <div class=\"vDivider\"></div>\n",
              "    <div class=\"systemInfo\">\n",
              "      <h3>System Info</h3>\n",
              "      Using FIFO scheduling algorithm.<br>Logical resource usage: 1.0/8 CPUs, 0/0 GPUs\n",
              "    </div>\n",
              "    \n",
              "  </div>\n",
              "  <div class=\"hDivider\"></div>\n",
              "  <div class=\"trialStatus\">\n",
              "    <h3>Trial Status</h3>\n",
              "    <table>\n",
              "<thead>\n",
              "<tr><th>Trial name        </th><th>status    </th><th>loc            </th><th>activation  </th><th style=\"text-align: right;\">  height</th><th style=\"text-align: right;\">  steps</th><th style=\"text-align: right;\">   width</th><th style=\"text-align: right;\">   loss</th><th style=\"text-align: right;\">  iter</th><th style=\"text-align: right;\">  total time (s)</th><th style=\"text-align: right;\">  iterations</th></tr>\n",
              "</thead>\n",
              "<tbody>\n",
              "<tr><td>objective_a70611c8</td><td>TERMINATED</td><td>127.0.0.1:88784</td><td>relu        </td><td style=\"text-align: right;\">0.396556</td><td style=\"text-align: right;\">    100</td><td style=\"text-align: right;\">0.399107</td><td style=\"text-align: right;\">12.0594</td><td style=\"text-align: right;\">   100</td><td style=\"text-align: right;\">         10.5585</td><td style=\"text-align: right;\">          99</td></tr>\n",
              "<tr><td>objective_85eb6c75</td><td>TERMINATED</td><td>127.0.0.1:88786</td><td>relu        </td><td style=\"text-align: right;\">0.910731</td><td style=\"text-align: right;\">    100</td><td style=\"text-align: right;\">0.96397 </td><td style=\"text-align: right;\">11.0395</td><td style=\"text-align: right;\">   100</td><td style=\"text-align: right;\">         10.5826</td><td style=\"text-align: right;\">          99</td></tr>\n",
              "</tbody>\n",
              "</table>\n",
              "  </div>\n",
              "</div>\n",
              "<style>\n",
              ".tuneStatus {\n",
              "  color: var(--jp-ui-font-color1);\n",
              "}\n",
              ".tuneStatus .systemInfo {\n",
              "  display: flex;\n",
              "  flex-direction: column;\n",
              "}\n",
              ".tuneStatus td {\n",
              "  white-space: nowrap;\n",
              "}\n",
              ".tuneStatus .trialStatus {\n",
              "  display: flex;\n",
              "  flex-direction: column;\n",
              "}\n",
              ".tuneStatus h3 {\n",
              "  font-weight: bold;\n",
              "}\n",
              ".tuneStatus .hDivider {\n",
              "  border-bottom-width: var(--jp-border-width);\n",
              "  border-bottom-color: var(--jp-border-color0);\n",
              "  border-bottom-style: solid;\n",
              "}\n",
              ".tuneStatus .vDivider {\n",
              "  border-left-width: var(--jp-border-width);\n",
              "  border-left-color: var(--jp-border-color0);\n",
              "  border-left-style: solid;\n",
              "  margin: 0.5em 1em 0.5em 1em;\n",
              "}\n",
              "</style>\n"
            ],
            "text/plain": [
              "<IPython.core.display.HTML object>"
            ]
          },
          "metadata": {},
          "output_type": "display_data"
        },
        {
          "name": "stdout",
          "output_type": "stream",
          "text": [
            "Extra parameter passed: example\n",
            "Extra parameter passed: example\n"
          ]
        },
        {
          "name": "stderr",
          "output_type": "stream",
          "text": [
            "2024-06-20 17:15:32,538\tINFO tune.py:1009 -- Wrote the latest version of all result files and experiment state to '/Users/adamova/ray_results/objective_2024-06-20_17-15-04' in 0.0135s.\n",
            "2024-06-20 17:15:32,544\tINFO tune.py:1041 -- Total run time: 23.80 seconds (19.38 seconds for the tuning loop).\n"
          ]
        }
      ],
      "source": [
        "def define_by_run_func(trial, i) -> Optional[Dict[str, Any]]:\n",
        "    print(f\"Extra parameter passed: {i}\")\n",
        "    activation = trial.suggest_categorical(\"activation\", [\"relu\", \"tanh\"])\n",
        "\n",
        "    if activation == \"relu\":\n",
        "        trial.suggest_float(\"width\", 0, 1)\n",
        "        trial.suggest_float(\"height\", 0, 1)\n",
        "    else:\n",
        "        trial.suggest_float(\"width\", 100, 200)\n",
        "        trial.suggest_float(\"height\", 100, 200)\n",
        "\n",
        "    return {\"steps\": 100}\n",
        "\n",
        "\n",
        "# Usage\n",
        "extra_param_value = \"example\"\n",
        "custom_define_by_run_func = partial(define_by_run_func, i=extra_param_value)\n",
        "\n",
        "searcher = OptunaSearch(space=custom_define_by_run_func, metric=\"mean_loss\", mode=\"min\")\n",
        "\n",
        "algo = ConcurrencyLimiter(searcher, max_concurrent=4)\n",
        "num_samples = 2\n",
        "\n",
        "tuner = tune.Tuner(\n",
        "    objective,\n",
        "    tune_config=tune.TuneConfig(\n",
        "        search_alg=algo,\n",
        "        num_samples=num_samples,\n",
        "    ),\n",
        ")\n",
        "results = tuner.fit()"
      ]
    }
  ],
  "metadata": {
    "kernelspec": {
      "display_name": "ritme",
      "language": "python",
      "name": "python3"
    },
    "language_info": {
      "codemirror_mode": {
        "name": "ipython",
        "version": 3
      },
      "file_extension": ".py",
      "mimetype": "text/x-python",
      "name": "python",
      "nbconvert_exporter": "python",
      "pygments_lexer": "ipython3",
      "version": "3.9.19"
    }
  },
  "nbformat": 4,
  "nbformat_minor": 2
}
