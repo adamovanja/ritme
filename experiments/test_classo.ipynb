{
  "cells": [
    {
      "cell_type": "markdown",
      "metadata": {},
      "source": [
        "# Test classo\n",
        "code edited from CentralPark example in GitHub repos [here](https://github.com/Leo-Simpson/c-lasso/blob/master/examples/example_CentralParkSoil.py)"
      ]
    },
    {
      "cell_type": "markdown",
      "metadata": {},
      "source": [
        "## Import"
      ]
    },
    {
      "cell_type": "code",
      "execution_count": 1,
      "metadata": {},
      "outputs": [],
      "source": [
        "from os.path import join\n",
        "from classo import classo_problem\n",
        "import matplotlib.pyplot as plt\n",
        "import numpy as np\n",
        "\n",
        "%matplotlib inline\n",
        "%load_ext autoreload\n",
        "%autoreload 2"
      ]
    },
    {
      "cell_type": "markdown",
      "metadata": {},
      "source": [
        "## Load data"
      ]
    },
    {
      "cell_type": "code",
      "execution_count": 2,
      "metadata": {},
      "outputs": [],
      "source": [
        "data_dir = join(\"data\", \"CentralParkSoil\")\n",
        "data = np.load(join(data_dir, \"cps.npz\"))\n",
        "\n",
        "# X are relative abundance counts\n",
        "x = data[\"x\"]  # (580, 3379)\n",
        "\n",
        "# y is target\n",
        "y = data[\"y\"]  # (580,)\n",
        "\n",
        "label = data[\"label\"]  # (3704,) = 3379 OTUs + 325 nodes in tree\n",
        "label_short = np.array([la.split(\"::\")[-1] for la in label])"
      ]
    },
    {
      "cell_type": "code",
      "execution_count": 5,
      "metadata": {},
      "outputs": [
        {
          "data": {
            "text/plain": [
              "array(['Life::k__Bacteria::p__Proteobacteria::c__Gammaproteobacteria::o__Legionellales::f__Coxiellaceae::g__Aquicella::s__1::OTU_2211',\n",
              "       'Life::k__Bacteria::p__Proteobacteria::c__Gammaproteobacteria::o__Legionellales::f__Coxiellaceae::g__Aquicella::s__2::OTU_1172',\n",
              "       'Life::k__Bacteria::p__Proteobacteria::c__Gammaproteobacteria::o__Legionellales::f__Coxiellaceae::g__Aquicella::s__3::OTU_1734',\n",
              "       ...,\n",
              "       'Life::k__Bacteria::p__Proteobacteria::c__Gammaproteobacteria',\n",
              "       'Life::k__Bacteria::p__Proteobacteria', 'Life::k__Bacteria'],\n",
              "      dtype='<U163')"
            ]
          },
          "execution_count": 5,
          "metadata": {},
          "output_type": "execute_result"
        }
      ],
      "source": [
        "label"
      ]
    },
    {
      "cell_type": "code",
      "execution_count": 4,
      "metadata": {},
      "outputs": [
        {
          "data": {
            "text/plain": [
              "array(['OTU_2211', 'OTU_1172', 'OTU_1734', ..., 'c__Gammaproteobacteria',\n",
              "       'p__Proteobacteria', 'k__Bacteria'], dtype='<U30')"
            ]
          },
          "execution_count": 4,
          "metadata": {},
          "output_type": "execute_result"
        }
      ],
      "source": [
        "label_short"
      ]
    },
    {
      "cell_type": "code",
      "execution_count": 8,
      "metadata": {},
      "outputs": [],
      "source": [
        "# A is tree # todo: find out how to create this particular tree\n",
        "# ! creation of A: my planned approach\n",
        "# ! df_taxonomy = perform_taxonomic_classification()\n",
        "# ! A = create_tree(df_taxonomy)\n",
        "# ! create_tree should transform df with assignments to a 0,1 matrix:\n",
        "# as in here: function \"phylo_to_A\":\n",
        "# https://github.com/jacobbien/trac/blob/b6b9f4c08391d618152c4e02caf9eb4d6798aed8/R/getting_A.R#L64\n",
        "A = np.load(join(data_dir, \"A.npy\"))  # numpy array: (3379, 3704)\n",
        "# 3704 = 3379 OTUs + 325 nodes in tree"
      ]
    },
    {
      "cell_type": "code",
      "execution_count": null,
      "metadata": {},
      "outputs": [],
      "source": [
        "A"
      ]
    },
    {
      "cell_type": "markdown",
      "metadata": {},
      "source": [
        "## Preprocess: taxonomy aggregation"
      ]
    },
    {
      "cell_type": "code",
      "execution_count": 9,
      "metadata": {},
      "outputs": [],
      "source": [
        "pseudo_count = 1\n",
        "X = np.log(pseudo_count + x)\n",
        "nleaves = np.sum(A, axis=0)\n",
        "logGeom = X.dot(A) / nleaves\n",
        "\n",
        "n, d = logGeom.shape"
      ]
    },
    {
      "cell_type": "code",
      "execution_count": 10,
      "metadata": {},
      "outputs": [],
      "source": [
        "# define train set: tr\n",
        "tr = np.random.permutation(n)[: int(0.8 * n)]"
      ]
    },
    {
      "cell_type": "markdown",
      "metadata": {},
      "source": [
        "## Cross validation and Path Computation"
      ]
    },
    {
      "cell_type": "code",
      "execution_count": 11,
      "metadata": {},
      "outputs": [
        {
          "data": {
            "text/plain": [
              "(464, 3704)"
            ]
          },
          "execution_count": 11,
          "metadata": {},
          "output_type": "execute_result"
        }
      ],
      "source": [
        "logGeom[tr].shape"
      ]
    },
    {
      "cell_type": "code",
      "execution_count": 12,
      "metadata": {},
      "outputs": [
        {
          "data": {
            "text/plain": [
              "(464,)"
            ]
          },
          "execution_count": 12,
          "metadata": {},
          "output_type": "execute_result"
        }
      ],
      "source": [
        "y[tr].shape"
      ]
    },
    {
      "cell_type": "code",
      "execution_count": 13,
      "metadata": {},
      "outputs": [
        {
          "data": {
            "text/plain": [
              "(3704,)"
            ]
          },
          "execution_count": 13,
          "metadata": {},
          "output_type": "execute_result"
        }
      ],
      "source": [
        "label_short.shape"
      ]
    },
    {
      "cell_type": "code",
      "execution_count": null,
      "metadata": {},
      "outputs": [],
      "source": [
        "problem = classo_problem(logGeom[tr], y[tr], label=label_short)\n",
        "\n",
        "problem.formulation.w = 1 / nleaves\n",
        "problem.formulation.intercept = True\n",
        "problem.formulation.concomitant = False  # not relevant for here\n",
        "\n",
        "# ! one form of model selection needs to be chosen\n",
        "# stability selection: for pre-selected range of lambda find beta paths\n",
        "problem.model_selection.StabSel = False\n",
        "# calculate coefficients for a grid of lambdas\n",
        "problem.model_selection.PATH = False\n",
        "# todo: check if it is fair that trac is trained with CV internally whereas others are not\n",
        "# lambda values checked with CV are `Nlam` points between 1 and `lamin`, with\n",
        "# logarithm scale or not depending on `logscale`.\n",
        "problem.model_selection.CV = True\n",
        "problem.model_selection.CVparameters.seed = (\n",
        "    6  # one could change logscale, Nsubset, oneSE\n",
        ")\n",
        "# 'one-standard-error' = select simplest model (largest lambda value) in CV\n",
        "# whose CV score is within 1 stddev of best score\n",
        "# ! create hyperparameter for this\n",
        "problem.model_selection.CVparameters.oneSE = True\n",
        "# ! create hyperparameter for this\n",
        "problem.model_selection.CVparameters.Nlam = 80\n",
        "# ! create hyperparameter for this\n",
        "problem.model_selection.CVparameters.lamin = 0.001\n",
        "\n",
        "# ! for ritme: no feature_transformation to be used for trac\n",
        "print(problem)"
      ]
    },
    {
      "cell_type": "code",
      "execution_count": null,
      "metadata": {},
      "outputs": [],
      "source": [
        "problem.solve()\n",
        "print(problem.solution)"
      ]
    },
    {
      "cell_type": "code",
      "execution_count": null,
      "metadata": {},
      "outputs": [],
      "source": [
        "# ! class solution_CV: defined in @solver.py L930\n",
        "selection = problem.solution.CV.selected_param[1:]  # exclude the intercept\n",
        "print(label[selection])"
      ]
    },
    {
      "cell_type": "code",
      "execution_count": null,
      "metadata": {},
      "outputs": [],
      "source": [
        "dir(problem.solution.CV)"
      ]
    },
    {
      "cell_type": "code",
      "execution_count": null,
      "metadata": {},
      "outputs": [],
      "source": [
        "# selected lambda with 1-standard-error method\n",
        "problem.solution.CV.lambda_1SE\n",
        "\n",
        "# selected lambda without 1-standard-error method\n",
        "problem.solution.CV.lambda_min"
      ]
    },
    {
      "cell_type": "markdown",
      "metadata": {},
      "source": [
        "## Prediction plot"
      ]
    },
    {
      "cell_type": "code",
      "execution_count": null,
      "metadata": {},
      "outputs": [],
      "source": [
        "# define test set\n",
        "te = np.array([i for i in range(len(y)) if i not in tr])\n",
        "\n",
        "# alpha [0] is learned intercept, alpha [1:] are learned coefficients for all features\n",
        "# in logGeom (n_samples, n_features)\n",
        "# ! if oneSE=True -> uses lambda_1SE else lambda_min (see CV in\n",
        "# ! classo>cross_validation.py)\n",
        "# refit -> solves unconstrained least squares problem with selected lambda and\n",
        "# variables\n",
        "alpha = problem.solution.CV.refit\n",
        "len(alpha)"
      ]
    },
    {
      "cell_type": "code",
      "execution_count": null,
      "metadata": {},
      "outputs": [],
      "source": [
        "# model prediction\n",
        "yhat = logGeom[te].dot(alpha[1:]) + alpha[0]\n",
        "\n",
        "M1, M2 = max(y[te]), min(y[te])\n",
        "plt.plot(yhat, y[te], \"bo\", label=\"sample of the testing set\")\n",
        "plt.plot([M1, M2], [M1, M2], \"k-\", label=\"identity\")\n",
        "plt.xlabel(\"predictor yhat\"), plt.ylabel(\"real y\"), plt.legend()\n",
        "plt.tight_layout()\n",
        "plt.show()"
      ]
    },
    {
      "cell_type": "markdown",
      "metadata": {},
      "source": [
        "## Stability selection"
      ]
    },
    {
      "cell_type": "code",
      "execution_count": null,
      "metadata": {},
      "outputs": [],
      "source": [
        "problem = classo_problem(logGeom[tr], y[tr], label=label_short)\n",
        "\n",
        "problem.formulation.w = 1 / nleaves\n",
        "problem.formulation.intercept = True\n",
        "problem.formulation.concomitant = False\n",
        "\n",
        "\n",
        "problem.model_selection.PATH = False\n",
        "problem.model_selection.CV = False\n",
        "# can change q, B, nS, method, threshold etc in problem.model_selection.StabSelparameters\n",
        "\n",
        "problem.solve()\n",
        "\n",
        "print(problem, problem.solution)\n",
        "\n",
        "selection = problem.solution.StabSel.selected_param[1:]  # exclude the intercept\n",
        "print(label[selection])"
      ]
    },
    {
      "cell_type": "markdown",
      "metadata": {},
      "source": [
        "## Prediction plot"
      ]
    },
    {
      "cell_type": "code",
      "execution_count": null,
      "metadata": {},
      "outputs": [],
      "source": [
        "te = np.array([i for i in range(len(y)) if i not in tr])\n",
        "alpha = problem.solution.StabSel.refit\n",
        "yhat = logGeom[te].dot(alpha[1:]) + alpha[0]\n",
        "\n",
        "M1, M2 = max(y[te]), min(y[te])\n",
        "plt.plot(yhat, y[te], \"bo\", label=\"sample of the testing set\")\n",
        "plt.plot([M1, M2], [M1, M2], \"k-\", label=\"identity\")\n",
        "plt.xlabel(\"predictor yhat\"), plt.ylabel(\"real y\"), plt.legend()\n",
        "plt.tight_layout()"
      ]
    }
  ],
  "metadata": {
    "kernelspec": {
      "display_name": "ritme_wclasso",
      "language": "python",
      "name": "python3"
    },
    "language_info": {
      "codemirror_mode": {
        "name": "ipython",
        "version": 3
      },
      "file_extension": ".py",
      "mimetype": "text/x-python",
      "name": "python",
      "nbconvert_exporter": "python",
      "pygments_lexer": "ipython3",
      "version": "3.8.0"
    }
  },
  "nbformat": 4,
  "nbformat_minor": 2
}
