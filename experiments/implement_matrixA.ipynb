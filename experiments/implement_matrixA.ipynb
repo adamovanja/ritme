{
  "cells": [
    {
      "cell_type": "code",
      "execution_count": 1,
      "metadata": {},
      "outputs": [],
      "source": [
        "import numpy as np\n",
        "from skbio import TreeNode\n",
        "import qiime2 as q2\n",
        "import pandas as pd\n",
        "import skbio\n",
        "from qiime2.plugins import phylogeny"
      ]
    },
    {
      "cell_type": "code",
      "execution_count": 16,
      "metadata": {},
      "outputs": [],
      "source": [
        "def create_matrix_from_tree(tree):\n",
        "    # Get all leaves and create a mapping from leaf names to indices\n",
        "    leaves = list(tree.tips())\n",
        "    leaf_names = [leaf.name for leaf in leaves]\n",
        "    # map each leaf name to unique index\n",
        "    leaf_index_map = {name: idx for idx, name in enumerate(leaf_names)}\n",
        "\n",
        "    # Get the number of leaves and internal nodes\n",
        "    num_leaves = len(leaf_names)\n",
        "    # root is not included\n",
        "    internal_nodes = list(tree.non_tips())\n",
        "\n",
        "    # Create the identity matrix for the leaves: A1 (num_leaves x num_leaves)\n",
        "    A1 = np.eye(num_leaves)\n",
        "\n",
        "    # Create the matrix for the internal nodes: A2 (num_leaves x\n",
        "    # num_internal_nodes)\n",
        "    # initialise it with zeros\n",
        "    A2 = np.zeros((num_leaves, len(internal_nodes)))\n",
        "\n",
        "    # Populate A2 with 1s for the leaves linked by each internal node\n",
        "    # iterate over all internal nodes to find descendents of this node and mark\n",
        "    # them accordingly\n",
        "    for j, node in enumerate(internal_nodes):\n",
        "        descendant_leaves = {leaf.name for leaf in node.tips()}\n",
        "        for leaf_name in leaf_names:\n",
        "            if leaf_name in descendant_leaves:\n",
        "                A2[leaf_index_map[leaf_name], j] = 1\n",
        "\n",
        "    # Concatenate A1 and A2 to create the final matrix A\n",
        "    A = np.hstack((A1, A2))\n",
        "\n",
        "    return A"
      ]
    },
    {
      "cell_type": "markdown",
      "metadata": {},
      "source": [
        "## Example data"
      ]
    },
    {
      "cell_type": "code",
      "execution_count": 3,
      "metadata": {},
      "outputs": [
        {
          "name": "stdout",
          "output_type": "stream",
          "text": [
            "                    /-f1\n",
            "          /n1------|\n",
            "-n2------|          \\-f2\n",
            "         |\n",
            "          \\-f3\n"
          ]
        }
      ],
      "source": [
        "# Create the tree nodes with lengths\n",
        "n1 = TreeNode(name=\"n1\")\n",
        "f1 = TreeNode(name=\"f1\", length=1.0)\n",
        "f2 = TreeNode(name=\"f2\", length=1.0)\n",
        "n2 = TreeNode(name=\"n2\")\n",
        "f3 = TreeNode(name=\"f3\", length=1.0)\n",
        "\n",
        "# Build the tree structure with lengths\n",
        "n1.extend([f1, f2])\n",
        "n2.extend([n1, f3])\n",
        "n1.length = 1.0\n",
        "n2.length = 1.0\n",
        "\n",
        "# n2 is the root of this tree\n",
        "tree = n2\n",
        "print(tree.ascii_art())"
      ]
    },
    {
      "cell_type": "code",
      "execution_count": 4,
      "metadata": {},
      "outputs": [
        {
          "data": {
            "text/plain": [
              "array([[1., 0., 0., 1.],\n",
              "       [0., 1., 0., 1.],\n",
              "       [0., 0., 1., 0.]])"
            ]
          },
          "execution_count": 4,
          "metadata": {},
          "output_type": "execute_result"
        }
      ],
      "source": [
        "A = create_matrix_from_tree(tree)\n",
        "A"
      ]
    },
    {
      "cell_type": "markdown",
      "metadata": {},
      "source": [
        "## Real data: MA2"
      ]
    },
    {
      "cell_type": "code",
      "execution_count": 5,
      "metadata": {},
      "outputs": [
        {
          "data": {
            "text/plain": [
              "(9478, 5580)"
            ]
          },
          "execution_count": 5,
          "metadata": {},
          "output_type": "execute_result"
        }
      ],
      "source": [
        "# read feature table\n",
        "art_feature_table = q2.Artifact.load(\"data/220728_monthly/all_otu_table_filt.qza\")\n",
        "df_ft = art_feature_table.view(pd.DataFrame)\n",
        "df_ft.shape"
      ]
    },
    {
      "cell_type": "code",
      "execution_count": 6,
      "metadata": {},
      "outputs": [
        {
          "name": "stdout",
          "output_type": "stream",
          "text": [
            "(5608, 2)\n",
            "(5580, 2)\n"
          ]
        }
      ],
      "source": [
        "path_to_taxonomy = \"data/220728_monthly/otu_taxonomy_all.qza\"\n",
        "art_taxonomy = q2.Artifact.load(path_to_taxonomy)\n",
        "df_taxonomy = art_taxonomy.view(pd.DataFrame)\n",
        "print(df_taxonomy.shape)\n",
        "\n",
        "# Filter the taxonomy based on the feature table\n",
        "df_taxonomy_f = df_taxonomy[df_taxonomy.index.isin(df_ft.columns.tolist())]\n",
        "print(df_taxonomy_f.shape)"
      ]
    },
    {
      "cell_type": "code",
      "execution_count": 7,
      "metadata": {},
      "outputs": [
        {
          "data": {
            "text/plain": [
              "870198"
            ]
          },
          "execution_count": 7,
          "metadata": {},
          "output_type": "execute_result"
        }
      ],
      "source": [
        "# read silva phylo tree\n",
        "path_to_phylo = \"data/220728_monthly/silva-138-99-rooted-tree.qza\"\n",
        "art_phylo = q2.Artifact.load(path_to_phylo)\n",
        "tree_phylo = art_phylo.view(skbio.TreeNode)\n",
        "# total nodes\n",
        "tree_phylo.count()"
      ]
    },
    {
      "cell_type": "code",
      "execution_count": 8,
      "metadata": {},
      "outputs": [
        {
          "data": {
            "text/plain": [
              "11159"
            ]
          },
          "execution_count": 8,
          "metadata": {},
          "output_type": "execute_result"
        }
      ],
      "source": [
        "# filter tree by feature table: this prunes a phylogenetic tree to match the\n",
        "# input ids\n",
        "(art_phylo_f,) = phylogeny.actions.filter_tree(tree=art_phylo, table=art_feature_table)\n",
        "tree_phylo_f = art_phylo_f.view(skbio.TreeNode)\n",
        "\n",
        "# total nodes\n",
        "tree_phylo_f.count()"
      ]
    },
    {
      "cell_type": "code",
      "execution_count": 9,
      "metadata": {},
      "outputs": [],
      "source": [
        "# ensure that # leaves in tree == feature table dimension\n",
        "num_leaves = tree_phylo_f.count(tips=True)\n",
        "assert num_leaves == df_ft.shape[1]"
      ]
    },
    {
      "cell_type": "code",
      "execution_count": 17,
      "metadata": {},
      "outputs": [
        {
          "name": "stdout",
          "output_type": "stream",
          "text": [
            "Root is not included\n"
          ]
        },
        {
          "data": {
            "text/plain": [
              "array([[1., 0., 0., ..., 0., 0., 0.],\n",
              "       [0., 1., 0., ..., 0., 0., 0.],\n",
              "       [0., 0., 1., ..., 0., 0., 0.],\n",
              "       ...,\n",
              "       [0., 0., 0., ..., 0., 1., 1.],\n",
              "       [0., 0., 0., ..., 1., 1., 1.],\n",
              "       [0., 0., 0., ..., 1., 1., 1.]])"
            ]
          },
          "execution_count": 17,
          "metadata": {},
          "output_type": "execute_result"
        }
      ],
      "source": [
        "A_ma2 = create_matrix_from_tree(tree_phylo_f)\n",
        "A_ma2"
      ]
    },
    {
      "cell_type": "code",
      "execution_count": 20,
      "metadata": {},
      "outputs": [],
      "source": [
        "# verififcation\n",
        "# no all 1 in one column\n",
        "assert not np.any(np.all(A_ma2 == 1.0, axis=0))\n",
        "\n",
        "# shape should be = feature_count + node_count\n",
        "nb_features = df_ft.shape[1]\n",
        "nb_non_leaf_nodes = len(list(tree_phylo_f.non_tips()))\n",
        "\n",
        "assert nb_features + nb_non_leaf_nodes == A_ma2.shape[1]"
      ]
    }
  ],
  "metadata": {
    "kernelspec": {
      "display_name": "ritme_wclasso",
      "language": "python",
      "name": "python3"
    },
    "language_info": {
      "codemirror_mode": {
        "name": "ipython",
        "version": 3
      },
      "file_extension": ".py",
      "mimetype": "text/x-python",
      "name": "python",
      "nbconvert_exporter": "python",
      "pygments_lexer": "ipython3",
      "version": "3.8.19"
    }
  },
  "nbformat": 4,
  "nbformat_minor": 2
}
