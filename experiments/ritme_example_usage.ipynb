{
  "cells": [
    {
      "cell_type": "markdown",
      "metadata": {},
      "source": [
        "# Notebook displaying usage of the three main functionalities of *ritme*"
      ]
    },
    {
      "cell_type": "markdown",
      "metadata": {},
      "source": [
        "This notebook demonstrates how to use the three methods in `ritme` either through the [command line](#cli-example-usage) or in [a Python script](#python-api-example-usage). \n",
        "\n",
        "This demonstration uses example datasets from the [QIIME2 Moving Pictures tutorial](https://docs.qiime2.org/2024.10/tutorials/moving-pictures/). To ensure a quick run time for demonstration purposes only the Linear Regression trainable is trained in this notebook (variable `ls_model_types` in the respective experiment configuration files)."
      ]
    },
    {
      "cell_type": "markdown",
      "metadata": {},
      "source": [
        "## Fetch data"
      ]
    },
    {
      "cell_type": "markdown",
      "metadata": {},
      "source": [
        "To run the CLI and the Python API examples you first have to fetch the data by running the following commands from within this folder `experiments`:\n",
        "\n",
        "`````\n",
        "curl -L -o data/movpic_metadata.tsv \\\n",
        "  \"https://data.qiime2.org/2024.10/tutorials/moving-pictures/sample_metadata.tsv\"\n",
        "\n",
        "curl -L -o data/movpic_table.qza \\\n",
        "  https://docs.qiime2.org/2024.10/data/tutorials/moving-pictures/table.qza\n",
        "\n",
        "curl -L -o data/movpic_taxonomy.qza \\\n",
        "  https://docs.qiime2.org/2024.10/data/tutorials/moving-pictures/taxonomy.qza\n",
        "\n",
        "curl -L -o data/movpic_tree.qza \\\n",
        "  https://docs.qiime2.org/2024.10/data/tutorials/moving-pictures/rooted-tree.qza\n",
        "`````"
      ]
    },
    {
      "cell_type": "markdown",
      "metadata": {},
      "source": [
        "## CLI example usage"
      ]
    },
    {
      "cell_type": "markdown",
      "metadata": {},
      "source": [
        "Run the below commands from within this folder `experiments`:"
      ]
    },
    {
      "cell_type": "markdown",
      "metadata": {},
      "source": [
        "````\n",
        "ritme split-train-test \\\n",
        "  data_splits data/movpic_metadata.tsv data/movpic_table.qza \\\n",
        "  --seed 12\n",
        "\n",
        "ritme find-best-model-config \\\n",
        "  ../config/example_linreg.json data_splits/train_val.pkl \\\n",
        "  --path-to-tax data/movpic_taxonomy.qza \\\n",
        "  --path-to-tree-phylo data/movpic_tree.qza \\\n",
        "  --path-store-model-logs ritme_example_logs\n",
        "\n",
        "ritme evaluate-tuned-models \\\n",
        "  ritme_example_logs/example_linreg data_splits/train_val.pkl data_splits/test.pkl\n",
        "````\n"
      ]
    },
    {
      "cell_type": "markdown",
      "metadata": {},
      "source": [
        "You can find the trained best model objects (= best model with the best feature engineering method) in this path:\n",
        "\n",
        "`{path-store-model-logs}/{config[\"experiment_tag\"]}/*_best_model.pkl`\n",
        "\n",
        "where \n",
        "* `path-store-model-logs`: is the parameter provided to `find-best-model-config`\n",
        "* `config[\"experiment_tag\"]`: is the experiment tag specified in the experiment config file (in this example in file `../config/example_linreg.json`)\n",
        "\n",
        "Note the path is also printed upon running `find-best-model-config` under \"Best model configurations were saved in\"."
      ]
    },
    {
      "cell_type": "markdown",
      "metadata": {},
      "source": [
        "You can now use the specified best model and create predictions on the train and test set in Python with:"
      ]
    },
    {
      "cell_type": "markdown",
      "metadata": {},
      "source": [
        "```\n",
        "import pandas as pd\n",
        "import pickle\n",
        "\n",
        "# paths saved train/test splits & best model we are interested in\n",
        "path_to_train = \"data_splits/train_val.pkl\"\n",
        "path_to_test = \"data_splits/test.pkl\"\n",
        "path_to_best_linreg = \"ritme_example_logs/example_linreg/linreg_best_model.pkl\"\n",
        "\n",
        "# read data\n",
        "train_cli = pd.read_pickle(path_to_train)\n",
        "test_cli = pd.read_pickle(path_to_test)\n",
        "\n",
        "# read best linreg model\n",
        "with open(path_to_best_linreg, \"rb\") as file:\n",
        "    best_linreg_cli = pickle.load(file)\n",
        "\n",
        "# perform prediction with best linreg model on test and train\n",
        "test_predictions = best_linreg_cli.predict(test_cli, \"test\")\n",
        "train_predictions = best_linreg_cli.predict(train_cli, \"train\")\n",
        "```"
      ]
    },
    {
      "cell_type": "markdown",
      "metadata": {},
      "source": [
        "## Python API example usage"
      ]
    },
    {
      "cell_type": "code",
      "execution_count": null,
      "metadata": {},
      "outputs": [],
      "source": [
        "import os\n",
        "\n",
        "from ritme.evaluate_tuned_models import evaluate_tuned_models\n",
        "from ritme.find_best_model_config import (\n",
        "    _load_experiment_config,\n",
        "    _load_phylogeny,\n",
        "    _load_taxonomy,\n",
        "    find_best_model_config,\n",
        "    save_best_models,\n",
        ")\n",
        "from ritme.split_train_test import _load_data, split_train_test\n",
        "\n",
        "%load_ext autoreload\n",
        "%autoreload 2\n",
        "%matplotlib inline"
      ]
    },
    {
      "cell_type": "code",
      "execution_count": null,
      "metadata": {},
      "outputs": [],
      "source": [
        "######## USER INPUTS ########\n",
        "# set experiment configuration path\n",
        "model_config_path = \"../config/example_linreg_py.json\"\n",
        "\n",
        "# define path to feature table, metadata, phylogeny, and taxonomy\n",
        "path_to_ft = \"data/movpic_table.qza\"\n",
        "path_to_md = \"data/movpic_metadata.tsv\"\n",
        "path_to_phylo = \"data/movpic_tree.qza\"\n",
        "path_to_tax = \"data/movpic_taxonomy.qza\"\n",
        "\n",
        "# define train size\n",
        "train_size = 0.8\n",
        "\n",
        "# if you want to store the best models, define path where you want to store\n",
        "# them, else set None\n",
        "path_to_store_best_models = \"ritme_example_logs/example_linreg_py/best_models\"\n",
        "######## END USER INPUTS #####"
      ]
    },
    {
      "cell_type": "code",
      "execution_count": null,
      "metadata": {},
      "outputs": [],
      "source": [
        "config = _load_experiment_config(model_config_path)"
      ]
    },
    {
      "cell_type": "markdown",
      "metadata": {},
      "source": [
        "### Fetch, read & split data"
      ]
    },
    {
      "cell_type": "code",
      "execution_count": null,
      "metadata": {},
      "outputs": [],
      "source": [
        "md, ft = _load_data(path_to_md, path_to_ft)\n",
        "print(md.shape, ft.shape)"
      ]
    },
    {
      "cell_type": "code",
      "execution_count": null,
      "metadata": {},
      "outputs": [],
      "source": [
        "train_val, test = split_train_test(\n",
        "    md,\n",
        "    ft,\n",
        "    group_by_column=config[\"group_by_column\"],\n",
        "    train_size=train_size,\n",
        "    seed=config[\"seed_data\"],\n",
        ")"
      ]
    },
    {
      "cell_type": "markdown",
      "metadata": {},
      "source": [
        "### Find best model config"
      ]
    },
    {
      "cell_type": "code",
      "execution_count": null,
      "metadata": {},
      "outputs": [],
      "source": [
        "tax = _load_taxonomy(path_to_tax)\n",
        "phylo = _load_phylogeny(path_to_phylo)\n",
        "\n",
        "best_model_dict, path_to_exp = find_best_model_config(\n",
        "    config, train_val, tax, phylo, path_store_model_logs=\"ritme_example_logs\"\n",
        ")"
      ]
    },
    {
      "cell_type": "markdown",
      "metadata": {},
      "source": [
        "### Evaluate best models"
      ]
    },
    {
      "cell_type": "code",
      "execution_count": null,
      "metadata": {},
      "outputs": [],
      "source": [
        "metrics, scatter = evaluate_tuned_models(best_model_dict, config, train_val, test)\n",
        "metrics"
      ]
    },
    {
      "cell_type": "markdown",
      "metadata": {},
      "source": [
        "### Extracting trained best models"
      ]
    },
    {
      "cell_type": "markdown",
      "metadata": {},
      "source": [
        "#### Get best models for further usage\n",
        "\n",
        "The best models are stored in Python dictionary best_model_dict with model_type as keys and `TunedModel` objects as values:"
      ]
    },
    {
      "cell_type": "code",
      "execution_count": null,
      "metadata": {},
      "outputs": [],
      "source": [
        "# get best linreg model\n",
        "best_linreg_model = best_model_dict[\"linreg\"]\n",
        "best_linreg_model"
      ]
    },
    {
      "cell_type": "markdown",
      "metadata": {},
      "source": [
        "#### Create predictions with best model"
      ]
    },
    {
      "cell_type": "code",
      "execution_count": null,
      "metadata": {},
      "outputs": [],
      "source": [
        "# perform prediction with best linreg model\n",
        "test_predictions = best_linreg_model.predict(test, \"test\")\n",
        "train_predictions = best_linreg_model.predict(train_val, \"train\")"
      ]
    },
    {
      "cell_type": "markdown",
      "metadata": {},
      "source": [
        "#### Save all best models trained with Python API to disk"
      ]
    },
    {
      "cell_type": "code",
      "execution_count": null,
      "metadata": {},
      "outputs": [],
      "source": [
        "if path_to_store_best_models is not None:\n",
        "    print(f\"Saving best models to {path_to_store_best_models}...\")\n",
        "    if not os.path.exists(path_to_store_best_models):\n",
        "        os.makedirs(path_to_store_best_models)\n",
        "\n",
        "    save_best_models(best_model_dict, path_to_store_best_models)"
      ]
    }
  ],
  "metadata": {
    "kernelspec": {
      "display_name": "ritme",
      "language": "python",
      "name": "python3"
    },
    "language_info": {
      "codemirror_mode": {
        "name": "ipython",
        "version": 3
      },
      "file_extension": ".py",
      "mimetype": "text/x-python",
      "name": "python",
      "nbconvert_exporter": "python",
      "pygments_lexer": "ipython3",
      "version": "3.10.16"
    }
  },
  "nbformat": 4,
  "nbformat_minor": 2
}
