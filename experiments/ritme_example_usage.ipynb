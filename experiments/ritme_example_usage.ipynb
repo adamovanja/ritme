{
  "cells": [
    {
      "cell_type": "markdown",
      "metadata": {},
      "source": [
        "# Notebook displaying usage of the three main functionalities of *ritme*"
      ]
    },
    {
      "cell_type": "markdown",
      "metadata": {},
      "source": [
        "## CLI example usage"
      ]
    },
    {
      "cell_type": "markdown",
      "metadata": {
        "vscode": {
          "languageId": "shellscript"
        }
      },
      "source": [
        "````\n",
        "python ../q2_ritme/split_train_test.py data_splits data/metadata_proc_v20240323_r0_r3_le_2yrs.tsv data/all_otu_table_filt.qza host_id --seed 12\n",
        "````"
      ]
    },
    {
      "cell_type": "markdown",
      "metadata": {
        "vscode": {
          "languageId": "shellscript"
        }
      },
      "source": [
        "````\n",
        "python ../q2_ritme/find_best_model_config.py ../config/r_local_all.json data_splits/train_val.pkl --path-to-tax data/otu_taxonomy_all.qza --path-to-tree-phylo data/silva-138-99-rooted-tree.qza --path-store-model-logs ritme_refact_logs\n",
        "````"
      ]
    },
    {
      "cell_type": "markdown",
      "metadata": {},
      "source": [
        "````\n",
        "python ../q2_ritme/evaluate_tuned_models.py ritme_refact_logs/r_local_all_mlruns data_splits/train_val.pkl data_splits/test.pkl\n",
        "````"
      ]
    },
    {
      "cell_type": "markdown",
      "metadata": {},
      "source": [
        "## Python API example usage"
      ]
    },
    {
      "cell_type": "code",
      "execution_count": null,
      "metadata": {},
      "outputs": [],
      "source": [
        "from q2_ritme.find_best_model_config import (\n",
        "    _load_experiment_config,\n",
        "    _load_phylogeny,\n",
        "    _load_taxonomy,\n",
        "    find_best_model_config,\n",
        ")\n",
        "from q2_ritme.split_train_test import _load_data, split_train_test\n",
        "from q2_ritme.evaluate_tuned_models import evaluate_tuned_models\n",
        "\n",
        "%load_ext autoreload\n",
        "%autoreload 2"
      ]
    },
    {
      "cell_type": "code",
      "execution_count": null,
      "metadata": {},
      "outputs": [],
      "source": [
        "model_config_path = \"../config/r_local_linreg.json\"\n",
        "config = _load_experiment_config(model_config_path)"
      ]
    },
    {
      "cell_type": "markdown",
      "metadata": {},
      "source": [
        "### Read & split data"
      ]
    },
    {
      "cell_type": "code",
      "execution_count": null,
      "metadata": {},
      "outputs": [],
      "source": [
        "md, ft = _load_data(config[\"path_to_md\"], config[\"path_to_ft\"])\n",
        "print(md.shape, ft.shape)"
      ]
    },
    {
      "cell_type": "code",
      "execution_count": null,
      "metadata": {},
      "outputs": [],
      "source": [
        "train_val, test = split_train_test(\n",
        "    md,\n",
        "    ft,\n",
        "    stratify_by_column=config[\"stratify_by_column\"],\n",
        "    feature_prefix=config[\"feature_prefix\"],\n",
        "    train_size=config[\"train_size\"],\n",
        "    seed=config[\"seed_data\"],\n",
        ")"
      ]
    },
    {
      "cell_type": "markdown",
      "metadata": {},
      "source": [
        "### Find best model config"
      ]
    },
    {
      "cell_type": "code",
      "execution_count": null,
      "metadata": {},
      "outputs": [],
      "source": [
        "tax = _load_taxonomy(config[\"path_to_tax\"])\n",
        "phylo = _load_phylogeny(config[\"path_to_phylo\"])\n",
        "\n",
        "best_model_dict, path_to_exp = find_best_model_config(\n",
        "    config, train_val, tax, phylo, path_store_model_logs=\"ritme_refact_logs\"\n",
        ")"
      ]
    },
    {
      "cell_type": "markdown",
      "metadata": {},
      "source": [
        "### Evaluate best models"
      ]
    },
    {
      "cell_type": "code",
      "execution_count": null,
      "metadata": {},
      "outputs": [],
      "source": [
        "metrics = evaluate_tuned_models(best_model_dict, config, train_val, test)\n",
        "metrics"
      ]
    }
  ],
  "metadata": {
    "kernelspec": {
      "display_name": "ritme",
      "language": "python",
      "name": "python3"
    },
    "language_info": {
      "codemirror_mode": {
        "name": "ipython",
        "version": 3
      },
      "file_extension": ".py",
      "mimetype": "text/x-python",
      "name": "python",
      "nbconvert_exporter": "python",
      "pygments_lexer": "ipython3",
      "version": "3.9.19"
    }
  },
  "nbformat": 4,
  "nbformat_minor": 2
}
