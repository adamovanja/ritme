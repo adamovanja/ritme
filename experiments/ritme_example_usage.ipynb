{
  "cells": [
    {
      "cell_type": "markdown",
      "metadata": {},
      "source": [
        "# Notebook displaying usage of the three main functionalities of *ritme*"
      ]
    },
    {
      "cell_type": "markdown",
      "metadata": {},
      "source": [
        "Note: the provided data paths are not available in this repos. Adjust these paths to your respective files to make the examples run. An example dataset is coming soon."
      ]
    },
    {
      "cell_type": "markdown",
      "metadata": {},
      "source": [
        "## CLI example usage\n",
        "\n",
        "run from within this folder `experiments`"
      ]
    },
    {
      "cell_type": "markdown",
      "metadata": {},
      "source": [
        "````\n",
        "ritme split-train-test data_splits data/metadata_proc_v20240323_r0_r3_le_2yrs.tsv data/all_otu_table_filt.qza --group-by-column host_id --seed 12\n",
        "\n",
        "ritme find-best-model-config ../config/r_local_linreg.json data_splits/train_val.pkl --path-to-tax data/otu_taxonomy_all.qza --path-to-tree-phylo data/silva-138-99-rooted-tree.qza --path-store-model-logs ritme_refact_logs\n",
        "\n",
        "ritme evaluate-tuned-models ritme_refact_logs/r_local_linreg data_splits/train_val.pkl data_splits/test.pkl\n",
        "````"
      ]
    },
    {
      "cell_type": "markdown",
      "metadata": {},
      "source": [
        "You can find the trained best model objects (= best model with the best feature engineering method) in this path:\n",
        "\n",
        "`{path-store-model-logs}/{config[\"experiment_tag\"]}/*_best_model.pkl`\n",
        "\n",
        "where \n",
        "* `path-store-model-logs`: is the parameter provided to `find-best-model-config`\n",
        "* `config[\"experiment_tag\"]`: is the experiment tag specified in the experiment config file (in this example in file `../config/r_local_linreg.json`)\n",
        "\n",
        "Note the path is also printed upon running `find-best-model-config` under \"Best model configurations were saved in\"."
      ]
    },
    {
      "cell_type": "markdown",
      "metadata": {},
      "source": [
        "You can now use the specified best model and create predictions on the train and test set in Python with:"
      ]
    },
    {
      "cell_type": "markdown",
      "metadata": {},
      "source": [
        "```\n",
        "import pandas as pd\n",
        "import pickle\n",
        "\n",
        "# paths saved train/test splits & best model we are interested in\n",
        "path_to_train = \"data_splits/train_val.pkl\"\n",
        "path_to_test = \"data_splits/test.pkl\"\n",
        "path_to_best_linreg = \"ritme_refact_logs/r_local_linreg/linreg_best_model.pkl\"\n",
        "\n",
        "# read data\n",
        "train_cli = pd.read_pickle(path_to_train)\n",
        "test_cli = pd.read_pickle(path_to_test)\n",
        "\n",
        "# read best linreg model\n",
        "with open(path_to_best_linreg, \"rb\") as file:\n",
        "    best_linreg_cli = pickle.load(file)\n",
        "\n",
        "# perform prediction with best linreg model on test and train\n",
        "test_predictions = best_linreg_cli.predict(test_cli, \"test\")\n",
        "train_predictions = best_linreg_cli.predict(train_cli, \"train\")\n",
        "```"
      ]
    },
    {
      "cell_type": "markdown",
      "metadata": {},
      "source": [
        "## Python API example usage"
      ]
    },
    {
      "cell_type": "code",
      "execution_count": 1,
      "metadata": {},
      "outputs": [],
      "source": [
        "import os\n",
        "\n",
        "from ritme.evaluate_tuned_models import evaluate_tuned_models\n",
        "from ritme.find_best_model_config import (\n",
        "    _load_experiment_config,\n",
        "    _load_phylogeny,\n",
        "    _load_taxonomy,\n",
        "    find_best_model_config,\n",
        "    save_best_models,\n",
        ")\n",
        "from ritme.split_train_test import _load_data, split_train_test\n",
        "\n",
        "%load_ext autoreload\n",
        "%autoreload 2"
      ]
    },
    {
      "cell_type": "code",
      "execution_count": 2,
      "metadata": {},
      "outputs": [],
      "source": [
        "######## USER INPUTS ########\n",
        "# set experiment configuration path\n",
        "model_config_path = \"../config/r_local_linreg_py.json\"\n",
        "\n",
        "# define path to feature table, metadata, phylogeny, and taxonomy\n",
        "path_to_ft = \"data/all_otu_table_filt.qza\"\n",
        "path_to_md = \"data/metadata_proc_v20240323_r0_r3_le_2yrs.tsv\"\n",
        "path_to_phylo = \"data/silva-138-99-rooted-tree.qza\"\n",
        "path_to_tax = \"data/otu_taxonomy_all.qza\"\n",
        "\n",
        "# define train size\n",
        "train_size = 0.8\n",
        "\n",
        "# if you want to store the best models, define path where you want to store\n",
        "# them, else set None\n",
        "path_to_store_best_models = \"best_models\"\n",
        "######## END USER INPUTS #####"
      ]
    },
    {
      "cell_type": "code",
      "execution_count": 3,
      "metadata": {},
      "outputs": [],
      "source": [
        "config = _load_experiment_config(model_config_path)"
      ]
    },
    {
      "cell_type": "markdown",
      "metadata": {},
      "source": [
        "### Read & split data"
      ]
    },
    {
      "cell_type": "code",
      "execution_count": 4,
      "metadata": {},
      "outputs": [
        {
          "name": "stdout",
          "output_type": "stream",
          "text": [
            "(4151, 74) (9478, 5580)\n"
          ]
        }
      ],
      "source": [
        "md, ft = _load_data(path_to_md, path_to_ft)\n",
        "print(md.shape, ft.shape)"
      ]
    },
    {
      "cell_type": "code",
      "execution_count": 5,
      "metadata": {},
      "outputs": [
        {
          "name": "stderr",
          "output_type": "stream",
          "text": [
            "/Users/adamova/Documents/projects/14_LM1/ritme/ritme/split_train_test.py:139: UserWarning: Provided feature table contains absolute instead of relative abundances. Hence, converting it to relative abundances...\n",
            "  warnings.warn(\n"
          ]
        },
        {
          "name": "stdout",
          "output_type": "stream",
          "text": [
            "Train: (3170, 5654), Test: (779, 5654)\n"
          ]
        }
      ],
      "source": [
        "train_val, test = split_train_test(\n",
        "    md,\n",
        "    ft,\n",
        "    group_by_column=config[\"group_by_column\"],\n",
        "    train_size=train_size,\n",
        "    seed=config[\"seed_data\"],\n",
        ")"
      ]
    },
    {
      "cell_type": "markdown",
      "metadata": {},
      "source": [
        "### Find best model config"
      ]
    },
    {
      "cell_type": "code",
      "execution_count": 6,
      "metadata": {},
      "outputs": [
        {
          "data": {
            "text/html": [
              "<div class=\"tuneStatus\">\n",
              "  <div style=\"display: flex;flex-direction: row\">\n",
              "    <div style=\"display: flex;flex-direction: column;\">\n",
              "      <h3>Tune Status</h3>\n",
              "      <table>\n",
              "<tbody>\n",
              "<tr><td>Current time:</td><td>2025-03-12 13:40:11</td></tr>\n",
              "<tr><td>Running for: </td><td>00:00:27.89        </td></tr>\n",
              "<tr><td>Memory:      </td><td>10.8/16.0 GiB      </td></tr>\n",
              "</tbody>\n",
              "</table>\n",
              "    </div>\n",
              "    <div class=\"vDivider\"></div>\n",
              "    <div class=\"systemInfo\">\n",
              "      <h3>System Info</h3>\n",
              "      Using AsyncHyperBand: num_stopped=0<br>Bracket: Iter 40.000: None | Iter 10.000: None<br>Logical resource usage: 1.0/8 CPUs, 0/0 GPUs\n",
              "    </div>\n",
              "    \n",
              "  </div>\n",
              "  <div class=\"hDivider\"></div>\n",
              "  <div class=\"trialStatus\">\n",
              "    <h3>Trial Status</h3>\n",
              "    <table>\n",
              "<thead>\n",
              "<tr><th>Trial name           </th><th>status    </th><th>loc            </th><th style=\"text-align: right;\">   alpha</th><th>data_aggregation  </th><th>data_selection   </th><th style=\"text-align: right;\">  data_selection_i</th><th style=\"text-align: right;\">  data_selection_q</th><th>data_transform  </th><th style=\"text-align: right;\">  l1_ratio</th><th>model  </th><th style=\"text-align: right;\">  iter</th><th style=\"text-align: right;\">  total time (s)</th><th style=\"text-align: right;\">  rmse_val</th><th style=\"text-align: right;\">  rmse_train</th><th style=\"text-align: right;\">    r2_val</th></tr>\n",
              "</thead>\n",
              "<tbody>\n",
              "<tr><td>train_linreg_f89bf61b</td><td>TERMINATED</td><td>127.0.0.1:59847</td><td style=\"text-align: right;\">0.76456 </td><td>tax_class         </td><td>abundance_topi   </td><td style=\"text-align: right;\">                 1</td><td style=\"text-align: right;\">                  </td><td>alr             </td><td style=\"text-align: right;\"> 0.0208098</td><td>linreg </td><td style=\"text-align: right;\">     1</td><td style=\"text-align: right;\">         1.22017</td><td style=\"text-align: right;\">   6.76086</td><td style=\"text-align: right;\">     6.65627</td><td style=\"text-align: right;\">0.00818303</td></tr>\n",
              "<tr><td>train_linreg_046874f2</td><td>TERMINATED</td><td>127.0.0.1:59876</td><td style=\"text-align: right;\">0.177564</td><td>tax_family        </td><td>variance_quantile</td><td style=\"text-align: right;\">                  </td><td style=\"text-align: right;\">               0.8</td><td>pa              </td><td style=\"text-align: right;\"> 0.962597 </td><td>linreg </td><td style=\"text-align: right;\">     1</td><td style=\"text-align: right;\">         1.19863</td><td style=\"text-align: right;\">   4.62164</td><td style=\"text-align: right;\">     4.6533 </td><td style=\"text-align: right;\">0.536532  </td></tr>\n",
              "</tbody>\n",
              "</table>\n",
              "  </div>\n",
              "</div>\n",
              "<style>\n",
              ".tuneStatus {\n",
              "  color: var(--jp-ui-font-color1);\n",
              "}\n",
              ".tuneStatus .systemInfo {\n",
              "  display: flex;\n",
              "  flex-direction: column;\n",
              "}\n",
              ".tuneStatus td {\n",
              "  white-space: nowrap;\n",
              "}\n",
              ".tuneStatus .trialStatus {\n",
              "  display: flex;\n",
              "  flex-direction: column;\n",
              "}\n",
              ".tuneStatus h3 {\n",
              "  font-weight: bold;\n",
              "}\n",
              ".tuneStatus .hDivider {\n",
              "  border-bottom-width: var(--jp-border-width);\n",
              "  border-bottom-color: var(--jp-border-color0);\n",
              "  border-bottom-style: solid;\n",
              "}\n",
              ".tuneStatus .vDivider {\n",
              "  border-left-width: var(--jp-border-width);\n",
              "  border-left-color: var(--jp-border-color0);\n",
              "  border-left-style: solid;\n",
              "  margin: 0.5em 1em 0.5em 1em;\n",
              "}\n",
              "</style>\n"
            ],
            "text/plain": [
              "<IPython.core.display.HTML object>"
            ]
          },
          "metadata": {},
          "output_type": "display_data"
        },
        {
          "name": "stdout",
          "output_type": "stream",
          "text": [
            "\u001b[36m(train_linreg pid=59847)\u001b[0m Train: (2566, 75), Test: (604, 75)\n"
          ]
        },
        {
          "name": "stderr",
          "output_type": "stream",
          "text": [
            "2025-03-12 13:40:11,010\tINFO tune.py:1009 -- Wrote the latest version of all result files and experiment state to '/Users/adamova/Documents/projects/14_LM1/ritme/experiments/ritme_refact_logs/r_local_linreg_py/linreg' in 0.0196s.\n"
          ]
        },
        {
          "name": "stdout",
          "output_type": "stream",
          "text": [
            "\u001b[36m(train_linreg pid=59876)\u001b[0m Train: (2566, 129), Test: (604, 129)\n"
          ]
        },
        {
          "name": "stderr",
          "output_type": "stream",
          "text": [
            "2025-03-12 13:40:11,018\tINFO tune.py:1041 -- Total run time: 27.98 seconds (27.87 seconds for the tuning loop).\n"
          ]
        }
      ],
      "source": [
        "tax = _load_taxonomy(path_to_tax)\n",
        "phylo = _load_phylogeny(path_to_phylo)\n",
        "\n",
        "best_model_dict, path_to_exp = find_best_model_config(\n",
        "    config, train_val, tax, phylo, path_store_model_logs=\"ritme_refact_logs\"\n",
        ")"
      ]
    },
    {
      "cell_type": "markdown",
      "metadata": {},
      "source": [
        "### Evaluate best models"
      ]
    },
    {
      "cell_type": "code",
      "execution_count": 7,
      "metadata": {},
      "outputs": [
        {
          "data": {
            "text/html": [
              "<div>\n",
              "<style scoped>\n",
              "    .dataframe tbody tr th:only-of-type {\n",
              "        vertical-align: middle;\n",
              "    }\n",
              "\n",
              "    .dataframe tbody tr th {\n",
              "        vertical-align: top;\n",
              "    }\n",
              "\n",
              "    .dataframe thead th {\n",
              "        text-align: right;\n",
              "    }\n",
              "</style>\n",
              "<table border=\"1\" class=\"dataframe\">\n",
              "  <thead>\n",
              "    <tr style=\"text-align: right;\">\n",
              "      <th></th>\n",
              "      <th>rmse_train</th>\n",
              "      <th>r2_train</th>\n",
              "      <th>rmse_test</th>\n",
              "      <th>r2_test</th>\n",
              "    </tr>\n",
              "  </thead>\n",
              "  <tbody>\n",
              "    <tr>\n",
              "      <th>linreg</th>\n",
              "      <td>4.647284</td>\n",
              "      <td>0.53776</td>\n",
              "      <td>4.820356</td>\n",
              "      <td>0.490305</td>\n",
              "    </tr>\n",
              "  </tbody>\n",
              "</table>\n",
              "</div>"
            ],
            "text/plain": [
              "        rmse_train  r2_train  rmse_test   r2_test\n",
              "linreg    4.647284   0.53776   4.820356  0.490305"
            ]
          },
          "execution_count": 7,
          "metadata": {},
          "output_type": "execute_result"
        }
      ],
      "source": [
        "metrics = evaluate_tuned_models(best_model_dict, config, train_val, test)\n",
        "metrics"
      ]
    },
    {
      "cell_type": "markdown",
      "metadata": {},
      "source": [
        "### Extracting trained best models"
      ]
    },
    {
      "cell_type": "markdown",
      "metadata": {},
      "source": [
        "#### Get best models for further usage\n",
        "\n",
        "The best models are stored in Python dictionary best_model_dict with model_type as keys and `TunedModel` objects as values. To extract a given best model and perform predictions with it, see below code excerpt:"
      ]
    },
    {
      "cell_type": "code",
      "execution_count": 8,
      "metadata": {},
      "outputs": [
        {
          "data": {
            "text/plain": [
              "<ritme.evaluate_models.TunedModel at 0x14493e320>"
            ]
          },
          "execution_count": 8,
          "metadata": {},
          "output_type": "execute_result"
        }
      ],
      "source": [
        "# get best linreg model\n",
        "best_linreg_model = best_model_dict[\"linreg\"]\n",
        "best_linreg_model"
      ]
    },
    {
      "cell_type": "code",
      "execution_count": 9,
      "metadata": {},
      "outputs": [],
      "source": [
        "# perform prediction with best linreg model\n",
        "test_predictions = best_linreg_model.predict(test, \"test\")\n",
        "train_predictions = best_linreg_model.predict(train_val, \"train\")"
      ]
    },
    {
      "cell_type": "markdown",
      "metadata": {},
      "source": [
        "#### Save all best models trained with Python API to disk"
      ]
    },
    {
      "cell_type": "code",
      "execution_count": 10,
      "metadata": {},
      "outputs": [
        {
          "name": "stdout",
          "output_type": "stream",
          "text": [
            "Saving best models to best_models...\n"
          ]
        }
      ],
      "source": [
        "if path_to_store_best_models is not None:\n",
        "    print(f\"Saving best models to {path_to_store_best_models}...\")\n",
        "    if not os.path.exists(path_to_store_best_models):\n",
        "        os.makedirs(path_to_store_best_models)\n",
        "\n",
        "    save_best_models(best_model_dict, path_to_store_best_models)"
      ]
    }
  ],
  "metadata": {
    "kernelspec": {
      "display_name": "ritme",
      "language": "python",
      "name": "python3"
    },
    "language_info": {
      "codemirror_mode": {
        "name": "ipython",
        "version": 3
      },
      "file_extension": ".py",
      "mimetype": "text/x-python",
      "name": "python",
      "nbconvert_exporter": "python",
      "pygments_lexer": "ipython3",
      "version": "3.10.16"
    }
  },
  "nbformat": 4,
  "nbformat_minor": 2
}
