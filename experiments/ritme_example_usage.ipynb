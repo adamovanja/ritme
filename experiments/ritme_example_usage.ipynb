{
  "cells": [
    {
      "cell_type": "markdown",
      "metadata": {},
      "source": [
        "# Notebook displaying usage of the three main functionalities of *ritme*"
      ]
    },
    {
      "cell_type": "markdown",
      "metadata": {},
      "source": [
        "Note: the provided data paths are not available in this repos. Adjust these paths to your respective files to make the examples run. An example dataset is coming soon."
      ]
    },
    {
      "cell_type": "markdown",
      "metadata": {},
      "source": [
        "## CLI example usage\n",
        "\n",
        "run from within this folder `experiments`"
      ]
    },
    {
      "cell_type": "markdown",
      "metadata": {},
      "source": [
        "````\n",
        "ritme split-train-test data_splits data/metadata_proc_v20240323_r0_r3_le_2yrs.tsv data/all_otu_table_filt.qza --group-by-column host_id --seed 12\n",
        "\n",
        "ritme find-best-model-config ../config/r_local_linreg.json data_splits/train_val.pkl --path-to-tax data/otu_taxonomy_all.qza --path-to-tree-phylo data/silva-138-99-rooted-tree.qza --path-store-model-logs ritme_refact_logs\n",
        "\n",
        "ritme evaluate-tuned-models ritme_refact_logs/r_local_linreg data_splits/train_val.pkl data_splits/test.pkl\n",
        "````"
      ]
    },
    {
      "cell_type": "markdown",
      "metadata": {},
      "source": [
        "You can find the trained best model objects (= best model with the best feature engineering method) in this path:\n",
        "\n",
        "`{path-store-model-logs}/{config[\"experiment_tag\"]}/*_best_model.pkl`\n",
        "\n",
        "where \n",
        "* `path-store-model-logs`: is the parameter provided to `find-best-model-config`\n",
        "* `config[\"experiment_tag\"]`: is the experiment tag specified in the experiment config file (in this example in file `../config/r_local_linreg.json`)\n",
        "\n",
        "Note the path is also printed upon running `find-best-model-config` under \"Best model configurations were saved in\"."
      ]
    },
    {
      "cell_type": "markdown",
      "metadata": {},
      "source": [
        "You can now use the specified best model and create predictions on the train and test set in Python with:"
      ]
    },
    {
      "cell_type": "markdown",
      "metadata": {},
      "source": [
        "```\n",
        "import pandas as pd\n",
        "import pickle\n",
        "\n",
        "# paths saved train/test splits & best model we are interested in\n",
        "path_to_train = \"data_splits/train_val.pkl\"\n",
        "path_to_test = \"data_splits/test.pkl\"\n",
        "path_to_best_linreg = \"ritme_refact_logs/r_local_linreg/linreg_best_model.pkl\"\n",
        "\n",
        "# read data\n",
        "train_cli = pd.read_pickle(path_to_train)\n",
        "test_cli = pd.read_pickle(path_to_test)\n",
        "\n",
        "# read best linreg model\n",
        "with open(path_to_best_linreg, \"rb\") as file:\n",
        "    best_linreg_cli = pickle.load(file)\n",
        "\n",
        "# perform prediction with best linreg model on test and train\n",
        "test_predictions = best_linreg_cli.predict(test_cli, \"test\")\n",
        "train_predictions = best_linreg_cli.predict(train_cli, \"train\")\n",
        "```"
      ]
    },
    {
      "cell_type": "markdown",
      "metadata": {},
      "source": [
        "## Python API example usage"
      ]
    },
    {
      "cell_type": "code",
      "execution_count": null,
      "metadata": {},
      "outputs": [],
      "source": [
        "import os\n",
        "\n",
        "from ritme.evaluate_tuned_models import evaluate_tuned_models\n",
        "from ritme.find_best_model_config import (\n",
        "    _load_experiment_config,\n",
        "    _load_phylogeny,\n",
        "    _load_taxonomy,\n",
        "    find_best_model_config,\n",
        "    save_best_models,\n",
        ")\n",
        "from ritme.split_train_test import _load_data, split_train_test\n",
        "\n",
        "%load_ext autoreload\n",
        "%autoreload 2"
      ]
    },
    {
      "cell_type": "code",
      "execution_count": null,
      "metadata": {},
      "outputs": [],
      "source": [
        "######## USER INPUTS ########\n",
        "# set experiment configuration path\n",
        "model_config_path = \"../config/r_local_linreg_py.json\"\n",
        "\n",
        "# define path to feature table, metadata, phylogeny, and taxonomy\n",
        "path_to_ft = \"data/all_otu_table_filt.qza\"\n",
        "path_to_md = \"data/metadata_proc_v20240323_r0_r3_le_2yrs.tsv\"\n",
        "path_to_phylo = \"data/silva-138-99-rooted-tree.qza\"\n",
        "path_to_tax = \"data/otu_taxonomy_all.qza\"\n",
        "\n",
        "# define train size\n",
        "train_size = 0.8\n",
        "\n",
        "# if you want to store the best models, define path where you want to store\n",
        "# them, else set None\n",
        "path_to_store_best_models = \"best_models\"\n",
        "######## END USER INPUTS #####"
      ]
    },
    {
      "cell_type": "code",
      "execution_count": null,
      "metadata": {},
      "outputs": [],
      "source": [
        "config = _load_experiment_config(model_config_path)"
      ]
    },
    {
      "cell_type": "markdown",
      "metadata": {},
      "source": [
        "### Read & split data"
      ]
    },
    {
      "cell_type": "code",
      "execution_count": null,
      "metadata": {},
      "outputs": [],
      "source": [
        "md, ft = _load_data(path_to_md, path_to_ft)\n",
        "print(md.shape, ft.shape)"
      ]
    },
    {
      "cell_type": "code",
      "execution_count": null,
      "metadata": {},
      "outputs": [],
      "source": [
        "train_val, test = split_train_test(\n",
        "    md,\n",
        "    ft,\n",
        "    group_by_column=config[\"group_by_column\"],\n",
        "    train_size=train_size,\n",
        "    seed=config[\"seed_data\"],\n",
        ")"
      ]
    },
    {
      "cell_type": "markdown",
      "metadata": {},
      "source": [
        "### Find best model config"
      ]
    },
    {
      "cell_type": "code",
      "execution_count": null,
      "metadata": {},
      "outputs": [],
      "source": [
        "tax = _load_taxonomy(path_to_tax)\n",
        "phylo = _load_phylogeny(path_to_phylo)\n",
        "\n",
        "best_model_dict, path_to_exp = find_best_model_config(\n",
        "    config, train_val, tax, phylo, path_store_model_logs=\"ritme_refact_logs\"\n",
        ")"
      ]
    },
    {
      "cell_type": "markdown",
      "metadata": {},
      "source": [
        "### Evaluate best models"
      ]
    },
    {
      "cell_type": "code",
      "execution_count": null,
      "metadata": {},
      "outputs": [],
      "source": [
        "metrics = evaluate_tuned_models(best_model_dict, config, train_val, test)\n",
        "metrics"
      ]
    },
    {
      "cell_type": "markdown",
      "metadata": {},
      "source": [
        "### Extracting trained best models"
      ]
    },
    {
      "cell_type": "markdown",
      "metadata": {},
      "source": [
        "#### Get best models for further usage\n",
        "\n",
        "The best models are stored in Python dictionary best_model_dict with model_type as keys and `TunedModel` objects as values. To extract a given best model and perform predictions with it, see below code excerpt:"
      ]
    },
    {
      "cell_type": "code",
      "execution_count": null,
      "metadata": {},
      "outputs": [],
      "source": [
        "# get best linreg model\n",
        "best_linreg_model = best_model_dict[\"linreg\"]\n",
        "best_linreg_model"
      ]
    },
    {
      "cell_type": "code",
      "execution_count": null,
      "metadata": {},
      "outputs": [],
      "source": [
        "# perform prediction with best linreg model\n",
        "test_predictions = best_linreg_model.predict(test, \"test\")\n",
        "train_predictions = best_linreg_model.predict(train_val, \"train\")"
      ]
    },
    {
      "cell_type": "markdown",
      "metadata": {},
      "source": [
        "#### Save all best models trained with Python API to disk"
      ]
    },
    {
      "cell_type": "code",
      "execution_count": null,
      "metadata": {},
      "outputs": [],
      "source": [
        "if path_to_store_best_models is not None:\n",
        "    print(f\"Saving best models to {path_to_store_best_models}...\")\n",
        "    if not os.path.exists(path_to_store_best_models):\n",
        "        os.makedirs(path_to_store_best_models)\n",
        "\n",
        "    save_best_models(best_model_dict, path_to_store_best_models)"
      ]
    }
  ],
  "metadata": {
    "kernelspec": {
      "display_name": "ritme",
      "language": "python",
      "name": "python3"
    },
    "language_info": {
      "codemirror_mode": {
        "name": "ipython",
        "version": 3
      },
      "file_extension": ".py",
      "mimetype": "text/x-python",
      "name": "python",
      "nbconvert_exporter": "python",
      "pygments_lexer": "ipython3",
      "version": "3.10.16"
    }
  },
  "nbformat": 4,
  "nbformat_minor": 2
}
