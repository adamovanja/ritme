{
  "cells": [
    {
      "cell_type": "markdown",
      "id": "e8241c71",
      "metadata": {},
      "source": [
        "# Notebook to evaluate *ritme* trials tracked with MLflow\n",
        "\n",
        "This notebook shows how the output from the method `find_best_model_config` of the *ritme* package can be evaluated when the experiments are tracked with MLflow.\n",
        "\n",
        "The only user input required is the path to the MLflow logs (variable `log_folder_location`). For reproducibility the exact experiment is rerun (section [Run experiment](#run-experiment)) if it does not exist yet (depending on your compute power this might take a while to run).\n"
      ]
    },
    {
      "cell_type": "markdown",
      "id": "1aea4401",
      "metadata": {},
      "source": [
        "## Setup"
      ]
    },
    {
      "cell_type": "code",
      "execution_count": null,
      "id": "8b08cb4f",
      "metadata": {},
      "outputs": [],
      "source": [
        "import warnings\n",
        "\n",
        "import mlflow\n",
        "\n",
        "from ritme.evaluate_mlflow import (\n",
        "    barplot_metric,\n",
        "    extract_run_config,\n",
        "    parallel_coordinates_plot,\n",
        "    plot_avg_history_per_model_type,\n",
        "    plot_complexity_vs_metric,\n",
        "    plot_metric_history_per_model_type,\n",
        "    plot_trend_over_time,\n",
        "    post_process_data_transform,\n",
        "    violinplot_metric,\n",
        "    boxplot_metric,\n",
        ")\n",
        "\n",
        "warnings.filterwarnings(\"ignore\", category=FutureWarning)\n",
        "\n",
        "%load_ext autoreload\n",
        "%autoreload 2\n",
        "%matplotlib inline"
      ]
    },
    {
      "cell_type": "code",
      "execution_count": null,
      "id": "361c1df1",
      "metadata": {},
      "outputs": [],
      "source": [
        "######## USER INPUTS ########\n",
        "\n",
        "# path to MLflow logs\n",
        "log_folder_location = \"ritme_example_logs/trials_mlflow/mlruns\"\n",
        "\n",
        "# whether to only analyze one model type or all (=\"all\")\n",
        "model_type = \"all\"\n",
        "# whether to display all trials (top_n=None) or just top N trials of the\n",
        "# model_type selected before\n",
        "top_n = None\n",
        "\n",
        "# static or dynamic plots (static_plots=False) if available?\n",
        "static_plots = True\n",
        "\n",
        "# whether to display trial_id as x-axis in plots\n",
        "display_trial_id = False\n",
        "######## END USER INPUTS #####"
      ]
    },
    {
      "cell_type": "markdown",
      "id": "5c1e9447",
      "metadata": {},
      "source": [
        "## Run experiment"
      ]
    },
    {
      "cell_type": "code",
      "execution_count": null,
      "id": "08c2699e",
      "metadata": {
        "vscode": {
          "languageId": "shellscript"
        }
      },
      "outputs": [],
      "source": [
        "! ./run_experiment_mlflow.sh"
      ]
    },
    {
      "cell_type": "markdown",
      "id": "f8390260",
      "metadata": {},
      "source": [
        "## Extract trial information"
      ]
    },
    {
      "cell_type": "code",
      "execution_count": null,
      "id": "b3347709",
      "metadata": {},
      "outputs": [],
      "source": [
        "# extract all trial information\n",
        "mlflow.set_tracking_uri(log_folder_location)\n",
        "\n",
        "all_trials = mlflow.search_runs(\n",
        "    order_by=[\"metrics.rmse_val ASC\"], search_all_experiments=True\n",
        ")\n",
        "\n",
        "print(f\"Found {all_trials.shape[0]} trials\")"
      ]
    },
    {
      "cell_type": "code",
      "execution_count": null,
      "id": "b1bbb75f",
      "metadata": {},
      "outputs": [],
      "source": [
        "# post-process data_transform entry - only needed in MLflow since WandB updates\n",
        "# these automatically\n",
        "all_trials = post_process_data_transform(all_trials)"
      ]
    },
    {
      "cell_type": "code",
      "execution_count": null,
      "id": "56e806e7",
      "metadata": {},
      "outputs": [],
      "source": [
        "if model_type != \"all\":\n",
        "    print(f\"Analyzing trials for model type: {model_type}\")\n",
        "    all_trials = all_trials[all_trials[\"params.model\"] == model_type]\n",
        "\n",
        "# select trails to analyze\n",
        "if top_n is not None:\n",
        "    print(f\"Analyzing top {top_n} trials\")\n",
        "    all_trials = all_trials.head(top_n)\n",
        "\n",
        "print(f\"Selected {all_trials.shape[0]} trials\")"
      ]
    },
    {
      "cell_type": "markdown",
      "id": "1e01f375",
      "metadata": {},
      "source": [
        "## Insights on performance per model type"
      ]
    },
    {
      "cell_type": "code",
      "execution_count": null,
      "id": "e891736f",
      "metadata": {},
      "outputs": [],
      "source": [
        "boxplot_metric(\n",
        "    all_trials,\n",
        "    metric_col=\"metrics.rmse_val\",\n",
        "    metric_name=\"RMSE Validation\",\n",
        "    group_col=\"params.model\",\n",
        "    group_name=\"Model type\",\n",
        ")"
      ]
    },
    {
      "cell_type": "code",
      "execution_count": null,
      "id": "a794d686",
      "metadata": {},
      "outputs": [],
      "source": [
        "violinplot_metric(\n",
        "    all_trials,\n",
        "    metric_col=\"metrics.rmse_val\",\n",
        "    metric_name=\"RMSE Validation\",\n",
        "    group_col=\"params.model\",\n",
        "    group_name=\"Model type\",\n",
        ")"
      ]
    },
    {
      "cell_type": "code",
      "execution_count": null,
      "id": "83af8c41",
      "metadata": {},
      "outputs": [],
      "source": [
        "barplot_metric(\n",
        "    all_trials,\n",
        "    metric_col=\"metrics.rmse_val\",\n",
        "    metric_name=\"RMSE Validation\",\n",
        "    group_col=\"params.model\",\n",
        "    group_name=\"Model type\",\n",
        "    display_trial_name=display_trial_id,\n",
        "    top_n=top_n,\n",
        ")"
      ]
    },
    {
      "cell_type": "markdown",
      "id": "91e71069",
      "metadata": {},
      "source": [
        "## Model complexity vs. performance"
      ]
    },
    {
      "cell_type": "code",
      "execution_count": null,
      "id": "9bb0215b",
      "metadata": {},
      "outputs": [],
      "source": [
        "plot_complexity_vs_metric(\n",
        "    all_trials,\n",
        "    metric_col=\"metrics.rmse_val\",\n",
        "    metric_name=\"RMSE Validation\",\n",
        "    group_col=\"params.model\",\n",
        "    group_name=\"Model type\",\n",
        "    static=static_plots,  # Set to False for interactive plotly graph\n",
        ")"
      ]
    },
    {
      "cell_type": "code",
      "execution_count": null,
      "id": "482fbe1c",
      "metadata": {},
      "outputs": [],
      "source": [
        "violinplot_metric(\n",
        "    all_trials,\n",
        "    metric_col=\"metrics.nb_features\",\n",
        "    metric_name=\"Number of features\",\n",
        "    group_col=\"params.model\",\n",
        "    group_name=\"Model type\",\n",
        ")"
      ]
    },
    {
      "cell_type": "code",
      "execution_count": null,
      "id": "e1fdc7c3",
      "metadata": {},
      "outputs": [],
      "source": [
        "first_metric_col = \"metrics.nb_features\"\n",
        "first_metric_name = \"# features\"\n",
        "parallel_coordinates_plot(all_trials, first_metric_col, first_metric_name)"
      ]
    },
    {
      "cell_type": "markdown",
      "id": "e747f9d4",
      "metadata": {},
      "source": [
        "## Performance vs. feature engineering"
      ]
    },
    {
      "cell_type": "markdown",
      "id": "2c3e7864",
      "metadata": {},
      "source": [
        "### Effect of data transformation"
      ]
    },
    {
      "cell_type": "code",
      "execution_count": null,
      "id": "d4e1194f",
      "metadata": {},
      "outputs": [],
      "source": [
        "var = \"params.data_transform\"\n",
        "var_name = \"Data transform\"\n",
        "\n",
        "barplot_metric(\n",
        "    all_trials,\n",
        "    metric_col=\"metrics.rmse_val\",\n",
        "    metric_name=\"RMSE Validation\",\n",
        "    group_col=var,\n",
        "    group_name=var_name,\n",
        "    display_trial_name=display_trial_id,\n",
        "    top_n=top_n,\n",
        ")"
      ]
    },
    {
      "cell_type": "code",
      "execution_count": null,
      "id": "2cee54c5",
      "metadata": {},
      "outputs": [],
      "source": [
        "boxplot_metric(\n",
        "    all_trials,\n",
        "    metric_col=\"metrics.rmse_val\",\n",
        "    metric_name=\"RMSE Validation\",\n",
        "    group_col=var,\n",
        "    group_name=var_name,\n",
        ")"
      ]
    },
    {
      "cell_type": "code",
      "execution_count": null,
      "id": "557b3152",
      "metadata": {},
      "outputs": [],
      "source": [
        "violinplot_metric(\n",
        "    all_trials,\n",
        "    metric_col=\"metrics.rmse_val\",\n",
        "    metric_name=\"RMSE Validation\",\n",
        "    group_col=var,\n",
        "    group_name=var_name,\n",
        ")"
      ]
    },
    {
      "cell_type": "code",
      "execution_count": null,
      "id": "1a4f724d",
      "metadata": {},
      "outputs": [],
      "source": [
        "parallel_coordinates_plot(all_trials, var, var_name, first_metric_cat=True)"
      ]
    },
    {
      "cell_type": "markdown",
      "id": "0abfdd2b",
      "metadata": {},
      "source": [
        "### Effect of data selection"
      ]
    },
    {
      "cell_type": "code",
      "execution_count": null,
      "id": "b3f544bc",
      "metadata": {},
      "outputs": [],
      "source": [
        "var = \"params.data_selection\"\n",
        "var_name = \"Data selection\"\n",
        "\n",
        "barplot_metric(\n",
        "    all_trials,\n",
        "    metric_col=\"metrics.rmse_val\",\n",
        "    metric_name=\"RMSE Validation\",\n",
        "    group_col=var,\n",
        "    group_name=var_name,\n",
        "    display_trial_name=display_trial_id,\n",
        "    top_n=top_n,\n",
        ")"
      ]
    },
    {
      "cell_type": "code",
      "execution_count": null,
      "id": "981faa44",
      "metadata": {},
      "outputs": [],
      "source": [
        "boxplot_metric(\n",
        "    all_trials,\n",
        "    metric_col=\"metrics.rmse_val\",\n",
        "    metric_name=\"RMSE Validation\",\n",
        "    group_col=var,\n",
        "    group_name=var_name,\n",
        ")"
      ]
    },
    {
      "cell_type": "code",
      "execution_count": null,
      "id": "1a6df9fc",
      "metadata": {},
      "outputs": [],
      "source": [
        "violinplot_metric(\n",
        "    all_trials,\n",
        "    metric_col=\"metrics.rmse_val\",\n",
        "    metric_name=\"RMSE Validation\",\n",
        "    group_col=var,\n",
        "    group_name=var_name,\n",
        ")"
      ]
    },
    {
      "cell_type": "code",
      "execution_count": null,
      "id": "0d7f9126",
      "metadata": {},
      "outputs": [],
      "source": [
        "parallel_coordinates_plot(all_trials, var, var_name, first_metric_cat=True)"
      ]
    },
    {
      "cell_type": "markdown",
      "id": "427d2f4c",
      "metadata": {},
      "source": [
        "### Effect of data aggregation"
      ]
    },
    {
      "cell_type": "code",
      "execution_count": null,
      "id": "9de08021",
      "metadata": {},
      "outputs": [],
      "source": [
        "var = \"params.data_aggregation\"\n",
        "var_name = \"Data aggregation\"\n",
        "\n",
        "barplot_metric(\n",
        "    all_trials,\n",
        "    metric_col=\"metrics.rmse_val\",\n",
        "    metric_name=\"RMSE Validation\",\n",
        "    group_col=var,\n",
        "    group_name=var_name,\n",
        "    display_trial_name=display_trial_id,\n",
        "    top_n=top_n,\n",
        ")"
      ]
    },
    {
      "cell_type": "code",
      "execution_count": null,
      "id": "7900f623",
      "metadata": {},
      "outputs": [],
      "source": [
        "boxplot_metric(\n",
        "    all_trials,\n",
        "    metric_col=\"metrics.rmse_val\",\n",
        "    metric_name=\"RMSE Validation\",\n",
        "    group_col=var,\n",
        "    group_name=var_name,\n",
        ")"
      ]
    },
    {
      "cell_type": "code",
      "execution_count": null,
      "id": "f11c3752",
      "metadata": {},
      "outputs": [],
      "source": [
        "violinplot_metric(\n",
        "    all_trials,\n",
        "    metric_col=\"metrics.rmse_val\",\n",
        "    metric_name=\"RMSE Validation\",\n",
        "    group_col=var,\n",
        "    group_name=var_name,\n",
        ")"
      ]
    },
    {
      "cell_type": "code",
      "execution_count": null,
      "id": "4fc4adf0",
      "metadata": {},
      "outputs": [],
      "source": [
        "parallel_coordinates_plot(all_trials, var, var_name, first_metric_cat=True)"
      ]
    },
    {
      "cell_type": "markdown",
      "id": "18cb310d",
      "metadata": {},
      "source": [
        "### Effect of data enrichment"
      ]
    },
    {
      "cell_type": "code",
      "execution_count": null,
      "id": "65ebb14c",
      "metadata": {},
      "outputs": [],
      "source": [
        "var = \"params.data_enrich\"\n",
        "var_name = \"Data enrichment\"\n",
        "\n",
        "barplot_metric(\n",
        "    all_trials,\n",
        "    metric_col=\"metrics.rmse_val\",\n",
        "    metric_name=\"RMSE Validation\",\n",
        "    group_col=var,\n",
        "    group_name=var_name,\n",
        "    display_trial_name=display_trial_id,\n",
        "    top_n=top_n,\n",
        ")"
      ]
    },
    {
      "cell_type": "code",
      "execution_count": null,
      "id": "3583d2cb",
      "metadata": {},
      "outputs": [],
      "source": [
        "boxplot_metric(\n",
        "    all_trials,\n",
        "    metric_col=\"metrics.rmse_val\",\n",
        "    metric_name=\"RMSE Validation\",\n",
        "    group_col=var,\n",
        "    group_name=var_name,\n",
        ")"
      ]
    },
    {
      "cell_type": "code",
      "execution_count": null,
      "id": "f959a39e",
      "metadata": {},
      "outputs": [],
      "source": [
        "violinplot_metric(\n",
        "    all_trials,\n",
        "    metric_col=\"metrics.rmse_val\",\n",
        "    metric_name=\"RMSE Validation\",\n",
        "    group_col=var,\n",
        "    group_name=var_name,\n",
        ")"
      ]
    },
    {
      "cell_type": "code",
      "execution_count": null,
      "id": "4cc13d30",
      "metadata": {},
      "outputs": [],
      "source": [
        "parallel_coordinates_plot(all_trials, var, var_name, first_metric_cat=True)"
      ]
    },
    {
      "cell_type": "markdown",
      "id": "cb43474a",
      "metadata": {},
      "source": [
        "## Training over time"
      ]
    },
    {
      "cell_type": "code",
      "execution_count": null,
      "id": "48549813",
      "metadata": {},
      "outputs": [],
      "source": [
        "metric = \"rmse_train\"\n",
        "for model in all_trials[\"params.model\"].unique():\n",
        "    print(f\"Plotting trend for model: {model}\")\n",
        "    model_trials = all_trials[all_trials[\"params.model\"] == model]\n",
        "    plot_trend_over_time(\n",
        "        model_trials, f\"metrics.{metric}\", window=20, title_prefix=f\"Model: {model}\"\n",
        "    )"
      ]
    },
    {
      "cell_type": "code",
      "execution_count": null,
      "id": "139cf8c5",
      "metadata": {},
      "outputs": [],
      "source": [
        "client = mlflow.tracking.MlflowClient(tracking_uri=log_folder_location)\n",
        "\n",
        "# one figure per model type\n",
        "for model_type in all_trials[\"params.model\"].unique():\n",
        "    model_trials = all_trials[all_trials[\"params.model\"] == model_type]\n",
        "    plot_metric_history_per_model_type(metric, client, model_trials)"
      ]
    },
    {
      "cell_type": "code",
      "execution_count": null,
      "id": "64e19ead",
      "metadata": {},
      "outputs": [],
      "source": [
        "# plot all metric history in one plot\n",
        "plot_metric_history_per_model_type(metric, client, all_trials)"
      ]
    },
    {
      "cell_type": "markdown",
      "id": "44980550",
      "metadata": {},
      "source": [
        "* If per model type later launched trials yield smaller RMSE train then the selected search algorithm works\n",
        "* *Note:* The classification network (`nn_class`) is trained by minimizing the cross\u2010entropy loss, and the ordinal\u2010regression variant (`nn_corn`) is trained by minimizing the CORN loss.  herefore, training curves based on MSE\u2010derived metrics (e.g. RMSE) are not guaranteed to decrease monotonically during optimization for these models."
      ]
    },
    {
      "cell_type": "code",
      "execution_count": null,
      "id": "ca525e36",
      "metadata": {},
      "outputs": [],
      "source": [
        "plot_avg_history_per_model_type(\"rmse_train\", client, all_trials)"
      ]
    },
    {
      "cell_type": "code",
      "execution_count": null,
      "id": "4408a0b0",
      "metadata": {},
      "outputs": [],
      "source": [
        "plot_avg_history_per_model_type(\"rmse_val\", client, all_trials)"
      ]
    },
    {
      "cell_type": "markdown",
      "id": "01d75ae5",
      "metadata": {},
      "source": [
        "## Run configuration overview"
      ]
    },
    {
      "cell_type": "code",
      "execution_count": null,
      "id": "04bcbc38",
      "metadata": {},
      "outputs": [],
      "source": [
        "run_config = extract_run_config(all_trials)\n",
        "run_config"
      ]
    }
  ],
  "metadata": {
    "kernelspec": {
      "display_name": "ritme",
      "language": "python",
      "name": "python3"
    },
    "language_info": {
      "codemirror_mode": {
        "name": "ipython",
        "version": 3
      },
      "file_extension": ".py",
      "mimetype": "text/x-python",
      "name": "python",
      "nbconvert_exporter": "python",
      "pygments_lexer": "ipython3",
      "version": "3.10.18"
    }
  },
  "nbformat": 4,
  "nbformat_minor": 5
}
