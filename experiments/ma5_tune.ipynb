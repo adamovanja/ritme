{
 "cells": [
  {
   "attachments": {},
   "cell_type": "markdown",
   "metadata": {},
   "source": [
    "# Try out framework with 5-cohort MA data"
   ]
  },
  {
   "cell_type": "code",
   "execution_count": 1,
   "metadata": {},
   "outputs": [
    {
     "name": "stderr",
     "output_type": "stream",
     "text": [
      "2023-09-26 17:50:19.703124: I tensorflow/core/platform/cpu_feature_guard.cc:182] This TensorFlow binary is optimized to use available CPU instructions in performance-critical operations.\n",
      "To enable the following instructions: AVX2 AVX512F AVX512_VNNI FMA, in other operations, rebuild TensorFlow with the appropriate compiler flags.\n"
     ]
    }
   ],
   "source": [
    "import os\n",
    "import matplotlib.pyplot as plt\n",
    "import pandas as pd\n",
    "from IPython.display import display\n",
    "\n",
    "from q2_time.process_data import load_n_split_data\n",
    "from q2_time.tune_models import run_all_trials\n",
    "from q2_time.evaluate_models import get_best_model, get_best_data_processing\n",
    "from q2_time.engineer_features import transform_features\n",
    "from q2_time.config import HOST_ID, TARGET\n",
    "import xgboost as xgb\n",
    "from sklearn.metrics import mean_squared_error\n",
    "import numpy as np\n",
    "\n",
    "# 30.437 is avg. number of days per month\n",
    "DAYS_PER_MONTH = 30.437\n",
    "%matplotlib inline\n",
    "%load_ext autoreload\n",
    "%autoreload 2"
   ]
  },
  {
   "attachments": {},
   "cell_type": "markdown",
   "metadata": {},
   "source": [
    "## Load and split data"
   ]
  },
  {
   "cell_type": "code",
   "execution_count": 2,
   "metadata": {},
   "outputs": [
    {
     "name": "stdout",
     "output_type": "stream",
     "text": [
      "Train: (7828, 6013), Test: (1957, 6013)\n"
     ]
    }
   ],
   "source": [
    "data_dir = \"data/220728_monthly\"\n",
    "path2md = os.path.join(data_dir, \"metadata_proc_v20230824.tsv\")\n",
    "path2ft = os.path.join(data_dir, \"all_otu_table.qza\")\n",
    "train_val, test = load_n_split_data(path2md, path2ft, [HOST_ID, TARGET])"
   ]
  },
  {
   "attachments": {},
   "cell_type": "markdown",
   "metadata": {},
   "source": [
    "## Run all experiments"
   ]
  },
  {
   "cell_type": "code",
   "execution_count": 3,
   "metadata": {},
   "outputs": [
    {
     "name": "stdout",
     "output_type": "stream",
     "text": [
      "Ray tune training of: xgb...\n"
     ]
    },
    {
     "name": "stderr",
     "output_type": "stream",
     "text": [
      "2023-09-26 17:50:32,059\tINFO worker.py:1625 -- Started a local Ray instance.\n",
      "2023-09-26 17:50:33,777\tINFO tune.py:218 -- Initializing Ray automatically. For cluster usage or custom Ray initialization, call `ray.init(...)` before `Tuner(...)`.\n",
      "/Users/anjaadamov/opt/anaconda3/envs/time/lib/python3.8/site-packages/ray/tune/experiment/experiment.py:170: UserWarning: The `local_dir` argument of `Experiment is deprecated. Use `storage_path` or set the `TUNE_RESULT_DIR` environment variable instead.\n",
      "  warnings.warn(\n"
     ]
    },
    {
     "data": {
      "text/html": [
       "<div class=\"tuneStatus\">\n",
       "  <div style=\"display: flex;flex-direction: row\">\n",
       "    <div style=\"display: flex;flex-direction: column;\">\n",
       "      <h3>Tune Status</h3>\n",
       "      <table>\n",
       "<tbody>\n",
       "<tr><td>Current time:</td><td>2023-09-26 17:53:14</td></tr>\n",
       "<tr><td>Running for: </td><td>00:02:40.34        </td></tr>\n",
       "<tr><td>Memory:      </td><td>5.7/16.0 GiB       </td></tr>\n",
       "</tbody>\n",
       "</table>\n",
       "    </div>\n",
       "    <div class=\"vDivider\"></div>\n",
       "    <div class=\"systemInfo\">\n",
       "      <h3>System Info</h3>\n",
       "      Using AsyncHyperBand: num_stopped=4<br>Bracket: Iter 80.000: None | Iter 20.000: None | Iter 5.000: -511.5496568461693<br>Logical resource usage: 0/8 CPUs, 0/0 GPUs\n",
       "    </div>\n",
       "    \n",
       "  </div>\n",
       "  <div class=\"hDivider\"></div>\n",
       "  <div class=\"trialStatus\">\n",
       "    <h3>Trial Status</h3>\n",
       "    <table>\n",
       "<thead>\n",
       "<tr><th>Trial name           </th><th>status    </th><th>loc            </th><th style=\"text-align: right;\">  data_alr_denom_idx</th><th>data_transform  </th><th style=\"text-align: right;\">  eta</th><th style=\"text-align: right;\">  max_depth</th><th style=\"text-align: right;\">  min_child_weight</th><th style=\"text-align: right;\">  subsample</th><th style=\"text-align: right;\">  iter</th><th style=\"text-align: right;\">  total time (s)</th><th style=\"text-align: right;\">  rmse_train</th><th style=\"text-align: right;\">  rmse_val</th></tr>\n",
       "</thead>\n",
       "<tbody>\n",
       "<tr><td>train_xgb_b57e0_00000</td><td>TERMINATED</td><td>127.0.0.1:84044</td><td style=\"text-align: right;\">                  11</td><td>                </td><td style=\"text-align: right;\"> 0.05</td><td style=\"text-align: right;\">          6</td><td style=\"text-align: right;\">                 2</td><td style=\"text-align: right;\">        0.8</td><td style=\"text-align: right;\">    10</td><td style=\"text-align: right;\">        102.905 </td><td style=\"text-align: right;\">     470.559</td><td style=\"text-align: right;\">   417.031</td></tr>\n",
       "<tr><td>train_xgb_b57e0_00001</td><td>TERMINATED</td><td>127.0.0.1:84057</td><td style=\"text-align: right;\">                   2</td><td>clr             </td><td style=\"text-align: right;\"> 0.01</td><td style=\"text-align: right;\">          6</td><td style=\"text-align: right;\">                 3</td><td style=\"text-align: right;\">        0.7</td><td style=\"text-align: right;\">     5</td><td style=\"text-align: right;\">         98.5526</td><td style=\"text-align: right;\">     693.613</td><td style=\"text-align: right;\">   611.611</td></tr>\n",
       "<tr><td>train_xgb_b57e0_00002</td><td>TERMINATED</td><td>127.0.0.1:84068</td><td style=\"text-align: right;\">                  17</td><td>ilr             </td><td style=\"text-align: right;\"> 0.05</td><td style=\"text-align: right;\">          7</td><td style=\"text-align: right;\">                 1</td><td style=\"text-align: right;\">        0.8</td><td style=\"text-align: right;\">     5</td><td style=\"text-align: right;\">         93.095 </td><td style=\"text-align: right;\">     578.121</td><td style=\"text-align: right;\">   512.184</td></tr>\n",
       "<tr><td>train_xgb_b57e0_00003</td><td>TERMINATED</td><td>127.0.0.1:84086</td><td style=\"text-align: right;\">                   2</td><td>alr             </td><td style=\"text-align: right;\"> 0.01</td><td style=\"text-align: right;\">          6</td><td style=\"text-align: right;\">                 2</td><td style=\"text-align: right;\">        0.9</td><td style=\"text-align: right;\">     5</td><td style=\"text-align: right;\">         56.868 </td><td style=\"text-align: right;\">     693.859</td><td style=\"text-align: right;\">   612.501</td></tr>\n",
       "<tr><td>train_xgb_b57e0_00004</td><td>TERMINATED</td><td>127.0.0.1:84098</td><td style=\"text-align: right;\">                   4</td><td>                </td><td style=\"text-align: right;\"> 0.01</td><td style=\"text-align: right;\">          6</td><td style=\"text-align: right;\">                 1</td><td style=\"text-align: right;\">        0.9</td><td style=\"text-align: right;\">    10</td><td style=\"text-align: right;\">         61.3428</td><td style=\"text-align: right;\">     663.651</td><td style=\"text-align: right;\">   585.295</td></tr>\n",
       "<tr><td>train_xgb_b57e0_00005</td><td>TERMINATED</td><td>127.0.0.1:84113</td><td style=\"text-align: right;\">                  18</td><td>clr             </td><td style=\"text-align: right;\"> 0.3 </td><td style=\"text-align: right;\">          9</td><td style=\"text-align: right;\">                 2</td><td style=\"text-align: right;\">        0.7</td><td style=\"text-align: right;\">    10</td><td style=\"text-align: right;\">         98.909 </td><td style=\"text-align: right;\">     113.423</td><td style=\"text-align: right;\">   199.945</td></tr>\n",
       "<tr><td>train_xgb_b57e0_00006</td><td>TERMINATED</td><td>127.0.0.1:84122</td><td style=\"text-align: right;\">                   6</td><td>ilr             </td><td style=\"text-align: right;\"> 0.01</td><td style=\"text-align: right;\">          6</td><td style=\"text-align: right;\">                 1</td><td style=\"text-align: right;\">        0.8</td><td style=\"text-align: right;\">     5</td><td style=\"text-align: right;\">         72.8026</td><td style=\"text-align: right;\">     693.62 </td><td style=\"text-align: right;\">   611.844</td></tr>\n",
       "<tr><td>train_xgb_b57e0_00007</td><td>TERMINATED</td><td>127.0.0.1:84131</td><td style=\"text-align: right;\">                   0</td><td>alr             </td><td style=\"text-align: right;\"> 0.05</td><td style=\"text-align: right;\">          9</td><td style=\"text-align: right;\">                 3</td><td style=\"text-align: right;\">        1  </td><td style=\"text-align: right;\">    10</td><td style=\"text-align: right;\">         52.5072</td><td style=\"text-align: right;\">     461.679</td><td style=\"text-align: right;\">   414.884</td></tr>\n",
       "</tbody>\n",
       "</table>\n",
       "  </div>\n",
       "</div>\n",
       "<style>\n",
       ".tuneStatus {\n",
       "  color: var(--jp-ui-font-color1);\n",
       "}\n",
       ".tuneStatus .systemInfo {\n",
       "  display: flex;\n",
       "  flex-direction: column;\n",
       "}\n",
       ".tuneStatus td {\n",
       "  white-space: nowrap;\n",
       "}\n",
       ".tuneStatus .trialStatus {\n",
       "  display: flex;\n",
       "  flex-direction: column;\n",
       "}\n",
       ".tuneStatus h3 {\n",
       "  font-weight: bold;\n",
       "}\n",
       ".tuneStatus .hDivider {\n",
       "  border-bottom-width: var(--jp-border-width);\n",
       "  border-bottom-color: var(--jp-border-color0);\n",
       "  border-bottom-style: solid;\n",
       "}\n",
       ".tuneStatus .vDivider {\n",
       "  border-left-width: var(--jp-border-width);\n",
       "  border-left-color: var(--jp-border-color0);\n",
       "  border-left-style: solid;\n",
       "  margin: 0.5em 1em 0.5em 1em;\n",
       "}\n",
       "</style>\n"
      ],
      "text/plain": [
       "<IPython.core.display.HTML object>"
      ]
     },
     "metadata": {},
     "output_type": "display_data"
    },
    {
     "name": "stdout",
     "output_type": "stream",
     "text": [
      "\u001b[2m\u001b[36m(train_xgb pid=84044)\u001b[0m Train: (6446, 6013), Test: (1382, 6013)\n"
     ]
    },
    {
     "name": "stderr",
     "output_type": "stream",
     "text": [
      "\u001b[2m\u001b[36m(train_xgb pid=84044)\u001b[0m [17:50:51] WARNING: /Users/runner/work/xgboost/xgboost/python-package/build/temp.macosx-10.9-x86_64-cpython-38/xgboost/src/learner.cc:767: \n",
      "\u001b[2m\u001b[36m(train_xgb pid=84044)\u001b[0m Parameters: { \"data_alr_denom_idx\" } are not used.\n",
      "\u001b[2m\u001b[36m(train_xgb pid=84044)\u001b[0m \n"
     ]
    },
    {
     "name": "stdout",
     "output_type": "stream",
     "text": [
      "\u001b[2m\u001b[36m(train_xgb pid=84057)\u001b[0m Train: (6446, 6013), Test: (1382, 6013)\n"
     ]
    },
    {
     "name": "stderr",
     "output_type": "stream",
     "text": [
      "\u001b[2m\u001b[36m(train_xgb pid=84057)\u001b[0m Parameters: { \"data_alr_denom_idx\", \"data_transform\" } are not used.\n",
      "\u001b[2m\u001b[36m(train_xgb pid=84057)\u001b[0m \n",
      "\u001b[2m\u001b[36m(train_xgb pid=84057)\u001b[0m \n"
     ]
    },
    {
     "name": "stdout",
     "output_type": "stream",
     "text": [
      "\u001b[2m\u001b[36m(train_xgb pid=84057)\u001b[0m [0]\ttrain-rmse:718.84981\tval-rmse:634.19954\n",
      "\u001b[2m\u001b[36m(train_xgb pid=84086)\u001b[0m Train: (6446, 6012), Test: (1382, 6012)\n"
     ]
    },
    {
     "name": "stderr",
     "output_type": "stream",
     "text": [
      "\u001b[2m\u001b[36m(train_xgb pid=84086)\u001b[0m [17:51:24] WARNING: /Users/runner/work/xgboost/xgboost/python-package/build/temp.macosx-10.9-x86_64-cpython-38/xgboost/src/learner.cc:767: \n",
      "\u001b[2m\u001b[36m(train_xgb pid=84086)\u001b[0m \n",
      "\u001b[2m\u001b[36m(train_xgb pid=84086)\u001b[0m \n"
     ]
    },
    {
     "name": "stdout",
     "output_type": "stream",
     "text": [
      "\u001b[2m\u001b[36m(train_xgb pid=84098)\u001b[0m Train: (6446, 6013), Test: (1382, 6013)\n",
      "\u001b[2m\u001b[36m(train_xgb pid=84068)\u001b[0m Train: (6446, 6012), Test: (1382, 6012)\n"
     ]
    },
    {
     "name": "stderr",
     "output_type": "stream",
     "text": [
      "\u001b[2m\u001b[36m(train_xgb pid=84098)\u001b[0m Parameters: { \"data_alr_denom_idx\" } are not used.\n",
      "\u001b[2m\u001b[36m(train_xgb pid=84098)\u001b[0m \n",
      "\u001b[2m\u001b[36m(train_xgb pid=84098)\u001b[0m \n",
      "\u001b[2m\u001b[36m(train_xgb pid=84068)\u001b[0m [17:51:34] WARNING: /Users/runner/work/xgboost/xgboost/python-package/build/temp.macosx-10.9-x86_64-cpython-38/xgboost/src/learner.cc:767: \n",
      "\u001b[2m\u001b[36m(train_xgb pid=84068)\u001b[0m Parameters: { \"data_alr_denom_idx\", \"data_transform\" } are not used.\n",
      "\u001b[2m\u001b[36m(train_xgb pid=84068)\u001b[0m \n"
     ]
    },
    {
     "name": "stdout",
     "output_type": "stream",
     "text": [
      "\u001b[2m\u001b[36m(train_xgb pid=84113)\u001b[0m Train: (6446, 6013), Test: (1382, 6013)\n"
     ]
    },
    {
     "name": "stderr",
     "output_type": "stream",
     "text": [
      "\u001b[2m\u001b[36m(train_xgb pid=84113)\u001b[0m \n",
      "\u001b[2m\u001b[36m(train_xgb pid=84113)\u001b[0m \n",
      "\u001b[2m\u001b[36m(train_xgb pid=84113)\u001b[0m \n"
     ]
    },
    {
     "name": "stdout",
     "output_type": "stream",
     "text": [
      "\u001b[2m\u001b[36m(train_xgb pid=84068)\u001b[0m [0]\ttrain-rmse:692.70777\tval-rmse:611.64049\n"
     ]
    },
    {
     "data": {
      "text/html": [
       "<div class=\"trialProgress\">\n",
       "  <h3>Trial Progress</h3>\n",
       "  <table>\n",
       "<thead>\n",
       "<tr><th>Trial name           </th><th>date               </th><th>done  </th><th>experiment_tag                                                                                        </th><th>hostname   </th><th style=\"text-align: right;\">  iterations_since_restore</th><th>node_ip  </th><th style=\"text-align: right;\">  pid</th><th style=\"text-align: right;\">  rmse_train</th><th style=\"text-align: right;\">  rmse_val</th><th style=\"text-align: right;\">  time_since_restore</th><th style=\"text-align: right;\">  time_this_iter_s</th><th style=\"text-align: right;\">  time_total_s</th><th style=\"text-align: right;\">  timestamp</th><th style=\"text-align: right;\">  training_iteration</th><th>trial_id   </th></tr>\n",
       "</thead>\n",
       "<tbody>\n",
       "<tr><td>train_xgb_b57e0_00000</td><td>2023-09-26_17-52-27</td><td>True  </td><td>0_data_alr_denom_idx=11,data_transform=None,eta=0.0500,max_depth=6,min_child_weight=2,subsample=0.8000</td><td>fsbt142-114</td><td style=\"text-align: right;\">                        10</td><td>127.0.0.1</td><td style=\"text-align: right;\">84044</td><td style=\"text-align: right;\">     470.559</td><td style=\"text-align: right;\">   417.031</td><td style=\"text-align: right;\">            102.905 </td><td style=\"text-align: right;\">           3.00848</td><td style=\"text-align: right;\">      102.905 </td><td style=\"text-align: right;\"> 1695765147</td><td style=\"text-align: right;\">                  10</td><td>b57e0_00000</td></tr>\n",
       "<tr><td>train_xgb_b57e0_00001</td><td>2023-09-26_17-52-32</td><td>True  </td><td>                                                                                                      </td><td>fsbt142-114</td><td style=\"text-align: right;\">                         5</td><td>127.0.0.1</td><td style=\"text-align: right;\">84057</td><td style=\"text-align: right;\">     693.613</td><td style=\"text-align: right;\">   611.611</td><td style=\"text-align: right;\">             98.5526</td><td style=\"text-align: right;\">           6.71076</td><td style=\"text-align: right;\">       98.5526</td><td style=\"text-align: right;\"> 1695765152</td><td style=\"text-align: right;\">                   5</td><td>b57e0_00001</td></tr>\n",
       "<tr><td>train_xgb_b57e0_00002</td><td>2023-09-26_17-52-37</td><td>True  </td><td>                                                                                                      </td><td>fsbt142-114</td><td style=\"text-align: right;\">                         5</td><td>127.0.0.1</td><td style=\"text-align: right;\">84068</td><td style=\"text-align: right;\">     578.121</td><td style=\"text-align: right;\">   512.184</td><td style=\"text-align: right;\">             93.095 </td><td style=\"text-align: right;\">           6.43067</td><td style=\"text-align: right;\">       93.095 </td><td style=\"text-align: right;\"> 1695765157</td><td style=\"text-align: right;\">                   5</td><td>b57e0_00002</td></tr>\n",
       "<tr><td>train_xgb_b57e0_00003</td><td>2023-09-26_17-52-12</td><td>True  </td><td>                                                                                                      </td><td>fsbt142-114</td><td style=\"text-align: right;\">                         5</td><td>127.0.0.1</td><td style=\"text-align: right;\">84086</td><td style=\"text-align: right;\">     693.859</td><td style=\"text-align: right;\">   612.501</td><td style=\"text-align: right;\">             56.868 </td><td style=\"text-align: right;\">           4.41007</td><td style=\"text-align: right;\">       56.868 </td><td style=\"text-align: right;\"> 1695765132</td><td style=\"text-align: right;\">                   5</td><td>b57e0_00003</td></tr>\n",
       "<tr><td>train_xgb_b57e0_00004</td><td>2023-09-26_17-52-27</td><td>True  </td><td>4_data_alr_denom_idx=4,data_transform=None,eta=0.0100,max_depth=6,min_child_weight=1,subsample=0.9000 </td><td>fsbt142-114</td><td style=\"text-align: right;\">                        10</td><td>127.0.0.1</td><td style=\"text-align: right;\">84098</td><td style=\"text-align: right;\">     663.651</td><td style=\"text-align: right;\">   585.295</td><td style=\"text-align: right;\">             61.3428</td><td style=\"text-align: right;\">           3.15859</td><td style=\"text-align: right;\">       61.3428</td><td style=\"text-align: right;\"> 1695765147</td><td style=\"text-align: right;\">                  10</td><td>b57e0_00004</td></tr>\n",
       "<tr><td>train_xgb_b57e0_00005</td><td>2023-09-26_17-53-14</td><td>True  </td><td>5_data_alr_denom_idx=18,data_transform=clr,eta=0.3000,max_depth=9,min_child_weight=2,subsample=0.7000 </td><td>fsbt142-114</td><td style=\"text-align: right;\">                        10</td><td>127.0.0.1</td><td style=\"text-align: right;\">84113</td><td style=\"text-align: right;\">     113.423</td><td style=\"text-align: right;\">   199.945</td><td style=\"text-align: right;\">             98.909 </td><td style=\"text-align: right;\">           6.57395</td><td style=\"text-align: right;\">       98.909 </td><td style=\"text-align: right;\"> 1695765194</td><td style=\"text-align: right;\">                  10</td><td>b57e0_00005</td></tr>\n",
       "<tr><td>train_xgb_b57e0_00006</td><td>2023-09-26_17-52-55</td><td>True  </td><td>                                                                                                      </td><td>fsbt142-114</td><td style=\"text-align: right;\">                         5</td><td>127.0.0.1</td><td style=\"text-align: right;\">84122</td><td style=\"text-align: right;\">     693.62 </td><td style=\"text-align: right;\">   611.844</td><td style=\"text-align: right;\">             72.8026</td><td style=\"text-align: right;\">           4.56629</td><td style=\"text-align: right;\">       72.8026</td><td style=\"text-align: right;\"> 1695765175</td><td style=\"text-align: right;\">                   5</td><td>b57e0_00006</td></tr>\n",
       "<tr><td>train_xgb_b57e0_00007</td><td>2023-09-26_17-52-44</td><td>True  </td><td>7_data_alr_denom_idx=0,data_transform=alr,eta=0.0500,max_depth=9,min_child_weight=3,subsample=1.0000  </td><td>fsbt142-114</td><td style=\"text-align: right;\">                        10</td><td>127.0.0.1</td><td style=\"text-align: right;\">84131</td><td style=\"text-align: right;\">     461.679</td><td style=\"text-align: right;\">   414.884</td><td style=\"text-align: right;\">             52.5072</td><td style=\"text-align: right;\">           2.42395</td><td style=\"text-align: right;\">       52.5072</td><td style=\"text-align: right;\"> 1695765164</td><td style=\"text-align: right;\">                  10</td><td>b57e0_00007</td></tr>\n",
       "</tbody>\n",
       "</table>\n",
       "</div>\n",
       "<style>\n",
       ".trialProgress {\n",
       "  display: flex;\n",
       "  flex-direction: column;\n",
       "  color: var(--jp-ui-font-color1);\n",
       "}\n",
       ".trialProgress h3 {\n",
       "  font-weight: bold;\n",
       "}\n",
       ".trialProgress td {\n",
       "  white-space: nowrap;\n",
       "}\n",
       "</style>\n"
      ],
      "text/plain": [
       "<IPython.core.display.HTML object>"
      ]
     },
     "metadata": {},
     "output_type": "display_data"
    },
    {
     "name": "stdout",
     "output_type": "stream",
     "text": [
      "\u001b[2m\u001b[36m(train_xgb pid=84098)\u001b[0m [0]\ttrain-rmse:718.86739\tval-rmse:634.08315\n",
      "\u001b[2m\u001b[36m(train_xgb pid=84086)\u001b[0m [0]\ttrain-rmse:718.91596\tval-rmse:634.29446\n",
      "\u001b[2m\u001b[36m(train_xgb pid=84131)\u001b[0m Train: (6446, 6012), Test: (1382, 6012)\n",
      "\u001b[2m\u001b[36m(train_xgb pid=84113)\u001b[0m [0]\ttrain-rmse:530.05348\tval-rmse:474.60456\u001b[32m [repeated 2x across cluster] (Ray deduplicates logs by default. Set RAY_DEDUP_LOGS=0 to disable log deduplication, or see https://docs.ray.io/en/master/ray-observability/ray-logging.html#log-deduplication for more options.)\u001b[0m\n",
      "\u001b[2m\u001b[36m(train_xgb pid=84098)\u001b[0m [2]\ttrain-rmse:706.13527\tval-rmse:622.82655\u001b[32m [repeated 4x across cluster]\u001b[0m\n"
     ]
    },
    {
     "name": "stderr",
     "output_type": "stream",
     "text": [
      "\u001b[2m\u001b[36m(train_xgb pid=84131)\u001b[0m [17:52:08] WARNING: /Users/runner/work/xgboost/xgboost/python-package/build/temp.macosx-10.9-x86_64-cpython-38/xgboost/src/learner.cc:767: \n",
      "\u001b[2m\u001b[36m(train_xgb pid=84131)\u001b[0m Parameters: { \"data_alr_denom_idx\", \"data_transform\" } are not used.\n",
      "\u001b[2m\u001b[36m(train_xgb pid=84131)\u001b[0m \n"
     ]
    },
    {
     "name": "stdout",
     "output_type": "stream",
     "text": [
      "\u001b[2m\u001b[36m(train_xgb pid=84086)\u001b[0m [3]\ttrain-rmse:700.02682\tval-rmse:617.88887\u001b[32m [repeated 6x across cluster]\u001b[0m\n",
      "\u001b[2m\u001b[36m(train_xgb pid=84098)\u001b[0m [5]\ttrain-rmse:687.51918\tval-rmse:606.31100\u001b[32m [repeated 5x across cluster]\u001b[0m\n",
      "\u001b[2m\u001b[36m(train_xgb pid=84098)\u001b[0m [7]\ttrain-rmse:675.43989\tval-rmse:595.63084\u001b[32m [repeated 7x across cluster]\u001b[0m\n",
      "\u001b[2m\u001b[36m(train_xgb pid=84122)\u001b[0m Train: (6446, 6012), Test: (1382, 6012)\n",
      "\u001b[2m\u001b[36m(train_xgb pid=84044)\u001b[0m [9]\ttrain-rmse:470.55913\tval-rmse:417.03086\u001b[32m [repeated 8x across cluster]\u001b[0m\n"
     ]
    },
    {
     "name": "stderr",
     "output_type": "stream",
     "text": [
      "\u001b[2m\u001b[36m(train_xgb pid=84122)\u001b[0m \n",
      "\u001b[2m\u001b[36m(train_xgb pid=84122)\u001b[0m \n",
      "\u001b[2m\u001b[36m(train_xgb pid=84122)\u001b[0m \n"
     ]
    },
    {
     "name": "stdout",
     "output_type": "stream",
     "text": [
      "\u001b[2m\u001b[36m(train_xgb pid=84057)\u001b[0m [4]\ttrain-rmse:693.61321\tval-rmse:611.61147\u001b[32m [repeated 5x across cluster]\u001b[0m\n",
      "\u001b[2m\u001b[36m(train_xgb pid=84131)\u001b[0m [6]\ttrain-rmse:526.94689\tval-rmse:469.27908\u001b[32m [repeated 4x across cluster]\u001b[0m\n",
      "\u001b[2m\u001b[36m(train_xgb pid=84131)\u001b[0m [9]\ttrain-rmse:461.67916\tval-rmse:414.88384\u001b[32m [repeated 6x across cluster]\u001b[0m\n",
      "\u001b[2m\u001b[36m(train_xgb pid=84122)\u001b[0m [3]\ttrain-rmse:699.83095\tval-rmse:617.36743\u001b[32m [repeated 3x across cluster]\u001b[0m\n",
      "\u001b[2m\u001b[36m(train_xgb pid=84113)\u001b[0m [7]\ttrain-rmse:130.57934\tval-rmse:203.22965\u001b[32m [repeated 2x across cluster]\u001b[0m\n",
      "\u001b[2m\u001b[36m(train_xgb pid=84113)\u001b[0m [8]\ttrain-rmse:120.77817\tval-rmse:200.43489\n",
      "\u001b[2m\u001b[36m(train_xgb pid=84113)\u001b[0m [9]\ttrain-rmse:113.42317\tval-rmse:199.94455\n"
     ]
    },
    {
     "name": "stderr",
     "output_type": "stream",
     "text": [
      "2023-09-26 17:53:14,183\tINFO tune.py:945 -- Total run time: 160.40 seconds (160.34 seconds for the tuning loop).\n"
     ]
    },
    {
     "name": "stdout",
     "output_type": "stream",
     "text": [
      "Ray tune training of: nn...\n"
     ]
    },
    {
     "data": {
      "text/html": [
       "<div class=\"tuneStatus\">\n",
       "  <div style=\"display: flex;flex-direction: row\">\n",
       "    <div style=\"display: flex;flex-direction: column;\">\n",
       "      <h3>Tune Status</h3>\n",
       "      <table>\n",
       "<tbody>\n",
       "<tr><td>Current time:</td><td>2023-09-26 17:57:39</td></tr>\n",
       "<tr><td>Running for: </td><td>00:04:24.83        </td></tr>\n",
       "<tr><td>Memory:      </td><td>6.8/16.0 GiB       </td></tr>\n",
       "</tbody>\n",
       "</table>\n",
       "    </div>\n",
       "    <div class=\"vDivider\"></div>\n",
       "    <div class=\"systemInfo\">\n",
       "      <h3>System Info</h3>\n",
       "      Using AsyncHyperBand: num_stopped=8<br>Bracket: Iter 80.000: -229.79174041748047 | Iter 20.000: -222.91999053955078 | Iter 5.000: -229.8027114868164<br>Logical resource usage: 0/8 CPUs, 0/0 GPUs\n",
       "    </div>\n",
       "    \n",
       "  </div>\n",
       "  <div class=\"hDivider\"></div>\n",
       "  <div class=\"trialStatus\">\n",
       "    <h3>Trial Status</h3>\n",
       "    <table>\n",
       "<thead>\n",
       "<tr><th>Trial name          </th><th>status    </th><th>loc            </th><th style=\"text-align: right;\">  batch_size</th><th style=\"text-align: right;\">  data_alr_denom_idx</th><th>data_transform  </th><th style=\"text-align: right;\">  learning_rate</th><th style=\"text-align: right;\">  n_layers</th><th style=\"text-align: right;\">  n_units_l0</th><th style=\"text-align: right;\">  n_units_l1</th><th style=\"text-align: right;\">  n_units_l2</th><th style=\"text-align: right;\">  n_units_l3</th><th style=\"text-align: right;\">  n_units_l4</th><th style=\"text-align: right;\">  n_units_l5</th><th style=\"text-align: right;\">  n_units_l6</th><th style=\"text-align: right;\">  n_units_l7</th><th style=\"text-align: right;\">  n_units_l8</th><th style=\"text-align: right;\">  iter</th><th style=\"text-align: right;\">  total time (s)</th><th style=\"text-align: right;\">  rmse_val</th><th style=\"text-align: right;\">  rmse_train</th></tr>\n",
       "</thead>\n",
       "<tbody>\n",
       "<tr><td>train_nn_17e59_00000</td><td>TERMINATED</td><td>127.0.0.1:84184</td><td style=\"text-align: right;\">          64</td><td style=\"text-align: right;\">                  11</td><td>                </td><td style=\"text-align: right;\">    0.00912428 </td><td style=\"text-align: right;\">         6</td><td style=\"text-align: right;\">           5</td><td style=\"text-align: right;\">           6</td><td style=\"text-align: right;\">           6</td><td style=\"text-align: right;\">          15</td><td style=\"text-align: right;\">          51</td><td style=\"text-align: right;\">          25</td><td style=\"text-align: right;\">          52</td><td style=\"text-align: right;\">          55</td><td style=\"text-align: right;\">           8</td><td style=\"text-align: right;\">     5</td><td style=\"text-align: right;\">         76.4062</td><td style=\"text-align: right;\">  1346.47 </td><td style=\"text-align: right;\">    409.352 </td></tr>\n",
       "<tr><td>train_nn_17e59_00001</td><td>TERMINATED</td><td>127.0.0.1:84193</td><td style=\"text-align: right;\">         128</td><td style=\"text-align: right;\">                  13</td><td>clr             </td><td style=\"text-align: right;\">    0.0672663  </td><td style=\"text-align: right;\">         3</td><td style=\"text-align: right;\">          13</td><td style=\"text-align: right;\">           3</td><td style=\"text-align: right;\">          56</td><td style=\"text-align: right;\">          43</td><td style=\"text-align: right;\">          15</td><td style=\"text-align: right;\">          16</td><td style=\"text-align: right;\">          21</td><td style=\"text-align: right;\">          28</td><td style=\"text-align: right;\">          38</td><td style=\"text-align: right;\">   100</td><td style=\"text-align: right;\">        204.625 </td><td style=\"text-align: right;\">   282.114</td><td style=\"text-align: right;\">     56.9468</td></tr>\n",
       "<tr><td>train_nn_17e59_00002</td><td>TERMINATED</td><td>127.0.0.1:84205</td><td style=\"text-align: right;\">          32</td><td style=\"text-align: right;\">                   4</td><td>ilr             </td><td style=\"text-align: right;\">    3.90747e-05</td><td style=\"text-align: right;\">         6</td><td style=\"text-align: right;\">          21</td><td style=\"text-align: right;\">          25</td><td style=\"text-align: right;\">          53</td><td style=\"text-align: right;\">          19</td><td style=\"text-align: right;\">          23</td><td style=\"text-align: right;\">           9</td><td style=\"text-align: right;\">          62</td><td style=\"text-align: right;\">          48</td><td style=\"text-align: right;\">          12</td><td style=\"text-align: right;\">     5</td><td style=\"text-align: right;\">         62.2397</td><td style=\"text-align: right;\">   350.43 </td><td style=\"text-align: right;\">    425.034 </td></tr>\n",
       "<tr><td>train_nn_17e59_00003</td><td>TERMINATED</td><td>127.0.0.1:84224</td><td style=\"text-align: right;\">          64</td><td style=\"text-align: right;\">                  13</td><td>alr             </td><td style=\"text-align: right;\">    0.000173616</td><td style=\"text-align: right;\">         3</td><td style=\"text-align: right;\">          62</td><td style=\"text-align: right;\">          27</td><td style=\"text-align: right;\">          18</td><td style=\"text-align: right;\">          28</td><td style=\"text-align: right;\">          57</td><td style=\"text-align: right;\">          36</td><td style=\"text-align: right;\">          59</td><td style=\"text-align: right;\">           7</td><td style=\"text-align: right;\">          35</td><td style=\"text-align: right;\">     5</td><td style=\"text-align: right;\">         48.4303</td><td style=\"text-align: right;\">238461    </td><td style=\"text-align: right;\">  96077.7   </td></tr>\n",
       "<tr><td>train_nn_17e59_00004</td><td>TERMINATED</td><td>127.0.0.1:84234</td><td style=\"text-align: right;\">          32</td><td style=\"text-align: right;\">                   4</td><td>                </td><td style=\"text-align: right;\">    0.0117463  </td><td style=\"text-align: right;\">         9</td><td style=\"text-align: right;\">          35</td><td style=\"text-align: right;\">          45</td><td style=\"text-align: right;\">           9</td><td style=\"text-align: right;\">           9</td><td style=\"text-align: right;\">          48</td><td style=\"text-align: right;\">           6</td><td style=\"text-align: right;\">           5</td><td style=\"text-align: right;\">          31</td><td style=\"text-align: right;\">          13</td><td style=\"text-align: right;\">     5</td><td style=\"text-align: right;\">         50.2504</td><td style=\"text-align: right;\">  1730.43 </td><td style=\"text-align: right;\">    409.584 </td></tr>\n",
       "<tr><td>train_nn_17e59_00005</td><td>TERMINATED</td><td>127.0.0.1:84246</td><td style=\"text-align: right;\">          32</td><td style=\"text-align: right;\">                   3</td><td>clr             </td><td style=\"text-align: right;\">    0.0519596  </td><td style=\"text-align: right;\">         3</td><td style=\"text-align: right;\">          46</td><td style=\"text-align: right;\">          48</td><td style=\"text-align: right;\">          36</td><td style=\"text-align: right;\">          23</td><td style=\"text-align: right;\">          32</td><td style=\"text-align: right;\">          44</td><td style=\"text-align: right;\">           8</td><td style=\"text-align: right;\">          54</td><td style=\"text-align: right;\">          56</td><td style=\"text-align: right;\">   100</td><td style=\"text-align: right;\">        213.043 </td><td style=\"text-align: right;\">   237.872</td><td style=\"text-align: right;\">     60.1761</td></tr>\n",
       "<tr><td>train_nn_17e59_00006</td><td>TERMINATED</td><td>127.0.0.1:84268</td><td style=\"text-align: right;\">          64</td><td style=\"text-align: right;\">                  11</td><td>ilr             </td><td style=\"text-align: right;\">    0.00800656 </td><td style=\"text-align: right;\">         3</td><td style=\"text-align: right;\">          48</td><td style=\"text-align: right;\">          57</td><td style=\"text-align: right;\">          55</td><td style=\"text-align: right;\">          58</td><td style=\"text-align: right;\">           9</td><td style=\"text-align: right;\">          53</td><td style=\"text-align: right;\">          30</td><td style=\"text-align: right;\">          54</td><td style=\"text-align: right;\">          37</td><td style=\"text-align: right;\">   100</td><td style=\"text-align: right;\">        196.169 </td><td style=\"text-align: right;\">   229.165</td><td style=\"text-align: right;\">     34.6074</td></tr>\n",
       "<tr><td>train_nn_17e59_00007</td><td>TERMINATED</td><td>127.0.0.1:84280</td><td style=\"text-align: right;\">          32</td><td style=\"text-align: right;\">                   6</td><td>alr             </td><td style=\"text-align: right;\">    1.56442e-05</td><td style=\"text-align: right;\">         6</td><td style=\"text-align: right;\">          51</td><td style=\"text-align: right;\">          40</td><td style=\"text-align: right;\">          23</td><td style=\"text-align: right;\">          19</td><td style=\"text-align: right;\">           6</td><td style=\"text-align: right;\">          48</td><td style=\"text-align: right;\">          26</td><td style=\"text-align: right;\">          60</td><td style=\"text-align: right;\">          57</td><td style=\"text-align: right;\">     5</td><td style=\"text-align: right;\">         33.1207</td><td style=\"text-align: right;\"> 73951.6  </td><td style=\"text-align: right;\">  87808.3   </td></tr>\n",
       "</tbody>\n",
       "</table>\n",
       "  </div>\n",
       "</div>\n",
       "<style>\n",
       ".tuneStatus {\n",
       "  color: var(--jp-ui-font-color1);\n",
       "}\n",
       ".tuneStatus .systemInfo {\n",
       "  display: flex;\n",
       "  flex-direction: column;\n",
       "}\n",
       ".tuneStatus td {\n",
       "  white-space: nowrap;\n",
       "}\n",
       ".tuneStatus .trialStatus {\n",
       "  display: flex;\n",
       "  flex-direction: column;\n",
       "}\n",
       ".tuneStatus h3 {\n",
       "  font-weight: bold;\n",
       "}\n",
       ".tuneStatus .hDivider {\n",
       "  border-bottom-width: var(--jp-border-width);\n",
       "  border-bottom-color: var(--jp-border-color0);\n",
       "  border-bottom-style: solid;\n",
       "}\n",
       ".tuneStatus .vDivider {\n",
       "  border-left-width: var(--jp-border-width);\n",
       "  border-left-color: var(--jp-border-color0);\n",
       "  border-left-style: solid;\n",
       "  margin: 0.5em 1em 0.5em 1em;\n",
       "}\n",
       "</style>\n"
      ],
      "text/plain": [
       "<IPython.core.display.HTML object>"
      ]
     },
     "metadata": {},
     "output_type": "display_data"
    },
    {
     "name": "stdout",
     "output_type": "stream",
     "text": [
      "\u001b[2m\u001b[36m(train_nn pid=84184)\u001b[0m Train: (6446, 6013), Test: (1382, 6013)\n"
     ]
    },
    {
     "name": "stderr",
     "output_type": "stream",
     "text": [
      "\u001b[2m\u001b[36m(train_nn pid=84184)\u001b[0m 2023/09/26 17:53:28 INFO mlflow.utils.autologging_utils: Created MLflow autologging run with ID 'af6deafff9db49c49fd0b005b93fcb9d', which will track hyperparameters, performance metrics, model artifacts, and lineage information for the current tensorflow workflow\n",
      "\u001b[2m\u001b[36m(train_nn pid=84184)\u001b[0m WARNING:tensorflow:Callback method `on_train_batch_end` is slow compared to the batch time (batch time: 0.0020s vs `on_train_batch_end` time: 0.0064s). Check your callbacks.\n",
      "\u001b[2m\u001b[36m(train_nn pid=84184)\u001b[0m WARNING:absl:Found untraced functions such as _update_step_xla while saving (showing 1 of 1). These functions will not be directly callable after loading.\n"
     ]
    },
    {
     "name": "stdout",
     "output_type": "stream",
     "text": [
      "\u001b[2m\u001b[36m(train_nn pid=84193)\u001b[0m Train: (6446, 6013), Test: (1382, 6013)\n"
     ]
    },
    {
     "name": "stderr",
     "output_type": "stream",
     "text": [
      "\u001b[2m\u001b[36m(train_nn pid=84193)\u001b[0m 2023/09/26 17:53:37 INFO mlflow.utils.autologging_utils: Created MLflow autologging run with ID 'dc4f9471fd974971852361ed1c6818cf', which will track hyperparameters, performance metrics, model artifacts, and lineage information for the current tensorflow workflow\n",
      "\u001b[2m\u001b[36m(train_nn pid=84193)\u001b[0m WARNING:tensorflow:Callback method `on_train_batch_end` is slow compared to the batch time (batch time: 0.0035s vs `on_train_batch_end` time: 0.0037s). Check your callbacks.\n",
      "\u001b[2m\u001b[36m(train_nn pid=84193)\u001b[0m WARNING:absl:Found untraced functions such as _update_step_xla while saving (showing 1 of 1). These functions will not be directly callable after loading.\n"
     ]
    },
    {
     "name": "stdout",
     "output_type": "stream",
     "text": [
      "\u001b[2m\u001b[36m(train_nn pid=84224)\u001b[0m Train: (6446, 6012), Test: (1382, 6012)\n"
     ]
    },
    {
     "name": "stderr",
     "output_type": "stream",
     "text": [
      "\u001b[2m\u001b[36m(train_nn pid=84224)\u001b[0m 2023/09/26 17:53:52 INFO mlflow.utils.autologging_utils: Created MLflow autologging run with ID '1e1d91352d324d159509de764c35d693', which will track hyperparameters, performance metrics, model artifacts, and lineage information for the current tensorflow workflow\n",
      "\u001b[2m\u001b[36m(train_nn pid=84224)\u001b[0m WARNING:tensorflow:Callback method `on_train_batch_end` is slow compared to the batch time (batch time: 0.0037s vs `on_train_batch_end` time: 0.0038s). Check your callbacks.\n",
      "\u001b[2m\u001b[36m(train_nn pid=84224)\u001b[0m WARNING:absl:Found untraced functions such as _update_step_xla while saving (showing 1 of 1). These functions will not be directly callable after loading.\n"
     ]
    },
    {
     "name": "stdout",
     "output_type": "stream",
     "text": [
      "\u001b[2m\u001b[36m(train_nn pid=84234)\u001b[0m Train: (6446, 6013), Test: (1382, 6013)\n"
     ]
    },
    {
     "name": "stderr",
     "output_type": "stream",
     "text": [
      "\u001b[2m\u001b[36m(train_nn pid=84234)\u001b[0m 2023/09/26 17:54:00 INFO mlflow.utils.autologging_utils: Created MLflow autologging run with ID 'c1f13f7a170a45f9899f15bcd37dc1a2', which will track hyperparameters, performance metrics, model artifacts, and lineage information for the current tensorflow workflow\n",
      "\u001b[2m\u001b[36m(train_nn pid=84234)\u001b[0m WARNING:tensorflow:Callback method `on_train_batch_end` is slow compared to the batch time (batch time: 0.0036s vs `on_train_batch_end` time: 0.0072s). Check your callbacks.\n"
     ]
    },
    {
     "name": "stdout",
     "output_type": "stream",
     "text": [
      "\u001b[2m\u001b[36m(train_nn pid=84205)\u001b[0m Train: (6446, 6012), Test: (1382, 6012)\n"
     ]
    },
    {
     "name": "stderr",
     "output_type": "stream",
     "text": [
      "\u001b[2m\u001b[36m(train_nn pid=84205)\u001b[0m 2023/09/26 17:54:05 INFO mlflow.utils.autologging_utils: Created MLflow autologging run with ID '1075b1d220c64a1bbbd19e899006f6c0', which will track hyperparameters, performance metrics, model artifacts, and lineage information for the current tensorflow workflow\n",
      "\u001b[2m\u001b[36m(train_nn pid=84234)\u001b[0m WARNING:absl:Found untraced functions such as _update_step_xla while saving (showing 1 of 1). These functions will not be directly callable after loading.\n",
      "\u001b[2m\u001b[36m(train_nn pid=84205)\u001b[0m WARNING:absl:Found untraced functions such as _update_step_xla while saving (showing 1 of 1). These functions will not be directly callable after loading.\n",
      "\u001b[2m\u001b[36m(train_nn pid=84246)\u001b[0m WARNING:tensorflow:Callback method `on_train_batch_end` is slow compared to the batch time (batch time: 0.0036s vs `on_train_batch_end` time: 0.0041s). Check your callbacks.\n",
      "\u001b[2m\u001b[36m(train_nn pid=84246)\u001b[0m WARNING:tensorflow:Callback method `on_train_batch_end` is slow compared to the batch time (batch time: 0.0036s vs `on_train_batch_end` time: 0.0041s). Check your callbacks.\n",
      "\u001b[2m\u001b[36m(train_nn pid=84205)\u001b[0m WARNING:tensorflow:Callback method `on_train_batch_end` is slow compared to the batch time (batch time: 0.0036s vs `on_train_batch_end` time: 0.0041s). Check your callbacks.\n",
      "\u001b[2m\u001b[36m(train_nn pid=84246)\u001b[0m WARNING:absl:Found untraced functions such as _update_step_xla while saving (showing 1 of 1). These functions will not be directly callable after loading.\n"
     ]
    },
    {
     "data": {
      "text/html": [
       "<div class=\"trialProgress\">\n",
       "  <h3>Trial Progress</h3>\n",
       "  <table>\n",
       "<thead>\n",
       "<tr><th>Trial name          </th><th>date               </th><th>done  </th><th>hostname   </th><th style=\"text-align: right;\">  iterations_since_restore</th><th>node_ip  </th><th style=\"text-align: right;\">  pid</th><th style=\"text-align: right;\">  rmse_train</th><th style=\"text-align: right;\">  rmse_val</th><th>should_checkpoint  </th><th style=\"text-align: right;\">  time_since_restore</th><th style=\"text-align: right;\">  time_this_iter_s</th><th style=\"text-align: right;\">  time_total_s</th><th style=\"text-align: right;\">  timestamp</th><th style=\"text-align: right;\">  training_iteration</th><th>trial_id   </th></tr>\n",
       "</thead>\n",
       "<tbody>\n",
       "<tr><td>train_nn_17e59_00000</td><td>2023-09-26_17-54-42</td><td>True  </td><td>fsbt142-114</td><td style=\"text-align: right;\">                         5</td><td>127.0.0.1</td><td style=\"text-align: right;\">84184</td><td style=\"text-align: right;\">    409.352 </td><td style=\"text-align: right;\">  1346.47 </td><td>True               </td><td style=\"text-align: right;\">             76.4062</td><td style=\"text-align: right;\">           3.65483</td><td style=\"text-align: right;\">       76.4062</td><td style=\"text-align: right;\"> 1695765282</td><td style=\"text-align: right;\">                   5</td><td>17e59_00000</td></tr>\n",
       "<tr><td>train_nn_17e59_00001</td><td>2023-09-26_17-56-58</td><td>True  </td><td>fsbt142-114</td><td style=\"text-align: right;\">                       100</td><td>127.0.0.1</td><td style=\"text-align: right;\">84193</td><td style=\"text-align: right;\">     56.9468</td><td style=\"text-align: right;\">   282.114</td><td>True               </td><td style=\"text-align: right;\">            204.625 </td><td style=\"text-align: right;\">           1.45313</td><td style=\"text-align: right;\">      204.625 </td><td style=\"text-align: right;\"> 1695765418</td><td style=\"text-align: right;\">                 100</td><td>17e59_00001</td></tr>\n",
       "<tr><td>train_nn_17e59_00002</td><td>2023-09-26_17-54-43</td><td>True  </td><td>fsbt142-114</td><td style=\"text-align: right;\">                         5</td><td>127.0.0.1</td><td style=\"text-align: right;\">84205</td><td style=\"text-align: right;\">    425.034 </td><td style=\"text-align: right;\">   350.43 </td><td>True               </td><td style=\"text-align: right;\">             62.2397</td><td style=\"text-align: right;\">           4.11289</td><td style=\"text-align: right;\">       62.2397</td><td style=\"text-align: right;\"> 1695765283</td><td style=\"text-align: right;\">                   5</td><td>17e59_00002</td></tr>\n",
       "<tr><td>train_nn_17e59_00003</td><td>2023-09-26_17-54-37</td><td>True  </td><td>fsbt142-114</td><td style=\"text-align: right;\">                         5</td><td>127.0.0.1</td><td style=\"text-align: right;\">84224</td><td style=\"text-align: right;\">  96077.7   </td><td style=\"text-align: right;\">238461    </td><td>True               </td><td style=\"text-align: right;\">             48.4303</td><td style=\"text-align: right;\">           3.7091 </td><td style=\"text-align: right;\">       48.4303</td><td style=\"text-align: right;\"> 1695765277</td><td style=\"text-align: right;\">                   5</td><td>17e59_00003</td></tr>\n",
       "<tr><td>train_nn_17e59_00004</td><td>2023-09-26_17-54-47</td><td>True  </td><td>fsbt142-114</td><td style=\"text-align: right;\">                         5</td><td>127.0.0.1</td><td style=\"text-align: right;\">84234</td><td style=\"text-align: right;\">    409.584 </td><td style=\"text-align: right;\">  1730.43 </td><td>True               </td><td style=\"text-align: right;\">             50.2504</td><td style=\"text-align: right;\">           4.69974</td><td style=\"text-align: right;\">       50.2504</td><td style=\"text-align: right;\"> 1695765287</td><td style=\"text-align: right;\">                   5</td><td>17e59_00004</td></tr>\n",
       "<tr><td>train_nn_17e59_00005</td><td>2023-09-26_17-57-39</td><td>True  </td><td>fsbt142-114</td><td style=\"text-align: right;\">                       100</td><td>127.0.0.1</td><td style=\"text-align: right;\">84246</td><td style=\"text-align: right;\">     60.1761</td><td style=\"text-align: right;\">   237.872</td><td>True               </td><td style=\"text-align: right;\">            213.043 </td><td style=\"text-align: right;\">           1.42942</td><td style=\"text-align: right;\">      213.043 </td><td style=\"text-align: right;\"> 1695765459</td><td style=\"text-align: right;\">                 100</td><td>17e59_00005</td></tr>\n",
       "<tr><td>train_nn_17e59_00006</td><td>2023-09-26_17-57-30</td><td>True  </td><td>fsbt142-114</td><td style=\"text-align: right;\">                       100</td><td>127.0.0.1</td><td style=\"text-align: right;\">84268</td><td style=\"text-align: right;\">     34.6074</td><td style=\"text-align: right;\">   229.165</td><td>True               </td><td style=\"text-align: right;\">            196.169 </td><td style=\"text-align: right;\">           1.34911</td><td style=\"text-align: right;\">      196.169 </td><td style=\"text-align: right;\"> 1695765450</td><td style=\"text-align: right;\">                 100</td><td>17e59_00006</td></tr>\n",
       "<tr><td>train_nn_17e59_00007</td><td>2023-09-26_17-54-55</td><td>True  </td><td>fsbt142-114</td><td style=\"text-align: right;\">                         5</td><td>127.0.0.1</td><td style=\"text-align: right;\">84280</td><td style=\"text-align: right;\">  87808.3   </td><td style=\"text-align: right;\"> 73951.6  </td><td>True               </td><td style=\"text-align: right;\">             33.1207</td><td style=\"text-align: right;\">           3.06374</td><td style=\"text-align: right;\">       33.1207</td><td style=\"text-align: right;\"> 1695765295</td><td style=\"text-align: right;\">                   5</td><td>17e59_00007</td></tr>\n",
       "</tbody>\n",
       "</table>\n",
       "</div>\n",
       "<style>\n",
       ".trialProgress {\n",
       "  display: flex;\n",
       "  flex-direction: column;\n",
       "  color: var(--jp-ui-font-color1);\n",
       "}\n",
       ".trialProgress h3 {\n",
       "  font-weight: bold;\n",
       "}\n",
       ".trialProgress td {\n",
       "  white-space: nowrap;\n",
       "}\n",
       "</style>\n"
      ],
      "text/plain": [
       "<IPython.core.display.HTML object>"
      ]
     },
     "metadata": {},
     "output_type": "display_data"
    },
    {
     "name": "stderr",
     "output_type": "stream",
     "text": [
      "\u001b[2m\u001b[36m(train_nn pid=84224)\u001b[0m WARNING:absl:Found untraced functions such as _update_step_xla while saving (showing 1 of 1). These functions will not be directly callable after loading.\n",
      "\u001b[2m\u001b[36m(train_nn pid=84193)\u001b[0m WARNING:absl:Found untraced functions such as _update_step_xla while saving (showing 1 of 1). These functions will not be directly callable after loading.\n"
     ]
    },
    {
     "name": "stdout",
     "output_type": "stream",
     "text": [
      "\u001b[2m\u001b[36m(train_nn pid=84280)\u001b[0m Train: (6446, 6012), Test: (1382, 6012)\u001b[32m [repeated 2x across cluster]\u001b[0m\n"
     ]
    },
    {
     "name": "stderr",
     "output_type": "stream",
     "text": [
      "\u001b[2m\u001b[36m(train_nn pid=84280)\u001b[0m 2023/09/26 17:54:31 INFO mlflow.utils.autologging_utils: Created MLflow autologging run with ID 'ff1455d4e09840eab30bc8ce4a982860', which will track hyperparameters, performance metrics, model artifacts, and lineage information for the current tensorflow workflow\n",
      "\u001b[2m\u001b[36m(train_nn pid=84184)\u001b[0m WARNING:absl:Found untraced functions such as _update_step_xla while saving (showing 1 of 1). These functions will not be directly callable after loading.\u001b[32m [repeated 8x across cluster]\u001b[0m\n",
      "\u001b[2m\u001b[36m(train_nn pid=84280)\u001b[0m WARNING:tensorflow:Callback method `on_train_batch_end` is slow compared to the batch time (batch time: 0.0042s vs `on_train_batch_end` time: 0.0107s). Check your callbacks.\n",
      "\u001b[2m\u001b[36m(train_nn pid=84184)\u001b[0m WARNING:absl:Found untraced functions such as _update_step_xla while saving (showing 1 of 1). These functions will not be directly callable after loading.\u001b[32m [repeated 8x across cluster]\u001b[0m\n",
      "\u001b[2m\u001b[36m(train_nn pid=84193)\u001b[0m WARNING:absl:Found untraced functions such as _update_step_xla while saving (showing 1 of 1). These functions will not be directly callable after loading.\u001b[32m [repeated 10x across cluster]\u001b[0m\n",
      "\u001b[2m\u001b[36m(train_nn pid=84193)\u001b[0m WARNING:absl:Found untraced functions such as _update_step_xla while saving (showing 1 of 1). These functions will not be directly callable after loading.\u001b[32m [repeated 8x across cluster]\u001b[0m\n"
     ]
    },
    {
     "name": "stdout",
     "output_type": "stream",
     "text": [
      "\u001b[2m\u001b[36m(train_nn pid=84268)\u001b[0m Train: (6446, 6012), Test: (1382, 6012)\n",
      "\u001b[2m\u001b[36m(train_nn pid=84268)\u001b[0m \n"
     ]
    },
    {
     "name": "stderr",
     "output_type": "stream",
     "text": [
      "\u001b[2m\u001b[36m(train_nn pid=84193)\u001b[0m WARNING:absl:Found untraced functions such as _update_step_xla while saving (showing 1 of 1). These functions will not be directly callable after loading.\u001b[32m [repeated 6x across cluster]\u001b[0m\n",
      "\u001b[2m\u001b[36m(train_nn pid=84268)\u001b[0m 2023/09/26 17:54:54 INFO mlflow.utils.autologging_utils: Created MLflow autologging run with ID '46293e6168174b038e7215ff7e168001', which will track hyperparameters, performance metrics, model artifacts, and lineage information for the current tensorflow workflow\n",
      "\u001b[2m\u001b[36m(train_nn pid=84268)\u001b[0m WARNING:tensorflow:Callback method `on_train_batch_end` is slow compared to the batch time (batch time: 0.0031s vs `on_train_batch_end` time: 0.0056s). Check your callbacks.\n",
      "\u001b[2m\u001b[36m(train_nn pid=84268)\u001b[0m WARNING:absl:Found untraced functions such as _update_step_xla while saving (showing 1 of 1). These functions will not be directly callable after loading.\u001b[32m [repeated 9x across cluster]\u001b[0m\n",
      "\u001b[2m\u001b[36m(train_nn pid=84193)\u001b[0m WARNING:absl:Found untraced functions such as _update_step_xla while saving (showing 1 of 1). These functions will not be directly callable after loading.\u001b[32m [repeated 11x across cluster]\u001b[0m\n",
      "\u001b[2m\u001b[36m(train_nn pid=84268)\u001b[0m WARNING:absl:Found untraced functions such as _update_step_xla while saving (showing 1 of 1). These functions will not be directly callable after loading.\u001b[32m [repeated 10x across cluster]\u001b[0m\n",
      "\u001b[2m\u001b[36m(train_nn pid=84268)\u001b[0m WARNING:absl:Found untraced functions such as _update_step_xla while saving (showing 1 of 1). These functions will not be directly callable after loading.\u001b[32m [repeated 11x across cluster]\u001b[0m\n",
      "\u001b[2m\u001b[36m(train_nn pid=84193)\u001b[0m WARNING:absl:Found untraced functions such as _update_step_xla while saving (showing 1 of 1). These functions will not be directly callable after loading.\u001b[32m [repeated 11x across cluster]\u001b[0m\n",
      "\u001b[2m\u001b[36m(train_nn pid=84193)\u001b[0m WARNING:absl:Found untraced functions such as _update_step_xla while saving (showing 1 of 1). These functions will not be directly callable after loading.\u001b[32m [repeated 11x across cluster]\u001b[0m\n",
      "\u001b[2m\u001b[36m(train_nn pid=84268)\u001b[0m WARNING:absl:Found untraced functions such as _update_step_xla while saving (showing 1 of 1). These functions will not be directly callable after loading.\u001b[32m [repeated 10x across cluster]\u001b[0m\n",
      "\u001b[2m\u001b[36m(train_nn pid=84193)\u001b[0m WARNING:absl:Found untraced functions such as _update_step_xla while saving (showing 1 of 1). These functions will not be directly callable after loading.\u001b[32m [repeated 8x across cluster]\u001b[0m\n",
      "\u001b[2m\u001b[36m(train_nn pid=84268)\u001b[0m WARNING:absl:Found untraced functions such as _update_step_xla while saving (showing 1 of 1). These functions will not be directly callable after loading.\u001b[32m [repeated 10x across cluster]\u001b[0m\n",
      "\u001b[2m\u001b[36m(train_nn pid=84246)\u001b[0m WARNING:absl:Found untraced functions such as _update_step_xla while saving (showing 1 of 1). These functions will not be directly callable after loading.\u001b[32m [repeated 8x across cluster]\u001b[0m\n",
      "\u001b[2m\u001b[36m(train_nn pid=84193)\u001b[0m WARNING:absl:Found untraced functions such as _update_step_xla while saving (showing 1 of 1). These functions will not be directly callable after loading.\u001b[32m [repeated 11x across cluster]\u001b[0m\n",
      "\u001b[2m\u001b[36m(train_nn pid=84246)\u001b[0m WARNING:absl:Found untraced functions such as _update_step_xla while saving (showing 1 of 1). These functions will not be directly callable after loading.\u001b[32m [repeated 11x across cluster]\u001b[0m\n",
      "\u001b[2m\u001b[36m(train_nn pid=84268)\u001b[0m WARNING:absl:Found untraced functions such as _update_step_xla while saving (showing 1 of 1). These functions will not be directly callable after loading.\u001b[32m [repeated 10x across cluster]\u001b[0m\n",
      "\u001b[2m\u001b[36m(train_nn pid=84193)\u001b[0m WARNING:absl:Found untraced functions such as _update_step_xla while saving (showing 1 of 1). These functions will not be directly callable after loading.\u001b[32m [repeated 11x across cluster]\u001b[0m\n",
      "\u001b[2m\u001b[36m(train_nn pid=84268)\u001b[0m WARNING:absl:Found untraced functions such as _update_step_xla while saving (showing 1 of 1). These functions will not be directly callable after loading.\u001b[32m [repeated 10x across cluster]\u001b[0m\n",
      "\u001b[2m\u001b[36m(train_nn pid=84268)\u001b[0m WARNING:absl:Found untraced functions such as _update_step_xla while saving (showing 1 of 1). These functions will not be directly callable after loading.\u001b[32m [repeated 11x across cluster]\u001b[0m\n",
      "\u001b[2m\u001b[36m(train_nn pid=84193)\u001b[0m WARNING:absl:Found untraced functions such as _update_step_xla while saving (showing 1 of 1). These functions will not be directly callable after loading.\u001b[32m [repeated 11x across cluster]\u001b[0m\n",
      "\u001b[2m\u001b[36m(train_nn pid=84268)\u001b[0m WARNING:absl:Found untraced functions such as _update_step_xla while saving (showing 1 of 1). These functions will not be directly callable after loading.\u001b[32m [repeated 10x across cluster]\u001b[0m\n",
      "\u001b[2m\u001b[36m(train_nn pid=84193)\u001b[0m WARNING:absl:Found untraced functions such as _update_step_xla while saving (showing 1 of 1). These functions will not be directly callable after loading.\u001b[32m [repeated 11x across cluster]\u001b[0m\n",
      "\u001b[2m\u001b[36m(train_nn pid=84193)\u001b[0m WARNING:absl:Found untraced functions such as _update_step_xla while saving (showing 1 of 1). These functions will not be directly callable after loading.\u001b[32m [repeated 11x across cluster]\u001b[0m\n",
      "\u001b[2m\u001b[36m(train_nn pid=84268)\u001b[0m WARNING:absl:Found untraced functions such as _update_step_xla while saving (showing 1 of 1). These functions will not be directly callable after loading.\u001b[32m [repeated 10x across cluster]\u001b[0m\n",
      "\u001b[2m\u001b[36m(train_nn pid=84193)\u001b[0m WARNING:absl:Found untraced functions such as _update_step_xla while saving (showing 1 of 1). These functions will not be directly callable after loading.\u001b[32m [repeated 11x across cluster]\u001b[0m\n",
      "\u001b[2m\u001b[36m(train_nn pid=84246)\u001b[0m WARNING:absl:Found untraced functions such as _update_step_xla while saving (showing 1 of 1). These functions will not be directly callable after loading.\u001b[32m [repeated 8x across cluster]\u001b[0m\n",
      "\u001b[2m\u001b[36m(train_nn pid=84268)\u001b[0m WARNING:absl:Found untraced functions such as _update_step_xla while saving (showing 1 of 1). These functions will not be directly callable after loading.\u001b[32m [repeated 8x across cluster]\u001b[0m\n",
      "\u001b[2m\u001b[36m(train_nn pid=84268)\u001b[0m WARNING:absl:Found untraced functions such as _update_step_xla while saving (showing 1 of 1). These functions will not be directly callable after loading.\u001b[32m [repeated 7x across cluster]\u001b[0m\n",
      "\u001b[2m\u001b[36m(train_nn pid=84246)\u001b[0m WARNING:absl:Found untraced functions such as _update_step_xla while saving (showing 1 of 1). These functions will not be directly callable after loading.\u001b[32m [repeated 7x across cluster]\u001b[0m\n",
      "\u001b[2m\u001b[36m(train_nn pid=84246)\u001b[0m WARNING:absl:Found untraced functions such as _update_step_xla while saving (showing 1 of 1). These functions will not be directly callable after loading.\u001b[32m [repeated 7x across cluster]\u001b[0m\n",
      "\u001b[2m\u001b[36m(train_nn pid=84246)\u001b[0m WARNING:absl:Found untraced functions such as _update_step_xla while saving (showing 1 of 1). These functions will not be directly callable after loading.\u001b[32m [repeated 8x across cluster]\u001b[0m\n",
      "\u001b[2m\u001b[36m(train_nn pid=84246)\u001b[0m WARNING:absl:Found untraced functions such as _update_step_xla while saving (showing 1 of 1). These functions will not be directly callable after loading.\u001b[32m [repeated 4x across cluster]\u001b[0m\n",
      "2023-09-26 17:57:39,343\tINFO tune.py:945 -- Total run time: 264.86 seconds (264.82 seconds for the tuning loop).\n"
     ]
    },
    {
     "name": "stdout",
     "output_type": "stream",
     "text": [
      "Ray tune training of: linreg...\n"
     ]
    },
    {
     "data": {
      "text/html": [
       "<div class=\"tuneStatus\">\n",
       "  <div style=\"display: flex;flex-direction: row\">\n",
       "    <div style=\"display: flex;flex-direction: column;\">\n",
       "      <h3>Tune Status</h3>\n",
       "      <table>\n",
       "<tbody>\n",
       "<tr><td>Current time:</td><td>2023-09-26 18:03:24</td></tr>\n",
       "<tr><td>Running for: </td><td>00:05:44.65        </td></tr>\n",
       "<tr><td>Memory:      </td><td>6.6/16.0 GiB       </td></tr>\n",
       "</tbody>\n",
       "</table>\n",
       "    </div>\n",
       "    <div class=\"vDivider\"></div>\n",
       "    <div class=\"systemInfo\">\n",
       "      <h3>System Info</h3>\n",
       "      Using AsyncHyperBand: num_stopped=0<br>Bracket: Iter 80.000: None | Iter 20.000: None | Iter 5.000: None<br>Logical resource usage: 0/8 CPUs, 0/0 GPUs\n",
       "    </div>\n",
       "    \n",
       "  </div>\n",
       "  <div class=\"hDivider\"></div>\n",
       "  <div class=\"trialStatus\">\n",
       "    <h3>Trial Status</h3>\n",
       "    <table>\n",
       "<thead>\n",
       "<tr><th>Trial name              </th><th>status    </th><th>loc            </th><th style=\"text-align: right;\">  data_alr_denom_idx</th><th>data_transform  </th><th>fit_intercept  </th><th style=\"text-align: right;\">  iter</th><th style=\"text-align: right;\">  total time (s)</th><th style=\"text-align: right;\">   rmse_val</th><th style=\"text-align: right;\">  rmse_train</th></tr>\n",
       "</thead>\n",
       "<tbody>\n",
       "<tr><td>train_linreg_b5e7d_00000</td><td>TERMINATED</td><td>127.0.0.1:84388</td><td style=\"text-align: right;\">                  11</td><td>                </td><td>True           </td><td style=\"text-align: right;\">     1</td><td style=\"text-align: right;\">         196.038</td><td style=\"text-align: right;\">5.988e+11  </td><td style=\"text-align: right;\">     203.336</td></tr>\n",
       "<tr><td>train_linreg_b5e7d_00001</td><td>TERMINATED</td><td>127.0.0.1:84398</td><td style=\"text-align: right;\">                   6</td><td>clr             </td><td>True           </td><td style=\"text-align: right;\">     1</td><td style=\"text-align: right;\">         216.332</td><td style=\"text-align: right;\">3.64363e+14</td><td style=\"text-align: right;\">     134.798</td></tr>\n",
       "<tr><td>train_linreg_b5e7d_00002</td><td>TERMINATED</td><td>127.0.0.1:84407</td><td style=\"text-align: right;\">                  17</td><td>ilr             </td><td>True           </td><td style=\"text-align: right;\">     1</td><td style=\"text-align: right;\">         277.162</td><td style=\"text-align: right;\">3.84177e+14</td><td style=\"text-align: right;\">     134.287</td></tr>\n",
       "<tr><td>train_linreg_b5e7d_00003</td><td>TERMINATED</td><td>127.0.0.1:84416</td><td style=\"text-align: right;\">                   2</td><td>alr             </td><td>True           </td><td style=\"text-align: right;\">     1</td><td style=\"text-align: right;\">         243.216</td><td style=\"text-align: right;\">1.98856e+12</td><td style=\"text-align: right;\">     209.07 </td></tr>\n",
       "<tr><td>train_linreg_b5e7d_00004</td><td>TERMINATED</td><td>127.0.0.1:84431</td><td style=\"text-align: right;\">                  13</td><td>                </td><td>True           </td><td style=\"text-align: right;\">     1</td><td style=\"text-align: right;\">         249.11 </td><td style=\"text-align: right;\">5.988e+11  </td><td style=\"text-align: right;\">     203.336</td></tr>\n",
       "<tr><td>train_linreg_b5e7d_00005</td><td>TERMINATED</td><td>127.0.0.1:84441</td><td style=\"text-align: right;\">                   2</td><td>clr             </td><td>True           </td><td style=\"text-align: right;\">     1</td><td style=\"text-align: right;\">         243.831</td><td style=\"text-align: right;\">3.64363e+14</td><td style=\"text-align: right;\">     134.798</td></tr>\n",
       "<tr><td>train_linreg_b5e7d_00006</td><td>TERMINATED</td><td>127.0.0.1:84450</td><td style=\"text-align: right;\">                  11</td><td>ilr             </td><td>True           </td><td style=\"text-align: right;\">     1</td><td style=\"text-align: right;\">         254.038</td><td style=\"text-align: right;\">3.84177e+14</td><td style=\"text-align: right;\">     134.287</td></tr>\n",
       "<tr><td>train_linreg_b5e7d_00007</td><td>TERMINATED</td><td>127.0.0.1:84466</td><td style=\"text-align: right;\">                  10</td><td>alr             </td><td>True           </td><td style=\"text-align: right;\">     1</td><td style=\"text-align: right;\">         214.013</td><td style=\"text-align: right;\">2.03087e+12</td><td style=\"text-align: right;\">     204.407</td></tr>\n",
       "</tbody>\n",
       "</table>\n",
       "  </div>\n",
       "</div>\n",
       "<style>\n",
       ".tuneStatus {\n",
       "  color: var(--jp-ui-font-color1);\n",
       "}\n",
       ".tuneStatus .systemInfo {\n",
       "  display: flex;\n",
       "  flex-direction: column;\n",
       "}\n",
       ".tuneStatus td {\n",
       "  white-space: nowrap;\n",
       "}\n",
       ".tuneStatus .trialStatus {\n",
       "  display: flex;\n",
       "  flex-direction: column;\n",
       "}\n",
       ".tuneStatus h3 {\n",
       "  font-weight: bold;\n",
       "}\n",
       ".tuneStatus .hDivider {\n",
       "  border-bottom-width: var(--jp-border-width);\n",
       "  border-bottom-color: var(--jp-border-color0);\n",
       "  border-bottom-style: solid;\n",
       "}\n",
       ".tuneStatus .vDivider {\n",
       "  border-left-width: var(--jp-border-width);\n",
       "  border-left-color: var(--jp-border-color0);\n",
       "  border-left-style: solid;\n",
       "  margin: 0.5em 1em 0.5em 1em;\n",
       "}\n",
       "</style>\n"
      ],
      "text/plain": [
       "<IPython.core.display.HTML object>"
      ]
     },
     "metadata": {},
     "output_type": "display_data"
    },
    {
     "name": "stdout",
     "output_type": "stream",
     "text": [
      "\u001b[2m\u001b[36m(train_linreg pid=84388)\u001b[0m Train: (6446, 6013), Test: (1382, 6013)\n",
      "\u001b[2m\u001b[36m(train_linreg pid=84398)\u001b[0m Train: (6446, 6013), Test: (1382, 6013)\n",
      "\u001b[2m\u001b[36m(train_linreg pid=84416)\u001b[0m Train: (6446, 6012), Test: (1382, 6012)\n",
      "\u001b[2m\u001b[36m(train_linreg pid=84431)\u001b[0m Train: (6446, 6013), Test: (1382, 6013)\n",
      "\u001b[2m\u001b[36m(train_linreg pid=84407)\u001b[0m Train: (6446, 6012), Test: (1382, 6012)\n",
      "\u001b[2m\u001b[36m(train_linreg pid=84441)\u001b[0m Train: (6446, 6013), Test: (1382, 6013)\n",
      "\u001b[2m\u001b[36m(train_linreg pid=84466)\u001b[0m Train: (6446, 6012), Test: (1382, 6012)\n",
      "\u001b[2m\u001b[36m(train_linreg pid=84450)\u001b[0m Train: (6446, 6012), Test: (1382, 6012)\n"
     ]
    },
    {
     "data": {
      "text/html": [
       "<div class=\"trialProgress\">\n",
       "  <h3>Trial Progress</h3>\n",
       "  <table>\n",
       "<thead>\n",
       "<tr><th>Trial name              </th><th>date               </th><th>done  </th><th>experiment_tag                                                </th><th>hostname   </th><th style=\"text-align: right;\">  iterations_since_restore</th><th>model_path                                                                                                                                                                                              </th><th>node_ip  </th><th style=\"text-align: right;\">  pid</th><th style=\"text-align: right;\">  rmse_train</th><th style=\"text-align: right;\">   rmse_val</th><th style=\"text-align: right;\">  time_since_restore</th><th style=\"text-align: right;\">  time_this_iter_s</th><th style=\"text-align: right;\">  time_total_s</th><th style=\"text-align: right;\">  timestamp</th><th style=\"text-align: right;\">  training_iteration</th><th>trial_id   </th></tr>\n",
       "</thead>\n",
       "<tbody>\n",
       "<tr><td>train_linreg_b5e7d_00000</td><td>2023-09-26_18-01-05</td><td>True  </td><td>0_data_alr_denom_idx=11,data_transform=None,fit_intercept=True</td><td>fsbt142-114</td><td style=\"text-align: right;\">                         1</td><td>/Users/anjaadamov/Documents/projects/14_LM1/q2-time/experiments/ray_results/linreg/train_linreg_b5e7d_00000_0_data_alr_denom_idx=11,data_transform=None,fit_intercept=True_2023-09-26_17-57-41/model.pkl</td><td>127.0.0.1</td><td style=\"text-align: right;\">84388</td><td style=\"text-align: right;\">     203.336</td><td style=\"text-align: right;\">5.988e+11  </td><td style=\"text-align: right;\">             196.038</td><td style=\"text-align: right;\">           196.038</td><td style=\"text-align: right;\">       196.038</td><td style=\"text-align: right;\"> 1695765665</td><td style=\"text-align: right;\">                   1</td><td>b5e7d_00000</td></tr>\n",
       "<tr><td>train_linreg_b5e7d_00001</td><td>2023-09-26_18-01-33</td><td>True  </td><td>1_data_alr_denom_idx=6,data_transform=clr,fit_intercept=True  </td><td>fsbt142-114</td><td style=\"text-align: right;\">                         1</td><td>/Users/anjaadamov/Documents/projects/14_LM1/q2-time/experiments/ray_results/linreg/train_linreg_b5e7d_00001_1_data_alr_denom_idx=6,data_transform=clr,fit_intercept=True_2023-09-26_17-57-49/model.pkl  </td><td>127.0.0.1</td><td style=\"text-align: right;\">84398</td><td style=\"text-align: right;\">     134.798</td><td style=\"text-align: right;\">3.64363e+14</td><td style=\"text-align: right;\">             216.332</td><td style=\"text-align: right;\">           216.332</td><td style=\"text-align: right;\">       216.332</td><td style=\"text-align: right;\"> 1695765693</td><td style=\"text-align: right;\">                   1</td><td>b5e7d_00001</td></tr>\n",
       "<tr><td>train_linreg_b5e7d_00002</td><td>2023-09-26_18-02-42</td><td>True  </td><td>2_data_alr_denom_idx=17,data_transform=ilr,fit_intercept=True </td><td>fsbt142-114</td><td style=\"text-align: right;\">                         1</td><td>/Users/anjaadamov/Documents/projects/14_LM1/q2-time/experiments/ray_results/linreg/train_linreg_b5e7d_00002_2_data_alr_denom_idx=17,data_transform=ilr,fit_intercept=True_2023-09-26_17-57-57/model.pkl </td><td>127.0.0.1</td><td style=\"text-align: right;\">84407</td><td style=\"text-align: right;\">     134.287</td><td style=\"text-align: right;\">3.84177e+14</td><td style=\"text-align: right;\">             277.162</td><td style=\"text-align: right;\">           277.162</td><td style=\"text-align: right;\">       277.162</td><td style=\"text-align: right;\"> 1695765762</td><td style=\"text-align: right;\">                   1</td><td>b5e7d_00002</td></tr>\n",
       "<tr><td>train_linreg_b5e7d_00003</td><td>2023-09-26_18-02-19</td><td>True  </td><td>3_data_alr_denom_idx=2,data_transform=alr,fit_intercept=True  </td><td>fsbt142-114</td><td style=\"text-align: right;\">                         1</td><td>/Users/anjaadamov/Documents/projects/14_LM1/q2-time/experiments/ray_results/linreg/train_linreg_b5e7d_00003_3_data_alr_denom_idx=2,data_transform=alr,fit_intercept=True_2023-09-26_17-58-05/model.pkl  </td><td>127.0.0.1</td><td style=\"text-align: right;\">84416</td><td style=\"text-align: right;\">     209.07 </td><td style=\"text-align: right;\">1.98856e+12</td><td style=\"text-align: right;\">             243.216</td><td style=\"text-align: right;\">           243.216</td><td style=\"text-align: right;\">       243.216</td><td style=\"text-align: right;\"> 1695765739</td><td style=\"text-align: right;\">                   1</td><td>b5e7d_00003</td></tr>\n",
       "<tr><td>train_linreg_b5e7d_00004</td><td>2023-09-26_18-02-39</td><td>True  </td><td>4_data_alr_denom_idx=13,data_transform=None,fit_intercept=True</td><td>fsbt142-114</td><td style=\"text-align: right;\">                         1</td><td>/Users/anjaadamov/Documents/projects/14_LM1/q2-time/experiments/ray_results/linreg/train_linreg_b5e7d_00004_4_data_alr_denom_idx=13,data_transform=None,fit_intercept=True_2023-09-26_17-58-16/model.pkl</td><td>127.0.0.1</td><td style=\"text-align: right;\">84431</td><td style=\"text-align: right;\">     203.336</td><td style=\"text-align: right;\">5.988e+11  </td><td style=\"text-align: right;\">             249.11 </td><td style=\"text-align: right;\">           249.11 </td><td style=\"text-align: right;\">       249.11 </td><td style=\"text-align: right;\"> 1695765759</td><td style=\"text-align: right;\">                   1</td><td>b5e7d_00004</td></tr>\n",
       "<tr><td>train_linreg_b5e7d_00005</td><td>2023-09-26_18-02-51</td><td>True  </td><td>5_data_alr_denom_idx=2,data_transform=clr,fit_intercept=True  </td><td>fsbt142-114</td><td style=\"text-align: right;\">                         1</td><td>/Users/anjaadamov/Documents/projects/14_LM1/q2-time/experiments/ray_results/linreg/train_linreg_b5e7d_00005_5_data_alr_denom_idx=2,data_transform=clr,fit_intercept=True_2023-09-26_17-58-30/model.pkl  </td><td>127.0.0.1</td><td style=\"text-align: right;\">84441</td><td style=\"text-align: right;\">     134.798</td><td style=\"text-align: right;\">3.64363e+14</td><td style=\"text-align: right;\">             243.831</td><td style=\"text-align: right;\">           243.831</td><td style=\"text-align: right;\">       243.831</td><td style=\"text-align: right;\"> 1695765771</td><td style=\"text-align: right;\">                   1</td><td>b5e7d_00005</td></tr>\n",
       "<tr><td>train_linreg_b5e7d_00006</td><td>2023-09-26_18-03-24</td><td>True  </td><td>6_data_alr_denom_idx=11,data_transform=ilr,fit_intercept=True </td><td>fsbt142-114</td><td style=\"text-align: right;\">                         1</td><td>/Users/anjaadamov/Documents/projects/14_LM1/q2-time/experiments/ray_results/linreg/train_linreg_b5e7d_00006_6_data_alr_denom_idx=11,data_transform=ilr,fit_intercept=True_2023-09-26_17-58-47/model.pkl </td><td>127.0.0.1</td><td style=\"text-align: right;\">84450</td><td style=\"text-align: right;\">     134.287</td><td style=\"text-align: right;\">3.84177e+14</td><td style=\"text-align: right;\">             254.038</td><td style=\"text-align: right;\">           254.038</td><td style=\"text-align: right;\">       254.038</td><td style=\"text-align: right;\"> 1695765804</td><td style=\"text-align: right;\">                   1</td><td>b5e7d_00006</td></tr>\n",
       "<tr><td>train_linreg_b5e7d_00007</td><td>2023-09-26_18-03-11</td><td>True  </td><td>7_data_alr_denom_idx=10,data_transform=alr,fit_intercept=True </td><td>fsbt142-114</td><td style=\"text-align: right;\">                         1</td><td>/Users/anjaadamov/Documents/projects/14_LM1/q2-time/experiments/ray_results/linreg/train_linreg_b5e7d_00007_7_data_alr_denom_idx=10,data_transform=alr,fit_intercept=True_2023-09-26_17-59-10/model.pkl </td><td>127.0.0.1</td><td style=\"text-align: right;\">84466</td><td style=\"text-align: right;\">     204.407</td><td style=\"text-align: right;\">2.03087e+12</td><td style=\"text-align: right;\">             214.013</td><td style=\"text-align: right;\">           214.013</td><td style=\"text-align: right;\">       214.013</td><td style=\"text-align: right;\"> 1695765791</td><td style=\"text-align: right;\">                   1</td><td>b5e7d_00007</td></tr>\n",
       "</tbody>\n",
       "</table>\n",
       "</div>\n",
       "<style>\n",
       ".trialProgress {\n",
       "  display: flex;\n",
       "  flex-direction: column;\n",
       "  color: var(--jp-ui-font-color1);\n",
       "}\n",
       ".trialProgress h3 {\n",
       "  font-weight: bold;\n",
       "}\n",
       ".trialProgress td {\n",
       "  white-space: nowrap;\n",
       "}\n",
       "</style>\n"
      ],
      "text/plain": [
       "<IPython.core.display.HTML object>"
      ]
     },
     "metadata": {},
     "output_type": "display_data"
    },
    {
     "name": "stderr",
     "output_type": "stream",
     "text": [
      "2023-09-26 18:03:24,247\tINFO tune.py:945 -- Total run time: 344.68 seconds (344.65 seconds for the tuning loop).\n"
     ]
    },
    {
     "name": "stdout",
     "output_type": "stream",
     "text": [
      "Ray tune training of: rf...\n"
     ]
    },
    {
     "data": {
      "text/html": [
       "<div class=\"tuneStatus\">\n",
       "  <div style=\"display: flex;flex-direction: row\">\n",
       "    <div style=\"display: flex;flex-direction: column;\">\n",
       "      <h3>Tune Status</h3>\n",
       "      <table>\n",
       "<tbody>\n",
       "<tr><td>Current time:</td><td>2023-09-27 00:12:34</td></tr>\n",
       "<tr><td>Running for: </td><td>06:09:10.31        </td></tr>\n",
       "<tr><td>Memory:      </td><td>9.7/16.0 GiB       </td></tr>\n",
       "</tbody>\n",
       "</table>\n",
       "    </div>\n",
       "    <div class=\"vDivider\"></div>\n",
       "    <div class=\"systemInfo\">\n",
       "      <h3>System Info</h3>\n",
       "      Using AsyncHyperBand: num_stopped=0<br>Bracket: Iter 80.000: None | Iter 20.000: None | Iter 5.000: None<br>Logical resource usage: 0/8 CPUs, 0/0 GPUs\n",
       "    </div>\n",
       "    \n",
       "  </div>\n",
       "  <div class=\"hDivider\"></div>\n",
       "  <div class=\"trialStatus\">\n",
       "    <h3>Trial Status</h3>\n",
       "    <table>\n",
       "<thead>\n",
       "<tr><th>Trial name          </th><th>status    </th><th>loc            </th><th>bootstrap  </th><th style=\"text-align: right;\">  data_alr_denom_idx</th><th>data_transform  </th><th style=\"text-align: right;\">  max_depth</th><th>max_features  </th><th style=\"text-align: right;\">       min_impurity_decreas\n",
       "e</th><th style=\"text-align: right;\">  min_samples_leaf</th><th style=\"text-align: right;\">  min_samples_split</th><th style=\"text-align: right;\">  n_estimators</th><th style=\"text-align: right;\">  iter</th><th style=\"text-align: right;\">  total time (s)</th><th style=\"text-align: right;\">  rmse_val</th><th style=\"text-align: right;\">  rmse_train</th></tr>\n",
       "</thead>\n",
       "<tbody>\n",
       "<tr><td>train_rf_837d6_00000</td><td>TERMINATED</td><td>127.0.0.1:84661</td><td>True       </td><td style=\"text-align: right;\">                  11</td><td>                </td><td style=\"text-align: right;\">          8</td><td>log2          </td><td style=\"text-align: right;\">0.0001</td><td style=\"text-align: right;\">            0.0001</td><td style=\"text-align: right;\">             0.001 </td><td style=\"text-align: right;\">           767</td><td style=\"text-align: right;\">     1</td><td style=\"text-align: right;\">        524.55  </td><td style=\"text-align: right;\">   199.663</td><td style=\"text-align: right;\">    171.724 </td></tr>\n",
       "<tr><td>train_rf_837d6_00001</td><td>TERMINATED</td><td>127.0.0.1:84679</td><td>False      </td><td style=\"text-align: right;\">                  17</td><td>clr             </td><td style=\"text-align: right;\">         27</td><td>log2          </td><td style=\"text-align: right;\">0.0001</td><td style=\"text-align: right;\">            0.001 </td><td style=\"text-align: right;\">             0.01  </td><td style=\"text-align: right;\">           753</td><td style=\"text-align: right;\">     1</td><td style=\"text-align: right;\">      22129.5   </td><td style=\"text-align: right;\">   189.508</td><td style=\"text-align: right;\">     74.7182</td></tr>\n",
       "<tr><td>train_rf_837d6_00002</td><td>TERMINATED</td><td>127.0.0.1:84691</td><td>True       </td><td style=\"text-align: right;\">                   8</td><td>ilr             </td><td style=\"text-align: right;\">         15</td><td>0.1           </td><td style=\"text-align: right;\">0.01  </td><td style=\"text-align: right;\">            0.0001</td><td style=\"text-align: right;\">             0.01  </td><td style=\"text-align: right;\">           304</td><td style=\"text-align: right;\">     1</td><td style=\"text-align: right;\">       8953.81  </td><td style=\"text-align: right;\">   190.144</td><td style=\"text-align: right;\">     96.2184</td></tr>\n",
       "<tr><td>train_rf_837d6_00003</td><td>TERMINATED</td><td>127.0.0.1:84781</td><td>True       </td><td style=\"text-align: right;\">                   3</td><td>alr             </td><td style=\"text-align: right;\">         25</td><td>log2          </td><td style=\"text-align: right;\">0.01  </td><td style=\"text-align: right;\">            1e-05 </td><td style=\"text-align: right;\">             0.1   </td><td style=\"text-align: right;\">           517</td><td style=\"text-align: right;\">     1</td><td style=\"text-align: right;\">       1904.42  </td><td style=\"text-align: right;\">   192.262</td><td style=\"text-align: right;\">     81.13  </td></tr>\n",
       "<tr><td>train_rf_837d6_00004</td><td>TERMINATED</td><td>127.0.0.1:84821</td><td>False      </td><td style=\"text-align: right;\">                  16</td><td>                </td><td style=\"text-align: right;\">         16</td><td>0.1           </td><td style=\"text-align: right;\">0.0001</td><td style=\"text-align: right;\">            0.0001</td><td style=\"text-align: right;\">             0.1   </td><td style=\"text-align: right;\">           772</td><td style=\"text-align: right;\">     1</td><td style=\"text-align: right;\">        841.608 </td><td style=\"text-align: right;\">   185.175</td><td style=\"text-align: right;\">    102.856 </td></tr>\n",
       "<tr><td>train_rf_837d6_00005</td><td>TERMINATED</td><td>127.0.0.1:84833</td><td>False      </td><td style=\"text-align: right;\">                   1</td><td>clr             </td><td style=\"text-align: right;\">          6</td><td>sqrt          </td><td style=\"text-align: right;\">0.0001</td><td style=\"text-align: right;\">            1e-05 </td><td style=\"text-align: right;\">             0.0001</td><td style=\"text-align: right;\">           924</td><td style=\"text-align: right;\">     1</td><td style=\"text-align: right;\">      11573.7   </td><td style=\"text-align: right;\">   211.398</td><td style=\"text-align: right;\">    199.55  </td></tr>\n",
       "<tr><td>train_rf_837d6_00006</td><td>TERMINATED</td><td>127.0.0.1:84852</td><td>False      </td><td style=\"text-align: right;\">                  11</td><td>ilr             </td><td style=\"text-align: right;\">         21</td><td>0.1           </td><td style=\"text-align: right;\">0.001 </td><td style=\"text-align: right;\">            0.0001</td><td style=\"text-align: right;\">             0.0001</td><td style=\"text-align: right;\">           345</td><td style=\"text-align: right;\">     1</td><td style=\"text-align: right;\">      11484.4   </td><td style=\"text-align: right;\">   188.94 </td><td style=\"text-align: right;\">     78.993 </td></tr>\n",
       "<tr><td>train_rf_837d6_00007</td><td>TERMINATED</td><td>127.0.0.1:84864</td><td>False      </td><td style=\"text-align: right;\">                  15</td><td>alr             </td><td style=\"text-align: right;\">          2</td><td>0.8           </td><td style=\"text-align: right;\">0.001 </td><td style=\"text-align: right;\">            0.001 </td><td style=\"text-align: right;\">             0.01  </td><td style=\"text-align: right;\">           160</td><td style=\"text-align: right;\">     1</td><td style=\"text-align: right;\">         51.4137</td><td style=\"text-align: right;\">   276.02 </td><td style=\"text-align: right;\">    299.262 </td></tr>\n",
       "</tbody>\n",
       "</table>\n",
       "  </div>\n",
       "</div>\n",
       "<style>\n",
       ".tuneStatus {\n",
       "  color: var(--jp-ui-font-color1);\n",
       "}\n",
       ".tuneStatus .systemInfo {\n",
       "  display: flex;\n",
       "  flex-direction: column;\n",
       "}\n",
       ".tuneStatus td {\n",
       "  white-space: nowrap;\n",
       "}\n",
       ".tuneStatus .trialStatus {\n",
       "  display: flex;\n",
       "  flex-direction: column;\n",
       "}\n",
       ".tuneStatus h3 {\n",
       "  font-weight: bold;\n",
       "}\n",
       ".tuneStatus .hDivider {\n",
       "  border-bottom-width: var(--jp-border-width);\n",
       "  border-bottom-color: var(--jp-border-color0);\n",
       "  border-bottom-style: solid;\n",
       "}\n",
       ".tuneStatus .vDivider {\n",
       "  border-left-width: var(--jp-border-width);\n",
       "  border-left-color: var(--jp-border-color0);\n",
       "  border-left-style: solid;\n",
       "  margin: 0.5em 1em 0.5em 1em;\n",
       "}\n",
       "</style>\n"
      ],
      "text/plain": [
       "<IPython.core.display.HTML object>"
      ]
     },
     "metadata": {},
     "output_type": "display_data"
    },
    {
     "name": "stdout",
     "output_type": "stream",
     "text": [
      "\u001b[2m\u001b[36m(train_rf pid=84661)\u001b[0m Train: (6446, 6013), Test: (1382, 6013)\n",
      "\u001b[2m\u001b[36m(train_rf pid=84679)\u001b[0m Train: (6446, 6013), Test: (1382, 6013)\n",
      "\u001b[2m\u001b[36m(train_rf pid=84781)\u001b[0m Train: (6446, 6012), Test: (1382, 6012)\n",
      "\u001b[2m\u001b[36m(train_rf pid=84821)\u001b[0m Train: (6446, 6013), Test: (1382, 6013)\n",
      "\u001b[2m\u001b[36m(train_rf pid=84691)\u001b[0m Train: (6446, 6012), Test: (1382, 6012)\n",
      "\u001b[2m\u001b[36m(train_rf pid=84833)\u001b[0m Train: (6446, 6013), Test: (1382, 6013)\n",
      "\u001b[2m\u001b[36m(train_rf pid=84864)\u001b[0m Train: (6446, 6012), Test: (1382, 6012)\n",
      "\u001b[2m\u001b[36m(train_rf pid=84852)\u001b[0m Train: (6446, 6012), Test: (1382, 6012)\n"
     ]
    },
    {
     "data": {
      "text/html": [
       "<div class=\"trialProgress\">\n",
       "  <h3>Trial Progress</h3>\n",
       "  <table>\n",
       "<thead>\n",
       "<tr><th>Trial name          </th><th>date               </th><th>done  </th><th>experiment_tag                                                                                                                                                                             </th><th>hostname   </th><th style=\"text-align: right;\">  iterations_since_restore</th><th>model_path                                                                                                                                                                                                                                     </th><th>node_ip  </th><th style=\"text-align: right;\">  pid</th><th style=\"text-align: right;\">  rmse_train</th><th style=\"text-align: right;\">  rmse_val</th><th style=\"text-align: right;\">  time_since_restore</th><th style=\"text-align: right;\">  time_this_iter_s</th><th style=\"text-align: right;\">  time_total_s</th><th style=\"text-align: right;\">  timestamp</th><th style=\"text-align: right;\">  training_iteration</th><th>trial_id   </th></tr>\n",
       "</thead>\n",
       "<tbody>\n",
       "<tr><td>train_rf_837d6_00000</td><td>2023-09-26_18-12-21</td><td>True  </td><td>0_bootstrap=True,data_alr_denom_idx=11,data_transform=None,max_depth=8,max_features=log2,min_impurity_decrease=0.0001,min_samples_leaf=0.0001,min_samples_split=0.0010,n_estimators=767    </td><td>fsbt142-114</td><td style=\"text-align: right;\">                         1</td><td>/Users/anjaadamov/Documents/projects/14_LM1/q2-time/experiments/ray_results/rf/train_rf_837d6_00000_0_bootstrap=True,data_alr_denom_idx=11,data_transform=None,max_depth=8,max_features=log2,min_impurity_decreas_2023-09-26_18-03-27/model.pkl</td><td>127.0.0.1</td><td style=\"text-align: right;\">84661</td><td style=\"text-align: right;\">    171.724 </td><td style=\"text-align: right;\">   199.663</td><td style=\"text-align: right;\">            524.55  </td><td style=\"text-align: right;\">          524.55  </td><td style=\"text-align: right;\">      524.55  </td><td style=\"text-align: right;\"> 1695766341</td><td style=\"text-align: right;\">                   1</td><td>837d6_00000</td></tr>\n",
       "<tr><td>train_rf_837d6_00001</td><td>2023-09-27_00-12-34</td><td>True  </td><td>1_bootstrap=False,data_alr_denom_idx=17,data_transform=clr,max_depth=27,max_features=log2,min_impurity_decrease=0.0001,min_samples_leaf=0.0010,min_samples_split=0.0100,n_estimators=753   </td><td>fsbt142-114</td><td style=\"text-align: right;\">                         1</td><td>/Users/anjaadamov/Documents/projects/14_LM1/q2-time/experiments/ray_results/rf/train_rf_837d6_00001_1_bootstrap=False,data_alr_denom_idx=17,data_transform=clr,max_depth=27,max_features=log2,min_impurity_decrea_2023-09-26_18-03-37/model.pkl</td><td>127.0.0.1</td><td style=\"text-align: right;\">84679</td><td style=\"text-align: right;\">     74.7182</td><td style=\"text-align: right;\">   189.508</td><td style=\"text-align: right;\">          22129.5   </td><td style=\"text-align: right;\">        22129.5   </td><td style=\"text-align: right;\">    22129.5   </td><td style=\"text-align: right;\"> 1695787954</td><td style=\"text-align: right;\">                   1</td><td>837d6_00001</td></tr>\n",
       "<tr><td>train_rf_837d6_00002</td><td>2023-09-26_20-33-06</td><td>True  </td><td>2_bootstrap=True,data_alr_denom_idx=8,data_transform=ilr,max_depth=15,max_features=0.1000,min_impurity_decrease=0.0100,min_samples_leaf=0.0001,min_samples_split=0.0100,n_estimators=304   </td><td>fsbt142-114</td><td style=\"text-align: right;\">                         1</td><td>/Users/anjaadamov/Documents/projects/14_LM1/q2-time/experiments/ray_results/rf/train_rf_837d6_00002_2_bootstrap=True,data_alr_denom_idx=8,data_transform=ilr,max_depth=15,max_features=0.1000,min_impurity_decrea_2023-09-26_18-03-45/model.pkl</td><td>127.0.0.1</td><td style=\"text-align: right;\">84691</td><td style=\"text-align: right;\">     96.2184</td><td style=\"text-align: right;\">   190.144</td><td style=\"text-align: right;\">           8953.81  </td><td style=\"text-align: right;\">         8953.81  </td><td style=\"text-align: right;\">     8953.81  </td><td style=\"text-align: right;\"> 1695774786</td><td style=\"text-align: right;\">                   1</td><td>837d6_00002</td></tr>\n",
       "<tr><td>train_rf_837d6_00003</td><td>2023-09-26_18-35-46</td><td>True  </td><td>3_bootstrap=True,data_alr_denom_idx=3,data_transform=alr,max_depth=25,max_features=log2,min_impurity_decrease=0.0100,min_samples_leaf=0.0000,min_samples_split=0.1000,n_estimators=517     </td><td>fsbt142-114</td><td style=\"text-align: right;\">                         1</td><td>/Users/anjaadamov/Documents/projects/14_LM1/q2-time/experiments/ray_results/rf/train_rf_837d6_00003_3_bootstrap=True,data_alr_denom_idx=3,data_transform=alr,max_depth=25,max_features=log2,min_impurity_decrease_2023-09-26_18-03-52/model.pkl</td><td>127.0.0.1</td><td style=\"text-align: right;\">84781</td><td style=\"text-align: right;\">     81.13  </td><td style=\"text-align: right;\">   192.262</td><td style=\"text-align: right;\">           1904.42  </td><td style=\"text-align: right;\">         1904.42  </td><td style=\"text-align: right;\">     1904.42  </td><td style=\"text-align: right;\"> 1695767746</td><td style=\"text-align: right;\">                   1</td><td>837d6_00003</td></tr>\n",
       "<tr><td>train_rf_837d6_00004</td><td>2023-09-26_18-18-14</td><td>True  </td><td>4_bootstrap=False,data_alr_denom_idx=16,data_transform=None,max_depth=16,max_features=0.1000,min_impurity_decrease=0.0001,min_samples_leaf=0.0001,min_samples_split=0.1000,n_estimators=772</td><td>fsbt142-114</td><td style=\"text-align: right;\">                         1</td><td>/Users/anjaadamov/Documents/projects/14_LM1/q2-time/experiments/ray_results/rf/train_rf_837d6_00004_4_bootstrap=False,data_alr_denom_idx=16,data_transform=None,max_depth=16,max_features=0.1000,min_impurity_dec_2023-09-26_18-04-01/model.pkl</td><td>127.0.0.1</td><td style=\"text-align: right;\">84821</td><td style=\"text-align: right;\">    102.856 </td><td style=\"text-align: right;\">   185.175</td><td style=\"text-align: right;\">            841.608 </td><td style=\"text-align: right;\">          841.608 </td><td style=\"text-align: right;\">      841.608 </td><td style=\"text-align: right;\"> 1695766694</td><td style=\"text-align: right;\">                   1</td><td>837d6_00004</td></tr>\n",
       "<tr><td>train_rf_837d6_00005</td><td>2023-09-26_21-17-20</td><td>True  </td><td>5_bootstrap=False,data_alr_denom_idx=1,data_transform=clr,max_depth=6,max_features=sqrt,min_impurity_decrease=0.0001,min_samples_leaf=0.0000,min_samples_split=0.0001,n_estimators=924     </td><td>fsbt142-114</td><td style=\"text-align: right;\">                         1</td><td>/Users/anjaadamov/Documents/projects/14_LM1/q2-time/experiments/ray_results/rf/train_rf_837d6_00005_5_bootstrap=False,data_alr_denom_idx=1,data_transform=clr,max_depth=6,max_features=sqrt,min_impurity_decrease_2023-09-26_18-04-12/model.pkl</td><td>127.0.0.1</td><td style=\"text-align: right;\">84833</td><td style=\"text-align: right;\">    199.55  </td><td style=\"text-align: right;\">   211.398</td><td style=\"text-align: right;\">          11573.7   </td><td style=\"text-align: right;\">        11573.7   </td><td style=\"text-align: right;\">    11573.7   </td><td style=\"text-align: right;\"> 1695777440</td><td style=\"text-align: right;\">                   1</td><td>837d6_00005</td></tr>\n",
       "<tr><td>train_rf_837d6_00006</td><td>2023-09-26_21-16-03</td><td>True  </td><td>6_bootstrap=False,data_alr_denom_idx=11,data_transform=ilr,max_depth=21,max_features=0.1000,min_impurity_decrease=0.0010,min_samples_leaf=0.0001,min_samples_split=0.0001,n_estimators=345 </td><td>fsbt142-114</td><td style=\"text-align: right;\">                         1</td><td>/Users/anjaadamov/Documents/projects/14_LM1/q2-time/experiments/ray_results/rf/train_rf_837d6_00006_6_bootstrap=False,data_alr_denom_idx=11,data_transform=ilr,max_depth=21,max_features=0.1000,min_impurity_decr_2023-09-26_18-04-26/model.pkl</td><td>127.0.0.1</td><td style=\"text-align: right;\">84852</td><td style=\"text-align: right;\">     78.993 </td><td style=\"text-align: right;\">   188.94 </td><td style=\"text-align: right;\">          11484.4   </td><td style=\"text-align: right;\">        11484.4   </td><td style=\"text-align: right;\">    11484.4   </td><td style=\"text-align: right;\"> 1695777363</td><td style=\"text-align: right;\">                   1</td><td>837d6_00006</td></tr>\n",
       "<tr><td>train_rf_837d6_00007</td><td>2023-09-26_18-05-47</td><td>True  </td><td>7_bootstrap=False,data_alr_denom_idx=15,data_transform=alr,max_depth=2,max_features=0.8000,min_impurity_decrease=0.0010,min_samples_leaf=0.0010,min_samples_split=0.0100,n_estimators=160  </td><td>fsbt142-114</td><td style=\"text-align: right;\">                         1</td><td>/Users/anjaadamov/Documents/projects/14_LM1/q2-time/experiments/ray_results/rf/train_rf_837d6_00007_7_bootstrap=False,data_alr_denom_idx=15,data_transform=alr,max_depth=2,max_features=0.8000,min_impurity_decre_2023-09-26_18-04-38/model.pkl</td><td>127.0.0.1</td><td style=\"text-align: right;\">84864</td><td style=\"text-align: right;\">    299.262 </td><td style=\"text-align: right;\">   276.02 </td><td style=\"text-align: right;\">             51.4137</td><td style=\"text-align: right;\">           51.4137</td><td style=\"text-align: right;\">       51.4137</td><td style=\"text-align: right;\"> 1695765947</td><td style=\"text-align: right;\">                   1</td><td>837d6_00007</td></tr>\n",
       "</tbody>\n",
       "</table>\n",
       "</div>\n",
       "<style>\n",
       ".trialProgress {\n",
       "  display: flex;\n",
       "  flex-direction: column;\n",
       "  color: var(--jp-ui-font-color1);\n",
       "}\n",
       ".trialProgress h3 {\n",
       "  font-weight: bold;\n",
       "}\n",
       ".trialProgress td {\n",
       "  white-space: nowrap;\n",
       "}\n",
       "</style>\n"
      ],
      "text/plain": [
       "<IPython.core.display.HTML object>"
      ]
     },
     "metadata": {},
     "output_type": "display_data"
    },
    {
     "name": "stderr",
     "output_type": "stream",
     "text": [
      "2023-09-27 00:12:34,825\tINFO tune.py:945 -- Total run time: 22150.34 seconds (22150.31 seconds for the tuning loop).\n"
     ]
    },
    {
     "data": {
      "text/plain": [
       "{'xgb': ResultGrid<[\n",
       "   Result(\n",
       "     metrics={'rmse_train': 470.55912761737534, 'rmse_val': 417.03086449508567, 'done': True, 'trial_id': 'b57e0_00000', 'experiment_tag': '0_data_alr_denom_idx=11,data_transform=None,eta=0.0500,max_depth=6,min_child_weight=2,subsample=0.8000'},\n",
       "     path='/Users/anjaadamov/Documents/projects/14_LM1/q2-time/experiments/ray_results/xgb/train_xgb_b57e0_00000_0_data_alr_denom_idx=11,data_transform=None,eta=0.0500,max_depth=6,min_child_weight=2,subsample=0.8000_2023-09-26_17-50-34',\n",
       "     checkpoint=Checkpoint(local_path=/Users/anjaadamov/Documents/projects/14_LM1/q2-time/experiments/ray_results/xgb/train_xgb_b57e0_00000_0_data_alr_denom_idx=11,data_transform=None,eta=0.0500,max_depth=6,min_child_weight=2,subsample=0.8000_2023-09-26_17-50-34/checkpoint_000005)\n",
       "   ),\n",
       "   Result(\n",
       "     metrics={'rmse_train': 693.6132098814278, 'rmse_val': 611.6114671698385, 'done': True, 'trial_id': 'b57e0_00001', 'experiment_tag': '1_data_alr_denom_idx=2,data_transform=clr,eta=0.0100,max_depth=6,min_child_weight=3,subsample=0.7000'},\n",
       "     path='/Users/anjaadamov/Documents/projects/14_LM1/q2-time/experiments/ray_results/xgb/train_xgb_b57e0_00001_1_data_alr_denom_idx=2,data_transform=clr,eta=0.0100,max_depth=6,min_child_weight=3,subsample=0.7000_2023-09-26_17-50-44',\n",
       "     checkpoint=None\n",
       "   ),\n",
       "   Result(\n",
       "     metrics={'rmse_train': 578.1208653552756, 'rmse_val': 512.1836216467257, 'done': True, 'trial_id': 'b57e0_00002', 'experiment_tag': '2_data_alr_denom_idx=17,data_transform=ilr,eta=0.0500,max_depth=7,min_child_weight=1,subsample=0.8000'},\n",
       "     path='/Users/anjaadamov/Documents/projects/14_LM1/q2-time/experiments/ray_results/xgb/train_xgb_b57e0_00002_2_data_alr_denom_idx=17,data_transform=ilr,eta=0.0500,max_depth=7,min_child_weight=1,subsample=0.8000_2023-09-26_17-50-53',\n",
       "     checkpoint=None\n",
       "   ),\n",
       "   Result(\n",
       "     metrics={'rmse_train': 693.8591121658458, 'rmse_val': 612.5005786592495, 'done': True, 'trial_id': 'b57e0_00003', 'experiment_tag': '3_data_alr_denom_idx=2,data_transform=alr,eta=0.0100,max_depth=6,min_child_weight=2,subsample=0.9000'},\n",
       "     path='/Users/anjaadamov/Documents/projects/14_LM1/q2-time/experiments/ray_results/xgb/train_xgb_b57e0_00003_3_data_alr_denom_idx=2,data_transform=alr,eta=0.0100,max_depth=6,min_child_weight=2,subsample=0.9000_2023-09-26_17-51-04',\n",
       "     checkpoint=None\n",
       "   ),\n",
       "   Result(\n",
       "     metrics={'rmse_train': 663.6514282221532, 'rmse_val': 585.295248755367, 'done': True, 'trial_id': 'b57e0_00004', 'experiment_tag': '4_data_alr_denom_idx=4,data_transform=None,eta=0.0100,max_depth=6,min_child_weight=1,subsample=0.9000'},\n",
       "     path='/Users/anjaadamov/Documents/projects/14_LM1/q2-time/experiments/ray_results/xgb/train_xgb_b57e0_00004_4_data_alr_denom_idx=4,data_transform=None,eta=0.0100,max_depth=6,min_child_weight=1,subsample=0.9000_2023-09-26_17-51-15',\n",
       "     checkpoint=Checkpoint(local_path=/Users/anjaadamov/Documents/projects/14_LM1/q2-time/experiments/ray_results/xgb/train_xgb_b57e0_00004_4_data_alr_denom_idx=4,data_transform=None,eta=0.0100,max_depth=6,min_child_weight=1,subsample=0.9000_2023-09-26_17-51-15/checkpoint_000005)\n",
       "   ),\n",
       "   Result(\n",
       "     metrics={'rmse_train': 113.42316712561869, 'rmse_val': 199.94454565820814, 'done': True, 'trial_id': 'b57e0_00005', 'experiment_tag': '5_data_alr_denom_idx=18,data_transform=clr,eta=0.3000,max_depth=9,min_child_weight=2,subsample=0.7000'},\n",
       "     path='/Users/anjaadamov/Documents/projects/14_LM1/q2-time/experiments/ray_results/xgb/train_xgb_b57e0_00005_5_data_alr_denom_idx=18,data_transform=clr,eta=0.3000,max_depth=9,min_child_weight=2,subsample=0.7000_2023-09-26_17-51-26',\n",
       "     checkpoint=Checkpoint(local_path=/Users/anjaadamov/Documents/projects/14_LM1/q2-time/experiments/ray_results/xgb/train_xgb_b57e0_00005_5_data_alr_denom_idx=18,data_transform=clr,eta=0.3000,max_depth=9,min_child_weight=2,subsample=0.7000_2023-09-26_17-51-26/checkpoint_000005)\n",
       "   ),\n",
       "   Result(\n",
       "     metrics={'rmse_train': 693.6200548033322, 'rmse_val': 611.8436567785714, 'done': True, 'trial_id': 'b57e0_00006', 'experiment_tag': '6_data_alr_denom_idx=6,data_transform=ilr,eta=0.0100,max_depth=6,min_child_weight=1,subsample=0.8000'},\n",
       "     path='/Users/anjaadamov/Documents/projects/14_LM1/q2-time/experiments/ray_results/xgb/train_xgb_b57e0_00006_6_data_alr_denom_idx=6,data_transform=ilr,eta=0.0100,max_depth=6,min_child_weight=1,subsample=0.8000_2023-09-26_17-51-35',\n",
       "     checkpoint=None\n",
       "   ),\n",
       "   Result(\n",
       "     metrics={'rmse_train': 461.6791612203656, 'rmse_val': 414.8838383827547, 'done': True, 'trial_id': 'b57e0_00007', 'experiment_tag': '7_data_alr_denom_idx=0,data_transform=alr,eta=0.0500,max_depth=9,min_child_weight=3,subsample=1.0000'},\n",
       "     path='/Users/anjaadamov/Documents/projects/14_LM1/q2-time/experiments/ray_results/xgb/train_xgb_b57e0_00007_7_data_alr_denom_idx=0,data_transform=alr,eta=0.0500,max_depth=9,min_child_weight=3,subsample=1.0000_2023-09-26_17-51-42',\n",
       "     checkpoint=Checkpoint(local_path=/Users/anjaadamov/Documents/projects/14_LM1/q2-time/experiments/ray_results/xgb/train_xgb_b57e0_00007_7_data_alr_denom_idx=0,data_transform=alr,eta=0.0500,max_depth=9,min_child_weight=3,subsample=1.0000_2023-09-26_17-51-42/checkpoint_000005)\n",
       "   )\n",
       " ]>,\n",
       " 'nn': ResultGrid<[\n",
       "   Result(\n",
       "     metrics={'rmse_val': 1346.4656982421875, 'rmse_train': 409.3523254394531, 'should_checkpoint': True, 'done': True, 'trial_id': '17e59_00000', 'experiment_tag': '0_batch_size=64,data_alr_denom_idx=11,data_transform=None,learning_rate=0.0091,n_layers=6,n_units_l0=5,n_units_l1=6,n_units_l2=6,n_units_l3=15,n_units_l4=51,n_units_l5=25,n_units_l6=52,n_units_l7=55,n_units_l8=8'},\n",
       "     path='/Users/anjaadamov/Documents/projects/14_LM1/q2-time/experiments/ray_results/nn/train_nn_17e59_00000_0_batch_size=64,data_alr_denom_idx=11,data_transform=None,learning_rate=0.0091,n_layers=6,n_units_l0=5,n_unit_2023-09-26_17-53-16',\n",
       "     checkpoint=Checkpoint(local_path=/Users/anjaadamov/Documents/projects/14_LM1/q2-time/experiments/ray_results/nn/train_nn_17e59_00000_0_batch_size=64,data_alr_denom_idx=11,data_transform=None,learning_rate=0.0091,n_layers=6,n_units_l0=5,n_unit_2023-09-26_17-53-16/checkpoint_000004)\n",
       "   ),\n",
       "   Result(\n",
       "     metrics={'rmse_val': 282.1144714355469, 'rmse_train': 56.94679260253906, 'should_checkpoint': True, 'done': True, 'trial_id': '17e59_00001', 'experiment_tag': '1_batch_size=128,data_alr_denom_idx=13,data_transform=clr,learning_rate=0.0673,n_layers=3,n_units_l0=13,n_units_l1=3,n_units_l2=56,n_units_l3=43,n_units_l4=15,n_units_l5=16,n_units_l6=21,n_units_l7=28,n_units_l8=38'},\n",
       "     path='/Users/anjaadamov/Documents/projects/14_LM1/q2-time/experiments/ray_results/nn/train_nn_17e59_00001_1_batch_size=128,data_alr_denom_idx=13,data_transform=clr,learning_rate=0.0673,n_layers=3,n_units_l0=13,n_uni_2023-09-26_17-53-26',\n",
       "     checkpoint=Checkpoint(local_path=/Users/anjaadamov/Documents/projects/14_LM1/q2-time/experiments/ray_results/nn/train_nn_17e59_00001_1_batch_size=128,data_alr_denom_idx=13,data_transform=clr,learning_rate=0.0673,n_layers=3,n_units_l0=13,n_uni_2023-09-26_17-53-26/checkpoint_000099)\n",
       "   ),\n",
       "   Result(\n",
       "     metrics={'rmse_val': 350.43023681640625, 'rmse_train': 425.0336608886719, 'should_checkpoint': True, 'done': True, 'trial_id': '17e59_00002', 'experiment_tag': '2_batch_size=32,data_alr_denom_idx=4,data_transform=ilr,learning_rate=0.0000,n_layers=6,n_units_l0=21,n_units_l1=25,n_units_l2=53,n_units_l3=19,n_units_l4=23,n_units_l5=9,n_units_l6=62,n_units_l7=48,n_units_l8=12'},\n",
       "     path='/Users/anjaadamov/Documents/projects/14_LM1/q2-time/experiments/ray_results/nn/train_nn_17e59_00002_2_batch_size=32,data_alr_denom_idx=4,data_transform=ilr,learning_rate=0.0000,n_layers=6,n_units_l0=21,n_units_2023-09-26_17-53-33',\n",
       "     checkpoint=Checkpoint(local_path=/Users/anjaadamov/Documents/projects/14_LM1/q2-time/experiments/ray_results/nn/train_nn_17e59_00002_2_batch_size=32,data_alr_denom_idx=4,data_transform=ilr,learning_rate=0.0000,n_layers=6,n_units_l0=21,n_units_2023-09-26_17-53-33/checkpoint_000004)\n",
       "   ),\n",
       "   Result(\n",
       "     metrics={'rmse_val': 238460.796875, 'rmse_train': 96077.7421875, 'should_checkpoint': True, 'done': True, 'trial_id': '17e59_00003', 'experiment_tag': '3_batch_size=64,data_alr_denom_idx=13,data_transform=alr,learning_rate=0.0002,n_layers=3,n_units_l0=62,n_units_l1=27,n_units_l2=18,n_units_l3=28,n_units_l4=57,n_units_l5=36,n_units_l6=59,n_units_l7=7,n_units_l8=35'},\n",
       "     path='/Users/anjaadamov/Documents/projects/14_LM1/q2-time/experiments/ray_results/nn/train_nn_17e59_00003_3_batch_size=64,data_alr_denom_idx=13,data_transform=alr,learning_rate=0.0002,n_layers=3,n_units_l0=62,n_unit_2023-09-26_17-53-41',\n",
       "     checkpoint=Checkpoint(local_path=/Users/anjaadamov/Documents/projects/14_LM1/q2-time/experiments/ray_results/nn/train_nn_17e59_00003_3_batch_size=64,data_alr_denom_idx=13,data_transform=alr,learning_rate=0.0002,n_layers=3,n_units_l0=62,n_unit_2023-09-26_17-53-41/checkpoint_000004)\n",
       "   ),\n",
       "   Result(\n",
       "     metrics={'rmse_val': 1730.425537109375, 'rmse_train': 409.5835876464844, 'should_checkpoint': True, 'done': True, 'trial_id': '17e59_00004', 'experiment_tag': '4_batch_size=32,data_alr_denom_idx=4,data_transform=None,learning_rate=0.0117,n_layers=9,n_units_l0=35,n_units_l1=45,n_units_l2=9,n_units_l3=9,n_units_l4=48,n_units_l5=6,n_units_l6=5,n_units_l7=31,n_units_l8=13'},\n",
       "     path='/Users/anjaadamov/Documents/projects/14_LM1/q2-time/experiments/ray_results/nn/train_nn_17e59_00004_4_batch_size=32,data_alr_denom_idx=4,data_transform=None,learning_rate=0.0117,n_layers=9,n_units_l0=35,n_unit_2023-09-26_17-53-49',\n",
       "     checkpoint=Checkpoint(local_path=/Users/anjaadamov/Documents/projects/14_LM1/q2-time/experiments/ray_results/nn/train_nn_17e59_00004_4_batch_size=32,data_alr_denom_idx=4,data_transform=None,learning_rate=0.0117,n_layers=9,n_units_l0=35,n_unit_2023-09-26_17-53-49/checkpoint_000004)\n",
       "   ),\n",
       "   Result(\n",
       "     metrics={'rmse_val': 237.87225341796875, 'rmse_train': 60.17607879638672, 'should_checkpoint': True, 'done': True, 'trial_id': '17e59_00005', 'experiment_tag': '5_batch_size=32,data_alr_denom_idx=3,data_transform=clr,learning_rate=0.0520,n_layers=3,n_units_l0=46,n_units_l1=48,n_units_l2=36,n_units_l3=23,n_units_l4=32,n_units_l5=44,n_units_l6=8,n_units_l7=54,n_units_l8=56'},\n",
       "     path='/Users/anjaadamov/Documents/projects/14_LM1/q2-time/experiments/ray_results/nn/train_nn_17e59_00005_5_batch_size=32,data_alr_denom_idx=3,data_transform=clr,learning_rate=0.0520,n_layers=3,n_units_l0=46,n_units_2023-09-26_17-53-57',\n",
       "     checkpoint=Checkpoint(local_path=/Users/anjaadamov/Documents/projects/14_LM1/q2-time/experiments/ray_results/nn/train_nn_17e59_00005_5_batch_size=32,data_alr_denom_idx=3,data_transform=clr,learning_rate=0.0520,n_layers=3,n_units_l0=46,n_units_2023-09-26_17-53-57/checkpoint_000099)\n",
       "   ),\n",
       "   Result(\n",
       "     metrics={'rmse_val': 229.16481018066406, 'rmse_train': 34.6074104309082, 'should_checkpoint': True, 'done': True, 'trial_id': '17e59_00006', 'experiment_tag': '6_batch_size=64,data_alr_denom_idx=11,data_transform=ilr,learning_rate=0.0080,n_layers=3,n_units_l0=48,n_units_l1=57,n_units_l2=55,n_units_l3=58,n_units_l4=9,n_units_l5=53,n_units_l6=30,n_units_l7=54,n_units_l8=37'},\n",
       "     path='/Users/anjaadamov/Documents/projects/14_LM1/q2-time/experiments/ray_results/nn/train_nn_17e59_00006_6_batch_size=64,data_alr_denom_idx=11,data_transform=ilr,learning_rate=0.0080,n_layers=3,n_units_l0=48,n_unit_2023-09-26_17-54-06',\n",
       "     checkpoint=Checkpoint(local_path=/Users/anjaadamov/Documents/projects/14_LM1/q2-time/experiments/ray_results/nn/train_nn_17e59_00006_6_batch_size=64,data_alr_denom_idx=11,data_transform=ilr,learning_rate=0.0080,n_layers=3,n_units_l0=48,n_unit_2023-09-26_17-54-06/checkpoint_000099)\n",
       "   ),\n",
       "   Result(\n",
       "     metrics={'rmse_val': 73951.6171875, 'rmse_train': 87808.296875, 'should_checkpoint': True, 'done': True, 'trial_id': '17e59_00007', 'experiment_tag': '7_batch_size=32,data_alr_denom_idx=6,data_transform=alr,learning_rate=0.0000,n_layers=6,n_units_l0=51,n_units_l1=40,n_units_l2=23,n_units_l3=19,n_units_l4=6,n_units_l5=48,n_units_l6=26,n_units_l7=60,n_units_l8=57'},\n",
       "     path='/Users/anjaadamov/Documents/projects/14_LM1/q2-time/experiments/ray_results/nn/train_nn_17e59_00007_7_batch_size=32,data_alr_denom_idx=6,data_transform=alr,learning_rate=0.0000,n_layers=6,n_units_l0=51,n_units_2023-09-26_17-54-14',\n",
       "     checkpoint=Checkpoint(local_path=/Users/anjaadamov/Documents/projects/14_LM1/q2-time/experiments/ray_results/nn/train_nn_17e59_00007_7_batch_size=32,data_alr_denom_idx=6,data_transform=alr,learning_rate=0.0000,n_layers=6,n_units_l0=51,n_units_2023-09-26_17-54-14/checkpoint_000004)\n",
       "   )\n",
       " ]>,\n",
       " 'linreg': ResultGrid<[\n",
       "   Result(\n",
       "     metrics={'rmse_val': 598799639040.4144, 'rmse_train': 203.33647872741219, 'model_path': '/Users/anjaadamov/Documents/projects/14_LM1/q2-time/experiments/ray_results/linreg/train_linreg_b5e7d_00000_0_data_alr_denom_idx=11,data_transform=None,fit_intercept=True_2023-09-26_17-57-41/model.pkl', 'done': True, 'trial_id': 'b5e7d_00000', 'experiment_tag': '0_data_alr_denom_idx=11,data_transform=None,fit_intercept=True'},\n",
       "     path='/Users/anjaadamov/Documents/projects/14_LM1/q2-time/experiments/ray_results/linreg/train_linreg_b5e7d_00000_0_data_alr_denom_idx=11,data_transform=None,fit_intercept=True_2023-09-26_17-57-41',\n",
       "     checkpoint=None\n",
       "   ),\n",
       "   Result(\n",
       "     metrics={'rmse_val': 364362818217628.06, 'rmse_train': 134.79826736328056, 'model_path': '/Users/anjaadamov/Documents/projects/14_LM1/q2-time/experiments/ray_results/linreg/train_linreg_b5e7d_00001_1_data_alr_denom_idx=6,data_transform=clr,fit_intercept=True_2023-09-26_17-57-49/model.pkl', 'done': True, 'trial_id': 'b5e7d_00001', 'experiment_tag': '1_data_alr_denom_idx=6,data_transform=clr,fit_intercept=True'},\n",
       "     path='/Users/anjaadamov/Documents/projects/14_LM1/q2-time/experiments/ray_results/linreg/train_linreg_b5e7d_00001_1_data_alr_denom_idx=6,data_transform=clr,fit_intercept=True_2023-09-26_17-57-49',\n",
       "     checkpoint=None\n",
       "   ),\n",
       "   Result(\n",
       "     metrics={'rmse_val': 384177282723412.06, 'rmse_train': 134.2866031589925, 'model_path': '/Users/anjaadamov/Documents/projects/14_LM1/q2-time/experiments/ray_results/linreg/train_linreg_b5e7d_00002_2_data_alr_denom_idx=17,data_transform=ilr,fit_intercept=True_2023-09-26_17-57-57/model.pkl', 'done': True, 'trial_id': 'b5e7d_00002', 'experiment_tag': '2_data_alr_denom_idx=17,data_transform=ilr,fit_intercept=True'},\n",
       "     path='/Users/anjaadamov/Documents/projects/14_LM1/q2-time/experiments/ray_results/linreg/train_linreg_b5e7d_00002_2_data_alr_denom_idx=17,data_transform=ilr,fit_intercept=True_2023-09-26_17-57-57',\n",
       "     checkpoint=None\n",
       "   ),\n",
       "   Result(\n",
       "     metrics={'rmse_val': 1988558751143.6235, 'rmse_train': 209.0701302772354, 'model_path': '/Users/anjaadamov/Documents/projects/14_LM1/q2-time/experiments/ray_results/linreg/train_linreg_b5e7d_00003_3_data_alr_denom_idx=2,data_transform=alr,fit_intercept=True_2023-09-26_17-58-05/model.pkl', 'done': True, 'trial_id': 'b5e7d_00003', 'experiment_tag': '3_data_alr_denom_idx=2,data_transform=alr,fit_intercept=True'},\n",
       "     path='/Users/anjaadamov/Documents/projects/14_LM1/q2-time/experiments/ray_results/linreg/train_linreg_b5e7d_00003_3_data_alr_denom_idx=2,data_transform=alr,fit_intercept=True_2023-09-26_17-58-05',\n",
       "     checkpoint=None\n",
       "   ),\n",
       "   Result(\n",
       "     metrics={'rmse_val': 598799639040.4144, 'rmse_train': 203.33647872741219, 'model_path': '/Users/anjaadamov/Documents/projects/14_LM1/q2-time/experiments/ray_results/linreg/train_linreg_b5e7d_00004_4_data_alr_denom_idx=13,data_transform=None,fit_intercept=True_2023-09-26_17-58-16/model.pkl', 'done': True, 'trial_id': 'b5e7d_00004', 'experiment_tag': '4_data_alr_denom_idx=13,data_transform=None,fit_intercept=True'},\n",
       "     path='/Users/anjaadamov/Documents/projects/14_LM1/q2-time/experiments/ray_results/linreg/train_linreg_b5e7d_00004_4_data_alr_denom_idx=13,data_transform=None,fit_intercept=True_2023-09-26_17-58-16',\n",
       "     checkpoint=None\n",
       "   ),\n",
       "   Result(\n",
       "     metrics={'rmse_val': 364362818217628.06, 'rmse_train': 134.79826736328056, 'model_path': '/Users/anjaadamov/Documents/projects/14_LM1/q2-time/experiments/ray_results/linreg/train_linreg_b5e7d_00005_5_data_alr_denom_idx=2,data_transform=clr,fit_intercept=True_2023-09-26_17-58-30/model.pkl', 'done': True, 'trial_id': 'b5e7d_00005', 'experiment_tag': '5_data_alr_denom_idx=2,data_transform=clr,fit_intercept=True'},\n",
       "     path='/Users/anjaadamov/Documents/projects/14_LM1/q2-time/experiments/ray_results/linreg/train_linreg_b5e7d_00005_5_data_alr_denom_idx=2,data_transform=clr,fit_intercept=True_2023-09-26_17-58-30',\n",
       "     checkpoint=None\n",
       "   ),\n",
       "   Result(\n",
       "     metrics={'rmse_val': 384177282723412.06, 'rmse_train': 134.2866031589925, 'model_path': '/Users/anjaadamov/Documents/projects/14_LM1/q2-time/experiments/ray_results/linreg/train_linreg_b5e7d_00006_6_data_alr_denom_idx=11,data_transform=ilr,fit_intercept=True_2023-09-26_17-58-47/model.pkl', 'done': True, 'trial_id': 'b5e7d_00006', 'experiment_tag': '6_data_alr_denom_idx=11,data_transform=ilr,fit_intercept=True'},\n",
       "     path='/Users/anjaadamov/Documents/projects/14_LM1/q2-time/experiments/ray_results/linreg/train_linreg_b5e7d_00006_6_data_alr_denom_idx=11,data_transform=ilr,fit_intercept=True_2023-09-26_17-58-47',\n",
       "     checkpoint=None\n",
       "   ),\n",
       "   Result(\n",
       "     metrics={'rmse_val': 2030865044509.9646, 'rmse_train': 204.40725651029584, 'model_path': '/Users/anjaadamov/Documents/projects/14_LM1/q2-time/experiments/ray_results/linreg/train_linreg_b5e7d_00007_7_data_alr_denom_idx=10,data_transform=alr,fit_intercept=True_2023-09-26_17-59-10/model.pkl', 'done': True, 'trial_id': 'b5e7d_00007', 'experiment_tag': '7_data_alr_denom_idx=10,data_transform=alr,fit_intercept=True'},\n",
       "     path='/Users/anjaadamov/Documents/projects/14_LM1/q2-time/experiments/ray_results/linreg/train_linreg_b5e7d_00007_7_data_alr_denom_idx=10,data_transform=alr,fit_intercept=True_2023-09-26_17-59-10',\n",
       "     checkpoint=None\n",
       "   )\n",
       " ]>,\n",
       " 'rf': ResultGrid<[\n",
       "   Result(\n",
       "     metrics={'rmse_val': 199.66308806681886, 'rmse_train': 171.7241570754361, 'model_path': '/Users/anjaadamov/Documents/projects/14_LM1/q2-time/experiments/ray_results/rf/train_rf_837d6_00000_0_bootstrap=True,data_alr_denom_idx=11,data_transform=None,max_depth=8,max_features=log2,min_impurity_decreas_2023-09-26_18-03-27/model.pkl', 'done': True, 'trial_id': '837d6_00000', 'experiment_tag': '0_bootstrap=True,data_alr_denom_idx=11,data_transform=None,max_depth=8,max_features=log2,min_impurity_decrease=0.0001,min_samples_leaf=0.0001,min_samples_split=0.0010,n_estimators=767'},\n",
       "     path='/Users/anjaadamov/Documents/projects/14_LM1/q2-time/experiments/ray_results/rf/train_rf_837d6_00000_0_bootstrap=True,data_alr_denom_idx=11,data_transform=None,max_depth=8,max_features=log2,min_impurity_decreas_2023-09-26_18-03-27',\n",
       "     checkpoint=None\n",
       "   ),\n",
       "   Result(\n",
       "     metrics={'rmse_val': 189.50849457374275, 'rmse_train': 74.71823407077599, 'model_path': '/Users/anjaadamov/Documents/projects/14_LM1/q2-time/experiments/ray_results/rf/train_rf_837d6_00001_1_bootstrap=False,data_alr_denom_idx=17,data_transform=clr,max_depth=27,max_features=log2,min_impurity_decrea_2023-09-26_18-03-37/model.pkl', 'done': True, 'trial_id': '837d6_00001', 'experiment_tag': '1_bootstrap=False,data_alr_denom_idx=17,data_transform=clr,max_depth=27,max_features=log2,min_impurity_decrease=0.0001,min_samples_leaf=0.0010,min_samples_split=0.0100,n_estimators=753'},\n",
       "     path='/Users/anjaadamov/Documents/projects/14_LM1/q2-time/experiments/ray_results/rf/train_rf_837d6_00001_1_bootstrap=False,data_alr_denom_idx=17,data_transform=clr,max_depth=27,max_features=log2,min_impurity_decrea_2023-09-26_18-03-37',\n",
       "     checkpoint=None\n",
       "   ),\n",
       "   Result(\n",
       "     metrics={'rmse_val': 190.1444642418331, 'rmse_train': 96.21841609679333, 'model_path': '/Users/anjaadamov/Documents/projects/14_LM1/q2-time/experiments/ray_results/rf/train_rf_837d6_00002_2_bootstrap=True,data_alr_denom_idx=8,data_transform=ilr,max_depth=15,max_features=0.1000,min_impurity_decrea_2023-09-26_18-03-45/model.pkl', 'done': True, 'trial_id': '837d6_00002', 'experiment_tag': '2_bootstrap=True,data_alr_denom_idx=8,data_transform=ilr,max_depth=15,max_features=0.1000,min_impurity_decrease=0.0100,min_samples_leaf=0.0001,min_samples_split=0.0100,n_estimators=304'},\n",
       "     path='/Users/anjaadamov/Documents/projects/14_LM1/q2-time/experiments/ray_results/rf/train_rf_837d6_00002_2_bootstrap=True,data_alr_denom_idx=8,data_transform=ilr,max_depth=15,max_features=0.1000,min_impurity_decrea_2023-09-26_18-03-45',\n",
       "     checkpoint=None\n",
       "   ),\n",
       "   Result(\n",
       "     metrics={'rmse_val': 192.2618523945228, 'rmse_train': 81.1300266145504, 'model_path': '/Users/anjaadamov/Documents/projects/14_LM1/q2-time/experiments/ray_results/rf/train_rf_837d6_00003_3_bootstrap=True,data_alr_denom_idx=3,data_transform=alr,max_depth=25,max_features=log2,min_impurity_decrease_2023-09-26_18-03-52/model.pkl', 'done': True, 'trial_id': '837d6_00003', 'experiment_tag': '3_bootstrap=True,data_alr_denom_idx=3,data_transform=alr,max_depth=25,max_features=log2,min_impurity_decrease=0.0100,min_samples_leaf=0.0000,min_samples_split=0.1000,n_estimators=517'},\n",
       "     path='/Users/anjaadamov/Documents/projects/14_LM1/q2-time/experiments/ray_results/rf/train_rf_837d6_00003_3_bootstrap=True,data_alr_denom_idx=3,data_transform=alr,max_depth=25,max_features=log2,min_impurity_decrease_2023-09-26_18-03-52',\n",
       "     checkpoint=None\n",
       "   ),\n",
       "   Result(\n",
       "     metrics={'rmse_val': 185.1749360636446, 'rmse_train': 102.85557864649316, 'model_path': '/Users/anjaadamov/Documents/projects/14_LM1/q2-time/experiments/ray_results/rf/train_rf_837d6_00004_4_bootstrap=False,data_alr_denom_idx=16,data_transform=None,max_depth=16,max_features=0.1000,min_impurity_dec_2023-09-26_18-04-01/model.pkl', 'done': True, 'trial_id': '837d6_00004', 'experiment_tag': '4_bootstrap=False,data_alr_denom_idx=16,data_transform=None,max_depth=16,max_features=0.1000,min_impurity_decrease=0.0001,min_samples_leaf=0.0001,min_samples_split=0.1000,n_estimators=772'},\n",
       "     path='/Users/anjaadamov/Documents/projects/14_LM1/q2-time/experiments/ray_results/rf/train_rf_837d6_00004_4_bootstrap=False,data_alr_denom_idx=16,data_transform=None,max_depth=16,max_features=0.1000,min_impurity_dec_2023-09-26_18-04-01',\n",
       "     checkpoint=None\n",
       "   ),\n",
       "   Result(\n",
       "     metrics={'rmse_val': 211.39770069340798, 'rmse_train': 199.5504171803565, 'model_path': '/Users/anjaadamov/Documents/projects/14_LM1/q2-time/experiments/ray_results/rf/train_rf_837d6_00005_5_bootstrap=False,data_alr_denom_idx=1,data_transform=clr,max_depth=6,max_features=sqrt,min_impurity_decrease_2023-09-26_18-04-12/model.pkl', 'done': True, 'trial_id': '837d6_00005', 'experiment_tag': '5_bootstrap=False,data_alr_denom_idx=1,data_transform=clr,max_depth=6,max_features=sqrt,min_impurity_decrease=0.0001,min_samples_leaf=0.0000,min_samples_split=0.0001,n_estimators=924'},\n",
       "     path='/Users/anjaadamov/Documents/projects/14_LM1/q2-time/experiments/ray_results/rf/train_rf_837d6_00005_5_bootstrap=False,data_alr_denom_idx=1,data_transform=clr,max_depth=6,max_features=sqrt,min_impurity_decrease_2023-09-26_18-04-12',\n",
       "     checkpoint=None\n",
       "   ),\n",
       "   Result(\n",
       "     metrics={'rmse_val': 188.93957302174815, 'rmse_train': 78.99297435450568, 'model_path': '/Users/anjaadamov/Documents/projects/14_LM1/q2-time/experiments/ray_results/rf/train_rf_837d6_00006_6_bootstrap=False,data_alr_denom_idx=11,data_transform=ilr,max_depth=21,max_features=0.1000,min_impurity_decr_2023-09-26_18-04-26/model.pkl', 'done': True, 'trial_id': '837d6_00006', 'experiment_tag': '6_bootstrap=False,data_alr_denom_idx=11,data_transform=ilr,max_depth=21,max_features=0.1000,min_impurity_decrease=0.0010,min_samples_leaf=0.0001,min_samples_split=0.0001,n_estimators=345'},\n",
       "     path='/Users/anjaadamov/Documents/projects/14_LM1/q2-time/experiments/ray_results/rf/train_rf_837d6_00006_6_bootstrap=False,data_alr_denom_idx=11,data_transform=ilr,max_depth=21,max_features=0.1000,min_impurity_decr_2023-09-26_18-04-26',\n",
       "     checkpoint=None\n",
       "   ),\n",
       "   Result(\n",
       "     metrics={'rmse_val': 276.0203733804078, 'rmse_train': 299.2615042898776, 'model_path': '/Users/anjaadamov/Documents/projects/14_LM1/q2-time/experiments/ray_results/rf/train_rf_837d6_00007_7_bootstrap=False,data_alr_denom_idx=15,data_transform=alr,max_depth=2,max_features=0.8000,min_impurity_decre_2023-09-26_18-04-38/model.pkl', 'done': True, 'trial_id': '837d6_00007', 'experiment_tag': '7_bootstrap=False,data_alr_denom_idx=15,data_transform=alr,max_depth=2,max_features=0.8000,min_impurity_decrease=0.0010,min_samples_leaf=0.0010,min_samples_split=0.0100,n_estimators=160'},\n",
       "     path='/Users/anjaadamov/Documents/projects/14_LM1/q2-time/experiments/ray_results/rf/train_rf_837d6_00007_7_bootstrap=False,data_alr_denom_idx=15,data_transform=alr,max_depth=2,max_features=0.8000,min_impurity_decre_2023-09-26_18-04-38',\n",
       "     checkpoint=None\n",
       "   )\n",
       " ]>}"
      ]
     },
     "execution_count": 3,
     "metadata": {},
     "output_type": "execute_result"
    }
   ],
   "source": [
    "result_dic = run_all_trials(train_val, model_types=[\"xgb\", \"nn\", \"linreg\", \"rf\"])\n",
    "result_dic"
   ]
  },
  {
   "attachments": {},
   "cell_type": "markdown",
   "metadata": {},
   "source": [
    "## Evaluate best models"
   ]
  },
  {
   "cell_type": "code",
   "execution_count": 4,
   "metadata": {},
   "outputs": [],
   "source": [
    "class TunedModel:\n",
    "    def __init__(self, model, data_config):\n",
    "        self.model = model\n",
    "        self.data_config = data_config\n",
    "\n",
    "    def transform(self, data):\n",
    "        transformed = transform_features(\n",
    "            data,\n",
    "            self.data_config[\"data_transform\"],\n",
    "            self.data_config[\"data_alr_denom_idx\"],\n",
    "        )\n",
    "        if isinstance(self.model, xgb.core.Booster):\n",
    "            return xgb.DMatrix(transformed)\n",
    "        else:\n",
    "            return transformed.values\n",
    "\n",
    "    def predict(self, data):\n",
    "        transformed = self.transform(data)\n",
    "        predicted = self.model.predict(transformed)\n",
    "        return predicted.flatten()"
   ]
  },
  {
   "cell_type": "code",
   "execution_count": 5,
   "metadata": {},
   "outputs": [
    {
     "data": {
      "text/plain": [
       "{'xgb': <__main__.TunedModel at 0x7fed28567f70>,\n",
       " 'nn': <__main__.TunedModel at 0x7fed291031c0>,\n",
       " 'linreg': <__main__.TunedModel at 0x7fecdb7336d0>,\n",
       " 'rf': <__main__.TunedModel at 0x7fecdbc45370>}"
      ]
     },
     "execution_count": 5,
     "metadata": {},
     "output_type": "execute_result"
    }
   ],
   "source": [
    "best_model_dic = {}\n",
    "for model_type, result_grid in result_dic.items():\n",
    "    best_model = get_best_model(model_type, result_grid)\n",
    "    best_data_proc = get_best_data_processing(result_grid)\n",
    "\n",
    "    best_model_dic[model_type] = TunedModel(best_model, best_data_proc)\n",
    "\n",
    "best_model_dic"
   ]
  },
  {
   "cell_type": "code",
   "execution_count": 6,
   "metadata": {},
   "outputs": [
    {
     "name": "stdout",
     "output_type": "stream",
     "text": [
      "245/245 [==============================] - 1s 1ms/step\n",
      "62/62 [==============================] - 0s 1ms/step\n"
     ]
    }
   ],
   "source": [
    "# ! Perform predictions with best model\n",
    "def save_predictions(data, tmodel, target, features, split=None):\n",
    "    # id, true\n",
    "    saved_pred = data[[target]].copy()\n",
    "    saved_pred.rename(columns={target: \"true\"}, inplace=True)\n",
    "    # pred, split\n",
    "    saved_pred[\"pred\"] = tmodel.predict(data[features])\n",
    "    saved_pred[\"split\"] = split\n",
    "    return saved_pred\n",
    "\n",
    "\n",
    "non_features = [TARGET, HOST_ID]\n",
    "features = [x for x in train_val if x not in non_features]\n",
    "\n",
    "# dic with model_type: df with all predictions within\n",
    "preds_dic = {}\n",
    "for model_type, tmodel in best_model_dic.items():\n",
    "    train_df = save_predictions(train_val, tmodel, TARGET, features, \"train\")\n",
    "    test_pred = save_predictions(test, tmodel, TARGET, features, \"test\")\n",
    "\n",
    "    preds_dic[model_type] = pd.concat([train_df, test_pred])"
   ]
  },
  {
   "cell_type": "code",
   "execution_count": 7,
   "metadata": {},
   "outputs": [
    {
     "data": {
      "text/plain": [
       "<AxesSubplot: title={'center': 'Overall'}, ylabel='RMSE'>"
      ]
     },
     "execution_count": 7,
     "metadata": {},
     "output_type": "execute_result"
    },
    {
     "data": {
      "image/png": "[encoded data removed]",
      "text/plain": [
       "<Figure size 640x480 with 1 Axes>"
      ]
     },
     "metadata": {},
     "output_type": "display_data"
    }
   ],
   "source": [
    "# plot rmse over all experiments # !(OVERALL case)\n",
    "def _calculate_rmse(pred_df):\n",
    "    rmse_scores = {}\n",
    "    for split in pred_df[\"split\"].unique():\n",
    "        pred_split = pred_df[pred_df[\"split\"] == split].copy()\n",
    "        rmse = mean_squared_error(\n",
    "            pred_split[\"true\"].values, pred_split[\"pred\"].values, squared=False\n",
    "        )\n",
    "        rmse_scores[split] = rmse\n",
    "    return rmse_scores\n",
    "\n",
    "\n",
    "rmse_dic = {}\n",
    "for model_type, pred_df in preds_dic.items():\n",
    "    # todo: add a bin_by variable (for \"over time\" and \"over study\")\n",
    "    rmse_dic[model_type] = _calculate_rmse(pred_df)\n",
    "\n",
    "rmse_df = pd.DataFrame(rmse_dic).T\n",
    "rmse_df.plot(kind=\"bar\", title=\"Overall\", ylabel=\"RMSE\")"
   ]
  },
  {
   "cell_type": "code",
   "execution_count": 8,
   "metadata": {},
   "outputs": [
    {
     "data": {
      "text/plain": [
       "<AxesSubplot: title={'center': 'Model: rf'}, xlabel='group', ylabel='RMSE'>"
      ]
     },
     "execution_count": 8,
     "metadata": {},
     "output_type": "execute_result"
    },
    {
     "data": {
      "image/png": "[encoded data removed]",
      "text/plain": [
       "<Figure size 1000x500 with 1 Axes>"
      ]
     },
     "metadata": {},
     "output_type": "display_data"
    }
   ],
   "source": [
    "# plot rmse over true time bin\n",
    "# ! (TIME case)\n",
    "model_type = \"rf\"\n",
    "pred_df = preds_dic[model_type]\n",
    "split = None\n",
    "\n",
    "# bin true columns by months\n",
    "pred_df[\"group\"] = np.round(pred_df[\"true\"] / DAYS_PER_MONTH, 0).astype(int)\n",
    "\n",
    "grouped_ser = pred_df.groupby([\"group\"]).apply(_calculate_rmse)\n",
    "grouped_df = grouped_ser.apply(pd.Series)\n",
    "if split is not None:\n",
    "    grouped_df = grouped_df[[split]].copy()\n",
    "\n",
    "grouped_df.plot(\n",
    "    kind=\"bar\", title=f\"Model: {model_type}\", ylabel=\"RMSE\", figsize=(10, 5)\n",
    ")"
   ]
  },
  {
   "attachments": {},
   "cell_type": "markdown",
   "metadata": {},
   "source": [
    "## Compare experiments"
   ]
  },
  {
   "cell_type": "code",
   "execution_count": 19,
   "metadata": {},
   "outputs": [],
   "source": [
    "def get_best_model(exp_name, trial_result, metric_ls=[\"rmse_train\", \"rmse_val\"]):\n",
    "    # Get the result with the metric and mode defined in tune_config before\n",
    "    best_result = trial_result.get_best_result()\n",
    "    config = best_result.config\n",
    "\n",
    "    # # get config of best model\n",
    "    # best_result.config\n",
    "\n",
    "    metrics_ser = best_result.metrics_dataframe[metric_ls].iloc[-1]\n",
    "    metrics_df = pd.DataFrame({exp_name: metrics_ser})\n",
    "    return metrics_df, config\n",
    "\n",
    "\n",
    "def calc_best_metrics(dic_trials):\n",
    "    df_metrics = pd.DataFrame(index=[\"rmse_train\", \"rmse_val\"])\n",
    "    dic_config = {}\n",
    "    for key, value in dic_trials.items():\n",
    "        df_best, config = get_best_model(key, value)\n",
    "        df_metrics = df_metrics.join(df_best)\n",
    "        dic_config[key] = config\n",
    "\n",
    "    return df_metrics, pd.DataFrame(dic_config)\n",
    "\n",
    "\n",
    "def plot_best_metrics(df_metrics, ylog=False):\n",
    "    df2plot = df_metrics.T.sort_values(\"rmse_val\", ascending=True)\n",
    "    df2plot.columns = [\"train\", \"validation\"]\n",
    "    # plot settings\n",
    "    # todo: set default plot settings across package\n",
    "    plt.style.use(\"seaborn-v0_8-colorblind\")  # (\"tableau-colorblind10\")\n",
    "    titlesize = 14\n",
    "    labelsize = 13\n",
    "    ticklabel = 12\n",
    "    plt.rcParams.update({\"font.size\": labelsize})\n",
    "\n",
    "    df2plot.plot(kind=\"bar\", figsize=(12, 6))\n",
    "    if ylog:\n",
    "        plt.yscale(\"log\")\n",
    "        log_label = \" - (log scale)\"\n",
    "    else:\n",
    "        log_label = \"\"\n",
    "    plt.xticks(fontsize=ticklabel)\n",
    "    plt.yticks(fontsize=ticklabel)\n",
    "    plt.ylabel(f\"RMSE{log_label}\", fontsize=labelsize)\n",
    "    plt.xlabel(\"Model type (order: increasing val score)\", fontsize=labelsize)\n",
    "    plt.title(\"Metrics comparison\", fontsize=titlesize)\n",
    "    plt.show()"
   ]
  },
  {
   "cell_type": "code",
   "execution_count": 20,
   "metadata": {},
   "outputs": [
    {
     "data": {
      "image/png": "[encoded data removed]",
      "text/plain": [
       "<Figure size 1200x600 with 1 Axes>"
      ]
     },
     "metadata": {},
     "output_type": "display_data"
    },
    {
     "data": {
      "text/html": [
       "<div>\n",
       "<style scoped>\n",
       "    .dataframe tbody tr th:only-of-type {\n",
       "        vertical-align: middle;\n",
       "    }\n",
       "\n",
       "    .dataframe tbody tr th {\n",
       "        vertical-align: top;\n",
       "    }\n",
       "\n",
       "    .dataframe thead th {\n",
       "        text-align: right;\n",
       "    }\n",
       "</style>\n",
       "<table border=\"1\" class=\"dataframe\">\n",
       "  <thead>\n",
       "    <tr style=\"text-align: right;\">\n",
       "      <th></th>\n",
       "      <th>xgb</th>\n",
       "      <th>linreg</th>\n",
       "      <th>nn</th>\n",
       "      <th>rf</th>\n",
       "    </tr>\n",
       "  </thead>\n",
       "  <tbody>\n",
       "    <tr>\n",
       "      <th>data_transform</th>\n",
       "      <td>clr</td>\n",
       "      <td>None</td>\n",
       "      <td>ilr</td>\n",
       "      <td>None</td>\n",
       "    </tr>\n",
       "    <tr>\n",
       "      <th>data_alr_denom_idx</th>\n",
       "      <td>18</td>\n",
       "      <td>11</td>\n",
       "      <td>11</td>\n",
       "      <td>16</td>\n",
       "    </tr>\n",
       "    <tr>\n",
       "      <th>objective</th>\n",
       "      <td>reg:squarederror</td>\n",
       "      <td>NaN</td>\n",
       "      <td>NaN</td>\n",
       "      <td>NaN</td>\n",
       "    </tr>\n",
       "    <tr>\n",
       "      <th>max_depth</th>\n",
       "      <td>9</td>\n",
       "      <td>NaN</td>\n",
       "      <td>NaN</td>\n",
       "      <td>16</td>\n",
       "    </tr>\n",
       "    <tr>\n",
       "      <th>min_child_weight</th>\n",
       "      <td>2</td>\n",
       "      <td>NaN</td>\n",
       "      <td>NaN</td>\n",
       "      <td>NaN</td>\n",
       "    </tr>\n",
       "    <tr>\n",
       "      <th>subsample</th>\n",
       "      <td>0.7</td>\n",
       "      <td>NaN</td>\n",
       "      <td>NaN</td>\n",
       "      <td>NaN</td>\n",
       "    </tr>\n",
       "    <tr>\n",
       "      <th>eta</th>\n",
       "      <td>0.3</td>\n",
       "      <td>NaN</td>\n",
       "      <td>NaN</td>\n",
       "      <td>NaN</td>\n",
       "    </tr>\n",
       "    <tr>\n",
       "      <th>fit_intercept</th>\n",
       "      <td>NaN</td>\n",
       "      <td>True</td>\n",
       "      <td>NaN</td>\n",
       "      <td>NaN</td>\n",
       "    </tr>\n",
       "    <tr>\n",
       "      <th>n_layers</th>\n",
       "      <td>NaN</td>\n",
       "      <td>NaN</td>\n",
       "      <td>3</td>\n",
       "      <td>NaN</td>\n",
       "    </tr>\n",
       "    <tr>\n",
       "      <th>learning_rate</th>\n",
       "      <td>NaN</td>\n",
       "      <td>NaN</td>\n",
       "      <td>0.008007</td>\n",
       "      <td>NaN</td>\n",
       "    </tr>\n",
       "    <tr>\n",
       "      <th>batch_size</th>\n",
       "      <td>NaN</td>\n",
       "      <td>NaN</td>\n",
       "      <td>64</td>\n",
       "      <td>NaN</td>\n",
       "    </tr>\n",
       "    <tr>\n",
       "      <th>n_units_l0</th>\n",
       "      <td>NaN</td>\n",
       "      <td>NaN</td>\n",
       "      <td>48</td>\n",
       "      <td>NaN</td>\n",
       "    </tr>\n",
       "    <tr>\n",
       "      <th>n_units_l1</th>\n",
       "      <td>NaN</td>\n",
       "      <td>NaN</td>\n",
       "      <td>57</td>\n",
       "      <td>NaN</td>\n",
       "    </tr>\n",
       "    <tr>\n",
       "      <th>n_units_l2</th>\n",
       "      <td>NaN</td>\n",
       "      <td>NaN</td>\n",
       "      <td>55</td>\n",
       "      <td>NaN</td>\n",
       "    </tr>\n",
       "    <tr>\n",
       "      <th>n_units_l3</th>\n",
       "      <td>NaN</td>\n",
       "      <td>NaN</td>\n",
       "      <td>58</td>\n",
       "      <td>NaN</td>\n",
       "    </tr>\n",
       "    <tr>\n",
       "      <th>n_units_l4</th>\n",
       "      <td>NaN</td>\n",
       "      <td>NaN</td>\n",
       "      <td>9</td>\n",
       "      <td>NaN</td>\n",
       "    </tr>\n",
       "    <tr>\n",
       "      <th>n_units_l5</th>\n",
       "      <td>NaN</td>\n",
       "      <td>NaN</td>\n",
       "      <td>53</td>\n",
       "      <td>NaN</td>\n",
       "    </tr>\n",
       "    <tr>\n",
       "      <th>n_units_l6</th>\n",
       "      <td>NaN</td>\n",
       "      <td>NaN</td>\n",
       "      <td>30</td>\n",
       "      <td>NaN</td>\n",
       "    </tr>\n",
       "    <tr>\n",
       "      <th>n_units_l7</th>\n",
       "      <td>NaN</td>\n",
       "      <td>NaN</td>\n",
       "      <td>54</td>\n",
       "      <td>NaN</td>\n",
       "    </tr>\n",
       "    <tr>\n",
       "      <th>n_units_l8</th>\n",
       "      <td>NaN</td>\n",
       "      <td>NaN</td>\n",
       "      <td>37</td>\n",
       "      <td>NaN</td>\n",
       "    </tr>\n",
       "    <tr>\n",
       "      <th>n_estimators</th>\n",
       "      <td>NaN</td>\n",
       "      <td>NaN</td>\n",
       "      <td>NaN</td>\n",
       "      <td>772</td>\n",
       "    </tr>\n",
       "    <tr>\n",
       "      <th>min_samples_split</th>\n",
       "      <td>NaN</td>\n",
       "      <td>NaN</td>\n",
       "      <td>NaN</td>\n",
       "      <td>0.1</td>\n",
       "    </tr>\n",
       "    <tr>\n",
       "      <th>min_samples_leaf</th>\n",
       "      <td>NaN</td>\n",
       "      <td>NaN</td>\n",
       "      <td>NaN</td>\n",
       "      <td>0.0001</td>\n",
       "    </tr>\n",
       "    <tr>\n",
       "      <th>max_features</th>\n",
       "      <td>NaN</td>\n",
       "      <td>NaN</td>\n",
       "      <td>NaN</td>\n",
       "      <td>0.1</td>\n",
       "    </tr>\n",
       "    <tr>\n",
       "      <th>min_impurity_decrease</th>\n",
       "      <td>NaN</td>\n",
       "      <td>NaN</td>\n",
       "      <td>NaN</td>\n",
       "      <td>0.0001</td>\n",
       "    </tr>\n",
       "    <tr>\n",
       "      <th>bootstrap</th>\n",
       "      <td>NaN</td>\n",
       "      <td>NaN</td>\n",
       "      <td>NaN</td>\n",
       "      <td>False</td>\n",
       "    </tr>\n",
       "  </tbody>\n",
       "</table>\n",
       "</div>"
      ],
      "text/plain": [
       "                                    xgb linreg        nn      rf\n",
       "data_transform                      clr   None       ilr    None\n",
       "data_alr_denom_idx                   18     11        11      16\n",
       "objective              reg:squarederror    NaN       NaN     NaN\n",
       "max_depth                             9    NaN       NaN      16\n",
       "min_child_weight                      2    NaN       NaN     NaN\n",
       "subsample                           0.7    NaN       NaN     NaN\n",
       "eta                                 0.3    NaN       NaN     NaN\n",
       "fit_intercept                       NaN   True       NaN     NaN\n",
       "n_layers                            NaN    NaN         3     NaN\n",
       "learning_rate                       NaN    NaN  0.008007     NaN\n",
       "batch_size                          NaN    NaN        64     NaN\n",
       "n_units_l0                          NaN    NaN        48     NaN\n",
       "n_units_l1                          NaN    NaN        57     NaN\n",
       "n_units_l2                          NaN    NaN        55     NaN\n",
       "n_units_l3                          NaN    NaN        58     NaN\n",
       "n_units_l4                          NaN    NaN         9     NaN\n",
       "n_units_l5                          NaN    NaN        53     NaN\n",
       "n_units_l6                          NaN    NaN        30     NaN\n",
       "n_units_l7                          NaN    NaN        54     NaN\n",
       "n_units_l8                          NaN    NaN        37     NaN\n",
       "n_estimators                        NaN    NaN       NaN     772\n",
       "min_samples_split                   NaN    NaN       NaN     0.1\n",
       "min_samples_leaf                    NaN    NaN       NaN  0.0001\n",
       "max_features                        NaN    NaN       NaN     0.1\n",
       "min_impurity_decrease               NaN    NaN       NaN  0.0001\n",
       "bootstrap                           NaN    NaN       NaN   False"
      ]
     },
     "metadata": {},
     "output_type": "display_data"
    }
   ],
   "source": [
    "metrics_all, best_configs = calc_best_metrics(\n",
    "    {\n",
    "        \"xgb\": result_dic[\"xgb\"],\n",
    "        \"linreg\": result_dic[\"linreg\"],\n",
    "        \"nn\": result_dic[\"nn\"],\n",
    "        \"rf\": result_dic[\"rf\"],\n",
    "    }\n",
    ")\n",
    "plot_best_metrics(metrics_all, ylog=True)\n",
    "display(best_configs)"
   ]
  },
  {
   "cell_type": "code",
   "execution_count": 11,
   "metadata": {},
   "outputs": [
    {
     "data": {
      "text/html": [
       "<style type=\"text/css\">\n",
       "#T_ea9b8_row0_col0, #T_ea9b8_row0_col1, #T_ea9b8_row0_col2, #T_ea9b8_row0_col3, #T_ea9b8_row1_col0, #T_ea9b8_row1_col1, #T_ea9b8_row1_col2, #T_ea9b8_row1_col3, #T_ea9b8_row2_col0, #T_ea9b8_row2_col1, #T_ea9b8_row2_col2, #T_ea9b8_row2_col3, #T_ea9b8_row3_col0, #T_ea9b8_row3_col1, #T_ea9b8_row3_col2, #T_ea9b8_row3_col3, #T_ea9b8_row4_col0, #T_ea9b8_row4_col1, #T_ea9b8_row4_col2, #T_ea9b8_row4_col3, #T_ea9b8_row5_col0, #T_ea9b8_row5_col1, #T_ea9b8_row5_col2, #T_ea9b8_row5_col3, #T_ea9b8_row6_col0, #T_ea9b8_row6_col1, #T_ea9b8_row6_col2, #T_ea9b8_row6_col3, #T_ea9b8_row7_col0, #T_ea9b8_row7_col1, #T_ea9b8_row7_col2, #T_ea9b8_row7_col3, #T_ea9b8_row8_col0, #T_ea9b8_row8_col1, #T_ea9b8_row8_col2, #T_ea9b8_row8_col3, #T_ea9b8_row9_col0, #T_ea9b8_row9_col1, #T_ea9b8_row9_col2, #T_ea9b8_row9_col3, #T_ea9b8_row10_col0, #T_ea9b8_row10_col1, #T_ea9b8_row10_col2, #T_ea9b8_row10_col3, #T_ea9b8_row11_col0, #T_ea9b8_row11_col1, #T_ea9b8_row11_col2, #T_ea9b8_row11_col3, #T_ea9b8_row12_col0, #T_ea9b8_row12_col1, #T_ea9b8_row12_col2, #T_ea9b8_row12_col3, #T_ea9b8_row13_col0, #T_ea9b8_row13_col1, #T_ea9b8_row13_col2, #T_ea9b8_row13_col3, #T_ea9b8_row14_col0, #T_ea9b8_row14_col1, #T_ea9b8_row14_col2, #T_ea9b8_row14_col3, #T_ea9b8_row15_col0, #T_ea9b8_row15_col1, #T_ea9b8_row15_col2, #T_ea9b8_row15_col3, #T_ea9b8_row16_col0, #T_ea9b8_row16_col1, #T_ea9b8_row16_col2, #T_ea9b8_row16_col3, #T_ea9b8_row17_col0, #T_ea9b8_row17_col1, #T_ea9b8_row17_col2, #T_ea9b8_row17_col3, #T_ea9b8_row18_col0, #T_ea9b8_row18_col1, #T_ea9b8_row18_col2, #T_ea9b8_row18_col3, #T_ea9b8_row19_col0, #T_ea9b8_row19_col1, #T_ea9b8_row19_col2, #T_ea9b8_row19_col3, #T_ea9b8_row20_col0, #T_ea9b8_row20_col1, #T_ea9b8_row20_col2, #T_ea9b8_row20_col3, #T_ea9b8_row21_col0, #T_ea9b8_row21_col1, #T_ea9b8_row21_col2, #T_ea9b8_row21_col3, #T_ea9b8_row22_col0, #T_ea9b8_row22_col1, #T_ea9b8_row22_col2, #T_ea9b8_row22_col3, #T_ea9b8_row23_col0, #T_ea9b8_row23_col1, #T_ea9b8_row23_col2, #T_ea9b8_row23_col3, #T_ea9b8_row24_col0, #T_ea9b8_row24_col1, #T_ea9b8_row24_col2, #T_ea9b8_row24_col3, #T_ea9b8_row25_col0, #T_ea9b8_row25_col1, #T_ea9b8_row25_col2, #T_ea9b8_row25_col3 {\n",
       "  color: red;\n",
       "}\n",
       "</style>\n",
       "<table id=\"T_ea9b8\">\n",
       "  <thead>\n",
       "    <tr>\n",
       "      <th class=\"blank level0\" >&nbsp;</th>\n",
       "      <th id=\"T_ea9b8_level0_col0\" class=\"col_heading level0 col0\" >xgb</th>\n",
       "      <th id=\"T_ea9b8_level0_col1\" class=\"col_heading level0 col1\" >linreg</th>\n",
       "      <th id=\"T_ea9b8_level0_col2\" class=\"col_heading level0 col2\" >nn</th>\n",
       "      <th id=\"T_ea9b8_level0_col3\" class=\"col_heading level0 col3\" >rf</th>\n",
       "    </tr>\n",
       "  </thead>\n",
       "  <tbody>\n",
       "    <tr>\n",
       "      <th id=\"T_ea9b8_level0_row0\" class=\"row_heading level0 row0\" >data_transform</th>\n",
       "      <td id=\"T_ea9b8_row0_col0\" class=\"data row0 col0\" >clr</td>\n",
       "      <td id=\"T_ea9b8_row0_col1\" class=\"data row0 col1\" >None</td>\n",
       "      <td id=\"T_ea9b8_row0_col2\" class=\"data row0 col2\" >ilr</td>\n",
       "      <td id=\"T_ea9b8_row0_col3\" class=\"data row0 col3\" >None</td>\n",
       "    </tr>\n",
       "    <tr>\n",
       "      <th id=\"T_ea9b8_level0_row1\" class=\"row_heading level0 row1\" >data_alr_denom_idx</th>\n",
       "      <td id=\"T_ea9b8_row1_col0\" class=\"data row1 col0\" >18</td>\n",
       "      <td id=\"T_ea9b8_row1_col1\" class=\"data row1 col1\" >11</td>\n",
       "      <td id=\"T_ea9b8_row1_col2\" class=\"data row1 col2\" >11</td>\n",
       "      <td id=\"T_ea9b8_row1_col3\" class=\"data row1 col3\" >16</td>\n",
       "    </tr>\n",
       "    <tr>\n",
       "      <th id=\"T_ea9b8_level0_row2\" class=\"row_heading level0 row2\" >objective</th>\n",
       "      <td id=\"T_ea9b8_row2_col0\" class=\"data row2 col0\" >reg:squarederror</td>\n",
       "      <td id=\"T_ea9b8_row2_col1\" class=\"data row2 col1\" >nan</td>\n",
       "      <td id=\"T_ea9b8_row2_col2\" class=\"data row2 col2\" >nan</td>\n",
       "      <td id=\"T_ea9b8_row2_col3\" class=\"data row2 col3\" >nan</td>\n",
       "    </tr>\n",
       "    <tr>\n",
       "      <th id=\"T_ea9b8_level0_row3\" class=\"row_heading level0 row3\" >max_depth</th>\n",
       "      <td id=\"T_ea9b8_row3_col0\" class=\"data row3 col0\" >9</td>\n",
       "      <td id=\"T_ea9b8_row3_col1\" class=\"data row3 col1\" >nan</td>\n",
       "      <td id=\"T_ea9b8_row3_col2\" class=\"data row3 col2\" >nan</td>\n",
       "      <td id=\"T_ea9b8_row3_col3\" class=\"data row3 col3\" >16</td>\n",
       "    </tr>\n",
       "    <tr>\n",
       "      <th id=\"T_ea9b8_level0_row4\" class=\"row_heading level0 row4\" >min_child_weight</th>\n",
       "      <td id=\"T_ea9b8_row4_col0\" class=\"data row4 col0\" >2</td>\n",
       "      <td id=\"T_ea9b8_row4_col1\" class=\"data row4 col1\" >nan</td>\n",
       "      <td id=\"T_ea9b8_row4_col2\" class=\"data row4 col2\" >nan</td>\n",
       "      <td id=\"T_ea9b8_row4_col3\" class=\"data row4 col3\" >nan</td>\n",
       "    </tr>\n",
       "    <tr>\n",
       "      <th id=\"T_ea9b8_level0_row5\" class=\"row_heading level0 row5\" >subsample</th>\n",
       "      <td id=\"T_ea9b8_row5_col0\" class=\"data row5 col0\" >0.700000</td>\n",
       "      <td id=\"T_ea9b8_row5_col1\" class=\"data row5 col1\" >nan</td>\n",
       "      <td id=\"T_ea9b8_row5_col2\" class=\"data row5 col2\" >nan</td>\n",
       "      <td id=\"T_ea9b8_row5_col3\" class=\"data row5 col3\" >nan</td>\n",
       "    </tr>\n",
       "    <tr>\n",
       "      <th id=\"T_ea9b8_level0_row6\" class=\"row_heading level0 row6\" >eta</th>\n",
       "      <td id=\"T_ea9b8_row6_col0\" class=\"data row6 col0\" >0.300000</td>\n",
       "      <td id=\"T_ea9b8_row6_col1\" class=\"data row6 col1\" >nan</td>\n",
       "      <td id=\"T_ea9b8_row6_col2\" class=\"data row6 col2\" >nan</td>\n",
       "      <td id=\"T_ea9b8_row6_col3\" class=\"data row6 col3\" >nan</td>\n",
       "    </tr>\n",
       "    <tr>\n",
       "      <th id=\"T_ea9b8_level0_row7\" class=\"row_heading level0 row7\" >fit_intercept</th>\n",
       "      <td id=\"T_ea9b8_row7_col0\" class=\"data row7 col0\" >nan</td>\n",
       "      <td id=\"T_ea9b8_row7_col1\" class=\"data row7 col1\" >True</td>\n",
       "      <td id=\"T_ea9b8_row7_col2\" class=\"data row7 col2\" >nan</td>\n",
       "      <td id=\"T_ea9b8_row7_col3\" class=\"data row7 col3\" >nan</td>\n",
       "    </tr>\n",
       "    <tr>\n",
       "      <th id=\"T_ea9b8_level0_row8\" class=\"row_heading level0 row8\" >n_layers</th>\n",
       "      <td id=\"T_ea9b8_row8_col0\" class=\"data row8 col0\" >nan</td>\n",
       "      <td id=\"T_ea9b8_row8_col1\" class=\"data row8 col1\" >nan</td>\n",
       "      <td id=\"T_ea9b8_row8_col2\" class=\"data row8 col2\" >3</td>\n",
       "      <td id=\"T_ea9b8_row8_col3\" class=\"data row8 col3\" >nan</td>\n",
       "    </tr>\n",
       "    <tr>\n",
       "      <th id=\"T_ea9b8_level0_row9\" class=\"row_heading level0 row9\" >learning_rate</th>\n",
       "      <td id=\"T_ea9b8_row9_col0\" class=\"data row9 col0\" >nan</td>\n",
       "      <td id=\"T_ea9b8_row9_col1\" class=\"data row9 col1\" >nan</td>\n",
       "      <td id=\"T_ea9b8_row9_col2\" class=\"data row9 col2\" >0.008007</td>\n",
       "      <td id=\"T_ea9b8_row9_col3\" class=\"data row9 col3\" >nan</td>\n",
       "    </tr>\n",
       "    <tr>\n",
       "      <th id=\"T_ea9b8_level0_row10\" class=\"row_heading level0 row10\" >batch_size</th>\n",
       "      <td id=\"T_ea9b8_row10_col0\" class=\"data row10 col0\" >nan</td>\n",
       "      <td id=\"T_ea9b8_row10_col1\" class=\"data row10 col1\" >nan</td>\n",
       "      <td id=\"T_ea9b8_row10_col2\" class=\"data row10 col2\" >64</td>\n",
       "      <td id=\"T_ea9b8_row10_col3\" class=\"data row10 col3\" >nan</td>\n",
       "    </tr>\n",
       "    <tr>\n",
       "      <th id=\"T_ea9b8_level0_row11\" class=\"row_heading level0 row11\" >n_units_l0</th>\n",
       "      <td id=\"T_ea9b8_row11_col0\" class=\"data row11 col0\" >nan</td>\n",
       "      <td id=\"T_ea9b8_row11_col1\" class=\"data row11 col1\" >nan</td>\n",
       "      <td id=\"T_ea9b8_row11_col2\" class=\"data row11 col2\" >48</td>\n",
       "      <td id=\"T_ea9b8_row11_col3\" class=\"data row11 col3\" >nan</td>\n",
       "    </tr>\n",
       "    <tr>\n",
       "      <th id=\"T_ea9b8_level0_row12\" class=\"row_heading level0 row12\" >n_units_l1</th>\n",
       "      <td id=\"T_ea9b8_row12_col0\" class=\"data row12 col0\" >nan</td>\n",
       "      <td id=\"T_ea9b8_row12_col1\" class=\"data row12 col1\" >nan</td>\n",
       "      <td id=\"T_ea9b8_row12_col2\" class=\"data row12 col2\" >57</td>\n",
       "      <td id=\"T_ea9b8_row12_col3\" class=\"data row12 col3\" >nan</td>\n",
       "    </tr>\n",
       "    <tr>\n",
       "      <th id=\"T_ea9b8_level0_row13\" class=\"row_heading level0 row13\" >n_units_l2</th>\n",
       "      <td id=\"T_ea9b8_row13_col0\" class=\"data row13 col0\" >nan</td>\n",
       "      <td id=\"T_ea9b8_row13_col1\" class=\"data row13 col1\" >nan</td>\n",
       "      <td id=\"T_ea9b8_row13_col2\" class=\"data row13 col2\" >55</td>\n",
       "      <td id=\"T_ea9b8_row13_col3\" class=\"data row13 col3\" >nan</td>\n",
       "    </tr>\n",
       "    <tr>\n",
       "      <th id=\"T_ea9b8_level0_row14\" class=\"row_heading level0 row14\" >n_units_l3</th>\n",
       "      <td id=\"T_ea9b8_row14_col0\" class=\"data row14 col0\" >nan</td>\n",
       "      <td id=\"T_ea9b8_row14_col1\" class=\"data row14 col1\" >nan</td>\n",
       "      <td id=\"T_ea9b8_row14_col2\" class=\"data row14 col2\" >58</td>\n",
       "      <td id=\"T_ea9b8_row14_col3\" class=\"data row14 col3\" >nan</td>\n",
       "    </tr>\n",
       "    <tr>\n",
       "      <th id=\"T_ea9b8_level0_row15\" class=\"row_heading level0 row15\" >n_units_l4</th>\n",
       "      <td id=\"T_ea9b8_row15_col0\" class=\"data row15 col0\" >nan</td>\n",
       "      <td id=\"T_ea9b8_row15_col1\" class=\"data row15 col1\" >nan</td>\n",
       "      <td id=\"T_ea9b8_row15_col2\" class=\"data row15 col2\" >9</td>\n",
       "      <td id=\"T_ea9b8_row15_col3\" class=\"data row15 col3\" >nan</td>\n",
       "    </tr>\n",
       "    <tr>\n",
       "      <th id=\"T_ea9b8_level0_row16\" class=\"row_heading level0 row16\" >n_units_l5</th>\n",
       "      <td id=\"T_ea9b8_row16_col0\" class=\"data row16 col0\" >nan</td>\n",
       "      <td id=\"T_ea9b8_row16_col1\" class=\"data row16 col1\" >nan</td>\n",
       "      <td id=\"T_ea9b8_row16_col2\" class=\"data row16 col2\" >53</td>\n",
       "      <td id=\"T_ea9b8_row16_col3\" class=\"data row16 col3\" >nan</td>\n",
       "    </tr>\n",
       "    <tr>\n",
       "      <th id=\"T_ea9b8_level0_row17\" class=\"row_heading level0 row17\" >n_units_l6</th>\n",
       "      <td id=\"T_ea9b8_row17_col0\" class=\"data row17 col0\" >nan</td>\n",
       "      <td id=\"T_ea9b8_row17_col1\" class=\"data row17 col1\" >nan</td>\n",
       "      <td id=\"T_ea9b8_row17_col2\" class=\"data row17 col2\" >30</td>\n",
       "      <td id=\"T_ea9b8_row17_col3\" class=\"data row17 col3\" >nan</td>\n",
       "    </tr>\n",
       "    <tr>\n",
       "      <th id=\"T_ea9b8_level0_row18\" class=\"row_heading level0 row18\" >n_units_l7</th>\n",
       "      <td id=\"T_ea9b8_row18_col0\" class=\"data row18 col0\" >nan</td>\n",
       "      <td id=\"T_ea9b8_row18_col1\" class=\"data row18 col1\" >nan</td>\n",
       "      <td id=\"T_ea9b8_row18_col2\" class=\"data row18 col2\" >54</td>\n",
       "      <td id=\"T_ea9b8_row18_col3\" class=\"data row18 col3\" >nan</td>\n",
       "    </tr>\n",
       "    <tr>\n",
       "      <th id=\"T_ea9b8_level0_row19\" class=\"row_heading level0 row19\" >n_units_l8</th>\n",
       "      <td id=\"T_ea9b8_row19_col0\" class=\"data row19 col0\" >nan</td>\n",
       "      <td id=\"T_ea9b8_row19_col1\" class=\"data row19 col1\" >nan</td>\n",
       "      <td id=\"T_ea9b8_row19_col2\" class=\"data row19 col2\" >37</td>\n",
       "      <td id=\"T_ea9b8_row19_col3\" class=\"data row19 col3\" >nan</td>\n",
       "    </tr>\n",
       "    <tr>\n",
       "      <th id=\"T_ea9b8_level0_row20\" class=\"row_heading level0 row20\" >n_estimators</th>\n",
       "      <td id=\"T_ea9b8_row20_col0\" class=\"data row20 col0\" >nan</td>\n",
       "      <td id=\"T_ea9b8_row20_col1\" class=\"data row20 col1\" >nan</td>\n",
       "      <td id=\"T_ea9b8_row20_col2\" class=\"data row20 col2\" >nan</td>\n",
       "      <td id=\"T_ea9b8_row20_col3\" class=\"data row20 col3\" >772</td>\n",
       "    </tr>\n",
       "    <tr>\n",
       "      <th id=\"T_ea9b8_level0_row21\" class=\"row_heading level0 row21\" >min_samples_split</th>\n",
       "      <td id=\"T_ea9b8_row21_col0\" class=\"data row21 col0\" >nan</td>\n",
       "      <td id=\"T_ea9b8_row21_col1\" class=\"data row21 col1\" >nan</td>\n",
       "      <td id=\"T_ea9b8_row21_col2\" class=\"data row21 col2\" >nan</td>\n",
       "      <td id=\"T_ea9b8_row21_col3\" class=\"data row21 col3\" >0.100000</td>\n",
       "    </tr>\n",
       "    <tr>\n",
       "      <th id=\"T_ea9b8_level0_row22\" class=\"row_heading level0 row22\" >min_samples_leaf</th>\n",
       "      <td id=\"T_ea9b8_row22_col0\" class=\"data row22 col0\" >nan</td>\n",
       "      <td id=\"T_ea9b8_row22_col1\" class=\"data row22 col1\" >nan</td>\n",
       "      <td id=\"T_ea9b8_row22_col2\" class=\"data row22 col2\" >nan</td>\n",
       "      <td id=\"T_ea9b8_row22_col3\" class=\"data row22 col3\" >0.000100</td>\n",
       "    </tr>\n",
       "    <tr>\n",
       "      <th id=\"T_ea9b8_level0_row23\" class=\"row_heading level0 row23\" >max_features</th>\n",
       "      <td id=\"T_ea9b8_row23_col0\" class=\"data row23 col0\" >nan</td>\n",
       "      <td id=\"T_ea9b8_row23_col1\" class=\"data row23 col1\" >nan</td>\n",
       "      <td id=\"T_ea9b8_row23_col2\" class=\"data row23 col2\" >nan</td>\n",
       "      <td id=\"T_ea9b8_row23_col3\" class=\"data row23 col3\" >0.100000</td>\n",
       "    </tr>\n",
       "    <tr>\n",
       "      <th id=\"T_ea9b8_level0_row24\" class=\"row_heading level0 row24\" >min_impurity_decrease</th>\n",
       "      <td id=\"T_ea9b8_row24_col0\" class=\"data row24 col0\" >nan</td>\n",
       "      <td id=\"T_ea9b8_row24_col1\" class=\"data row24 col1\" >nan</td>\n",
       "      <td id=\"T_ea9b8_row24_col2\" class=\"data row24 col2\" >nan</td>\n",
       "      <td id=\"T_ea9b8_row24_col3\" class=\"data row24 col3\" >0.000100</td>\n",
       "    </tr>\n",
       "    <tr>\n",
       "      <th id=\"T_ea9b8_level0_row25\" class=\"row_heading level0 row25\" >bootstrap</th>\n",
       "      <td id=\"T_ea9b8_row25_col0\" class=\"data row25 col0\" >nan</td>\n",
       "      <td id=\"T_ea9b8_row25_col1\" class=\"data row25 col1\" >nan</td>\n",
       "      <td id=\"T_ea9b8_row25_col2\" class=\"data row25 col2\" >nan</td>\n",
       "      <td id=\"T_ea9b8_row25_col3\" class=\"data row25 col3\" >False</td>\n",
       "    </tr>\n",
       "  </tbody>\n",
       "</table>\n"
      ],
      "text/plain": [
       "<pandas.io.formats.style.Styler at 0x7febc5b90b20>"
      ]
     },
     "execution_count": 11,
     "metadata": {},
     "output_type": "execute_result"
    }
   ],
   "source": [
    "def _highlight_differing_cols(x):\n",
    "    \"\"\"\n",
    "    Function returning color map of differing columns in x\n",
    "    Original code used as base:\n",
    "    https://stackoverflow.com/questions/41654949/pandas-style-function-to-highlight-specific-columns\n",
    "    \"\"\"\n",
    "    # copy df to new - original data is not changed\n",
    "    df = x.copy()\n",
    "\n",
    "    # extract list of columns that differ between all models\n",
    "    ls_col = df.columns[df.nunique(dropna=False) > 1].tolist()\n",
    "\n",
    "    # select default neutral background\n",
    "    df.loc[:, :] = \"background-color: None\"\n",
    "\n",
    "    # mark columns that differ\n",
    "    df[ls_col] = \"color: red\"\n",
    "\n",
    "    # return colored df\n",
    "    return df\n",
    "\n",
    "\n",
    "best_configs.style.apply(_highlight_differing_cols, axis=None)"
   ]
  },
  {
   "attachments": {},
   "cell_type": "markdown",
   "metadata": {},
   "source": [
    "## Evaluate over training time (example for xgb model here)"
   ]
  },
  {
   "cell_type": "code",
   "execution_count": 12,
   "metadata": {},
   "outputs": [
    {
     "data": {
      "text/plain": [
       "<AxesSubplot: xlabel='training_iteration'>"
      ]
     },
     "execution_count": 12,
     "metadata": {},
     "output_type": "execute_result"
    },
    {
     "data": {
      "image/png": "[encoded data removed]",
      "text/plain": [
       "<Figure size 640x480 with 1 Axes>"
      ]
     },
     "metadata": {},
     "output_type": "display_data"
    }
   ],
   "source": [
    "# Get the result with the maximum test set `mean_accuracy`\n",
    "best_xgb = result_dic[\"xgb\"].get_best_result()\n",
    "best_xgb.metrics_dataframe.plot(\"training_iteration\", [\"rmse_train\", \"rmse_val\"])"
   ]
  },
  {
   "cell_type": "code",
   "execution_count": 13,
   "metadata": {},
   "outputs": [
    {
     "data": {
      "text/plain": [
       "Text(0, 0.5, 'RMSE_val')"
      ]
     },
     "execution_count": 13,
     "metadata": {},
     "output_type": "execute_result"
    },
    {
     "data": {
      "image/png": "[encoded data removed]",
      "text/plain": [
       "<Figure size 640x480 with 1 Axes>"
      ]
     },
     "metadata": {},
     "output_type": "display_data"
    }
   ],
   "source": [
    "ax = None\n",
    "for result in result_dic[\"xgb\"]:\n",
    "    label = f\"data_transform={result.config['data_transform']}, \\\n",
    "        max_depth={result.config['max_depth']}\"\n",
    "    if ax is None:\n",
    "        ax = result.metrics_dataframe.plot(\n",
    "            \"training_iteration\", \"rmse_val\", label=label\n",
    "        )\n",
    "    else:\n",
    "        result.metrics_dataframe.plot(\n",
    "            \"training_iteration\", \"rmse_val\", ax=ax, label=label\n",
    "        )\n",
    "ax.legend(bbox_to_anchor=(1.1, 1.05))\n",
    "\n",
    "ax.set_title(\"rsme_val vs. training iteration for all trials\")\n",
    "ax.set_ylabel(\"RMSE_val\")"
   ]
  },
  {
   "cell_type": "code",
   "execution_count": null,
   "metadata": {},
   "outputs": [],
   "source": []
  }
 ],
 "metadata": {
  "kernelspec": {
   "display_name": "raytune",
   "language": "python",
   "name": "python3"
  },
  "language_info": {
   "codemirror_mode": {
    "name": "ipython",
    "version": 3
   },
   "file_extension": ".py",
   "mimetype": "text/x-python",
   "name": "python",
   "nbconvert_exporter": "python",
   "pygments_lexer": "ipython3",
   "version": "3.8.0"
  },
  "orig_nbformat": 4
 },
 "nbformat": 4,
 "nbformat_minor": 2
}
